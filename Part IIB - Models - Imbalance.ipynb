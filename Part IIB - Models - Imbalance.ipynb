{
 "cells": [
  {
   "cell_type": "code",
   "execution_count": 98,
   "metadata": {},
   "outputs": [
    {
     "name": "stdout",
     "output_type": "stream",
     "text": [
      "Requirement already satisfied: xgboost in /opt/anaconda3/lib/python3.8/site-packages (1.3.3)\n",
      "Requirement already satisfied: numpy in /opt/anaconda3/lib/python3.8/site-packages (from xgboost) (1.19.2)\n",
      "Requirement already satisfied: scipy in /opt/anaconda3/lib/python3.8/site-packages (from xgboost) (1.5.2)\n"
     ]
    }
   ],
   "source": [
    "import pandas as pd\n",
    "import numpy as np\n",
    "\n",
    "#plot\n",
    "import matplotlib.pyplot as plt  \n",
    "%matplotlib inline        \n",
    "import seaborn as sns\n",
    "import plotly.graph_objects as go\n",
    "from sklearn.metrics import plot_confusion_matrix\n",
    "\n",
    "#other\n",
    "from sklearn.preprocessing import MinMaxScaler\n",
    "from imblearn.over_sampling import SMOTE\n",
    "from sklearn.model_selection import train_test_split, cross_val_score\n",
    "from sklearn.metrics import accuracy_score, precision_score, recall_score, f1_score, confusion_matrix, classification_report, roc_auc_score, mean_absolute_error, mean_squared_error\n",
    "from sklearn.metrics import roc_curve, auc, roc_auc_score\n",
    "\n",
    "#models\n",
    "from sklearn.linear_model import LogisticRegression\n",
    "from sklearn.neighbors import KNeighborsClassifier\n",
    "from sklearn.model_selection import KFold\n",
    "from sklearn.tree import DecisionTreeClassifier, DecisionTreeRegressor\n",
    "from sklearn.ensemble import RandomForestClassifier, BaggingClassifier\n",
    "from sklearn.model_selection import GridSearchCV\n",
    "from sklearn.ensemble import AdaBoostClassifier, GradientBoostingClassifier\n",
    "from sklearn.svm import SVC\n",
    "\n",
    "!pip install xgboost\n",
    "import xgboost as xgb\n",
    "\n",
    "import warnings\n",
    "warnings.filterwarnings('ignore')"
   ]
  },
  {
   "cell_type": "code",
   "execution_count": 99,
   "metadata": {
    "scrolled": true
   },
   "outputs": [
    {
     "data": {
      "text/html": [
       "<div>\n",
       "<style scoped>\n",
       "    .dataframe tbody tr th:only-of-type {\n",
       "        vertical-align: middle;\n",
       "    }\n",
       "\n",
       "    .dataframe tbody tr th {\n",
       "        vertical-align: top;\n",
       "    }\n",
       "\n",
       "    .dataframe thead th {\n",
       "        text-align: right;\n",
       "    }\n",
       "</style>\n",
       "<table border=\"1\" class=\"dataframe\">\n",
       "  <thead>\n",
       "    <tr style=\"text-align: right;\">\n",
       "      <th></th>\n",
       "      <th>status_group</th>\n",
       "      <th>amount_tsh</th>\n",
       "      <th>gps_height</th>\n",
       "      <th>longitude</th>\n",
       "      <th>latitude</th>\n",
       "      <th>population</th>\n",
       "      <th>age</th>\n",
       "      <th>basin_Lake Nyasa</th>\n",
       "      <th>basin_Lake Rukwa</th>\n",
       "      <th>basin_Lake Tanganyika</th>\n",
       "      <th>...</th>\n",
       "      <th>scheme_name_group_m</th>\n",
       "      <th>scheme_name_group_machumba estate pipe line</th>\n",
       "      <th>scheme_name_group_makwale water supplied sche</th>\n",
       "      <th>scheme_name_group_mkongoro one</th>\n",
       "      <th>scheme_name_group_n</th>\n",
       "      <th>scheme_name_group_ngana water supplied scheme</th>\n",
       "      <th>scheme_name_group_other</th>\n",
       "      <th>scheme_name_group_s</th>\n",
       "      <th>scheme_name_group_uroki-bomang'ombe water sup</th>\n",
       "      <th>scheme_name_group_wanging'ombe water</th>\n",
       "    </tr>\n",
       "  </thead>\n",
       "  <tbody>\n",
       "    <tr>\n",
       "      <th>0</th>\n",
       "      <td>1</td>\n",
       "      <td>6000.0</td>\n",
       "      <td>1390</td>\n",
       "      <td>34.938093</td>\n",
       "      <td>-9.856322</td>\n",
       "      <td>109</td>\n",
       "      <td>14</td>\n",
       "      <td>1</td>\n",
       "      <td>0</td>\n",
       "      <td>0</td>\n",
       "      <td>...</td>\n",
       "      <td>0</td>\n",
       "      <td>0</td>\n",
       "      <td>0</td>\n",
       "      <td>0</td>\n",
       "      <td>0</td>\n",
       "      <td>0</td>\n",
       "      <td>1</td>\n",
       "      <td>0</td>\n",
       "      <td>0</td>\n",
       "      <td>0</td>\n",
       "    </tr>\n",
       "    <tr>\n",
       "      <th>1</th>\n",
       "      <td>1</td>\n",
       "      <td>0.0</td>\n",
       "      <td>1399</td>\n",
       "      <td>34.698766</td>\n",
       "      <td>-2.147466</td>\n",
       "      <td>280</td>\n",
       "      <td>3</td>\n",
       "      <td>0</td>\n",
       "      <td>0</td>\n",
       "      <td>0</td>\n",
       "      <td>...</td>\n",
       "      <td>0</td>\n",
       "      <td>0</td>\n",
       "      <td>0</td>\n",
       "      <td>0</td>\n",
       "      <td>0</td>\n",
       "      <td>0</td>\n",
       "      <td>1</td>\n",
       "      <td>0</td>\n",
       "      <td>0</td>\n",
       "      <td>0</td>\n",
       "    </tr>\n",
       "    <tr>\n",
       "      <th>2</th>\n",
       "      <td>1</td>\n",
       "      <td>25.0</td>\n",
       "      <td>686</td>\n",
       "      <td>37.460664</td>\n",
       "      <td>-3.821329</td>\n",
       "      <td>250</td>\n",
       "      <td>4</td>\n",
       "      <td>0</td>\n",
       "      <td>0</td>\n",
       "      <td>0</td>\n",
       "      <td>...</td>\n",
       "      <td>0</td>\n",
       "      <td>0</td>\n",
       "      <td>0</td>\n",
       "      <td>0</td>\n",
       "      <td>0</td>\n",
       "      <td>0</td>\n",
       "      <td>1</td>\n",
       "      <td>0</td>\n",
       "      <td>0</td>\n",
       "      <td>0</td>\n",
       "    </tr>\n",
       "    <tr>\n",
       "      <th>3</th>\n",
       "      <td>0</td>\n",
       "      <td>0.0</td>\n",
       "      <td>263</td>\n",
       "      <td>38.486161</td>\n",
       "      <td>-11.155298</td>\n",
       "      <td>58</td>\n",
       "      <td>27</td>\n",
       "      <td>0</td>\n",
       "      <td>0</td>\n",
       "      <td>0</td>\n",
       "      <td>...</td>\n",
       "      <td>0</td>\n",
       "      <td>0</td>\n",
       "      <td>0</td>\n",
       "      <td>0</td>\n",
       "      <td>0</td>\n",
       "      <td>0</td>\n",
       "      <td>1</td>\n",
       "      <td>0</td>\n",
       "      <td>0</td>\n",
       "      <td>0</td>\n",
       "    </tr>\n",
       "    <tr>\n",
       "      <th>4</th>\n",
       "      <td>1</td>\n",
       "      <td>0.0</td>\n",
       "      <td>0</td>\n",
       "      <td>31.130847</td>\n",
       "      <td>-1.825359</td>\n",
       "      <td>150</td>\n",
       "      <td>17</td>\n",
       "      <td>0</td>\n",
       "      <td>0</td>\n",
       "      <td>0</td>\n",
       "      <td>...</td>\n",
       "      <td>0</td>\n",
       "      <td>0</td>\n",
       "      <td>0</td>\n",
       "      <td>0</td>\n",
       "      <td>0</td>\n",
       "      <td>0</td>\n",
       "      <td>1</td>\n",
       "      <td>0</td>\n",
       "      <td>0</td>\n",
       "      <td>0</td>\n",
       "    </tr>\n",
       "  </tbody>\n",
       "</table>\n",
       "<p>5 rows × 287 columns</p>\n",
       "</div>"
      ],
      "text/plain": [
       "   status_group  amount_tsh  gps_height  longitude   latitude  population  \\\n",
       "0             1      6000.0        1390  34.938093  -9.856322         109   \n",
       "1             1         0.0        1399  34.698766  -2.147466         280   \n",
       "2             1        25.0         686  37.460664  -3.821329         250   \n",
       "3             0         0.0         263  38.486161 -11.155298          58   \n",
       "4             1         0.0           0  31.130847  -1.825359         150   \n",
       "\n",
       "   age  basin_Lake Nyasa  basin_Lake Rukwa  basin_Lake Tanganyika  ...  \\\n",
       "0   14                 1                 0                      0  ...   \n",
       "1    3                 0                 0                      0  ...   \n",
       "2    4                 0                 0                      0  ...   \n",
       "3   27                 0                 0                      0  ...   \n",
       "4   17                 0                 0                      0  ...   \n",
       "\n",
       "   scheme_name_group_m  scheme_name_group_machumba estate pipe line  \\\n",
       "0                    0                                            0   \n",
       "1                    0                                            0   \n",
       "2                    0                                            0   \n",
       "3                    0                                            0   \n",
       "4                    0                                            0   \n",
       "\n",
       "   scheme_name_group_makwale water supplied sche  \\\n",
       "0                                              0   \n",
       "1                                              0   \n",
       "2                                              0   \n",
       "3                                              0   \n",
       "4                                              0   \n",
       "\n",
       "   scheme_name_group_mkongoro one  scheme_name_group_n  \\\n",
       "0                               0                    0   \n",
       "1                               0                    0   \n",
       "2                               0                    0   \n",
       "3                               0                    0   \n",
       "4                               0                    0   \n",
       "\n",
       "   scheme_name_group_ngana water supplied scheme  scheme_name_group_other  \\\n",
       "0                                              0                        1   \n",
       "1                                              0                        1   \n",
       "2                                              0                        1   \n",
       "3                                              0                        1   \n",
       "4                                              0                        1   \n",
       "\n",
       "   scheme_name_group_s  scheme_name_group_uroki-bomang'ombe water sup  \\\n",
       "0                    0                                              0   \n",
       "1                    0                                              0   \n",
       "2                    0                                              0   \n",
       "3                    0                                              0   \n",
       "4                    0                                              0   \n",
       "\n",
       "   scheme_name_group_wanging'ombe water  \n",
       "0                                     0  \n",
       "1                                     0  \n",
       "2                                     0  \n",
       "3                                     0  \n",
       "4                                     0  \n",
       "\n",
       "[5 rows x 287 columns]"
      ]
     },
     "execution_count": 99,
     "metadata": {},
     "output_type": "execute_result"
    }
   ],
   "source": [
    "#read dataset\n",
    "preprocessed_df = pd.read_csv('./Data/preprocessed_df.cvs', index_col = 0) \n",
    "preprocessed_df.head()"
   ]
  },
  {
   "cell_type": "code",
   "execution_count": 100,
   "metadata": {},
   "outputs": [
    {
     "data": {
      "text/plain": [
       "(59400, 287)"
      ]
     },
     "execution_count": 100,
     "metadata": {},
     "output_type": "execute_result"
    }
   ],
   "source": [
    "preprocessed_df.shape"
   ]
  },
  {
   "cell_type": "code",
   "execution_count": 101,
   "metadata": {},
   "outputs": [],
   "source": [
    "#define X and y\n",
    "y = preprocessed_df['status_group']\n",
    "X = preprocessed_df.drop(['status_group'], axis = 1)"
   ]
  },
  {
   "cell_type": "code",
   "execution_count": 102,
   "metadata": {},
   "outputs": [],
   "source": [
    "#perform test train split\n",
    "X_train, X_test, y_train, y_test = train_test_split(X, y, test_size = 0.2, random_state = 21)"
   ]
  },
  {
   "cell_type": "markdown",
   "metadata": {},
   "source": [
    "# Data Transformation"
   ]
  },
  {
   "cell_type": "markdown",
   "metadata": {},
   "source": [
    "After splitting the data into training and test sets, we use the `MixMaxScaler()` to fit and transform `X_train` and transform `X_test` of continuous variables.\n",
    "\n",
    "We want to fit and transform only the training data because in a real-world setting, we only have access to this data. We can then use the same scalar object to transform the test data. \n",
    "\n",
    "If we to first transform the data and then split into training and test sets, it will lead to data-leakage. "
   ]
  },
  {
   "cell_type": "code",
   "execution_count": 103,
   "metadata": {},
   "outputs": [],
   "source": [
    "#scale to make sure that all of our data is represented at the same scale\n",
    "scale = MinMaxScaler()\n",
    "\n",
    "#fit\n",
    "X_train = scale.fit_transform(X_train) #to create a scaled version of the training dataset\n",
    "X_test = scale.transform(X_test) #to create a scaled version of the test dataset"
   ]
  },
  {
   "cell_type": "code",
   "execution_count": 105,
   "metadata": {},
   "outputs": [
    {
     "name": "stdout",
     "output_type": "stream",
     "text": [
      "Class Distribution:\n",
      "Train Set\n",
      "1    25825\n",
      "0    18210\n",
      "2     3485\n",
      "Name: status_group, dtype: int64\n"
     ]
    }
   ],
   "source": [
    "#previous original class distribution\n",
    "print('Class Distribution:')\n",
    "print('Train Set')\n",
    "print(y_train.value_counts())"
   ]
  },
  {
   "cell_type": "markdown",
   "metadata": {},
   "source": [
    "# Decision Tree"
   ]
  },
  {
   "cell_type": "code",
   "execution_count": 106,
   "metadata": {},
   "outputs": [
    {
     "name": "stdout",
     "output_type": "stream",
     "text": [
      "Train accuracy: 99.76010101010101\n",
      "Test accuracy: 75.63131313131312\n"
     ]
    }
   ],
   "source": [
    "#instantiate baseline model\n",
    "decision_tree_clf = DecisionTreeClassifier(random_state = 21, criterion = 'entropy')\n",
    "\n",
    "#fit\n",
    "decision_tree_clf.fit(X_train, y_train)\n",
    "\n",
    "#predict\n",
    "y_hat_train = decision_tree_clf.predict(X_train)\n",
    "y_hat_test = decision_tree_clf.predict(X_test)\n",
    "\n",
    "#train accuracy \n",
    "decision_tree_train_accuracy = accuracy_score(y_train, y_hat_train) * 100\n",
    "print('Train accuracy: {0}'.format(decision_tree_train_accuracy))\n",
    "\n",
    "#test accuracy \n",
    "decision_tree_test_accuracy = accuracy_score(y_test, y_hat_test) * 100\n",
    "print('Test accuracy: {0}'.format(decision_tree_test_accuracy))\n",
    "\n",
    "#Train accuracy: 99.76010101010101\n",
    "#Test accuracy: 75.63131313131312"
   ]
  },
  {
   "cell_type": "code",
   "execution_count": 107,
   "metadata": {
    "scrolled": false
   },
   "outputs": [
    {
     "data": {
      "image/png": "[encoded data removed]",
      "text/plain": [
       "<Figure size 1440x7200 with 1 Axes>"
      ]
     },
     "metadata": {
      "needs_background": "light"
     },
     "output_type": "display_data"
    }
   ],
   "source": [
    "#feature importance\n",
    "decision_tree_clf.feature_importances_;\n",
    "\n",
    "def plot_feature_importances(model):\n",
    "    n_features = X_train.shape[1]\n",
    "    plt.figure(figsize = (20, 100))\n",
    "    plt.barh(range(n_features), model.feature_importances_, align = 'center') \n",
    "    plt.yticks(np.arange(n_features), X.columns.values) \n",
    "    plt.xlabel('Feature importance')\n",
    "    plt.ylabel('Feature')\n",
    "\n",
    "plot_feature_importances(decision_tree_clf)\n",
    "\n",
    "#save\n",
    "plt.savefig('./Data/decision_tree_clf_feature_importances')"
   ]
  },
  {
   "cell_type": "code",
   "execution_count": 108,
   "metadata": {},
   "outputs": [
    {
     "data": {
      "text/plain": [
       "Index(['ward_group_Chanika', 'ward_group_Igosi', 'ward_group_Imalinyi',\n",
       "       'ward_group_Itete', 'ward_group_Kitunda', 'ward_group_Maji ya Chai',\n",
       "       'ward_group_Maramba', 'ward_group_Matola', 'ward_group_Mdandu',\n",
       "       'ward_group_Mishamo', 'ward_group_Msindo', 'ward_group_Mtwango',\n",
       "       'ward_group_Nduruma', 'ward_group_Ngarenanyuki', 'ward_group_Siha Kati',\n",
       "       'ward_group_Usuka', 'ward_group_Vikindu', 'ward_group_Wanging'ombe',\n",
       "       'ward_group_Zinga/Ikerege', 'ward_group_other'],\n",
       "      dtype='object')"
      ]
     },
     "execution_count": 108,
     "metadata": {},
     "output_type": "execute_result"
    }
   ],
   "source": [
    "#look for columns with 'ward'\n",
    "preprocessed_df.filter(like = 'ward').columns"
   ]
  },
  {
   "cell_type": "code",
   "execution_count": 109,
   "metadata": {},
   "outputs": [
    {
     "data": {
      "text/plain": [
       "Index(['subvillage_group_I', 'subvillage_group_Kanisani',\n",
       "       'subvillage_group_Kati', 'subvillage_group_Kibaoni',\n",
       "       'subvillage_group_M', 'subvillage_group_Madukani',\n",
       "       'subvillage_group_Majengo', 'subvillage_group_Mapinduzi',\n",
       "       'subvillage_group_Mbuyuni', 'subvillage_group_Miembeni',\n",
       "       'subvillage_group_Mjimwema', 'subvillage_group_Mlimani',\n",
       "       'subvillage_group_Msikitini', 'subvillage_group_Mtakuja',\n",
       "       'subvillage_group_Muungano', 'subvillage_group_Shuleni',\n",
       "       'subvillage_group_Sokoni', 'subvillage_group_Songambele',\n",
       "       'subvillage_group_other'],\n",
       "      dtype='object')"
      ]
     },
     "execution_count": 109,
     "metadata": {},
     "output_type": "execute_result"
    }
   ],
   "source": [
    "#look for columns with 'subvillage'\n",
    "preprocessed_df.filter(like = 'subvillage').columns"
   ]
  },
  {
   "cell_type": "code",
   "execution_count": 110,
   "metadata": {},
   "outputs": [
    {
     "data": {
      "text/plain": [
       "Index(['wpt_name_group_Hospital', 'wpt_name_group_Kanisani',\n",
       "       'wpt_name_group_Kituo Cha Afya', 'wpt_name_group_Madukani',\n",
       "       'wpt_name_group_Mbugani', 'wpt_name_group_Mkombozi',\n",
       "       'wpt_name_group_Mkuyuni', 'wpt_name_group_Msikitini',\n",
       "       'wpt_name_group_Muungano', 'wpt_name_group_Ofisini',\n",
       "       'wpt_name_group_School', 'wpt_name_group_Sekondari',\n",
       "       'wpt_name_group_Shule', 'wpt_name_group_Shule Ya Msingi',\n",
       "       'wpt_name_group_Shuleni', 'wpt_name_group_Sokoni',\n",
       "       'wpt_name_group_Upendo', 'wpt_name_group_Zahanati',\n",
       "       'wpt_name_group_other'],\n",
       "      dtype='object')"
      ]
     },
     "execution_count": 110,
     "metadata": {},
     "output_type": "execute_result"
    }
   ],
   "source": [
    "#look for columns with 'wpt_name'\n",
    "preprocessed_df.filter(like = 'wpt_name').columns"
   ]
  },
  {
   "cell_type": "code",
   "execution_count": 111,
   "metadata": {},
   "outputs": [],
   "source": [
    "#drop features\n",
    "X.drop(columns = ['ward_group_Chanika', 'ward_group_Igosi', 'ward_group_Imalinyi',\n",
    "       'ward_group_Itete', 'ward_group_Kitunda', 'ward_group_Maji ya Chai',\n",
    "       'ward_group_Maramba', 'ward_group_Matola', 'ward_group_Mdandu',\n",
    "       'ward_group_Mishamo', 'ward_group_Msindo', 'ward_group_Mtwango',\n",
    "       'ward_group_Nduruma', 'ward_group_Ngarenanyuki', 'ward_group_Siha Kati',\n",
    "       'ward_group_Usuka', 'ward_group_Vikindu', \"ward_group_Wanging'ombe\",\n",
    "       'ward_group_Zinga/Ikerege', 'ward_group_other'], axis = 1, inplace = True)"
   ]
  },
  {
   "cell_type": "code",
   "execution_count": 112,
   "metadata": {},
   "outputs": [],
   "source": [
    "#drop features\n",
    "X.drop(columns = ['subvillage_group_I', 'subvillage_group_Kanisani',\n",
    "       'subvillage_group_Kati', 'subvillage_group_Kibaoni',\n",
    "       'subvillage_group_M', 'subvillage_group_Madukani',\n",
    "       'subvillage_group_Majengo', 'subvillage_group_Mapinduzi',\n",
    "       'subvillage_group_Mbuyuni', 'subvillage_group_Miembeni',\n",
    "       'subvillage_group_Mjimwema', 'subvillage_group_Mlimani',\n",
    "       'subvillage_group_Msikitini', 'subvillage_group_Mtakuja',\n",
    "       'subvillage_group_Muungano', 'subvillage_group_Shuleni',\n",
    "       'subvillage_group_Sokoni', 'subvillage_group_Songambele',\n",
    "       'subvillage_group_other'], axis = 1, inplace = True)"
   ]
  },
  {
   "cell_type": "code",
   "execution_count": 113,
   "metadata": {},
   "outputs": [],
   "source": [
    "#drop features\n",
    "X.drop(columns = ['wpt_name_group_Hospital', 'wpt_name_group_Kanisani',\n",
    "       'wpt_name_group_Kituo Cha Afya', 'wpt_name_group_Madukani',\n",
    "       'wpt_name_group_Mbugani', 'wpt_name_group_Mkombozi',\n",
    "       'wpt_name_group_Mkuyuni', 'wpt_name_group_Msikitini',\n",
    "       'wpt_name_group_Muungano', 'wpt_name_group_Ofisini',\n",
    "       'wpt_name_group_School', 'wpt_name_group_Sekondari',\n",
    "       'wpt_name_group_Shule', 'wpt_name_group_Shule Ya Msingi',\n",
    "       'wpt_name_group_Shuleni', 'wpt_name_group_Sokoni',\n",
    "       'wpt_name_group_Upendo', 'wpt_name_group_Zahanati',\n",
    "       'wpt_name_group_other'], axis = 1, inplace = True)"
   ]
  },
  {
   "cell_type": "code",
   "execution_count": 114,
   "metadata": {},
   "outputs": [],
   "source": [
    "#re-perform test train split\n",
    "X_train, X_test, y_train, y_test = train_test_split(X, y, test_size = 0.2, random_state = 21)"
   ]
  },
  {
   "cell_type": "code",
   "execution_count": 115,
   "metadata": {},
   "outputs": [],
   "source": [
    "#re-scale to make sure that all of our data is represented at the same scale\n",
    "scale = MinMaxScaler()\n",
    "\n",
    "#fit\n",
    "X_train = scale.fit_transform(X_train) #to create a scaled version of the training dataset\n",
    "X_test = scale.transform(X_test) #to create a scaled version of the test dataset"
   ]
  },
  {
   "cell_type": "code",
   "execution_count": 116,
   "metadata": {
    "scrolled": true
   },
   "outputs": [
    {
     "name": "stdout",
     "output_type": "stream",
     "text": [
      "Train accuracy: 99.7138047138047\n",
      "Test accuracy: 75.97643097643098\n"
     ]
    }
   ],
   "source": [
    "#instantiate trimmed model\n",
    "decision_tree_clf = DecisionTreeClassifier(random_state = 21)\n",
    "\n",
    "#fit\n",
    "decision_tree_clf.fit(X_train, y_train)\n",
    "\n",
    "#predict\n",
    "y_hat_train = decision_tree_clf.predict(X_train)\n",
    "y_hat_test = decision_tree_clf.predict(X_test)\n",
    "\n",
    "#train accuracy \n",
    "decision_tree_train_accuracy = accuracy_score(y_train, y_hat_train) * 100\n",
    "print('Train accuracy: {0}'.format(decision_tree_train_accuracy))\n",
    "\n",
    "#test accuracy \n",
    "decision_tree_test_accuracy = accuracy_score(y_test, y_hat_test) * 100\n",
    "print('Test accuracy: {0}'.format(decision_tree_test_accuracy))\n",
    "\n",
    "#Train accuracy: 99.7138047138047\n",
    "#Test accuracy: 75.97643097643098"
   ]
  },
  {
   "cell_type": "code",
   "execution_count": 117,
   "metadata": {},
   "outputs": [
    {
     "data": {
      "text/plain": [
       "{'criterion': 'entropy',\n",
       " 'max_depth': 40,\n",
       " 'max_features': 'auto',\n",
       " 'min_samples_leaf': 4,\n",
       " 'min_samples_split': 5}"
      ]
     },
     "execution_count": 117,
     "metadata": {},
     "output_type": "execute_result"
    }
   ],
   "source": [
    "#set param grid\n",
    "decision_tree_param_grid = {'criterion' : ['gini', 'entropy'],\n",
    "                            'min_samples_split' : [5, 8, 10],\n",
    "                            'min_samples_leaf' : [3, 4, 5],\n",
    "                            'max_depth': [40, 80],\n",
    "                            'max_features': ['auto', 'sqrt', 'log2']}\n",
    "\n",
    "#gridsearch\n",
    "decision_tree_gridsearch = GridSearchCV(estimator = decision_tree_clf, \n",
    "                                        param_grid = decision_tree_param_grid,\n",
    "                                        scoring = 'accuracy', \n",
    "                                        cv = 5,\n",
    "                                        n_jobs = -1)\n",
    "\n",
    "#fit\n",
    "decision_tree_gridsearch.fit(X_train, y_train)\n",
    "\n",
    "#best param\n",
    "decision_tree_gridsearch.best_params_\n",
    "\n",
    "#'criterion': 'entropy',\n",
    "#'max_depth': 40,\n",
    "#'max_features': 'auto',\n",
    "#'min_samples_leaf': 4,\n",
    "#'min_samples_split': 5"
   ]
  },
  {
   "cell_type": "code",
   "execution_count": 118,
   "metadata": {
    "scrolled": true
   },
   "outputs": [
    {
     "name": "stdout",
     "output_type": "stream",
     "text": [
      "Train accuracy: 79.15193602693603\n",
      "Test accuracy: 73.94781144781145\n"
     ]
    }
   ],
   "source": [
    "#train a classifier with optimal values identified above\n",
    "decision_tree_clf = DecisionTreeClassifier(random_state = 21, \n",
    "                                           criterion = 'entropy',\n",
    "                                           max_depth = 40,\n",
    "                                           max_features = 'auto',\n",
    "                                           min_samples_leaf = 4,\n",
    "                                           min_samples_split = 5)\n",
    "\n",
    "#fit\n",
    "decision_tree_clf.fit(X_train, y_train)\n",
    "\n",
    "#predict\n",
    "y_hat_train = decision_tree_clf.predict(X_train)\n",
    "y_hat_test = decision_tree_clf.predict(X_test)\n",
    "\n",
    "#train accuracy \n",
    "decision_tree_train_accuracy = accuracy_score(y_train, y_hat_train) * 100\n",
    "print('Train accuracy: {0}'.format(decision_tree_train_accuracy))\n",
    "\n",
    "#test accuracy \n",
    "decision_tree_test_accuracy = accuracy_score(y_test, y_hat_test) * 100\n",
    "print('Test accuracy: {0}'.format(decision_tree_test_accuracy))\n",
    "\n",
    "#Train accuracy: 79.15193602693603\n",
    "#Test accuracy: 73.94781144781145"
   ]
  },
  {
   "cell_type": "code",
   "execution_count": 119,
   "metadata": {},
   "outputs": [
    {
     "name": "stdout",
     "output_type": "stream",
     "text": [
      "Train cross validation: 0.7383627946127946\n",
      "Train cross validation: 0.6974747474747475\n"
     ]
    }
   ],
   "source": [
    "#train cross validation\n",
    "decision_tree_train_cv_score = cross_val_score(decision_tree_clf, X_train, y_train, cv = 5, n_jobs = -1).mean()\n",
    "print('Train cross validation:',decision_tree_train_cv_score)\n",
    "\n",
    "#test cross validation\n",
    "decision_tree_test_cv_score = cross_val_score(decision_tree_clf, X_test, y_test, cv = 5, n_jobs = -1).mean()\n",
    "print('Train cross validation:',decision_tree_test_cv_score)"
   ]
  },
  {
   "cell_type": "code",
   "execution_count": 120,
   "metadata": {},
   "outputs": [
    {
     "name": "stdout",
     "output_type": "stream",
     "text": [
      "Mean Absolute Error: 0.2813131313131313\n",
      "Mean Squared Error: 0.3228956228956229\n",
      "Root Mean Squared Error: 0.5682390543561952\n"
     ]
    }
   ],
   "source": [
    "#evaluate with MAE, MSE, RMSE\n",
    "print('Mean Absolute Error:', mean_absolute_error(y_test, y_hat_test))  \n",
    "print('Mean Squared Error:', mean_squared_error(y_test, y_hat_test))  \n",
    "print('Root Mean Squared Error:', mean_squared_error(y_test, y_hat_test, squared = False))"
   ]
  },
  {
   "cell_type": "code",
   "execution_count": 121,
   "metadata": {},
   "outputs": [
    {
     "name": "stdout",
     "output_type": "stream",
     "text": [
      "Model: adaBoost \n",
      "               precision    recall  f1-score   support\n",
      "\n",
      "           0       0.74      0.70      0.72      4614\n",
      "           1       0.75      0.83      0.79      6434\n",
      "           2       0.48      0.23      0.31       832\n",
      "\n",
      "    accuracy                           0.74     11880\n",
      "   macro avg       0.66      0.59      0.61     11880\n",
      "weighted avg       0.73      0.74      0.73     11880\n",
      "\n"
     ]
    }
   ],
   "source": [
    "#classification report\n",
    "decision_tree_classification_report = classification_report(y_test, y_hat_test)\n",
    "print('Model: adaBoost', '\\n', decision_tree_classification_report)"
   ]
  },
  {
   "cell_type": "code",
   "execution_count": 122,
   "metadata": {},
   "outputs": [
    {
     "data": {
      "text/plain": [
       "<sklearn.metrics._plot.confusion_matrix.ConfusionMatrixDisplay at 0x7fea4bed6b50>"
      ]
     },
     "execution_count": 122,
     "metadata": {},
     "output_type": "execute_result"
    },
    {
     "data": {
      "image/png": "[encoded data removed]",
      "text/plain": [
       "<Figure size 432x288 with 2 Axes>"
      ]
     },
     "metadata": {
      "needs_background": "light"
     },
     "output_type": "display_data"
    }
   ],
   "source": [
    "#plot confusion matrix\n",
    "plot_confusion_matrix(decision_tree_clf, X_test, y_test, cmap = plt.cm.Blues)    "
   ]
  },
  {
   "cell_type": "code",
   "execution_count": 123,
   "metadata": {},
   "outputs": [
    {
     "name": "stdout",
     "output_type": "stream",
     "text": [
      "-0.013468013468013467\n",
      "0.2880448423630242\n"
     ]
    }
   ],
   "source": [
    "#function bias() to calculate the bias of a model's predictions given the actual data\n",
    "def bias(y, y_hat):\n",
    "    return np.mean(y_hat - y)\n",
    "\n",
    "#function variance() to calculate the variance of a model's predictions\n",
    "def variance(y_hat):\n",
    "    return np.mean([yi**2 for yi in y_hat]) - np.mean(y_hat)**2\n",
    "\n",
    "#get test bias and variance\n",
    "print(bias(y_test, y_hat_test))\n",
    "print(variance(y_hat_test))"
   ]
  },
  {
   "cell_type": "code",
   "execution_count": 124,
   "metadata": {
    "scrolled": true
   },
   "outputs": [
    {
     "data": {
      "text/html": [
       "<div>\n",
       "<style scoped>\n",
       "    .dataframe tbody tr th:only-of-type {\n",
       "        vertical-align: middle;\n",
       "    }\n",
       "\n",
       "    .dataframe tbody tr th {\n",
       "        vertical-align: top;\n",
       "    }\n",
       "\n",
       "    .dataframe thead th {\n",
       "        text-align: right;\n",
       "    }\n",
       "</style>\n",
       "<table border=\"1\" class=\"dataframe\">\n",
       "  <thead>\n",
       "    <tr style=\"text-align: right;\">\n",
       "      <th></th>\n",
       "      <th>Model</th>\n",
       "      <th>Accuracy</th>\n",
       "      <th>CV</th>\n",
       "      <th>Precision</th>\n",
       "      <th>Recall</th>\n",
       "      <th>F1 Score</th>\n",
       "      <th>MAE</th>\n",
       "      <th>MSE</th>\n",
       "      <th>RMSE</th>\n",
       "      <th>AUC</th>\n",
       "      <th>Bias</th>\n",
       "      <th>Variance</th>\n",
       "    </tr>\n",
       "  </thead>\n",
       "  <tbody>\n",
       "    <tr>\n",
       "      <th>0</th>\n",
       "      <td>Imbalance Decision Tree</td>\n",
       "      <td>73.95</td>\n",
       "      <td>0.7</td>\n",
       "      <td>0.66</td>\n",
       "      <td>0.59</td>\n",
       "      <td>0.61</td>\n",
       "      <td>0.28</td>\n",
       "      <td>0.32</td>\n",
       "      <td>0.57</td>\n",
       "      <td>-</td>\n",
       "      <td>-0.013468</td>\n",
       "      <td>0.288045</td>\n",
       "    </tr>\n",
       "  </tbody>\n",
       "</table>\n",
       "</div>"
      ],
      "text/plain": [
       "                     Model  Accuracy   CV  Precision  Recall  F1 Score   MAE  \\\n",
       "0  Imbalance Decision Tree     73.95  0.7       0.66    0.59      0.61  0.28   \n",
       "\n",
       "    MSE  RMSE AUC      Bias  Variance  \n",
       "0  0.32  0.57   - -0.013468  0.288045  "
      ]
     },
     "execution_count": 124,
     "metadata": {},
     "output_type": "execute_result"
    }
   ],
   "source": [
    "#summary table\n",
    "summary_table_1 = pd.DataFrame({'Model': [],\n",
    "                              'Accuracy': [], 'CV': [], \n",
    "                              'Precision': [], 'Recall': [], 'F1 Score': [],\n",
    "                              'MAE': [], 'MSE': [], 'RMSE': [],\n",
    "                              'AUC': [], 'Bias': [], 'Variance': []\n",
    "                              })\n",
    "\n",
    "summary_table_1.loc[0] = ['Imbalance Decision Tree',\n",
    "                        round(decision_tree_test_accuracy, 2), round(decision_tree_test_cv_score, 2), \n",
    "                        round(precision_score(y_test, y_hat_test, average = 'macro'), 2), round(recall_score(y_test, y_hat_test, average = 'macro'), 2), round(f1_score(y_test, y_hat_test, average = 'macro'), 2),\n",
    "                        round(mean_absolute_error(y_test, y_hat_test), 2), round(mean_squared_error(y_test, y_hat_test), 2), round(mean_squared_error(y_test, y_hat_test, squared = False), 2),\n",
    "                        '-', bias(y_test, y_hat_test), variance(y_hat_test)]\n",
    "summary_table_1.head()"
   ]
  },
  {
   "cell_type": "markdown",
   "metadata": {},
   "source": [
    "# Logistic Regression"
   ]
  },
  {
   "cell_type": "code",
   "execution_count": 127,
   "metadata": {},
   "outputs": [
    {
     "name": "stdout",
     "output_type": "stream",
     "text": [
      "Train accuracy: 75.17466329966331\n",
      "Test accuracy: 74.81481481481481\n"
     ]
    }
   ],
   "source": [
    "#instantiate baseline model\n",
    "logreg_clf = LogisticRegression(random_state = 21)\n",
    "\n",
    "#fit\n",
    "logreg_clf.fit(X_train, y_train)\n",
    "\n",
    "#predict\n",
    "y_hat_train = logreg_clf.predict(X_train)\n",
    "y_hat_test = logreg_clf.predict(X_test)\n",
    "\n",
    "#train accuracy \n",
    "logreg_train_accuracy = accuracy_score(y_train, y_hat_train) * 100\n",
    "print('Train accuracy: {0}'.format(logreg_train_accuracy))\n",
    "\n",
    "#test accuracy \n",
    "logreg_test_accuracy = accuracy_score(y_test, y_hat_test) * 100\n",
    "print('Test accuracy: {0}'.format(logreg_test_accuracy))\n",
    "\n",
    "#Train accuracy: 75.17466329966331\n",
    "#Test accuracy: 74.81481481481481"
   ]
  },
  {
   "cell_type": "code",
   "execution_count": 128,
   "metadata": {},
   "outputs": [
    {
     "data": {
      "text/plain": [
       "{'C': 5000000,\n",
       " 'fit_intercept': True,\n",
       " 'multi_class': 'multinomial',\n",
       " 'solver': 'saga'}"
      ]
     },
     "execution_count": 128,
     "metadata": {},
     "output_type": "execute_result"
    }
   ],
   "source": [
    "#set param grid\n",
    "logreg_param_grid = {'fit_intercept': [True, False],\n",
    "                     'C': [5000000, 1e12],\n",
    "                     'solver' : ['sag', 'saga', 'liblinear'],\n",
    "                     'multi_class': ['multinomial', 'auto']}\n",
    "\n",
    "#gridsearch\n",
    "logreg_gridsearch = GridSearchCV(estimator = logreg_clf,\n",
    "                                 param_grid = logreg_param_grid,\n",
    "                                 scoring = 'accuracy', cv = 5,\n",
    "                                 n_jobs = -1)\n",
    "\n",
    "#fit\n",
    "logreg_gridsearch.fit(X_train, y_train)\n",
    "\n",
    "#best param\n",
    "logreg_gridsearch.best_params_\n",
    "\n",
    "#'C': 5000000,\n",
    "#'fit_intercept': True,\n",
    "#'multi_class': 'multinomial',\n",
    "#'solver': 'saga'"
   ]
  },
  {
   "cell_type": "code",
   "execution_count": 130,
   "metadata": {},
   "outputs": [
    {
     "name": "stdout",
     "output_type": "stream",
     "text": [
      "Train accuracy: 75.21885521885523\n",
      "Test accuracy: 74.86531986531986\n"
     ]
    }
   ],
   "source": [
    "#train a classifier with optimal values identified above\n",
    "logreg_clf = LogisticRegression(random_state = 21,\n",
    "                                fit_intercept = True, \n",
    "                                C = 5000000,\n",
    "                                multi_class = 'multinomial', \n",
    "                                solver = 'saga')\n",
    "\n",
    "#fit\n",
    "logreg_clf.fit(X_train, y_train)\n",
    "\n",
    "#predict\n",
    "y_hat_train = logreg_clf.predict(X_train)\n",
    "y_hat_test = logreg_clf.predict(X_test)\n",
    "\n",
    "#train accuracy \n",
    "logreg_train_accuracy = accuracy_score(y_train, y_hat_train) * 100\n",
    "print('Train accuracy: {0}'.format(logreg_train_accuracy))\n",
    "\n",
    "#test accuracy \n",
    "logreg_test_accuracy = accuracy_score(y_test, y_hat_test) * 100\n",
    "print('Test accuracy: {0}'.format(logreg_test_accuracy))\n",
    "\n",
    "#Train accuracy: 75.21885521885523\n",
    "#Test accuracy: 74.86531986531986"
   ]
  },
  {
   "cell_type": "code",
   "execution_count": 131,
   "metadata": {},
   "outputs": [
    {
     "name": "stdout",
     "output_type": "stream",
     "text": [
      "Train cross validation: 0.7493265993265993\n",
      "Test cross validation: 0.7442760942760943\n"
     ]
    }
   ],
   "source": [
    "#train cross validation\n",
    "logreg_train_cv_score = cross_val_score(logreg_clf, X_train, y_train, cv = 5, n_jobs = -1).mean()\n",
    "print('Train cross validation:', logreg_train_cv_score)\n",
    "\n",
    "#test cross validation\n",
    "logreg_test_cv_score = cross_val_score(logreg_clf, X_test, y_test, cv = 5, n_jobs = -1).mean()\n",
    "print('Test cross validation:', logreg_test_cv_score)"
   ]
  },
  {
   "cell_type": "code",
   "execution_count": 132,
   "metadata": {},
   "outputs": [
    {
     "name": "stdout",
     "output_type": "stream",
     "text": [
      "Mean Absolute Error: 0.26826599326599326\n",
      "Mean Squared Error: 0.3021043771043771\n",
      "Root Mean Squared Error: 0.5496402251513048\n"
     ]
    }
   ],
   "source": [
    "#evaluate with MAE, MSE, RMSE\n",
    "print('Mean Absolute Error:', mean_absolute_error(y_test, y_hat_test))  \n",
    "print('Mean Squared Error:', mean_squared_error(y_test, y_hat_test))  \n",
    "print('Root Mean Squared Error:', mean_squared_error(y_test, y_hat_test, squared = False))"
   ]
  },
  {
   "cell_type": "code",
   "execution_count": 133,
   "metadata": {},
   "outputs": [
    {
     "name": "stdout",
     "output_type": "stream",
     "text": [
      "Model: Logistic Regression \n",
      "               precision    recall  f1-score   support\n",
      "\n",
      "           0       0.79      0.66      0.72      4614\n",
      "           1       0.73      0.89      0.80      6434\n",
      "           2       0.50      0.13      0.21       832\n",
      "\n",
      "    accuracy                           0.75     11880\n",
      "   macro avg       0.68      0.56      0.58     11880\n",
      "weighted avg       0.74      0.75      0.73     11880\n",
      "\n"
     ]
    }
   ],
   "source": [
    "#classification report\n",
    "logreg_classification_report = classification_report(y_test, y_hat_test)\n",
    "print('Model: Logistic Regression', '\\n', logreg_classification_report)"
   ]
  },
  {
   "cell_type": "code",
   "execution_count": 134,
   "metadata": {},
   "outputs": [
    {
     "data": {
      "text/plain": [
       "<sklearn.metrics._plot.confusion_matrix.ConfusionMatrixDisplay at 0x7fea497d9a00>"
      ]
     },
     "execution_count": 134,
     "metadata": {},
     "output_type": "execute_result"
    },
    {
     "data": {
      "image/png": "[encoded data removed]",
      "text/plain": [
       "<Figure size 432x288 with 2 Axes>"
      ]
     },
     "metadata": {
      "needs_background": "light"
     },
     "output_type": "display_data"
    }
   ],
   "source": [
    "#plot confusion matrix\n",
    "plot_confusion_matrix(logreg_clf, X_test, y_test, cmap = plt.cm.Blues)"
   ]
  },
  {
   "cell_type": "code",
   "execution_count": 135,
   "metadata": {
    "scrolled": true
   },
   "outputs": [
    {
     "name": "stdout",
     "output_type": "stream",
     "text": [
      "AUC: 0.8202594099871888\n"
     ]
    },
    {
     "data": {
      "image/png": "[encoded data removed]",
      "text/plain": [
       "<Figure size 1080x360 with 1 Axes>"
      ]
     },
     "metadata": {
      "needs_background": "light"
     },
     "output_type": "display_data"
    }
   ],
   "source": [
    "#get AUC\n",
    "logreg_y_score = logreg_clf.fit(X_train, y_train).decision_function(X_test)\n",
    "\n",
    "#roc curve for classes\n",
    "logreg_fpr = {}\n",
    "logreg_tpr = {}\n",
    "logreg_thresh = {}\n",
    "\n",
    "n_class = 3\n",
    "\n",
    "for i in range(n_class):    \n",
    "    logreg_fpr[i], logreg_tpr[i], logreg_thresh[i] = roc_curve(y_test, logreg_y_score[:, i], pos_label = i)\n",
    "\n",
    "# plotting\n",
    "plt.figure(figsize = (15, 5))\n",
    "plt.plot(logreg_fpr[0], logreg_tpr[0], linestyle = '--',color = 'blue', label = 'Class 0 vs Rest')\n",
    "plt.plot(logreg_fpr[1], logreg_tpr[1], linestyle = '--',color = 'gray', label = 'Class 1 vs Rest')\n",
    "plt.plot(logreg_fpr[2], logreg_tpr[2], linestyle = '--',color = 'red', label = 'Class 2 vs Rest')\n",
    "plt.title('Multiclass ROC curve')\n",
    "plt.xlabel('False Positive Rate')\n",
    "plt.ylabel('True Positive Rate')\n",
    "plt.legend(loc = 'best')\n",
    "\n",
    "plt.savefig('./Data/logreg_roc')\n",
    "\n",
    "#get AUC\n",
    "print('AUC:', auc(logreg_fpr[i], logreg_tpr[i]))"
   ]
  },
  {
   "cell_type": "code",
   "execution_count": 136,
   "metadata": {},
   "outputs": [
    {
     "name": "stdout",
     "output_type": "stream",
     "text": [
      "0.0117003367003367\n",
      "0.24931604909929822\n"
     ]
    }
   ],
   "source": [
    "#get test bias and variance\n",
    "print(bias(y_test, y_hat_test))\n",
    "print(variance(y_hat_test))"
   ]
  },
  {
   "cell_type": "code",
   "execution_count": 137,
   "metadata": {},
   "outputs": [
    {
     "data": {
      "text/html": [
       "<div>\n",
       "<style scoped>\n",
       "    .dataframe tbody tr th:only-of-type {\n",
       "        vertical-align: middle;\n",
       "    }\n",
       "\n",
       "    .dataframe tbody tr th {\n",
       "        vertical-align: top;\n",
       "    }\n",
       "\n",
       "    .dataframe thead th {\n",
       "        text-align: right;\n",
       "    }\n",
       "</style>\n",
       "<table border=\"1\" class=\"dataframe\">\n",
       "  <thead>\n",
       "    <tr style=\"text-align: right;\">\n",
       "      <th></th>\n",
       "      <th>Model</th>\n",
       "      <th>Accuracy</th>\n",
       "      <th>CV</th>\n",
       "      <th>Precision</th>\n",
       "      <th>Recall</th>\n",
       "      <th>F1 Score</th>\n",
       "      <th>MAE</th>\n",
       "      <th>MSE</th>\n",
       "      <th>RMSE</th>\n",
       "      <th>AUC</th>\n",
       "      <th>Bias</th>\n",
       "      <th>Variance</th>\n",
       "    </tr>\n",
       "  </thead>\n",
       "  <tbody>\n",
       "    <tr>\n",
       "      <th>0</th>\n",
       "      <td>Imbalance Decision Tree</td>\n",
       "      <td>73.95</td>\n",
       "      <td>0.70</td>\n",
       "      <td>0.66</td>\n",
       "      <td>0.59</td>\n",
       "      <td>0.61</td>\n",
       "      <td>0.28</td>\n",
       "      <td>0.32</td>\n",
       "      <td>0.57</td>\n",
       "      <td>-</td>\n",
       "      <td>-0.013468</td>\n",
       "      <td>0.288045</td>\n",
       "    </tr>\n",
       "    <tr>\n",
       "      <th>1</th>\n",
       "      <td>Imbalance Logistic Regression</td>\n",
       "      <td>74.87</td>\n",
       "      <td>0.74</td>\n",
       "      <td>0.68</td>\n",
       "      <td>0.56</td>\n",
       "      <td>0.58</td>\n",
       "      <td>0.27</td>\n",
       "      <td>0.30</td>\n",
       "      <td>0.55</td>\n",
       "      <td>0.82</td>\n",
       "      <td>0.011700</td>\n",
       "      <td>0.249316</td>\n",
       "    </tr>\n",
       "  </tbody>\n",
       "</table>\n",
       "</div>"
      ],
      "text/plain": [
       "                           Model  Accuracy    CV  Precision  Recall  F1 Score  \\\n",
       "0        Imbalance Decision Tree     73.95  0.70       0.66    0.59      0.61   \n",
       "1  Imbalance Logistic Regression     74.87  0.74       0.68    0.56      0.58   \n",
       "\n",
       "    MAE   MSE  RMSE   AUC      Bias  Variance  \n",
       "0  0.28  0.32  0.57     - -0.013468  0.288045  \n",
       "1  0.27  0.30  0.55  0.82  0.011700  0.249316  "
      ]
     },
     "execution_count": 137,
     "metadata": {},
     "output_type": "execute_result"
    }
   ],
   "source": [
    "#summary table\n",
    "summary_table_1.loc[1] = ['Imbalance Logistic Regression',\n",
    "                        round(logreg_test_accuracy, 2), round(logreg_test_cv_score, 2), \n",
    "                        round(precision_score(y_test, y_hat_test, average = 'macro'), 2), round(recall_score(y_test, y_hat_test, average = 'macro'), 2), round(f1_score(y_test, y_hat_test, average = 'macro'), 2),\n",
    "                        round(mean_absolute_error(y_test, y_hat_test), 2), round(mean_squared_error(y_test, y_hat_test), 2), round(mean_squared_error(y_test, y_hat_test, squared = False), 2),\n",
    "                        round(auc(logreg_fpr[i], logreg_tpr[i]), 2), bias(y_test, y_hat_test), variance(y_hat_test)]\n",
    "summary_table_1.head()"
   ]
  },
  {
   "cell_type": "markdown",
   "metadata": {},
   "source": [
    "# K-Nearest Neighbor"
   ]
  },
  {
   "cell_type": "code",
   "execution_count": 138,
   "metadata": {},
   "outputs": [
    {
     "name": "stdout",
     "output_type": "stream",
     "text": [
      "Train accuracy: 83.57954545454545\n",
      "Test accuracy: 77.86195286195287\n"
     ]
    }
   ],
   "source": [
    "#instantiate baseline model\n",
    "knn_clf = KNeighborsClassifier()\n",
    "\n",
    "#fit\n",
    "knn_clf.fit(X_train, y_train)\n",
    "\n",
    "#predict on the test set\n",
    "y_hat_train = knn_clf.predict(X_train)\n",
    "y_hat_test = knn_clf.predict(X_test)\n",
    "\n",
    "#train accuracy \n",
    "knn_train_accuracy = accuracy_score(y_train, y_hat_train) * 100\n",
    "print('Train accuracy: {0}'.format(knn_train_accuracy))\n",
    "\n",
    "#test accuracy \n",
    "knn_test_accuracy = accuracy_score(y_test, y_hat_test) * 100\n",
    "print('Test accuracy: {0}'.format(knn_test_accuracy))\n",
    "\n",
    "#Train accuracy: 83.57954545454545\n",
    "#Test accuracy: 77.86195286195287"
   ]
  },
  {
   "cell_type": "code",
   "execution_count": 139,
   "metadata": {},
   "outputs": [
    {
     "data": {
      "text/plain": [
       "{'n_neighbors': 10, 'weights': 'distance'}"
      ]
     },
     "execution_count": 139,
     "metadata": {},
     "output_type": "execute_result"
    }
   ],
   "source": [
    "#set param grid\n",
    "knn_param_grid = {\"n_neighbors\" : [3, 5, 7, 10],\n",
    "                  'weights' : ['uniform', 'distance']}\n",
    "\n",
    "#gridsearch\n",
    "knn_gridsearch = GridSearchCV(estimator = knn_clf,\n",
    "                             param_grid = knn_param_grid,\n",
    "                             scoring = 'accuracy', cv = 5,\n",
    "                             n_jobs = -1)\n",
    "\n",
    "#fit\n",
    "knn_gridsearch.fit(X_train, y_train)\n",
    "\n",
    "#best param\n",
    "knn_gridsearch.best_params_\n",
    "\n",
    "#'n_neighbors': 10, \n",
    "#'weights': 'distance'"
   ]
  },
  {
   "cell_type": "code",
   "execution_count": 140,
   "metadata": {},
   "outputs": [
    {
     "name": "stdout",
     "output_type": "stream",
     "text": [
      "Train accuracy: 99.71170033670033\n",
      "Test accuracy: 78.95622895622895\n"
     ]
    }
   ],
   "source": [
    "#train a classifier with optimal values identified above\n",
    "knn_clf = KNeighborsClassifier(n_neighbors = 10, \n",
    "                               weights = 'distance')\n",
    "\n",
    "#fit\n",
    "knn_clf.fit(X_train, y_train)\n",
    "\n",
    "#predict on the test set\n",
    "y_hat_train = knn_clf.predict(X_train)\n",
    "y_hat_test = knn_clf.predict(X_test)\n",
    "\n",
    "#train accuracy \n",
    "knn_train_accuracy = accuracy_score(y_train, y_hat_train) * 100\n",
    "print('Train accuracy: {0}'.format(knn_train_accuracy))\n",
    "\n",
    "#test accuracy \n",
    "knn_test_accuracy = accuracy_score(y_test, y_hat_test) * 100\n",
    "print('Test accuracy: {0}'.format(knn_test_accuracy))\n",
    "\n",
    "#Train accuracy: 99.71170033670033\n",
    "#Test accuracy: 78.95622895622895"
   ]
  },
  {
   "cell_type": "code",
   "execution_count": 141,
   "metadata": {},
   "outputs": [
    {
     "name": "stdout",
     "output_type": "stream",
     "text": [
      "Train cross validation: 0.7739478114478114\n",
      "Test cross validation: 0.7346801346801346\n"
     ]
    }
   ],
   "source": [
    "#train cross validation\n",
    "knn_train_cv_score = cross_val_score(knn_clf, X_train, y_train, cv = 5, n_jobs = -1).mean()\n",
    "print('Train cross validation:', knn_train_cv_score)\n",
    "\n",
    "#test cross validation\n",
    "knn_test_cv_score = cross_val_score(knn_clf, X_test, y_test, cv = 5, n_jobs = -1).mean()\n",
    "print('Test cross validation:', knn_test_cv_score)"
   ]
  },
  {
   "cell_type": "code",
   "execution_count": 142,
   "metadata": {},
   "outputs": [
    {
     "name": "stdout",
     "output_type": "stream",
     "text": [
      "Mean Absolute Error: 0.231986531986532\n",
      "Mean Squared Error: 0.2750841750841751\n",
      "Root Mean Squared Error: 0.5244846757381717\n"
     ]
    }
   ],
   "source": [
    "#evaluate with MAE, MSE, RMSE\n",
    "print('Mean Absolute Error:', mean_absolute_error(y_test, y_hat_test))  \n",
    "print('Mean Squared Error:', mean_squared_error(y_test, y_hat_test))  \n",
    "print('Root Mean Squared Error:', mean_squared_error(y_test, y_hat_test, squared = False))"
   ]
  },
  {
   "cell_type": "code",
   "execution_count": 143,
   "metadata": {},
   "outputs": [
    {
     "name": "stdout",
     "output_type": "stream",
     "text": [
      "Model: adaBoost \n",
      "               precision    recall  f1-score   support\n",
      "\n",
      "           0       0.81      0.76      0.78      4614\n",
      "           1       0.80      0.87      0.83      6434\n",
      "           2       0.50      0.36      0.42       832\n",
      "\n",
      "    accuracy                           0.79     11880\n",
      "   macro avg       0.70      0.66      0.68     11880\n",
      "weighted avg       0.78      0.79      0.78     11880\n",
      "\n"
     ]
    }
   ],
   "source": [
    "#classification report\n",
    "knn_classification_report = classification_report(y_test, y_hat_test)\n",
    "print('Model: adaBoost', '\\n', knn_classification_report)"
   ]
  },
  {
   "cell_type": "code",
   "execution_count": 144,
   "metadata": {
    "scrolled": false
   },
   "outputs": [
    {
     "data": {
      "text/plain": [
       "<sklearn.metrics._plot.confusion_matrix.ConfusionMatrixDisplay at 0x7fea665b2eb0>"
      ]
     },
     "execution_count": 144,
     "metadata": {},
     "output_type": "execute_result"
    },
    {
     "data": {
      "image/png": "[encoded data removed]",
      "text/plain": [
       "<Figure size 432x288 with 2 Axes>"
      ]
     },
     "metadata": {
      "needs_background": "light"
     },
     "output_type": "display_data"
    }
   ],
   "source": [
    "#plot\n",
    "plot_confusion_matrix(knn_clf, X_test, y_test, cmap = plt.cm.Blues)    "
   ]
  },
  {
   "cell_type": "code",
   "execution_count": 145,
   "metadata": {},
   "outputs": [
    {
     "name": "stdout",
     "output_type": "stream",
     "text": [
      "0.00808080808080808\n",
      "0.3160224863676042\n"
     ]
    }
   ],
   "source": [
    "#get test bias and variance\n",
    "print(bias(y_test, y_hat_test))\n",
    "print(variance(y_hat_test))"
   ]
  },
  {
   "cell_type": "code",
   "execution_count": 146,
   "metadata": {},
   "outputs": [
    {
     "data": {
      "text/html": [
       "<div>\n",
       "<style scoped>\n",
       "    .dataframe tbody tr th:only-of-type {\n",
       "        vertical-align: middle;\n",
       "    }\n",
       "\n",
       "    .dataframe tbody tr th {\n",
       "        vertical-align: top;\n",
       "    }\n",
       "\n",
       "    .dataframe thead th {\n",
       "        text-align: right;\n",
       "    }\n",
       "</style>\n",
       "<table border=\"1\" class=\"dataframe\">\n",
       "  <thead>\n",
       "    <tr style=\"text-align: right;\">\n",
       "      <th></th>\n",
       "      <th>Model</th>\n",
       "      <th>Accuracy</th>\n",
       "      <th>CV</th>\n",
       "      <th>Precision</th>\n",
       "      <th>Recall</th>\n",
       "      <th>F1 Score</th>\n",
       "      <th>MAE</th>\n",
       "      <th>MSE</th>\n",
       "      <th>RMSE</th>\n",
       "      <th>AUC</th>\n",
       "      <th>Bias</th>\n",
       "      <th>Variance</th>\n",
       "    </tr>\n",
       "  </thead>\n",
       "  <tbody>\n",
       "    <tr>\n",
       "      <th>0</th>\n",
       "      <td>Imbalance Decision Tree</td>\n",
       "      <td>73.95</td>\n",
       "      <td>0.70</td>\n",
       "      <td>0.66</td>\n",
       "      <td>0.59</td>\n",
       "      <td>0.61</td>\n",
       "      <td>0.28</td>\n",
       "      <td>0.32</td>\n",
       "      <td>0.57</td>\n",
       "      <td>-</td>\n",
       "      <td>-0.013468</td>\n",
       "      <td>0.288045</td>\n",
       "    </tr>\n",
       "    <tr>\n",
       "      <th>1</th>\n",
       "      <td>Imbalance Logistic Regression</td>\n",
       "      <td>74.87</td>\n",
       "      <td>0.74</td>\n",
       "      <td>0.68</td>\n",
       "      <td>0.56</td>\n",
       "      <td>0.58</td>\n",
       "      <td>0.27</td>\n",
       "      <td>0.30</td>\n",
       "      <td>0.55</td>\n",
       "      <td>0.82</td>\n",
       "      <td>0.011700</td>\n",
       "      <td>0.249316</td>\n",
       "    </tr>\n",
       "    <tr>\n",
       "      <th>2</th>\n",
       "      <td>Imbalance KNN</td>\n",
       "      <td>78.96</td>\n",
       "      <td>0.73</td>\n",
       "      <td>0.70</td>\n",
       "      <td>0.66</td>\n",
       "      <td>0.68</td>\n",
       "      <td>0.23</td>\n",
       "      <td>0.28</td>\n",
       "      <td>0.52</td>\n",
       "      <td>-</td>\n",
       "      <td>0.008081</td>\n",
       "      <td>0.316022</td>\n",
       "    </tr>\n",
       "  </tbody>\n",
       "</table>\n",
       "</div>"
      ],
      "text/plain": [
       "                           Model  Accuracy    CV  Precision  Recall  F1 Score  \\\n",
       "0        Imbalance Decision Tree     73.95  0.70       0.66    0.59      0.61   \n",
       "1  Imbalance Logistic Regression     74.87  0.74       0.68    0.56      0.58   \n",
       "2                  Imbalance KNN     78.96  0.73       0.70    0.66      0.68   \n",
       "\n",
       "    MAE   MSE  RMSE   AUC      Bias  Variance  \n",
       "0  0.28  0.32  0.57     - -0.013468  0.288045  \n",
       "1  0.27  0.30  0.55  0.82  0.011700  0.249316  \n",
       "2  0.23  0.28  0.52     -  0.008081  0.316022  "
      ]
     },
     "execution_count": 146,
     "metadata": {},
     "output_type": "execute_result"
    }
   ],
   "source": [
    "#summary table\n",
    "summary_table_1.loc[2] = ['Imbalance KNN',\n",
    "                        round(knn_test_accuracy, 2), round(knn_test_cv_score, 2), \n",
    "                        round(precision_score(y_test, y_hat_test, average = 'macro'), 2), round(recall_score(y_test, y_hat_test, average = 'macro'), 2), round(f1_score(y_test, y_hat_test, average = 'macro'), 2),\n",
    "                        round(mean_absolute_error(y_test, y_hat_test), 2), round(mean_squared_error(y_test, y_hat_test), 2), round(mean_squared_error(y_test, y_hat_test, squared = False), 2),\n",
    "                        '-', bias(y_test, y_hat_test), variance(y_hat_test)]\n",
    "summary_table_1.head()"
   ]
  },
  {
   "cell_type": "markdown",
   "metadata": {},
   "source": [
    "# Bagged Tree"
   ]
  },
  {
   "cell_type": "code",
   "execution_count": 148,
   "metadata": {},
   "outputs": [
    {
     "name": "stdout",
     "output_type": "stream",
     "text": [
      "Train accuracy: 83.1628787878788\n",
      "Test accuracy: 79.15824915824916\n"
     ]
    }
   ],
   "source": [
    "#instantiate\n",
    "bagged_tree_clf = BaggingClassifier(DecisionTreeClassifier(random_state = 21),\n",
    "                                    random_state = 21)\n",
    "\n",
    "#fit\n",
    "bagged_tree_clf.fit(X_train, y_train)\n",
    "\n",
    "#predict\n",
    "y_hat_test = bagged_tree_clf.predict(X_test)\n",
    "y_hat_train = bagged_tree_clf.predict(X_train)\n",
    "\n",
    "#train accuracy\n",
    "bagged_tree_train_accuracy = accuracy_score(y_train, y_hat_train) * 100\n",
    "print('Train accuracy: {0}'.format(bagged_tree_train_accuracy))\n",
    "\n",
    "#test accuracy\n",
    "bagged_tree_test_accuracy = accuracy_score(y_test, y_hat_test) * 100\n",
    "print('Test accuracy: {0}'.format(bagged_tree_test_accuracy))\n",
    "\n",
    "#Train accuracy: 83.1628787878788\n",
    "#Test accuracy: 79.15824915824916"
   ]
  },
  {
   "cell_type": "code",
   "execution_count": 149,
   "metadata": {
    "scrolled": true
   },
   "outputs": [
    {
     "data": {
      "text/plain": [
       "{'bootstrap': False,\n",
       " 'bootstrap_features': True,\n",
       " 'max_features': 50,\n",
       " 'max_samples': 50,\n",
       " 'n_estimators': 100}"
      ]
     },
     "execution_count": 149,
     "metadata": {},
     "output_type": "execute_result"
    }
   ],
   "source": [
    "#param\n",
    "bagged_tree_param_grid = {'n_estimators' : [20, 50, 100],\n",
    "                          'max_samples': [10, 20, 50],\n",
    "                          'max_features': [10, 20, 50]}\n",
    "\n",
    "#gridsearch\n",
    "bagged_tree_gridsearch = GridSearchCV(estimator = bagged_tree_clf, \n",
    "                                        param_grid = bagged_tree_param_grid,\n",
    "                                        scoring = 'accuracy', cv = 5,\n",
    "                                        n_jobs = -1)\n",
    "\n",
    "#fit\n",
    "bagged_tree_gridsearch.fit(X_train, y_train)\n",
    "\n",
    "#best param\n",
    "bagged_tree_gridsearch.best_params_\n",
    "\n",
    "#'bootstrap': False,\n",
    "#'bootstrap_features': True,\n",
    "#'max_features': 50,\n",
    "#'max_samples': 50,\n",
    "#'n_estimators': 100"
   ]
  },
  {
   "cell_type": "code",
   "execution_count": 151,
   "metadata": {},
   "outputs": [
    {
     "name": "stdout",
     "output_type": "stream",
     "text": [
      "Train accuracy: 57.16961279461279\n",
      "Test accuracy: 57.03703703703704\n"
     ]
    }
   ],
   "source": [
    "#train a classifier with optimal values identified above\n",
    "bagged_tree_clf = BaggingClassifier(DecisionTreeClassifier(random_state = 21,\n",
    "                                                           criterion = 'entropy',\n",
    "                                                           max_depth = 40,\n",
    "                                                           max_features = 'auto',\n",
    "                                                           min_samples_leaf = 4,\n",
    "                                                           min_samples_split = 5),\n",
    "                                    random_state = 21,\n",
    "                                    max_features = 50,\n",
    "                                    max_samples = 50,\n",
    "                                    n_estimators = 100)\n",
    "\n",
    "#fit\n",
    "bagged_tree_clf.fit(X_train, y_train)\n",
    "\n",
    "#predict\n",
    "y_hat_test = bagged_tree_clf.predict(X_test)\n",
    "y_hat_train = bagged_tree_clf.predict(X_train)\n",
    "\n",
    "#train accuracy\n",
    "bagged_tree_train_accuracy = accuracy_score(y_train, y_hat_train) * 100\n",
    "print('Train accuracy: {0}'.format(bagged_tree_train_accuracy))\n",
    "\n",
    "#test accuracy\n",
    "bagged_tree_test_accuracy = accuracy_score(y_test, y_hat_test) * 100\n",
    "print('Test accuracy: {0}'.format(bagged_tree_test_accuracy))\n",
    "\n",
    "#Train accuracy: 57.16961279461279\n",
    "#Test accuracy: 57.03703703703704"
   ]
  },
  {
   "cell_type": "code",
   "execution_count": 152,
   "metadata": {},
   "outputs": [
    {
     "name": "stdout",
     "output_type": "stream",
     "text": [
      "Test cross validation: 0.562226430976431\n",
      "Train cross validation: 0.5843434343434344\n"
     ]
    }
   ],
   "source": [
    "#train cross validation\n",
    "bagged_tree_train_cv_score = cross_val_score(bagged_tree_clf, X_train, y_train, cv = 5, n_jobs = -1).mean()\n",
    "print('Test cross validation:', bagged_tree_train_cv_score)\n",
    "\n",
    "#test cross validation\n",
    "bagged_tree_test_cv_score = cross_val_score(bagged_tree_clf, X_test, y_test, cv = 5, n_jobs = -1).mean()\n",
    "print('Train cross validation:', bagged_tree_test_cv_score)"
   ]
  },
  {
   "cell_type": "code",
   "execution_count": 153,
   "metadata": {},
   "outputs": [
    {
     "name": "stdout",
     "output_type": "stream",
     "text": [
      "Mean Absolute Error: 0.4297979797979798\n",
      "Mean Squared Error: 0.43013468013468015\n",
      "Root Mean Squared Error: 0.6558465370303331\n"
     ]
    }
   ],
   "source": [
    "#evaluate with MAE, MSE, RMSE\n",
    "print('Mean Absolute Error:', mean_absolute_error(y_test, y_hat_test))  \n",
    "print('Mean Squared Error:', mean_squared_error(y_test, y_hat_test))  \n",
    "print('Root Mean Squared Error:', mean_squared_error(y_test, y_hat_test, squared = False))"
   ]
  },
  {
   "cell_type": "code",
   "execution_count": 154,
   "metadata": {},
   "outputs": [
    {
     "name": "stdout",
     "output_type": "stream",
     "text": [
      "Model: Bagged Tree \n",
      "               precision    recall  f1-score   support\n",
      "\n",
      "           0       0.93      0.08      0.15      4614\n",
      "           1       0.56      1.00      0.72      6434\n",
      "           2       0.00      0.00      0.00       832\n",
      "\n",
      "    accuracy                           0.57     11880\n",
      "   macro avg       0.50      0.36      0.29     11880\n",
      "weighted avg       0.66      0.57      0.44     11880\n",
      "\n"
     ]
    }
   ],
   "source": [
    "#classification report\n",
    "bagged_tree_classification_report = classification_report(y_test, y_hat_test)\n",
    "print('Model: Bagged Tree', '\\n', bagged_tree_classification_report)"
   ]
  },
  {
   "cell_type": "code",
   "execution_count": 155,
   "metadata": {
    "scrolled": true
   },
   "outputs": [
    {
     "data": {
      "text/plain": [
       "<sklearn.metrics._plot.confusion_matrix.ConfusionMatrixDisplay at 0x7fea55c3f700>"
      ]
     },
     "execution_count": 155,
     "metadata": {},
     "output_type": "execute_result"
    },
    {
     "data": {
      "image/png": "[encoded data removed]",
      "text/plain": [
       "<Figure size 432x288 with 2 Axes>"
      ]
     },
     "metadata": {
      "needs_background": "light"
     },
     "output_type": "display_data"
    }
   ],
   "source": [
    "#plot confusion matrix\n",
    "plot_confusion_matrix(bagged_tree_clf, X_test, y_test, cmap = plt.cm.Blues)"
   ]
  },
  {
   "cell_type": "code",
   "execution_count": 156,
   "metadata": {},
   "outputs": [
    {
     "name": "stdout",
     "output_type": "stream",
     "text": [
      "0.28484848484848485\n",
      "0.03237932070423655\n"
     ]
    }
   ],
   "source": [
    "#get test bias and variance\n",
    "print(bias(y_test, y_hat_test))\n",
    "print(variance(y_hat_test))"
   ]
  },
  {
   "cell_type": "code",
   "execution_count": 157,
   "metadata": {},
   "outputs": [
    {
     "data": {
      "text/html": [
       "<div>\n",
       "<style scoped>\n",
       "    .dataframe tbody tr th:only-of-type {\n",
       "        vertical-align: middle;\n",
       "    }\n",
       "\n",
       "    .dataframe tbody tr th {\n",
       "        vertical-align: top;\n",
       "    }\n",
       "\n",
       "    .dataframe thead th {\n",
       "        text-align: right;\n",
       "    }\n",
       "</style>\n",
       "<table border=\"1\" class=\"dataframe\">\n",
       "  <thead>\n",
       "    <tr style=\"text-align: right;\">\n",
       "      <th></th>\n",
       "      <th>Model</th>\n",
       "      <th>Accuracy</th>\n",
       "      <th>CV</th>\n",
       "      <th>Precision</th>\n",
       "      <th>Recall</th>\n",
       "      <th>F1 Score</th>\n",
       "      <th>MAE</th>\n",
       "      <th>MSE</th>\n",
       "      <th>RMSE</th>\n",
       "      <th>AUC</th>\n",
       "      <th>Bias</th>\n",
       "      <th>Variance</th>\n",
       "    </tr>\n",
       "  </thead>\n",
       "  <tbody>\n",
       "    <tr>\n",
       "      <th>0</th>\n",
       "      <td>Imbalance Decision Tree</td>\n",
       "      <td>73.95</td>\n",
       "      <td>0.70</td>\n",
       "      <td>0.66</td>\n",
       "      <td>0.59</td>\n",
       "      <td>0.61</td>\n",
       "      <td>0.28</td>\n",
       "      <td>0.32</td>\n",
       "      <td>0.57</td>\n",
       "      <td>-</td>\n",
       "      <td>-0.013468</td>\n",
       "      <td>0.288045</td>\n",
       "    </tr>\n",
       "    <tr>\n",
       "      <th>1</th>\n",
       "      <td>Imbalance Logistic Regression</td>\n",
       "      <td>74.87</td>\n",
       "      <td>0.74</td>\n",
       "      <td>0.68</td>\n",
       "      <td>0.56</td>\n",
       "      <td>0.58</td>\n",
       "      <td>0.27</td>\n",
       "      <td>0.30</td>\n",
       "      <td>0.55</td>\n",
       "      <td>0.82</td>\n",
       "      <td>0.011700</td>\n",
       "      <td>0.249316</td>\n",
       "    </tr>\n",
       "    <tr>\n",
       "      <th>2</th>\n",
       "      <td>Imbalance KNN</td>\n",
       "      <td>78.96</td>\n",
       "      <td>0.73</td>\n",
       "      <td>0.70</td>\n",
       "      <td>0.66</td>\n",
       "      <td>0.68</td>\n",
       "      <td>0.23</td>\n",
       "      <td>0.28</td>\n",
       "      <td>0.52</td>\n",
       "      <td>-</td>\n",
       "      <td>0.008081</td>\n",
       "      <td>0.316022</td>\n",
       "    </tr>\n",
       "    <tr>\n",
       "      <th>3</th>\n",
       "      <td>Imbalance Bagged Tree</td>\n",
       "      <td>57.04</td>\n",
       "      <td>0.58</td>\n",
       "      <td>0.50</td>\n",
       "      <td>0.36</td>\n",
       "      <td>0.29</td>\n",
       "      <td>0.43</td>\n",
       "      <td>0.43</td>\n",
       "      <td>0.66</td>\n",
       "      <td>-</td>\n",
       "      <td>0.284848</td>\n",
       "      <td>0.032379</td>\n",
       "    </tr>\n",
       "  </tbody>\n",
       "</table>\n",
       "</div>"
      ],
      "text/plain": [
       "                           Model  Accuracy    CV  Precision  Recall  F1 Score  \\\n",
       "0        Imbalance Decision Tree     73.95  0.70       0.66    0.59      0.61   \n",
       "1  Imbalance Logistic Regression     74.87  0.74       0.68    0.56      0.58   \n",
       "2                  Imbalance KNN     78.96  0.73       0.70    0.66      0.68   \n",
       "3          Imbalance Bagged Tree     57.04  0.58       0.50    0.36      0.29   \n",
       "\n",
       "    MAE   MSE  RMSE   AUC      Bias  Variance  \n",
       "0  0.28  0.32  0.57     - -0.013468  0.288045  \n",
       "1  0.27  0.30  0.55  0.82  0.011700  0.249316  \n",
       "2  0.23  0.28  0.52     -  0.008081  0.316022  \n",
       "3  0.43  0.43  0.66     -  0.284848  0.032379  "
      ]
     },
     "execution_count": 157,
     "metadata": {},
     "output_type": "execute_result"
    }
   ],
   "source": [
    "#summary table\n",
    "summary_table_1.loc[3] = ['Imbalance Bagged Tree',\n",
    "                        round(bagged_tree_test_accuracy, 2), round(bagged_tree_test_cv_score, 2), \n",
    "                        round(precision_score(y_test, y_hat_test, average = 'macro'), 2), round(recall_score(y_test, y_hat_test, average = 'macro'), 2), round(f1_score(y_test, y_hat_test, average = 'macro'), 2),\n",
    "                        round(mean_absolute_error(y_test, y_hat_test), 2), round(mean_squared_error(y_test, y_hat_test), 2), round(mean_squared_error(y_test, y_hat_test, squared = False), 2),\n",
    "                        '-', bias(y_test, y_hat_test), variance(y_hat_test)]\n",
    "summary_table_1.head()"
   ]
  },
  {
   "cell_type": "markdown",
   "metadata": {},
   "source": [
    "# Random Forest"
   ]
  },
  {
   "cell_type": "code",
   "execution_count": 158,
   "metadata": {},
   "outputs": [
    {
     "name": "stdout",
     "output_type": "stream",
     "text": [
      "Train accuracy: 99.70959595959596\n",
      "Test accuracy: 80.25252525252526\n"
     ]
    }
   ],
   "source": [
    "#instantiate\n",
    "random_forest_clf = RandomForestClassifier(random_state = 21)\n",
    "\n",
    "#fit\n",
    "random_forest_clf.fit(X_train, y_train)\n",
    "\n",
    "#predict\n",
    "y_hat_train = random_forest_clf.predict(X_train)\n",
    "y_hat_test = random_forest_clf.predict(X_test)\n",
    "\n",
    "#train accuracy\n",
    "random_forest_train_accuracy = accuracy_score(y_train, y_hat_train) * 100\n",
    "print('Train accuracy: {0}'.format(random_forest_train_accuracy))\n",
    "\n",
    "#test accuracy\n",
    "random_forest_test_accuracy = accuracy_score(y_test, y_hat_test) * 100\n",
    "print('Test accuracy: {0}'.format(random_forest_test_accuracy))\n",
    "\n",
    "#Train accuracy: 99.70959595959596\n",
    "#Test accuracy: 80.25252525252526"
   ]
  },
  {
   "cell_type": "code",
   "execution_count": 159,
   "metadata": {},
   "outputs": [
    {
     "data": {
      "text/plain": [
       "{'criterion': 'entropy',\n",
       " 'max_depth': 40,\n",
       " 'max_features': 'auto',\n",
       " 'min_samples_leaf': 3,\n",
       " 'min_samples_split': 8,\n",
       " 'n_estimators': 100}"
      ]
     },
     "execution_count": 159,
     "metadata": {},
     "output_type": "execute_result"
    }
   ],
   "source": [
    "#set param grid\n",
    "random_forest_param_grid = {'n_estimators' : [20, 50, 100],\n",
    "                            'criterion' : ['gini', 'entropy'],\n",
    "                            'min_samples_split' : [8, 10, 12],\n",
    "                            'min_samples_leaf' : [3, 4, 5],\n",
    "                            'max_depth': [40, 80, 90, 100],\n",
    "                            'max_features': ['auto', 'sqrt', 'log2']}\n",
    "\n",
    "#gridsearch\n",
    "random_forest_gridsearch = GridSearchCV(estimator = random_forest_clf, \n",
    "                                        param_grid = random_forest_param_grid,\n",
    "                                        scoring = 'accuracy', cv = 5,\n",
    "                                        n_jobs = -1)\n",
    "\n",
    "#fit\n",
    "random_forest_gridsearch.fit(X_train, y_train)\n",
    "\n",
    "#best param\n",
    "random_forest_gridsearch.best_params_\n",
    "\n",
    "#'criterion': 'entropy',\n",
    "#'max_depth': 40,\n",
    "#'max_features': 'auto',\n",
    "#'min_samples_leaf': 3,\n",
    "#'min_samples_split': 8,\n",
    "#'n_estimators': 100"
   ]
  },
  {
   "cell_type": "code",
   "execution_count": 160,
   "metadata": {},
   "outputs": [
    {
     "name": "stdout",
     "output_type": "stream",
     "text": [
      "Train accuracy: 85.32407407407408\n",
      "Test accuracy: 80.36195286195286\n"
     ]
    }
   ],
   "source": [
    "#train a classifier with optimal values identified above\n",
    "random_forest_clf = RandomForestClassifier(random_state = 21, \n",
    "                                           criterion = 'entropy',\n",
    "                                           max_depth = 40,\n",
    "                                           max_features = 'auto',\n",
    "                                           min_samples_leaf = 3,\n",
    "                                           min_samples_split = 8,\n",
    "                                           n_estimators = 100)\n",
    "\n",
    "#fit\n",
    "random_forest_clf.fit(X_train, y_train)\n",
    "\n",
    "#predict\n",
    "y_hat_train = random_forest_clf.predict(X_train)\n",
    "y_hat_test = random_forest_clf.predict(X_test)\n",
    "\n",
    "#train accuracy\n",
    "random_forest_train_accuracy = accuracy_score(y_train, y_hat_train) * 100\n",
    "print('Train accuracy: {0}'.format(random_forest_train_accuracy))\n",
    "\n",
    "#test accuracy\n",
    "random_forest_test_accuracy = accuracy_score(y_test, y_hat_test) * 100\n",
    "print('Test accuracy: {0}'.format(random_forest_test_accuracy))\n",
    "\n",
    "#Train accuracy: 85.32407407407408\n",
    "#Test accuracy: 80.36195286195286"
   ]
  },
  {
   "cell_type": "code",
   "execution_count": 161,
   "metadata": {},
   "outputs": [
    {
     "name": "stdout",
     "output_type": "stream",
     "text": [
      "Train cross validation: 0.7952020202020201\n",
      "Test cross validation: 0.7677609427609429\n"
     ]
    }
   ],
   "source": [
    "#train cross validation\n",
    "random_forest_train_cv_score = cross_val_score(random_forest_clf, X_train, y_train, cv = 5, n_jobs = -1).mean()\n",
    "print('Train cross validation:', random_forest_train_cv_score)\n",
    "\n",
    "#test cross validation\n",
    "random_forest_test_cv_score = cross_val_score(random_forest_clf, X_test, y_test, cv = 5, n_jobs = -1).mean()\n",
    "print('Test cross validation:', random_forest_test_cv_score)"
   ]
  },
  {
   "cell_type": "code",
   "execution_count": 162,
   "metadata": {},
   "outputs": [
    {
     "name": "stdout",
     "output_type": "stream",
     "text": [
      "Mean Absolute Error: 0.2117845117845118\n",
      "Mean Squared Error: 0.24259259259259258\n",
      "Root Mean Squared Error: 0.4925368946511445\n"
     ]
    }
   ],
   "source": [
    "#evaluate with MAE, MSE, RMSE\n",
    "print('Mean Absolute Error:', mean_absolute_error(y_test, y_hat_test))  \n",
    "print('Mean Squared Error:', mean_squared_error(y_test, y_hat_test))  \n",
    "print('Root Mean Squared Error:', mean_squared_error(y_test, y_hat_test, squared = False))"
   ]
  },
  {
   "cell_type": "code",
   "execution_count": 163,
   "metadata": {
    "scrolled": true
   },
   "outputs": [
    {
     "name": "stdout",
     "output_type": "stream",
     "text": [
      "Model: Random Forest \n",
      "               precision    recall  f1-score   support\n",
      "\n",
      "           0       0.85      0.75      0.79      4614\n",
      "           1       0.79      0.92      0.85      6434\n",
      "           2       0.68      0.23      0.35       832\n",
      "\n",
      "    accuracy                           0.80     11880\n",
      "   macro avg       0.77      0.63      0.66     11880\n",
      "weighted avg       0.80      0.80      0.79     11880\n",
      "\n"
     ]
    }
   ],
   "source": [
    "#classification report\n",
    "random_forest_classification_report = classification_report(y_test, y_hat_test)\n",
    "print('Model: Random Forest', '\\n', random_forest_classification_report)"
   ]
  },
  {
   "cell_type": "code",
   "execution_count": 164,
   "metadata": {
    "scrolled": true
   },
   "outputs": [
    {
     "data": {
      "text/plain": [
       "<sklearn.metrics._plot.confusion_matrix.ConfusionMatrixDisplay at 0x7fea4976f220>"
      ]
     },
     "execution_count": 164,
     "metadata": {},
     "output_type": "execute_result"
    },
    {
     "data": {
      "image/png": "[encoded data removed]",
      "text/plain": [
       "<Figure size 432x288 with 2 Axes>"
      ]
     },
     "metadata": {
      "needs_background": "light"
     },
     "output_type": "display_data"
    }
   ],
   "source": [
    "#plot confusion matrix\n",
    "plot_confusion_matrix(random_forest_clf, X_test, y_test, cmap = plt.cm.Blues)"
   ]
  },
  {
   "cell_type": "code",
   "execution_count": 165,
   "metadata": {},
   "outputs": [
    {
     "name": "stdout",
     "output_type": "stream",
     "text": [
      "-0.00101010101010101\n",
      "0.26568578603090387\n"
     ]
    }
   ],
   "source": [
    "#get test bias and variance\n",
    "print(bias(y_test, y_hat_test))\n",
    "print(variance(y_hat_test))"
   ]
  },
  {
   "cell_type": "code",
   "execution_count": 166,
   "metadata": {},
   "outputs": [
    {
     "data": {
      "text/html": [
       "<div>\n",
       "<style scoped>\n",
       "    .dataframe tbody tr th:only-of-type {\n",
       "        vertical-align: middle;\n",
       "    }\n",
       "\n",
       "    .dataframe tbody tr th {\n",
       "        vertical-align: top;\n",
       "    }\n",
       "\n",
       "    .dataframe thead th {\n",
       "        text-align: right;\n",
       "    }\n",
       "</style>\n",
       "<table border=\"1\" class=\"dataframe\">\n",
       "  <thead>\n",
       "    <tr style=\"text-align: right;\">\n",
       "      <th></th>\n",
       "      <th>Model</th>\n",
       "      <th>Accuracy</th>\n",
       "      <th>CV</th>\n",
       "      <th>Precision</th>\n",
       "      <th>Recall</th>\n",
       "      <th>F1 Score</th>\n",
       "      <th>MAE</th>\n",
       "      <th>MSE</th>\n",
       "      <th>RMSE</th>\n",
       "      <th>AUC</th>\n",
       "      <th>Bias</th>\n",
       "      <th>Variance</th>\n",
       "    </tr>\n",
       "  </thead>\n",
       "  <tbody>\n",
       "    <tr>\n",
       "      <th>0</th>\n",
       "      <td>Imbalance Decision Tree</td>\n",
       "      <td>73.95</td>\n",
       "      <td>0.70</td>\n",
       "      <td>0.66</td>\n",
       "      <td>0.59</td>\n",
       "      <td>0.61</td>\n",
       "      <td>0.28</td>\n",
       "      <td>0.32</td>\n",
       "      <td>0.57</td>\n",
       "      <td>-</td>\n",
       "      <td>-0.013468</td>\n",
       "      <td>0.288045</td>\n",
       "    </tr>\n",
       "    <tr>\n",
       "      <th>1</th>\n",
       "      <td>Imbalance Logistic Regression</td>\n",
       "      <td>74.87</td>\n",
       "      <td>0.74</td>\n",
       "      <td>0.68</td>\n",
       "      <td>0.56</td>\n",
       "      <td>0.58</td>\n",
       "      <td>0.27</td>\n",
       "      <td>0.30</td>\n",
       "      <td>0.55</td>\n",
       "      <td>0.82</td>\n",
       "      <td>0.011700</td>\n",
       "      <td>0.249316</td>\n",
       "    </tr>\n",
       "    <tr>\n",
       "      <th>2</th>\n",
       "      <td>Imbalance KNN</td>\n",
       "      <td>78.96</td>\n",
       "      <td>0.73</td>\n",
       "      <td>0.70</td>\n",
       "      <td>0.66</td>\n",
       "      <td>0.68</td>\n",
       "      <td>0.23</td>\n",
       "      <td>0.28</td>\n",
       "      <td>0.52</td>\n",
       "      <td>-</td>\n",
       "      <td>0.008081</td>\n",
       "      <td>0.316022</td>\n",
       "    </tr>\n",
       "    <tr>\n",
       "      <th>3</th>\n",
       "      <td>Imbalance Bagged Tree</td>\n",
       "      <td>57.04</td>\n",
       "      <td>0.58</td>\n",
       "      <td>0.50</td>\n",
       "      <td>0.36</td>\n",
       "      <td>0.29</td>\n",
       "      <td>0.43</td>\n",
       "      <td>0.43</td>\n",
       "      <td>0.66</td>\n",
       "      <td>-</td>\n",
       "      <td>0.284848</td>\n",
       "      <td>0.032379</td>\n",
       "    </tr>\n",
       "    <tr>\n",
       "      <th>4</th>\n",
       "      <td>Imbalance Random Forest</td>\n",
       "      <td>80.36</td>\n",
       "      <td>0.77</td>\n",
       "      <td>0.77</td>\n",
       "      <td>0.63</td>\n",
       "      <td>0.66</td>\n",
       "      <td>0.21</td>\n",
       "      <td>0.24</td>\n",
       "      <td>0.49</td>\n",
       "      <td>-</td>\n",
       "      <td>-0.001010</td>\n",
       "      <td>0.265686</td>\n",
       "    </tr>\n",
       "  </tbody>\n",
       "</table>\n",
       "</div>"
      ],
      "text/plain": [
       "                           Model  Accuracy    CV  Precision  Recall  F1 Score  \\\n",
       "0        Imbalance Decision Tree     73.95  0.70       0.66    0.59      0.61   \n",
       "1  Imbalance Logistic Regression     74.87  0.74       0.68    0.56      0.58   \n",
       "2                  Imbalance KNN     78.96  0.73       0.70    0.66      0.68   \n",
       "3          Imbalance Bagged Tree     57.04  0.58       0.50    0.36      0.29   \n",
       "4        Imbalance Random Forest     80.36  0.77       0.77    0.63      0.66   \n",
       "\n",
       "    MAE   MSE  RMSE   AUC      Bias  Variance  \n",
       "0  0.28  0.32  0.57     - -0.013468  0.288045  \n",
       "1  0.27  0.30  0.55  0.82  0.011700  0.249316  \n",
       "2  0.23  0.28  0.52     -  0.008081  0.316022  \n",
       "3  0.43  0.43  0.66     -  0.284848  0.032379  \n",
       "4  0.21  0.24  0.49     - -0.001010  0.265686  "
      ]
     },
     "execution_count": 166,
     "metadata": {},
     "output_type": "execute_result"
    }
   ],
   "source": [
    "#summary table\n",
    "summary_table_1.loc[4] = ['Imbalance Random Forest',\n",
    "                        round(random_forest_test_accuracy, 2), round(random_forest_test_cv_score, 2), \n",
    "                        round(precision_score(y_test, y_hat_test, average = 'macro'), 2), round(recall_score(y_test, y_hat_test, average = 'macro'), 2), round(f1_score(y_test, y_hat_test, average = 'macro'), 2),\n",
    "                        round(mean_absolute_error(y_test, y_hat_test), 2), round(mean_squared_error(y_test, y_hat_test), 2), round(mean_squared_error(y_test, y_hat_test, squared = False), 2),\n",
    "                        '-', bias(y_test, y_hat_test), variance(y_hat_test)]\n",
    "summary_table_1.head()"
   ]
  },
  {
   "cell_type": "markdown",
   "metadata": {},
   "source": [
    "# Gradient Boosting"
   ]
  },
  {
   "cell_type": "code",
   "execution_count": 167,
   "metadata": {},
   "outputs": [
    {
     "name": "stdout",
     "output_type": "stream",
     "text": [
      "Train accuracy: 99.7138047138047\n",
      "Test accuracy: 80.08417508417509\n"
     ]
    }
   ],
   "source": [
    "#instantiate\n",
    "gradient_boost_clf = GradientBoostingClassifier(random_state = 21)\n",
    "\n",
    "#fit\n",
    "gradient_boost_clf.fit(X_train, y_train)\n",
    "\n",
    "#predict\n",
    "y_hat_train = gradient_boost_clf.predict(X_train)\n",
    "y_hat_test = gradient_boost_clf.predict(X_test)\n",
    "\n",
    "#train accuracy\n",
    "gradient_boost_train_accuracy = accuracy_score(y_train, y_hat_train) * 100\n",
    "print('Train accuracy: {0}'.format(gradient_boost_train_accuracy))\n",
    "\n",
    "#test accuracy\n",
    "gradient_boost_test_accuracy = accuracy_score(y_test, y_hat_test) * 100\n",
    "print('Test accuracy: {0}'.format(gradient_boost_test_accuracy))\n",
    "\n",
    "#Train accuracy: 99.7138047138047\n",
    "#Test accuracy: 80.08417508417509"
   ]
  },
  {
   "cell_type": "code",
   "execution_count": 168,
   "metadata": {},
   "outputs": [
    {
     "data": {
      "text/plain": [
       "{'learning_rate': 0.05, 'subsample': 0.5}"
      ]
     },
     "execution_count": 168,
     "metadata": {},
     "output_type": "execute_result"
    }
   ],
   "source": [
    "#set param grid\n",
    "gradient_boost_param_grid = {'learning_rate': [0.01, 0.025, 0.05],\n",
    "                             'subsample': [0.5, 0.8, 1.0]}\n",
    "\n",
    "#gridsearch\n",
    "gradient_boost_gridsearch = GridSearchCV(estimator = gradient_boost_clf,\n",
    "                                         param_grid = gradient_boost_param_grid, \n",
    "                                         scoring = 'accuracy',\n",
    "                                         n_jobs = -1,\n",
    "                                         cv = 5)\n",
    "\n",
    "#fit\n",
    "gradient_boost_gridsearch.fit(X_train, y_train)\n",
    "\n",
    "#best param\n",
    "gradient_boost_gridsearch.best_params_\n",
    "\n",
    "#'learning_rate': 0.05, \n",
    "#'subsample': 0.5"
   ]
  },
  {
   "cell_type": "code",
   "execution_count": 169,
   "metadata": {},
   "outputs": [
    {
     "name": "stdout",
     "output_type": "stream",
     "text": [
      "Train accuracy: 99.34343434343434\n",
      "Test accuracy: 81.1952861952862\n"
     ]
    }
   ],
   "source": [
    "#train a classifier with optimal values identified above\n",
    "gradient_boost_clf = GradientBoostingClassifier(random_state = 21,\n",
    "                                                max_depth = 40,\n",
    "                                                max_features = 'auto',\n",
    "                                                min_samples_leaf = 4,\n",
    "                                                min_samples_split = 8,\n",
    "                                                learning_rate = 0.05,\n",
    "                                                subsample = 0.5)\n",
    "\n",
    "#fit\n",
    "gradient_boost_clf.fit(X_train, y_train)\n",
    "\n",
    "#predict\n",
    "y_hat_train = gradient_boost_clf.predict(X_train)\n",
    "y_hat_test = gradient_boost_clf.predict(X_test)\n",
    "\n",
    "#train accuracy\n",
    "gradient_boost_train_accuracy = accuracy_score(y_train, y_hat_train) * 100\n",
    "print('Train accuracy: {0}'.format(gradient_boost_train_accuracy))\n",
    "\n",
    "#test accuracy\n",
    "gradient_boost_test_accuracy = accuracy_score(y_test, y_hat_test) * 100\n",
    "print('Test accuracy: {0}'.format(gradient_boost_test_accuracy))"
   ]
  },
  {
   "cell_type": "code",
   "execution_count": 170,
   "metadata": {},
   "outputs": [
    {
     "name": "stdout",
     "output_type": "stream",
     "text": [
      "Train cross validation: 0.8046717171717171\n",
      "Train cross validation: 0.7781986531986533\n"
     ]
    }
   ],
   "source": [
    "#train cross validation\n",
    "gradient_boost_train_cv_score = cross_val_score(gradient_boost_clf, X_train, y_train, cv = 5, n_jobs = -1).mean()\n",
    "print('Train cross validation:', gradient_boost_train_cv_score)\n",
    "\n",
    "#test cross validation\n",
    "gradient_boost_test_cv_score = cross_val_score(gradient_boost_clf, X_test, y_test, cv = 5, n_jobs = -1).mean()\n",
    "print('Train cross validation:', gradient_boost_test_cv_score)"
   ]
  },
  {
   "cell_type": "code",
   "execution_count": 171,
   "metadata": {},
   "outputs": [
    {
     "name": "stdout",
     "output_type": "stream",
     "text": [
      "Mean Absolute Error: 0.2048821548821549\n",
      "Mean Squared Error: 0.23855218855218854\n",
      "Root Mean Squared Error: 0.48841804691492363\n"
     ]
    }
   ],
   "source": [
    "#evaluate\n",
    "print('Mean Absolute Error:', mean_absolute_error(y_test, y_hat_test))  \n",
    "print('Mean Squared Error:', mean_squared_error(y_test, y_hat_test))  \n",
    "print('Root Mean Squared Error:', mean_squared_error(y_test, y_hat_test, squared = False))"
   ]
  },
  {
   "cell_type": "code",
   "execution_count": 172,
   "metadata": {
    "scrolled": true
   },
   "outputs": [
    {
     "name": "stdout",
     "output_type": "stream",
     "text": [
      "Model: Gradient Boosting \n",
      "               precision    recall  f1-score   support\n",
      "\n",
      "           0       0.85      0.79      0.82      4614\n",
      "           1       0.81      0.89      0.85      6434\n",
      "           2       0.53      0.34      0.42       832\n",
      "\n",
      "    accuracy                           0.81     11880\n",
      "   macro avg       0.73      0.67      0.69     11880\n",
      "weighted avg       0.81      0.81      0.81     11880\n",
      "\n"
     ]
    }
   ],
   "source": [
    "#classification report\n",
    "gradient_boost_classification_report = classification_report(y_test, y_hat_test)\n",
    "print('Model: Gradient Boosting', '\\n', gradient_boost_classification_report)"
   ]
  },
  {
   "cell_type": "code",
   "execution_count": 173,
   "metadata": {
    "scrolled": true
   },
   "outputs": [
    {
     "data": {
      "text/plain": [
       "<sklearn.metrics._plot.confusion_matrix.ConfusionMatrixDisplay at 0x7fe9d2276bb0>"
      ]
     },
     "execution_count": 173,
     "metadata": {},
     "output_type": "execute_result"
    },
    {
     "data": {
      "image/png": "[encoded data removed]",
      "text/plain": [
       "<Figure size 432x288 with 2 Axes>"
      ]
     },
     "metadata": {
      "needs_background": "light"
     },
     "output_type": "display_data"
    }
   ],
   "source": [
    "#plot confusion matrix\n",
    "plot_confusion_matrix(gradient_boost_clf, X_test, y_test, cmap = plt.cm.Blues)"
   ]
  },
  {
   "cell_type": "code",
   "execution_count": 174,
   "metadata": {},
   "outputs": [
    {
     "name": "stdout",
     "output_type": "stream",
     "text": [
      "0.0011784511784511784\n",
      "0.3066411590654015\n"
     ]
    }
   ],
   "source": [
    "#get test bias and variance\n",
    "print(bias(y_test, y_hat_test))\n",
    "print(variance(y_hat_test))"
   ]
  },
  {
   "cell_type": "code",
   "execution_count": 175,
   "metadata": {},
   "outputs": [
    {
     "data": {
      "text/html": [
       "<div>\n",
       "<style scoped>\n",
       "    .dataframe tbody tr th:only-of-type {\n",
       "        vertical-align: middle;\n",
       "    }\n",
       "\n",
       "    .dataframe tbody tr th {\n",
       "        vertical-align: top;\n",
       "    }\n",
       "\n",
       "    .dataframe thead th {\n",
       "        text-align: right;\n",
       "    }\n",
       "</style>\n",
       "<table border=\"1\" class=\"dataframe\">\n",
       "  <thead>\n",
       "    <tr style=\"text-align: right;\">\n",
       "      <th></th>\n",
       "      <th>Model</th>\n",
       "      <th>Accuracy</th>\n",
       "      <th>CV</th>\n",
       "      <th>Precision</th>\n",
       "      <th>Recall</th>\n",
       "      <th>F1 Score</th>\n",
       "      <th>MAE</th>\n",
       "      <th>MSE</th>\n",
       "      <th>RMSE</th>\n",
       "      <th>AUC</th>\n",
       "      <th>Bias</th>\n",
       "      <th>Variance</th>\n",
       "    </tr>\n",
       "  </thead>\n",
       "  <tbody>\n",
       "    <tr>\n",
       "      <th>0</th>\n",
       "      <td>Imbalance Decision Tree</td>\n",
       "      <td>73.95</td>\n",
       "      <td>0.70</td>\n",
       "      <td>0.66</td>\n",
       "      <td>0.59</td>\n",
       "      <td>0.61</td>\n",
       "      <td>0.28</td>\n",
       "      <td>0.32</td>\n",
       "      <td>0.57</td>\n",
       "      <td>-</td>\n",
       "      <td>-0.013468</td>\n",
       "      <td>0.288045</td>\n",
       "    </tr>\n",
       "    <tr>\n",
       "      <th>1</th>\n",
       "      <td>Imbalance Logistic Regression</td>\n",
       "      <td>74.87</td>\n",
       "      <td>0.74</td>\n",
       "      <td>0.68</td>\n",
       "      <td>0.56</td>\n",
       "      <td>0.58</td>\n",
       "      <td>0.27</td>\n",
       "      <td>0.30</td>\n",
       "      <td>0.55</td>\n",
       "      <td>0.82</td>\n",
       "      <td>0.011700</td>\n",
       "      <td>0.249316</td>\n",
       "    </tr>\n",
       "    <tr>\n",
       "      <th>2</th>\n",
       "      <td>Imbalance KNN</td>\n",
       "      <td>78.96</td>\n",
       "      <td>0.73</td>\n",
       "      <td>0.70</td>\n",
       "      <td>0.66</td>\n",
       "      <td>0.68</td>\n",
       "      <td>0.23</td>\n",
       "      <td>0.28</td>\n",
       "      <td>0.52</td>\n",
       "      <td>-</td>\n",
       "      <td>0.008081</td>\n",
       "      <td>0.316022</td>\n",
       "    </tr>\n",
       "    <tr>\n",
       "      <th>3</th>\n",
       "      <td>Imbalance Bagged Tree</td>\n",
       "      <td>57.04</td>\n",
       "      <td>0.58</td>\n",
       "      <td>0.50</td>\n",
       "      <td>0.36</td>\n",
       "      <td>0.29</td>\n",
       "      <td>0.43</td>\n",
       "      <td>0.43</td>\n",
       "      <td>0.66</td>\n",
       "      <td>-</td>\n",
       "      <td>0.284848</td>\n",
       "      <td>0.032379</td>\n",
       "    </tr>\n",
       "    <tr>\n",
       "      <th>4</th>\n",
       "      <td>Imbalance Random Forest</td>\n",
       "      <td>80.36</td>\n",
       "      <td>0.77</td>\n",
       "      <td>0.77</td>\n",
       "      <td>0.63</td>\n",
       "      <td>0.66</td>\n",
       "      <td>0.21</td>\n",
       "      <td>0.24</td>\n",
       "      <td>0.49</td>\n",
       "      <td>-</td>\n",
       "      <td>-0.001010</td>\n",
       "      <td>0.265686</td>\n",
       "    </tr>\n",
       "  </tbody>\n",
       "</table>\n",
       "</div>"
      ],
      "text/plain": [
       "                           Model  Accuracy    CV  Precision  Recall  F1 Score  \\\n",
       "0        Imbalance Decision Tree     73.95  0.70       0.66    0.59      0.61   \n",
       "1  Imbalance Logistic Regression     74.87  0.74       0.68    0.56      0.58   \n",
       "2                  Imbalance KNN     78.96  0.73       0.70    0.66      0.68   \n",
       "3          Imbalance Bagged Tree     57.04  0.58       0.50    0.36      0.29   \n",
       "4        Imbalance Random Forest     80.36  0.77       0.77    0.63      0.66   \n",
       "\n",
       "    MAE   MSE  RMSE   AUC      Bias  Variance  \n",
       "0  0.28  0.32  0.57     - -0.013468  0.288045  \n",
       "1  0.27  0.30  0.55  0.82  0.011700  0.249316  \n",
       "2  0.23  0.28  0.52     -  0.008081  0.316022  \n",
       "3  0.43  0.43  0.66     -  0.284848  0.032379  \n",
       "4  0.21  0.24  0.49     - -0.001010  0.265686  "
      ]
     },
     "execution_count": 175,
     "metadata": {},
     "output_type": "execute_result"
    }
   ],
   "source": [
    "#summary table\n",
    "summary_table_1.loc[5] = ['Imbalance Gradient Boost',\n",
    "                        round(gradient_boost_test_accuracy, 2), round(gradient_boost_test_cv_score, 2), \n",
    "                        round(precision_score(y_test, y_hat_test, average = 'macro'), 2), round(recall_score(y_test, y_hat_test, average = 'macro'), 2), round(f1_score(y_test, y_hat_test, average = 'macro'), 2),\n",
    "                        round(mean_absolute_error(y_test, y_hat_test), 2), round(mean_squared_error(y_test, y_hat_test), 2), round(mean_squared_error(y_test, y_hat_test, squared = False), 2),\n",
    "                        '-', bias(y_test, y_hat_test), variance(y_hat_test)]\n",
    "summary_table_1.head(10)"
   ]
  },
  {
   "cell_type": "markdown",
   "metadata": {},
   "source": [
    "# AdaBoost"
   ]
  },
  {
   "cell_type": "code",
   "execution_count": 176,
   "metadata": {},
   "outputs": [
    {
     "name": "stdout",
     "output_type": "stream",
     "text": [
      "Train accuracy: 72.01599326599326 \n",
      "Test accuracy: 71.7929292929293 \n"
     ]
    }
   ],
   "source": [
    "#instantiate baseline model\n",
    "adaboost_clf = AdaBoostClassifier(random_state = 21)\n",
    "\n",
    "#fit\n",
    "adaboost_clf.fit(X_train, y_train)\n",
    "\n",
    "#predict\n",
    "y_hat_train = adaboost_clf.predict(X_train)\n",
    "y_hat_test = adaboost_clf.predict(X_test)\n",
    "\n",
    "#train accuracy\n",
    "adaboost_train_accuracy = accuracy_score(y_train, y_hat_train) * 100\n",
    "print('Train accuracy: {0} '.format(adaboost_train_accuracy))\n",
    "\n",
    "#test accuracy\n",
    "adaboost_test_accuracy = accuracy_score(y_test, y_hat_test) * 100\n",
    "print('Test accuracy: {0} '.format(adaboost_test_accuracy))"
   ]
  },
  {
   "cell_type": "code",
   "execution_count": 177,
   "metadata": {},
   "outputs": [
    {
     "data": {
      "text/plain": [
       "{'learning_rate': 0.05, 'n_estimators': 100}"
      ]
     },
     "execution_count": 177,
     "metadata": {},
     "output_type": "execute_result"
    }
   ],
   "source": [
    "#param\n",
    "adaboost_param_grid = {'learning_rate': [0.01, 0.025, 0.05],\n",
    "                       'n_estimators' : [20, 50, 100]}\n",
    "\n",
    "#gridsearch\n",
    "adaboost_gridsearch = GridSearchCV(estimator = adaboost_clf,\n",
    "                                   param_grid = adaboost_param_grid,\n",
    "                                   scoring = 'accuracy',\n",
    "                                   n_jobs = -1,\n",
    "                                   cv = 5)\n",
    "\n",
    "#fit\n",
    "adaboost_gridsearch.fit(X_train, y_train)\n",
    "\n",
    "#best param\n",
    "adaboost_gridsearch.best_params_\n",
    "\n",
    "#'learning_rate': 0.05, \n",
    "#'n_estimators': 100"
   ]
  },
  {
   "cell_type": "code",
   "execution_count": 178,
   "metadata": {},
   "outputs": [
    {
     "name": "stdout",
     "output_type": "stream",
     "text": [
      "Train accuracy: 65.13468013468014\n",
      "Test accuracy: 64.99158249158249\n"
     ]
    }
   ],
   "source": [
    "#train a classifier with optimal values identified above\n",
    "adaboost_clf = AdaBoostClassifier(random_state = 21,\n",
    "                                  learning_rate = 0.05,\n",
    "                                  n_estimators = 100)\n",
    "\n",
    "#fit\n",
    "adaboost_clf.fit(X_train, y_train)\n",
    "\n",
    "#predict\n",
    "y_hat_train = adaboost_clf.predict(X_train)\n",
    "y_hat_test = adaboost_clf.predict(X_test)\n",
    "\n",
    "#train accuracy\n",
    "adaboost_train_accuracy = accuracy_score(y_train, y_hat_train) * 100\n",
    "print('Train accuracy:', adaboost_train_accuracy)\n",
    "\n",
    "#test accuracy\n",
    "adaboost_test_accuracy = accuracy_score(y_test, y_hat_test) * 100\n",
    "print('Test accuracy:', adaboost_test_accuracy)"
   ]
  },
  {
   "cell_type": "code",
   "execution_count": 179,
   "metadata": {},
   "outputs": [
    {
     "name": "stdout",
     "output_type": "stream",
     "text": [
      "Train cross validation: 0.6528409090909091\n",
      "Test cross validation: 0.647895622895623\n"
     ]
    }
   ],
   "source": [
    "#train cross validation\n",
    "adaboost_train_cv_score = cross_val_score(adaboost_clf, X_train, y_train, cv = 5, n_jobs = -1).mean()\n",
    "print('Train cross validation:', adaboost_train_cv_score)\n",
    "\n",
    "#test cross validation\n",
    "adaboost_test_cv_score = cross_val_score(adaboost_clf, X_test, y_test, cv = 5, n_jobs = -1).mean()\n",
    "print('Test cross validation:', adaboost_test_cv_score)"
   ]
  },
  {
   "cell_type": "code",
   "execution_count": 180,
   "metadata": {},
   "outputs": [
    {
     "name": "stdout",
     "output_type": "stream",
     "text": [
      "Mean Absolute Error: 0.35723905723905724\n",
      "Mean Squared Error: 0.3715488215488216\n",
      "Root Mean Squared Error: 0.6095480469567773\n"
     ]
    }
   ],
   "source": [
    "#evaluate with MAE, MSE, RMSE\n",
    "print('Mean Absolute Error:', mean_absolute_error(y_test, y_hat_test))  \n",
    "print('Mean Squared Error:', mean_squared_error(y_test, y_hat_test))  \n",
    "print('Root Mean Squared Error:', mean_squared_error(y_test, y_hat_test, squared = False))"
   ]
  },
  {
   "cell_type": "code",
   "execution_count": 181,
   "metadata": {},
   "outputs": [
    {
     "name": "stdout",
     "output_type": "stream",
     "text": [
      "Model: adaBoost \n",
      "               precision    recall  f1-score   support\n",
      "\n",
      "           0       0.77      0.37      0.50      4614\n",
      "           1       0.62      0.93      0.75      6434\n",
      "           2       0.00      0.00      0.00       832\n",
      "\n",
      "    accuracy                           0.65     11880\n",
      "   macro avg       0.46      0.44      0.42     11880\n",
      "weighted avg       0.63      0.65      0.60     11880\n",
      "\n"
     ]
    }
   ],
   "source": [
    "#classification report\n",
    "adaboost_classification_report = classification_report(y_test, y_hat_test)\n",
    "print('Model: adaBoost', '\\n', adaboost_classification_report)"
   ]
  },
  {
   "cell_type": "code",
   "execution_count": 182,
   "metadata": {
    "scrolled": true
   },
   "outputs": [
    {
     "data": {
      "text/plain": [
       "<sklearn.metrics._plot.confusion_matrix.ConfusionMatrixDisplay at 0x7fea60bcb220>"
      ]
     },
     "execution_count": 182,
     "metadata": {},
     "output_type": "execute_result"
    },
    {
     "data": {
      "image/png": "[encoded data removed]",
      "text/plain": [
       "<Figure size 432x288 with 2 Axes>"
      ]
     },
     "metadata": {
      "needs_background": "light"
     },
     "output_type": "display_data"
    }
   ],
   "source": [
    "#plot confusion matrix\n",
    "plot_confusion_matrix(adaboost_clf, X_test, y_test, cmap = plt.cm.Blues)"
   ]
  },
  {
   "cell_type": "code",
   "execution_count": 183,
   "metadata": {},
   "outputs": [
    {
     "name": "stdout",
     "output_type": "stream",
     "text": [
      "0.12845117845117845\n",
      "0.1538373635343332\n"
     ]
    }
   ],
   "source": [
    "#get test bias and variance\n",
    "print(bias(y_test, y_hat_test))\n",
    "print(variance(y_hat_test))"
   ]
  },
  {
   "cell_type": "code",
   "execution_count": 184,
   "metadata": {},
   "outputs": [
    {
     "data": {
      "text/html": [
       "<div>\n",
       "<style scoped>\n",
       "    .dataframe tbody tr th:only-of-type {\n",
       "        vertical-align: middle;\n",
       "    }\n",
       "\n",
       "    .dataframe tbody tr th {\n",
       "        vertical-align: top;\n",
       "    }\n",
       "\n",
       "    .dataframe thead th {\n",
       "        text-align: right;\n",
       "    }\n",
       "</style>\n",
       "<table border=\"1\" class=\"dataframe\">\n",
       "  <thead>\n",
       "    <tr style=\"text-align: right;\">\n",
       "      <th></th>\n",
       "      <th>Model</th>\n",
       "      <th>Accuracy</th>\n",
       "      <th>CV</th>\n",
       "      <th>Precision</th>\n",
       "      <th>Recall</th>\n",
       "      <th>F1 Score</th>\n",
       "      <th>MAE</th>\n",
       "      <th>MSE</th>\n",
       "      <th>RMSE</th>\n",
       "      <th>AUC</th>\n",
       "      <th>Bias</th>\n",
       "      <th>Variance</th>\n",
       "    </tr>\n",
       "  </thead>\n",
       "  <tbody>\n",
       "    <tr>\n",
       "      <th>0</th>\n",
       "      <td>Imbalance Decision Tree</td>\n",
       "      <td>73.95</td>\n",
       "      <td>0.70</td>\n",
       "      <td>0.66</td>\n",
       "      <td>0.59</td>\n",
       "      <td>0.61</td>\n",
       "      <td>0.28</td>\n",
       "      <td>0.32</td>\n",
       "      <td>0.57</td>\n",
       "      <td>-</td>\n",
       "      <td>-0.013468</td>\n",
       "      <td>0.288045</td>\n",
       "    </tr>\n",
       "    <tr>\n",
       "      <th>1</th>\n",
       "      <td>Imbalance Logistic Regression</td>\n",
       "      <td>74.87</td>\n",
       "      <td>0.74</td>\n",
       "      <td>0.68</td>\n",
       "      <td>0.56</td>\n",
       "      <td>0.58</td>\n",
       "      <td>0.27</td>\n",
       "      <td>0.30</td>\n",
       "      <td>0.55</td>\n",
       "      <td>0.82</td>\n",
       "      <td>0.011700</td>\n",
       "      <td>0.249316</td>\n",
       "    </tr>\n",
       "    <tr>\n",
       "      <th>2</th>\n",
       "      <td>Imbalance KNN</td>\n",
       "      <td>78.96</td>\n",
       "      <td>0.73</td>\n",
       "      <td>0.70</td>\n",
       "      <td>0.66</td>\n",
       "      <td>0.68</td>\n",
       "      <td>0.23</td>\n",
       "      <td>0.28</td>\n",
       "      <td>0.52</td>\n",
       "      <td>-</td>\n",
       "      <td>0.008081</td>\n",
       "      <td>0.316022</td>\n",
       "    </tr>\n",
       "    <tr>\n",
       "      <th>3</th>\n",
       "      <td>Imbalance Bagged Tree</td>\n",
       "      <td>57.04</td>\n",
       "      <td>0.58</td>\n",
       "      <td>0.50</td>\n",
       "      <td>0.36</td>\n",
       "      <td>0.29</td>\n",
       "      <td>0.43</td>\n",
       "      <td>0.43</td>\n",
       "      <td>0.66</td>\n",
       "      <td>-</td>\n",
       "      <td>0.284848</td>\n",
       "      <td>0.032379</td>\n",
       "    </tr>\n",
       "    <tr>\n",
       "      <th>4</th>\n",
       "      <td>Imbalance Random Forest</td>\n",
       "      <td>80.36</td>\n",
       "      <td>0.77</td>\n",
       "      <td>0.77</td>\n",
       "      <td>0.63</td>\n",
       "      <td>0.66</td>\n",
       "      <td>0.21</td>\n",
       "      <td>0.24</td>\n",
       "      <td>0.49</td>\n",
       "      <td>-</td>\n",
       "      <td>-0.001010</td>\n",
       "      <td>0.265686</td>\n",
       "    </tr>\n",
       "  </tbody>\n",
       "</table>\n",
       "</div>"
      ],
      "text/plain": [
       "                           Model  Accuracy    CV  Precision  Recall  F1 Score  \\\n",
       "0        Imbalance Decision Tree     73.95  0.70       0.66    0.59      0.61   \n",
       "1  Imbalance Logistic Regression     74.87  0.74       0.68    0.56      0.58   \n",
       "2                  Imbalance KNN     78.96  0.73       0.70    0.66      0.68   \n",
       "3          Imbalance Bagged Tree     57.04  0.58       0.50    0.36      0.29   \n",
       "4        Imbalance Random Forest     80.36  0.77       0.77    0.63      0.66   \n",
       "\n",
       "    MAE   MSE  RMSE   AUC      Bias  Variance  \n",
       "0  0.28  0.32  0.57     - -0.013468  0.288045  \n",
       "1  0.27  0.30  0.55  0.82  0.011700  0.249316  \n",
       "2  0.23  0.28  0.52     -  0.008081  0.316022  \n",
       "3  0.43  0.43  0.66     -  0.284848  0.032379  \n",
       "4  0.21  0.24  0.49     - -0.001010  0.265686  "
      ]
     },
     "execution_count": 184,
     "metadata": {},
     "output_type": "execute_result"
    }
   ],
   "source": [
    "#summary table\n",
    "summary_table_1.loc[6] = ['Imbalance ADABoost',\n",
    "                        round(adaboost_test_accuracy, 2), round(adaboost_test_cv_score, 2), \n",
    "                        round(precision_score(y_test, y_hat_test, average = 'macro'), 2), round(recall_score(y_test, y_hat_test, average = 'macro'), 2), round(f1_score(y_test, y_hat_test, average = 'macro'), 2),\n",
    "                        round(mean_absolute_error(y_test, y_hat_test), 2), round(mean_squared_error(y_test, y_hat_test), 2), round(mean_squared_error(y_test, y_hat_test, squared = False), 2),\n",
    "                        '-', bias(y_test, y_hat_test), variance(y_hat_test)]\n",
    "summary_table_1.head(10)"
   ]
  },
  {
   "cell_type": "markdown",
   "metadata": {},
   "source": [
    "# XGBoost"
   ]
  },
  {
   "cell_type": "code",
   "execution_count": 185,
   "metadata": {},
   "outputs": [
    {
     "name": "stdout",
     "output_type": "stream",
     "text": [
      "Train accuracy: 83.89941077441078\n",
      "Test accuracy: 80.1936026936027\n"
     ]
    }
   ],
   "source": [
    "#instantiate baseline model\n",
    "xgb_clf = xgb.XGBClassifier(random_state = 21)\n",
    "\n",
    "#train a classifier with optimal values identified above\n",
    "xgb_clf = xgb.XGBClassifier(random_state = 21)\n",
    "\n",
    "#fit\n",
    "xgb_clf.fit(X_train, y_train)\n",
    "\n",
    "#predict\n",
    "y_hat_train = xgb_clf.predict(X_train)\n",
    "y_hat_test = xgb_clf.predict(X_test)\n",
    "\n",
    "#train accuracy\n",
    "xgb_train_accuracy = accuracy_score(y_train, y_hat_train) * 100\n",
    "print('Train accuracy:', xgb_train_accuracy)\n",
    "\n",
    "#test accuracy\n",
    "xgb_test_accuracy = accuracy_score(y_test, y_hat_test) * 100\n",
    "print('Test accuracy:', xgb_test_accuracy)\n",
    "\n",
    "#Train accuracy: 83.89941077441078\n",
    "#Test accuracy: 80.1936026936027"
   ]
  },
  {
   "cell_type": "code",
   "execution_count": 186,
   "metadata": {},
   "outputs": [
    {
     "data": {
      "text/plain": [
       "{'booster': 'gbtree', 'min_child_weight': 3}"
      ]
     },
     "execution_count": 186,
     "metadata": {},
     "output_type": "execute_result"
    }
   ],
   "source": [
    "#set param grid\n",
    "xgb_param_grid = {'booster' : ['gbtree', 'gblinear'],\n",
    "                  'min_child_weight' : [1, 3, 5]}\n",
    "\n",
    "#gridsearch\n",
    "xgb_gridsearch = GridSearchCV(estimator = xgb_clf, \n",
    "                                        param_grid = xgb_param_grid,\n",
    "                                        scoring = 'accuracy', cv = 5,\n",
    "                                        n_jobs = -1)\n",
    "\n",
    "#fit\n",
    "xgb_gridsearch.fit(X_train, y_train)\n",
    "\n",
    "#best param\n",
    "xgb_gridsearch.best_params_\n",
    "\n",
    "#'booster': 'gbtree', \n",
    "#'min_child_weight': 3"
   ]
  },
  {
   "cell_type": "code",
   "execution_count": 189,
   "metadata": {},
   "outputs": [
    {
     "name": "stdout",
     "output_type": "stream",
     "text": [
      "Train accuracy: 83.5016835016835\n",
      "Test accuracy: 80.3114478114478\n"
     ]
    }
   ],
   "source": [
    "#train a classifier with optimal values identified above\n",
    "xgb_clf = xgb.XGBClassifier(random_state = 21,\n",
    "                            booster = 'gbtree', \n",
    "                            min_child_weight = 3)\n",
    "\n",
    "#fit\n",
    "xgb_clf.fit(X_train, y_train)\n",
    "\n",
    "#predict\n",
    "y_hat_train = xgb_clf.predict(X_train)\n",
    "y_hat_test = xgb_clf.predict(X_test)\n",
    "\n",
    "#train accuracy\n",
    "xgb_train_accuracy = accuracy_score(y_train, y_hat_train) * 100\n",
    "print('Train accuracy:', xgb_train_accuracy)\n",
    "\n",
    "#test accuracy\n",
    "xgb_test_accuracy = accuracy_score(y_test, y_hat_test) * 100\n",
    "print('Test accuracy:', xgb_test_accuracy)\n",
    "\n",
    "#Train accuracy: 83.5016835016835\n",
    "#Test accuracy: 80.3114478114478"
   ]
  },
  {
   "cell_type": "code",
   "execution_count": 190,
   "metadata": {},
   "outputs": [
    {
     "name": "stdout",
     "output_type": "stream",
     "text": [
      "Train cross validation: 0.795496632996633\n",
      "Test cross validation: 0.7791245791245791\n"
     ]
    }
   ],
   "source": [
    "#train cross validation\n",
    "xgb_train_cv_score = cross_val_score(xgb_clf, X_train, y_train, cv = 5, n_jobs = -1).mean()\n",
    "print('Train cross validation:', xgb_train_cv_score)\n",
    "\n",
    "#test cross validation\n",
    "xgb_test_cv_score = cross_val_score(xgb_clf, X_test, y_test, cv = 5, n_jobs = -1).mean()\n",
    "print('Test cross validation:', xgb_test_cv_score)"
   ]
  },
  {
   "cell_type": "code",
   "execution_count": 191,
   "metadata": {},
   "outputs": [
    {
     "name": "stdout",
     "output_type": "stream",
     "text": [
      "Mean Absolute Error: 0.21102693602693604\n",
      "Mean Squared Error: 0.2393097643097643\n",
      "Root Mean Squared Error: 0.4891929724656358\n"
     ]
    }
   ],
   "source": [
    "#evaluate with MAE, MSE, RMSE\n",
    "print('Mean Absolute Error:', mean_absolute_error(y_test, y_hat_test))  \n",
    "print('Mean Squared Error:', mean_squared_error(y_test, y_hat_test))  \n",
    "print('Root Mean Squared Error:', mean_squared_error(y_test, y_hat_test, squared = False))"
   ]
  },
  {
   "cell_type": "code",
   "execution_count": 192,
   "metadata": {},
   "outputs": [
    {
     "name": "stdout",
     "output_type": "stream",
     "text": [
      "Model: adaBoost \n",
      "               precision    recall  f1-score   support\n",
      "\n",
      "           0       0.85      0.75      0.80      4614\n",
      "           1       0.78      0.92      0.84      6434\n",
      "           2       0.65      0.24      0.35       832\n",
      "\n",
      "    accuracy                           0.80     11880\n",
      "   macro avg       0.76      0.63      0.66     11880\n",
      "weighted avg       0.80      0.80      0.79     11880\n",
      "\n"
     ]
    }
   ],
   "source": [
    "#classification report\n",
    "xgb_classification_report = classification_report(y_test, y_hat_test)\n",
    "print('Model: adaBoost', '\\n', xgb_classification_report)"
   ]
  },
  {
   "cell_type": "code",
   "execution_count": 193,
   "metadata": {
    "scrolled": true
   },
   "outputs": [
    {
     "data": {
      "text/plain": [
       "<sklearn.metrics._plot.confusion_matrix.ConfusionMatrixDisplay at 0x7fea60f83c40>"
      ]
     },
     "execution_count": 193,
     "metadata": {},
     "output_type": "execute_result"
    },
    {
     "data": {
      "image/png": "[encoded data removed]",
      "text/plain": [
       "<Figure size 432x288 with 2 Axes>"
      ]
     },
     "metadata": {
      "needs_background": "light"
     },
     "output_type": "display_data"
    }
   ],
   "source": [
    "#plot confusion matrix\n",
    "plot_confusion_matrix(xgb_clf, X_test, y_test, cmap = plt.cm.Blues)"
   ]
  },
  {
   "cell_type": "code",
   "execution_count": 194,
   "metadata": {},
   "outputs": [
    {
     "name": "stdout",
     "output_type": "stream",
     "text": [
      "0.0031144781144781144\n",
      "0.26670390067906896\n"
     ]
    }
   ],
   "source": [
    "#get test bias and variance\n",
    "print(bias(y_test, y_hat_test))\n",
    "print(variance(y_hat_test))"
   ]
  },
  {
   "cell_type": "code",
   "execution_count": 195,
   "metadata": {},
   "outputs": [
    {
     "data": {
      "text/html": [
       "<div>\n",
       "<style scoped>\n",
       "    .dataframe tbody tr th:only-of-type {\n",
       "        vertical-align: middle;\n",
       "    }\n",
       "\n",
       "    .dataframe tbody tr th {\n",
       "        vertical-align: top;\n",
       "    }\n",
       "\n",
       "    .dataframe thead th {\n",
       "        text-align: right;\n",
       "    }\n",
       "</style>\n",
       "<table border=\"1\" class=\"dataframe\">\n",
       "  <thead>\n",
       "    <tr style=\"text-align: right;\">\n",
       "      <th></th>\n",
       "      <th>Model</th>\n",
       "      <th>Accuracy</th>\n",
       "      <th>CV</th>\n",
       "      <th>Precision</th>\n",
       "      <th>Recall</th>\n",
       "      <th>F1 Score</th>\n",
       "      <th>MAE</th>\n",
       "      <th>MSE</th>\n",
       "      <th>RMSE</th>\n",
       "      <th>AUC</th>\n",
       "      <th>Bias</th>\n",
       "      <th>Variance</th>\n",
       "    </tr>\n",
       "  </thead>\n",
       "  <tbody>\n",
       "    <tr>\n",
       "      <th>0</th>\n",
       "      <td>Imbalance Decision Tree</td>\n",
       "      <td>73.95</td>\n",
       "      <td>0.70</td>\n",
       "      <td>0.66</td>\n",
       "      <td>0.59</td>\n",
       "      <td>0.61</td>\n",
       "      <td>0.28</td>\n",
       "      <td>0.32</td>\n",
       "      <td>0.57</td>\n",
       "      <td>-</td>\n",
       "      <td>-0.013468</td>\n",
       "      <td>0.288045</td>\n",
       "    </tr>\n",
       "    <tr>\n",
       "      <th>1</th>\n",
       "      <td>Imbalance Logistic Regression</td>\n",
       "      <td>74.87</td>\n",
       "      <td>0.74</td>\n",
       "      <td>0.68</td>\n",
       "      <td>0.56</td>\n",
       "      <td>0.58</td>\n",
       "      <td>0.27</td>\n",
       "      <td>0.30</td>\n",
       "      <td>0.55</td>\n",
       "      <td>0.82</td>\n",
       "      <td>0.011700</td>\n",
       "      <td>0.249316</td>\n",
       "    </tr>\n",
       "    <tr>\n",
       "      <th>2</th>\n",
       "      <td>Imbalance KNN</td>\n",
       "      <td>78.96</td>\n",
       "      <td>0.73</td>\n",
       "      <td>0.70</td>\n",
       "      <td>0.66</td>\n",
       "      <td>0.68</td>\n",
       "      <td>0.23</td>\n",
       "      <td>0.28</td>\n",
       "      <td>0.52</td>\n",
       "      <td>-</td>\n",
       "      <td>0.008081</td>\n",
       "      <td>0.316022</td>\n",
       "    </tr>\n",
       "    <tr>\n",
       "      <th>3</th>\n",
       "      <td>Imbalance Bagged Tree</td>\n",
       "      <td>57.04</td>\n",
       "      <td>0.58</td>\n",
       "      <td>0.50</td>\n",
       "      <td>0.36</td>\n",
       "      <td>0.29</td>\n",
       "      <td>0.43</td>\n",
       "      <td>0.43</td>\n",
       "      <td>0.66</td>\n",
       "      <td>-</td>\n",
       "      <td>0.284848</td>\n",
       "      <td>0.032379</td>\n",
       "    </tr>\n",
       "    <tr>\n",
       "      <th>4</th>\n",
       "      <td>Imbalance Random Forest</td>\n",
       "      <td>80.36</td>\n",
       "      <td>0.77</td>\n",
       "      <td>0.77</td>\n",
       "      <td>0.63</td>\n",
       "      <td>0.66</td>\n",
       "      <td>0.21</td>\n",
       "      <td>0.24</td>\n",
       "      <td>0.49</td>\n",
       "      <td>-</td>\n",
       "      <td>-0.001010</td>\n",
       "      <td>0.265686</td>\n",
       "    </tr>\n",
       "  </tbody>\n",
       "</table>\n",
       "</div>"
      ],
      "text/plain": [
       "                           Model  Accuracy    CV  Precision  Recall  F1 Score  \\\n",
       "0        Imbalance Decision Tree     73.95  0.70       0.66    0.59      0.61   \n",
       "1  Imbalance Logistic Regression     74.87  0.74       0.68    0.56      0.58   \n",
       "2                  Imbalance KNN     78.96  0.73       0.70    0.66      0.68   \n",
       "3          Imbalance Bagged Tree     57.04  0.58       0.50    0.36      0.29   \n",
       "4        Imbalance Random Forest     80.36  0.77       0.77    0.63      0.66   \n",
       "\n",
       "    MAE   MSE  RMSE   AUC      Bias  Variance  \n",
       "0  0.28  0.32  0.57     - -0.013468  0.288045  \n",
       "1  0.27  0.30  0.55  0.82  0.011700  0.249316  \n",
       "2  0.23  0.28  0.52     -  0.008081  0.316022  \n",
       "3  0.43  0.43  0.66     -  0.284848  0.032379  \n",
       "4  0.21  0.24  0.49     - -0.001010  0.265686  "
      ]
     },
     "execution_count": 195,
     "metadata": {},
     "output_type": "execute_result"
    }
   ],
   "source": [
    "#summary table\n",
    "summary_table_1.loc[7] = ['Imbalance XGBoost',\n",
    "                        round(xgb_test_accuracy, 2), round(xgb_test_cv_score, 2), \n",
    "                        round(precision_score(y_test, y_hat_test, average = 'macro'), 2), round(recall_score(y_test, y_hat_test, average = 'macro'), 2), round(f1_score(y_test, y_hat_test, average = 'macro'), 2),\n",
    "                        round(mean_absolute_error(y_test, y_hat_test), 2), round(mean_squared_error(y_test, y_hat_test), 2), round(mean_squared_error(y_test, y_hat_test, squared = False), 2),\n",
    "                        '-', bias(y_test, y_hat_test), variance(y_hat_test)]\n",
    "summary_table_1.head(10)"
   ]
  },
  {
   "cell_type": "markdown",
   "metadata": {},
   "source": [
    "# Support Vector Machine"
   ]
  },
  {
   "cell_type": "code",
   "execution_count": 196,
   "metadata": {},
   "outputs": [
    {
     "name": "stdout",
     "output_type": "stream",
     "text": [
      "Train accuracy: 79.6506734006734\n",
      "Test accuracy: 78.55218855218855\n"
     ]
    }
   ],
   "source": [
    "#instantiate baseline model\n",
    "svm_clf = SVC(random_state = 21)\n",
    "\n",
    "#fit\n",
    "svm_clf.fit(X_train, y_train)\n",
    "\n",
    "#predict\n",
    "y_hat_train = svm_clf.predict(X_train)\n",
    "y_hat_test = svm_clf.predict(X_test)\n",
    "\n",
    "#train accuracy\n",
    "svm_train_accuracy = accuracy_score(y_train, y_hat_train) * 100\n",
    "print('Train accuracy:', svm_train_accuracy)\n",
    "\n",
    "#test accuracy\n",
    "svm_test_accuracy = accuracy_score(y_test, y_hat_test) * 100\n",
    "print('Test accuracy:', svm_test_accuracy)\n",
    "\n",
    "#Train accuracy: 79.6506734006734\n",
    "#Test accuracy: 78.55218855218855"
   ]
  },
  {
   "cell_type": "code",
   "execution_count": null,
   "metadata": {},
   "outputs": [],
   "source": [
    "#set param grid\n",
    "svm_param_grid = {'C' : [3000000, 5000000, 1e12],\n",
    "                  'degree': [1, 2, 3],\n",
    "                  'gamma': ['scale', 'auto'],\n",
    "                  'decision_function_shape': ['ovo', 'ovr']}\n",
    "\n",
    "#gridsearch\n",
    "svm_gridsearch = GridSearchCV(estimator = svm_clf,\n",
    "                              param_grid = svm_param_grid,\n",
    "                              scoring = 'accuracy', cv = 5,\n",
    "                              n_jobs = -1)\n",
    "\n",
    "#fit\n",
    "svm_gridsearch.fit(X_train, y_train)\n",
    "\n",
    "#best param\n",
    "svm_gridsearch.best_params_"
   ]
  },
  {
   "cell_type": "code",
   "execution_count": null,
   "metadata": {},
   "outputs": [],
   "source": [
    "#train a classifier with optimal values identified above\n",
    "svm_clf = svm.XGBClassifier(random_state = 21)\n",
    "\n",
    "#fit\n",
    "svm_clf.fit(X_train, y_train)\n",
    "\n",
    "#predict\n",
    "y_hat_train = svm_clf.predict(X_train)\n",
    "y_hat_test = svm_clf.predict(X_test)\n",
    "\n",
    "#train accuracy\n",
    "svm_train_accuracy = accuracy_score(y_train, y_hat_train) * 100\n",
    "print('Train accuracy:', svm_train_accuracy)\n",
    "\n",
    "#test accuracy\n",
    "svm_test_accuracy = accuracy_score(y_test, y_hat_test) * 100\n",
    "print('Test accuracy:', svm_test_accuracy)"
   ]
  },
  {
   "cell_type": "code",
   "execution_count": null,
   "metadata": {},
   "outputs": [],
   "source": [
    "#train cross validation\n",
    "svm_train_cv_score = cross_val_score(svm_clf, X_train, y_train, cv = 5, n_jobs = -1).mean()\n",
    "print('Train cross validation:', svm_train_cv_score)\n",
    "\n",
    "#test cross validation\n",
    "svm_test_cv_score = cross_val_score(svm_clf, X_test, y_test, cv = 5, n_jobs = -1).mean()\n",
    "print('Test cross validation:', svm_test_cv_score)"
   ]
  },
  {
   "cell_type": "code",
   "execution_count": null,
   "metadata": {},
   "outputs": [],
   "source": [
    "#evaluate with MAE, MSE, RMSE\n",
    "print('Mean Absolute Error:', mean_absolute_error(y_test, y_hat_test))  \n",
    "print('Mean Squared Error:', mean_squared_error(y_test, y_hat_test))  \n",
    "print('Root Mean Squared Error:', mean_squared_error(y_test, y_hat_test, squared = False))"
   ]
  },
  {
   "cell_type": "code",
   "execution_count": null,
   "metadata": {},
   "outputs": [],
   "source": [
    "#classification report\n",
    "svm_classification_report = classification_report(y_test, y_hat_test)\n",
    "print('Model: adaBoost', '\\n', svm_classification_report)"
   ]
  },
  {
   "cell_type": "code",
   "execution_count": null,
   "metadata": {},
   "outputs": [],
   "source": [
    "#plot confusion matrix\n",
    "plot_confusion_matrix(svm_clf, X_test, y_test, cmap = plt.cm.Blues)"
   ]
  },
  {
   "cell_type": "code",
   "execution_count": null,
   "metadata": {},
   "outputs": [],
   "source": [
    "#get test bias and variance\n",
    "print(bias(y_test, y_hat_test))\n",
    "print(variance(y_hat_test))"
   ]
  },
  {
   "cell_type": "code",
   "execution_count": null,
   "metadata": {},
   "outputs": [],
   "source": [
    "#summary table\n",
    "summary_table_1.loc[8] = ['Imbalance SVM',\n",
    "                        round(svm_test_accuracy, 2), round(svm_test_cv_score, 2), \n",
    "                        round(precision_score(y_test, y_hat_test, average = 'macro'), 2), round(recall_score(y_test, y_hat_test, average = 'macro'), 2), round(f1_score(y_test, y_hat_test, average = 'macro'), 2),\n",
    "                        round(mean_absolute_error(y_test, y_hat_test), 2), round(mean_squared_error(y_test, y_hat_test), 2), round(mean_squared_error(y_test, y_hat_test, squared = False), 2),\n",
    "                        '-', bias(y_test, y_hat_test), variance(y_hat_test)]\n",
    "summary_table_1.head(10)"
   ]
  },
  {
   "cell_type": "code",
   "execution_count": null,
   "metadata": {},
   "outputs": [],
   "source": [
    "#save\n",
    "summary_table_1.to_csv('./Data/summary_table_1')"
   ]
  },
  {
   "cell_type": "markdown",
   "metadata": {},
   "source": [
    "# Models Comparison"
   ]
  },
  {
   "cell_type": "code",
   "execution_count": 248,
   "metadata": {},
   "outputs": [
    {
     "ename": "TypeError",
     "evalue": "boxplot() got an unexpected keyword argument 's'",
     "output_type": "error",
     "traceback": [
      "\u001b[0;31m---------------------------------------------------------------------------\u001b[0m",
      "\u001b[0;31mTypeError\u001b[0m                                 Traceback (most recent call last)",
      "\u001b[0;32m<ipython-input-248-0386c1cdefcb>\u001b[0m in \u001b[0;36m<module>\u001b[0;34m\u001b[0m\n\u001b[1;32m      1\u001b[0m \u001b[0;31m#plot accuracy\u001b[0m\u001b[0;34m\u001b[0m\u001b[0;34m\u001b[0m\u001b[0;34m\u001b[0m\u001b[0m\n\u001b[1;32m      2\u001b[0m \u001b[0mplt\u001b[0m\u001b[0;34m.\u001b[0m\u001b[0mfigure\u001b[0m\u001b[0;34m(\u001b[0m\u001b[0mfigsize\u001b[0m \u001b[0;34m=\u001b[0m \u001b[0;34m(\u001b[0m\u001b[0;36m15\u001b[0m\u001b[0;34m,\u001b[0m \u001b[0;36m5\u001b[0m\u001b[0;34m)\u001b[0m\u001b[0;34m)\u001b[0m\u001b[0;34m\u001b[0m\u001b[0;34m\u001b[0m\u001b[0m\n\u001b[0;32m----> 3\u001b[0;31m \u001b[0msns\u001b[0m\u001b[0;34m.\u001b[0m\u001b[0mboxplot\u001b[0m\u001b[0;34m(\u001b[0m\u001b[0mx\u001b[0m \u001b[0;34m=\u001b[0m \u001b[0msummary_table\u001b[0m\u001b[0;34m[\u001b[0m\u001b[0;34m'Accuracy'\u001b[0m\u001b[0;34m]\u001b[0m\u001b[0;34m,\u001b[0m \u001b[0my\u001b[0m \u001b[0;34m=\u001b[0m \u001b[0msummary_table\u001b[0m\u001b[0;34m[\u001b[0m\u001b[0;34m'Model'\u001b[0m\u001b[0;34m]\u001b[0m\u001b[0;34m,\u001b[0m \u001b[0ms\u001b[0m \u001b[0;34m=\u001b[0m \u001b[0;36m100\u001b[0m\u001b[0;34m,\u001b[0m \u001b[0mmarker\u001b[0m \u001b[0;34m=\u001b[0m \u001b[0;34m'o'\u001b[0m\u001b[0;34m)\u001b[0m\u001b[0;34m\u001b[0m\u001b[0;34m\u001b[0m\u001b[0m\n\u001b[0m\u001b[1;32m      4\u001b[0m \u001b[0mplt\u001b[0m\u001b[0;34m.\u001b[0m\u001b[0mxlabel\u001b[0m\u001b[0;34m(\u001b[0m\u001b[0;34m'Accuracy'\u001b[0m\u001b[0;34m)\u001b[0m\u001b[0;34m\u001b[0m\u001b[0;34m\u001b[0m\u001b[0m\n\u001b[1;32m      5\u001b[0m \u001b[0mplt\u001b[0m\u001b[0;34m.\u001b[0m\u001b[0mylabel\u001b[0m\u001b[0;34m(\u001b[0m\u001b[0;34m'Model'\u001b[0m\u001b[0;34m)\u001b[0m\u001b[0;34m\u001b[0m\u001b[0;34m\u001b[0m\u001b[0m\n",
      "\u001b[0;32m/opt/anaconda3/lib/python3.8/site-packages/seaborn/_decorators.py\u001b[0m in \u001b[0;36minner_f\u001b[0;34m(*args, **kwargs)\u001b[0m\n\u001b[1;32m     44\u001b[0m             )\n\u001b[1;32m     45\u001b[0m         \u001b[0mkwargs\u001b[0m\u001b[0;34m.\u001b[0m\u001b[0mupdate\u001b[0m\u001b[0;34m(\u001b[0m\u001b[0;34m{\u001b[0m\u001b[0mk\u001b[0m\u001b[0;34m:\u001b[0m \u001b[0marg\u001b[0m \u001b[0;32mfor\u001b[0m \u001b[0mk\u001b[0m\u001b[0;34m,\u001b[0m \u001b[0marg\u001b[0m \u001b[0;32min\u001b[0m \u001b[0mzip\u001b[0m\u001b[0;34m(\u001b[0m\u001b[0msig\u001b[0m\u001b[0;34m.\u001b[0m\u001b[0mparameters\u001b[0m\u001b[0;34m,\u001b[0m \u001b[0margs\u001b[0m\u001b[0;34m)\u001b[0m\u001b[0;34m}\u001b[0m\u001b[0;34m)\u001b[0m\u001b[0;34m\u001b[0m\u001b[0;34m\u001b[0m\u001b[0m\n\u001b[0;32m---> 46\u001b[0;31m         \u001b[0;32mreturn\u001b[0m \u001b[0mf\u001b[0m\u001b[0;34m(\u001b[0m\u001b[0;34m**\u001b[0m\u001b[0mkwargs\u001b[0m\u001b[0;34m)\u001b[0m\u001b[0;34m\u001b[0m\u001b[0;34m\u001b[0m\u001b[0m\n\u001b[0m\u001b[1;32m     47\u001b[0m     \u001b[0;32mreturn\u001b[0m \u001b[0minner_f\u001b[0m\u001b[0;34m\u001b[0m\u001b[0;34m\u001b[0m\u001b[0m\n\u001b[1;32m     48\u001b[0m \u001b[0;34m\u001b[0m\u001b[0m\n",
      "\u001b[0;32m/opt/anaconda3/lib/python3.8/site-packages/seaborn/categorical.py\u001b[0m in \u001b[0;36mboxplot\u001b[0;34m(x, y, hue, data, order, hue_order, orient, color, palette, saturation, width, dodge, fliersize, linewidth, whis, ax, **kwargs)\u001b[0m\n\u001b[1;32m   2236\u001b[0m     \u001b[0mkwargs\u001b[0m\u001b[0;34m.\u001b[0m\u001b[0mupdate\u001b[0m\u001b[0;34m(\u001b[0m\u001b[0mdict\u001b[0m\u001b[0;34m(\u001b[0m\u001b[0mwhis\u001b[0m\u001b[0;34m=\u001b[0m\u001b[0mwhis\u001b[0m\u001b[0;34m)\u001b[0m\u001b[0;34m)\u001b[0m\u001b[0;34m\u001b[0m\u001b[0;34m\u001b[0m\u001b[0m\n\u001b[1;32m   2237\u001b[0m \u001b[0;34m\u001b[0m\u001b[0m\n\u001b[0;32m-> 2238\u001b[0;31m     \u001b[0mplotter\u001b[0m\u001b[0;34m.\u001b[0m\u001b[0mplot\u001b[0m\u001b[0;34m(\u001b[0m\u001b[0max\u001b[0m\u001b[0;34m,\u001b[0m \u001b[0mkwargs\u001b[0m\u001b[0;34m)\u001b[0m\u001b[0;34m\u001b[0m\u001b[0;34m\u001b[0m\u001b[0m\n\u001b[0m\u001b[1;32m   2239\u001b[0m     \u001b[0;32mreturn\u001b[0m \u001b[0max\u001b[0m\u001b[0;34m\u001b[0m\u001b[0;34m\u001b[0m\u001b[0m\n\u001b[1;32m   2240\u001b[0m \u001b[0;34m\u001b[0m\u001b[0m\n",
      "\u001b[0;32m/opt/anaconda3/lib/python3.8/site-packages/seaborn/categorical.py\u001b[0m in \u001b[0;36mplot\u001b[0;34m(self, ax, boxplot_kws)\u001b[0m\n\u001b[1;32m    507\u001b[0m     \u001b[0;32mdef\u001b[0m \u001b[0mplot\u001b[0m\u001b[0;34m(\u001b[0m\u001b[0mself\u001b[0m\u001b[0;34m,\u001b[0m \u001b[0max\u001b[0m\u001b[0;34m,\u001b[0m \u001b[0mboxplot_kws\u001b[0m\u001b[0;34m)\u001b[0m\u001b[0;34m:\u001b[0m\u001b[0;34m\u001b[0m\u001b[0;34m\u001b[0m\u001b[0m\n\u001b[1;32m    508\u001b[0m         \u001b[0;34m\"\"\"Make the plot.\"\"\"\u001b[0m\u001b[0;34m\u001b[0m\u001b[0;34m\u001b[0m\u001b[0m\n\u001b[0;32m--> 509\u001b[0;31m         \u001b[0mself\u001b[0m\u001b[0;34m.\u001b[0m\u001b[0mdraw_boxplot\u001b[0m\u001b[0;34m(\u001b[0m\u001b[0max\u001b[0m\u001b[0;34m,\u001b[0m \u001b[0mboxplot_kws\u001b[0m\u001b[0;34m)\u001b[0m\u001b[0;34m\u001b[0m\u001b[0;34m\u001b[0m\u001b[0m\n\u001b[0m\u001b[1;32m    510\u001b[0m         \u001b[0mself\u001b[0m\u001b[0;34m.\u001b[0m\u001b[0mannotate_axes\u001b[0m\u001b[0;34m(\u001b[0m\u001b[0max\u001b[0m\u001b[0;34m)\u001b[0m\u001b[0;34m\u001b[0m\u001b[0;34m\u001b[0m\u001b[0m\n\u001b[1;32m    511\u001b[0m         \u001b[0;32mif\u001b[0m \u001b[0mself\u001b[0m\u001b[0;34m.\u001b[0m\u001b[0morient\u001b[0m \u001b[0;34m==\u001b[0m \u001b[0;34m\"h\"\u001b[0m\u001b[0;34m:\u001b[0m\u001b[0;34m\u001b[0m\u001b[0;34m\u001b[0m\u001b[0m\n",
      "\u001b[0;32m/opt/anaconda3/lib/python3.8/site-packages/seaborn/categorical.py\u001b[0m in \u001b[0;36mdraw_boxplot\u001b[0;34m(self, ax, kws)\u001b[0m\n\u001b[1;32m    439\u001b[0m                     \u001b[0;32mcontinue\u001b[0m\u001b[0;34m\u001b[0m\u001b[0;34m\u001b[0m\u001b[0m\n\u001b[1;32m    440\u001b[0m \u001b[0;34m\u001b[0m\u001b[0m\n\u001b[0;32m--> 441\u001b[0;31m                 artist_dict = ax.boxplot(box_data,\n\u001b[0m\u001b[1;32m    442\u001b[0m                                          \u001b[0mvert\u001b[0m\u001b[0;34m=\u001b[0m\u001b[0mvert\u001b[0m\u001b[0;34m,\u001b[0m\u001b[0;34m\u001b[0m\u001b[0;34m\u001b[0m\u001b[0m\n\u001b[1;32m    443\u001b[0m                                          \u001b[0mpatch_artist\u001b[0m\u001b[0;34m=\u001b[0m\u001b[0;32mTrue\u001b[0m\u001b[0;34m,\u001b[0m\u001b[0;34m\u001b[0m\u001b[0;34m\u001b[0m\u001b[0m\n",
      "\u001b[0;32m/opt/anaconda3/lib/python3.8/site-packages/matplotlib/__init__.py\u001b[0m in \u001b[0;36minner\u001b[0;34m(ax, data, *args, **kwargs)\u001b[0m\n\u001b[1;32m   1436\u001b[0m     \u001b[0;32mdef\u001b[0m \u001b[0minner\u001b[0m\u001b[0;34m(\u001b[0m\u001b[0max\u001b[0m\u001b[0;34m,\u001b[0m \u001b[0;34m*\u001b[0m\u001b[0margs\u001b[0m\u001b[0;34m,\u001b[0m \u001b[0mdata\u001b[0m\u001b[0;34m=\u001b[0m\u001b[0;32mNone\u001b[0m\u001b[0;34m,\u001b[0m \u001b[0;34m**\u001b[0m\u001b[0mkwargs\u001b[0m\u001b[0;34m)\u001b[0m\u001b[0;34m:\u001b[0m\u001b[0;34m\u001b[0m\u001b[0;34m\u001b[0m\u001b[0m\n\u001b[1;32m   1437\u001b[0m         \u001b[0;32mif\u001b[0m \u001b[0mdata\u001b[0m \u001b[0;32mis\u001b[0m \u001b[0;32mNone\u001b[0m\u001b[0;34m:\u001b[0m\u001b[0;34m\u001b[0m\u001b[0;34m\u001b[0m\u001b[0m\n\u001b[0;32m-> 1438\u001b[0;31m             \u001b[0;32mreturn\u001b[0m \u001b[0mfunc\u001b[0m\u001b[0;34m(\u001b[0m\u001b[0max\u001b[0m\u001b[0;34m,\u001b[0m \u001b[0;34m*\u001b[0m\u001b[0mmap\u001b[0m\u001b[0;34m(\u001b[0m\u001b[0msanitize_sequence\u001b[0m\u001b[0;34m,\u001b[0m \u001b[0margs\u001b[0m\u001b[0;34m)\u001b[0m\u001b[0;34m,\u001b[0m \u001b[0;34m**\u001b[0m\u001b[0mkwargs\u001b[0m\u001b[0;34m)\u001b[0m\u001b[0;34m\u001b[0m\u001b[0;34m\u001b[0m\u001b[0m\n\u001b[0m\u001b[1;32m   1439\u001b[0m \u001b[0;34m\u001b[0m\u001b[0m\n\u001b[1;32m   1440\u001b[0m         \u001b[0mbound\u001b[0m \u001b[0;34m=\u001b[0m \u001b[0mnew_sig\u001b[0m\u001b[0;34m.\u001b[0m\u001b[0mbind\u001b[0m\u001b[0;34m(\u001b[0m\u001b[0max\u001b[0m\u001b[0;34m,\u001b[0m \u001b[0;34m*\u001b[0m\u001b[0margs\u001b[0m\u001b[0;34m,\u001b[0m \u001b[0;34m**\u001b[0m\u001b[0mkwargs\u001b[0m\u001b[0;34m)\u001b[0m\u001b[0;34m\u001b[0m\u001b[0;34m\u001b[0m\u001b[0m\n",
      "\u001b[0;31mTypeError\u001b[0m: boxplot() got an unexpected keyword argument 's'"
     ]
    },
    {
     "data": {
      "image/png": "[encoded data removed]",
      "text/plain": [
       "<Figure size 1080x360 with 1 Axes>"
      ]
     },
     "metadata": {
      "needs_background": "light"
     },
     "output_type": "display_data"
    }
   ],
   "source": [
    "#plot accuracy\n",
    "plt.figure(figsize = (15, 5))\n",
    "sns.boxplot(x = summary_table['Accuracy'], y = summary_table['Model'], s = 100, marker = 'o')\n",
    "plt.xlabel('Accuracy')\n",
    "plt.ylabel('Model')\n",
    "plt.title(\"Accuracy Comparison\")\n",
    "\n",
    "plt.savefig('./Data/models_comparison')"
   ]
  },
  {
   "cell_type": "code",
   "execution_count": null,
   "metadata": {},
   "outputs": [],
   "source": []
  },
  {
   "cell_type": "code",
   "execution_count": null,
   "metadata": {},
   "outputs": [],
   "source": []
  },
  {
   "cell_type": "code",
   "execution_count": null,
   "metadata": {},
   "outputs": [],
   "source": []
  },
  {
   "cell_type": "markdown",
   "metadata": {},
   "source": [
    "# Submission Dataframe"
   ]
  },
  {
   "cell_type": "code",
   "execution_count": null,
   "metadata": {},
   "outputs": [],
   "source": [
    "prediction = clf.predict(test_values[features])\n",
    "prediction_df = pd.DataFrame(prediction, columns=[\"status_group\"])\n",
    "submission = pd.merge(test_values.id.reset_index()[\"id\"].to_frame(), prediction_df, right_index = True, left_index = True)\n",
    "submission.head()\n",
    "submission.to_csv(\"sub.csv\", index = False)"
   ]
  }
 ],
 "metadata": {
  "kernelspec": {
   "display_name": "Python 3",
   "language": "python",
   "name": "python3"
  },
  "language_info": {
   "codemirror_mode": {
    "name": "ipython",
    "version": 3
   },
   "file_extension": ".py",
   "mimetype": "text/x-python",
   "name": "python",
   "nbconvert_exporter": "python",
   "pygments_lexer": "ipython3",
   "version": "3.8.5"
  }
 },
 "nbformat": 4,
 "nbformat_minor": 4
}
