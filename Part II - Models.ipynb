{
 "cells": [
  {
   "cell_type": "code",
   "execution_count": 293,
   "metadata": {},
   "outputs": [
    {
     "name": "stdout",
     "output_type": "stream",
     "text": [
      "Requirement already satisfied: xgboost in /opt/anaconda3/lib/python3.8/site-packages (1.3.3)\n",
      "Requirement already satisfied: numpy in /opt/anaconda3/lib/python3.8/site-packages (from xgboost) (1.19.2)\n",
      "Requirement already satisfied: scipy in /opt/anaconda3/lib/python3.8/site-packages (from xgboost) (1.5.2)\n"
     ]
    }
   ],
   "source": [
    "import pandas as pd\n",
    "import numpy as np\n",
    "\n",
    "#plot\n",
    "import matplotlib.pyplot as plt  \n",
    "%matplotlib inline        \n",
    "import seaborn as sns\n",
    "import plotly.graph_objects as go\n",
    "from sklearn.metrics import plot_confusion_matrix\n",
    "\n",
    "#other\n",
    "from sklearn.preprocessing import MinMaxScaler\n",
    "from imblearn.over_sampling import SMOTE\n",
    "from sklearn.model_selection import train_test_split, cross_val_score\n",
    "from sklearn.metrics import accuracy_score, precision_score, recall_score, f1_score, confusion_matrix, classification_report, roc_auc_score, mean_absolute_error, mean_squared_error\n",
    "from sklearn.metrics import roc_curve, auc, roc_auc_score\n",
    "\n",
    "#models\n",
    "from sklearn.linear_model import LogisticRegression\n",
    "from sklearn.neighbors import KNeighborsClassifier\n",
    "from sklearn.model_selection import KFold\n",
    "from sklearn.tree import DecisionTreeClassifier, DecisionTreeRegressor\n",
    "from sklearn.ensemble import RandomForestClassifier, BaggingClassifier\n",
    "from sklearn.model_selection import GridSearchCV\n",
    "from sklearn.ensemble import AdaBoostClassifier, GradientBoostingClassifier\n",
    "from sklearn.svm import SVC\n",
    "\n",
    "!pip install xgboost\n",
    "import xgboost as xgb\n",
    "\n",
    "import warnings\n",
    "warnings.filterwarnings('ignore')"
   ]
  },
  {
   "cell_type": "code",
   "execution_count": 349,
   "metadata": {
    "scrolled": true
   },
   "outputs": [
    {
     "data": {
      "text/html": [
       "<div>\n",
       "<style scoped>\n",
       "    .dataframe tbody tr th:only-of-type {\n",
       "        vertical-align: middle;\n",
       "    }\n",
       "\n",
       "    .dataframe tbody tr th {\n",
       "        vertical-align: top;\n",
       "    }\n",
       "\n",
       "    .dataframe thead th {\n",
       "        text-align: right;\n",
       "    }\n",
       "</style>\n",
       "<table border=\"1\" class=\"dataframe\">\n",
       "  <thead>\n",
       "    <tr style=\"text-align: right;\">\n",
       "      <th></th>\n",
       "      <th>status_group</th>\n",
       "      <th>amount_tsh</th>\n",
       "      <th>gps_height</th>\n",
       "      <th>longitude</th>\n",
       "      <th>latitude</th>\n",
       "      <th>population</th>\n",
       "      <th>age</th>\n",
       "      <th>basin_Lake Nyasa</th>\n",
       "      <th>basin_Lake Rukwa</th>\n",
       "      <th>basin_Lake Tanganyika</th>\n",
       "      <th>...</th>\n",
       "      <th>scheme_name_group_m</th>\n",
       "      <th>scheme_name_group_machumba estate pipe line</th>\n",
       "      <th>scheme_name_group_makwale water supplied sche</th>\n",
       "      <th>scheme_name_group_mkongoro one</th>\n",
       "      <th>scheme_name_group_n</th>\n",
       "      <th>scheme_name_group_ngana water supplied scheme</th>\n",
       "      <th>scheme_name_group_other</th>\n",
       "      <th>scheme_name_group_s</th>\n",
       "      <th>scheme_name_group_uroki-bomang'ombe water sup</th>\n",
       "      <th>scheme_name_group_wanging'ombe water</th>\n",
       "    </tr>\n",
       "  </thead>\n",
       "  <tbody>\n",
       "    <tr>\n",
       "      <th>0</th>\n",
       "      <td>1</td>\n",
       "      <td>6000.0</td>\n",
       "      <td>1390</td>\n",
       "      <td>34.938093</td>\n",
       "      <td>-9.856322</td>\n",
       "      <td>109</td>\n",
       "      <td>14</td>\n",
       "      <td>1</td>\n",
       "      <td>0</td>\n",
       "      <td>0</td>\n",
       "      <td>...</td>\n",
       "      <td>0</td>\n",
       "      <td>0</td>\n",
       "      <td>0</td>\n",
       "      <td>0</td>\n",
       "      <td>0</td>\n",
       "      <td>0</td>\n",
       "      <td>1</td>\n",
       "      <td>0</td>\n",
       "      <td>0</td>\n",
       "      <td>0</td>\n",
       "    </tr>\n",
       "    <tr>\n",
       "      <th>1</th>\n",
       "      <td>1</td>\n",
       "      <td>0.0</td>\n",
       "      <td>1399</td>\n",
       "      <td>34.698766</td>\n",
       "      <td>-2.147466</td>\n",
       "      <td>280</td>\n",
       "      <td>3</td>\n",
       "      <td>0</td>\n",
       "      <td>0</td>\n",
       "      <td>0</td>\n",
       "      <td>...</td>\n",
       "      <td>0</td>\n",
       "      <td>0</td>\n",
       "      <td>0</td>\n",
       "      <td>0</td>\n",
       "      <td>0</td>\n",
       "      <td>0</td>\n",
       "      <td>1</td>\n",
       "      <td>0</td>\n",
       "      <td>0</td>\n",
       "      <td>0</td>\n",
       "    </tr>\n",
       "    <tr>\n",
       "      <th>2</th>\n",
       "      <td>1</td>\n",
       "      <td>25.0</td>\n",
       "      <td>686</td>\n",
       "      <td>37.460664</td>\n",
       "      <td>-3.821329</td>\n",
       "      <td>250</td>\n",
       "      <td>4</td>\n",
       "      <td>0</td>\n",
       "      <td>0</td>\n",
       "      <td>0</td>\n",
       "      <td>...</td>\n",
       "      <td>0</td>\n",
       "      <td>0</td>\n",
       "      <td>0</td>\n",
       "      <td>0</td>\n",
       "      <td>0</td>\n",
       "      <td>0</td>\n",
       "      <td>1</td>\n",
       "      <td>0</td>\n",
       "      <td>0</td>\n",
       "      <td>0</td>\n",
       "    </tr>\n",
       "    <tr>\n",
       "      <th>3</th>\n",
       "      <td>0</td>\n",
       "      <td>0.0</td>\n",
       "      <td>263</td>\n",
       "      <td>38.486161</td>\n",
       "      <td>-11.155298</td>\n",
       "      <td>58</td>\n",
       "      <td>27</td>\n",
       "      <td>0</td>\n",
       "      <td>0</td>\n",
       "      <td>0</td>\n",
       "      <td>...</td>\n",
       "      <td>0</td>\n",
       "      <td>0</td>\n",
       "      <td>0</td>\n",
       "      <td>0</td>\n",
       "      <td>0</td>\n",
       "      <td>0</td>\n",
       "      <td>1</td>\n",
       "      <td>0</td>\n",
       "      <td>0</td>\n",
       "      <td>0</td>\n",
       "    </tr>\n",
       "    <tr>\n",
       "      <th>4</th>\n",
       "      <td>1</td>\n",
       "      <td>0.0</td>\n",
       "      <td>0</td>\n",
       "      <td>31.130847</td>\n",
       "      <td>-1.825359</td>\n",
       "      <td>150</td>\n",
       "      <td>17</td>\n",
       "      <td>0</td>\n",
       "      <td>0</td>\n",
       "      <td>0</td>\n",
       "      <td>...</td>\n",
       "      <td>0</td>\n",
       "      <td>0</td>\n",
       "      <td>0</td>\n",
       "      <td>0</td>\n",
       "      <td>0</td>\n",
       "      <td>0</td>\n",
       "      <td>1</td>\n",
       "      <td>0</td>\n",
       "      <td>0</td>\n",
       "      <td>0</td>\n",
       "    </tr>\n",
       "  </tbody>\n",
       "</table>\n",
       "<p>5 rows × 287 columns</p>\n",
       "</div>"
      ],
      "text/plain": [
       "   status_group  amount_tsh  gps_height  longitude   latitude  population  \\\n",
       "0             1      6000.0        1390  34.938093  -9.856322         109   \n",
       "1             1         0.0        1399  34.698766  -2.147466         280   \n",
       "2             1        25.0         686  37.460664  -3.821329         250   \n",
       "3             0         0.0         263  38.486161 -11.155298          58   \n",
       "4             1         0.0           0  31.130847  -1.825359         150   \n",
       "\n",
       "   age  basin_Lake Nyasa  basin_Lake Rukwa  basin_Lake Tanganyika  ...  \\\n",
       "0   14                 1                 0                      0  ...   \n",
       "1    3                 0                 0                      0  ...   \n",
       "2    4                 0                 0                      0  ...   \n",
       "3   27                 0                 0                      0  ...   \n",
       "4   17                 0                 0                      0  ...   \n",
       "\n",
       "   scheme_name_group_m  scheme_name_group_machumba estate pipe line  \\\n",
       "0                    0                                            0   \n",
       "1                    0                                            0   \n",
       "2                    0                                            0   \n",
       "3                    0                                            0   \n",
       "4                    0                                            0   \n",
       "\n",
       "   scheme_name_group_makwale water supplied sche  \\\n",
       "0                                              0   \n",
       "1                                              0   \n",
       "2                                              0   \n",
       "3                                              0   \n",
       "4                                              0   \n",
       "\n",
       "   scheme_name_group_mkongoro one  scheme_name_group_n  \\\n",
       "0                               0                    0   \n",
       "1                               0                    0   \n",
       "2                               0                    0   \n",
       "3                               0                    0   \n",
       "4                               0                    0   \n",
       "\n",
       "   scheme_name_group_ngana water supplied scheme  scheme_name_group_other  \\\n",
       "0                                              0                        1   \n",
       "1                                              0                        1   \n",
       "2                                              0                        1   \n",
       "3                                              0                        1   \n",
       "4                                              0                        1   \n",
       "\n",
       "   scheme_name_group_s  scheme_name_group_uroki-bomang'ombe water sup  \\\n",
       "0                    0                                              0   \n",
       "1                    0                                              0   \n",
       "2                    0                                              0   \n",
       "3                    0                                              0   \n",
       "4                    0                                              0   \n",
       "\n",
       "   scheme_name_group_wanging'ombe water  \n",
       "0                                     0  \n",
       "1                                     0  \n",
       "2                                     0  \n",
       "3                                     0  \n",
       "4                                     0  \n",
       "\n",
       "[5 rows x 287 columns]"
      ]
     },
     "execution_count": 349,
     "metadata": {},
     "output_type": "execute_result"
    }
   ],
   "source": [
    "#read dataset\n",
    "preprocessed_df = pd.read_csv('./Data/preprocessed_df.cvs', index_col = 0) \n",
    "preprocessed_df.head()"
   ]
  },
  {
   "cell_type": "code",
   "execution_count": 350,
   "metadata": {},
   "outputs": [
    {
     "data": {
      "text/plain": [
       "(59400, 287)"
      ]
     },
     "execution_count": 350,
     "metadata": {},
     "output_type": "execute_result"
    }
   ],
   "source": [
    "preprocessed_df.shape"
   ]
  },
  {
   "cell_type": "code",
   "execution_count": 351,
   "metadata": {},
   "outputs": [],
   "source": [
    "#define X and y\n",
    "y = preprocessed_df['status_group']\n",
    "X = preprocessed_df.drop(['status_group'], axis = 1)"
   ]
  },
  {
   "cell_type": "code",
   "execution_count": 297,
   "metadata": {},
   "outputs": [],
   "source": [
    "#perform test train split\n",
    "X_train, X_test, y_train, y_test = train_test_split(X, y, test_size = 0.2, random_state = 21)"
   ]
  },
  {
   "cell_type": "markdown",
   "metadata": {},
   "source": [
    "# Data Transformation"
   ]
  },
  {
   "cell_type": "markdown",
   "metadata": {},
   "source": [
    "After splitting the data into training and test sets, we use the `MixMaxScaler()` to fit and transform `X_train` and transform `X_test` of continuous variables.\n",
    "\n",
    "We want to fit and transform only the training data because in a real-world setting, we only have access to this data. We can then use the same scalar object to transform the test data. \n",
    "\n",
    "If we to first transform the data and then split into training and test sets, it will lead to data-leakage. "
   ]
  },
  {
   "cell_type": "code",
   "execution_count": 299,
   "metadata": {},
   "outputs": [],
   "source": [
    "#scale to make sure that all of our data is represented at the same scale\n",
    "scale = MinMaxScaler()\n",
    "\n",
    "#fit\n",
    "X_train = scale.fit_transform(X_train) #to create a scaled version of the training dataset\n",
    "X_test = scale.transform(X_test) #to create a scaled version of the test dataset"
   ]
  },
  {
   "cell_type": "markdown",
   "metadata": {},
   "source": [
    "# Decision Tree"
   ]
  },
  {
   "cell_type": "code",
   "execution_count": 330,
   "metadata": {},
   "outputs": [
    {
     "name": "stdout",
     "output_type": "stream",
     "text": [
      "Train accuracy: 99.75346886092288\n",
      "Test accuracy: 75.2861952861953\n"
     ]
    }
   ],
   "source": [
    "#instantiate baseline model\n",
    "decision_tree_clf = DecisionTreeClassifier(random_state = 21, criterion = 'entropy')\n",
    "\n",
    "#fit\n",
    "decision_tree_clf.fit(X_train, y_train)\n",
    "\n",
    "#predict\n",
    "y_hat_train = decision_tree_clf.predict(X_train)\n",
    "y_hat_test = decision_tree_clf.predict(X_test)\n",
    "\n",
    "#train accuracy \n",
    "decision_tree_train_accuracy = accuracy_score(y_train, y_hat_train) * 100\n",
    "print('Train accuracy: {0}'.format(decision_tree_train_accuracy))\n",
    "\n",
    "#test accuracy \n",
    "decision_tree_test_accuracy = accuracy_score(y_test, y_hat_test) * 100\n",
    "print('Test accuracy: {0}'.format(decision_tree_test_accuracy))"
   ]
  },
  {
   "cell_type": "code",
   "execution_count": 331,
   "metadata": {
    "scrolled": false
   },
   "outputs": [
    {
     "data": {
      "image/png": "[encoded data removed]",
      "text/plain": [
       "<Figure size 1440x7200 with 1 Axes>"
      ]
     },
     "metadata": {
      "needs_background": "light"
     },
     "output_type": "display_data"
    }
   ],
   "source": [
    "#feature importance\n",
    "decision_tree_clf.feature_importances_;\n",
    "\n",
    "def plot_feature_importances(model):\n",
    "    n_features = X_train.shape[1]\n",
    "    plt.figure(figsize = (20, 100))\n",
    "    plt.barh(range(n_features), model.feature_importances_, align = 'center') \n",
    "    plt.yticks(np.arange(n_features), X.columns.values) \n",
    "    plt.xlabel('Feature importance')\n",
    "    plt.ylabel('Feature')\n",
    "\n",
    "plot_feature_importances(decision_tree_clf)\n",
    "\n",
    "#save\n",
    "plt.savefig('./Data/decision_tree_clf_feature_importances')"
   ]
  },
  {
   "cell_type": "code",
   "execution_count": 337,
   "metadata": {},
   "outputs": [
    {
     "data": {
      "text/plain": [
       "Index(['ward_group_Chanika', 'ward_group_Igosi', 'ward_group_Imalinyi',\n",
       "       'ward_group_Itete', 'ward_group_Kitunda', 'ward_group_Maji ya Chai',\n",
       "       'ward_group_Maramba', 'ward_group_Matola', 'ward_group_Mdandu',\n",
       "       'ward_group_Mishamo', 'ward_group_Msindo', 'ward_group_Mtwango',\n",
       "       'ward_group_Nduruma', 'ward_group_Ngarenanyuki', 'ward_group_Siha Kati',\n",
       "       'ward_group_Usuka', 'ward_group_Vikindu', 'ward_group_Wanging'ombe',\n",
       "       'ward_group_Zinga/Ikerege', 'ward_group_other'],\n",
       "      dtype='object')"
      ]
     },
     "execution_count": 337,
     "metadata": {},
     "output_type": "execute_result"
    }
   ],
   "source": [
    "#look for columns with 'ward'\n",
    "preprocessed_df.filter(like = 'ward').columns"
   ]
  },
  {
   "cell_type": "code",
   "execution_count": 338,
   "metadata": {},
   "outputs": [
    {
     "data": {
      "text/plain": [
       "Index(['subvillage_group_I', 'subvillage_group_Kanisani',\n",
       "       'subvillage_group_Kati', 'subvillage_group_Kibaoni',\n",
       "       'subvillage_group_M', 'subvillage_group_Madukani',\n",
       "       'subvillage_group_Majengo', 'subvillage_group_Mapinduzi',\n",
       "       'subvillage_group_Mbuyuni', 'subvillage_group_Miembeni',\n",
       "       'subvillage_group_Mjimwema', 'subvillage_group_Mlimani',\n",
       "       'subvillage_group_Msikitini', 'subvillage_group_Mtakuja',\n",
       "       'subvillage_group_Muungano', 'subvillage_group_Shuleni',\n",
       "       'subvillage_group_Sokoni', 'subvillage_group_Songambele',\n",
       "       'subvillage_group_other'],\n",
       "      dtype='object')"
      ]
     },
     "execution_count": 338,
     "metadata": {},
     "output_type": "execute_result"
    }
   ],
   "source": [
    "#look for columns with 'subvillage'\n",
    "preprocessed_df.filter(like = 'subvillage').columns"
   ]
  },
  {
   "cell_type": "code",
   "execution_count": 339,
   "metadata": {},
   "outputs": [
    {
     "data": {
      "text/plain": [
       "Index(['wpt_name_group_Hospital', 'wpt_name_group_Kanisani',\n",
       "       'wpt_name_group_Kituo Cha Afya', 'wpt_name_group_Madukani',\n",
       "       'wpt_name_group_Mbugani', 'wpt_name_group_Mkombozi',\n",
       "       'wpt_name_group_Mkuyuni', 'wpt_name_group_Msikitini',\n",
       "       'wpt_name_group_Muungano', 'wpt_name_group_Ofisini',\n",
       "       'wpt_name_group_School', 'wpt_name_group_Sekondari',\n",
       "       'wpt_name_group_Shule', 'wpt_name_group_Shule Ya Msingi',\n",
       "       'wpt_name_group_Shuleni', 'wpt_name_group_Sokoni',\n",
       "       'wpt_name_group_Upendo', 'wpt_name_group_Zahanati',\n",
       "       'wpt_name_group_other'],\n",
       "      dtype='object')"
      ]
     },
     "execution_count": 339,
     "metadata": {},
     "output_type": "execute_result"
    }
   ],
   "source": [
    "#look for columns with 'wpt_name'\n",
    "preprocessed_df.filter(like = 'wpt_name').columns"
   ]
  },
  {
   "cell_type": "code",
   "execution_count": 341,
   "metadata": {},
   "outputs": [],
   "source": [
    "#drop features\n",
    "X.drop(columns = ['ward_group_Chanika', 'ward_group_Igosi', 'ward_group_Imalinyi',\n",
    "       'ward_group_Itete', 'ward_group_Kitunda', 'ward_group_Maji ya Chai',\n",
    "       'ward_group_Maramba', 'ward_group_Matola', 'ward_group_Mdandu',\n",
    "       'ward_group_Mishamo', 'ward_group_Msindo', 'ward_group_Mtwango',\n",
    "       'ward_group_Nduruma', 'ward_group_Ngarenanyuki', 'ward_group_Siha Kati',\n",
    "       'ward_group_Usuka', 'ward_group_Vikindu', \"ward_group_Wanging'ombe\",\n",
    "       'ward_group_Zinga/Ikerege', 'ward_group_other'], axis = 1, inplace = True)"
   ]
  },
  {
   "cell_type": "code",
   "execution_count": 342,
   "metadata": {},
   "outputs": [],
   "source": [
    "#drop features\n",
    "X.drop(columns = ['subvillage_group_I', 'subvillage_group_Kanisani',\n",
    "       'subvillage_group_Kati', 'subvillage_group_Kibaoni',\n",
    "       'subvillage_group_M', 'subvillage_group_Madukani',\n",
    "       'subvillage_group_Majengo', 'subvillage_group_Mapinduzi',\n",
    "       'subvillage_group_Mbuyuni', 'subvillage_group_Miembeni',\n",
    "       'subvillage_group_Mjimwema', 'subvillage_group_Mlimani',\n",
    "       'subvillage_group_Msikitini', 'subvillage_group_Mtakuja',\n",
    "       'subvillage_group_Muungano', 'subvillage_group_Shuleni',\n",
    "       'subvillage_group_Sokoni', 'subvillage_group_Songambele',\n",
    "       'subvillage_group_other'], axis = 1, inplace = True)"
   ]
  },
  {
   "cell_type": "code",
   "execution_count": 343,
   "metadata": {},
   "outputs": [],
   "source": [
    "#drop features\n",
    "X.drop(columns = ['wpt_name_group_Hospital', 'wpt_name_group_Kanisani',\n",
    "       'wpt_name_group_Kituo Cha Afya', 'wpt_name_group_Madukani',\n",
    "       'wpt_name_group_Mbugani', 'wpt_name_group_Mkombozi',\n",
    "       'wpt_name_group_Mkuyuni', 'wpt_name_group_Msikitini',\n",
    "       'wpt_name_group_Muungano', 'wpt_name_group_Ofisini',\n",
    "       'wpt_name_group_School', 'wpt_name_group_Sekondari',\n",
    "       'wpt_name_group_Shule', 'wpt_name_group_Shule Ya Msingi',\n",
    "       'wpt_name_group_Shuleni', 'wpt_name_group_Sokoni',\n",
    "       'wpt_name_group_Upendo', 'wpt_name_group_Zahanati',\n",
    "       'wpt_name_group_other'], axis = 1, inplace = True)"
   ]
  },
  {
   "cell_type": "code",
   "execution_count": 352,
   "metadata": {},
   "outputs": [],
   "source": [
    "#re-perform test train split\n",
    "X_train, X_test, y_train, y_test = train_test_split(X, y, test_size = 0.2, random_state = 21)"
   ]
  },
  {
   "cell_type": "code",
   "execution_count": 353,
   "metadata": {},
   "outputs": [],
   "source": [
    "#re-scale to make sure that all of our data is represented at the same scale\n",
    "scale = MinMaxScaler()\n",
    "\n",
    "#fit\n",
    "X_train = scale.fit_transform(X_train) #to create a scaled version of the training dataset\n",
    "X_test = scale.transform(X_test) #to create a scaled version of the test dataset"
   ]
  },
  {
   "cell_type": "markdown",
   "metadata": {},
   "source": [
    "# Deal with Class Imbalance"
   ]
  },
  {
   "cell_type": "code",
   "execution_count": 354,
   "metadata": {
    "scrolled": true
   },
   "outputs": [
    {
     "name": "stdout",
     "output_type": "stream",
     "text": [
      "Class Distribution Before:\n",
      "Train Set\n",
      "1    25825\n",
      "0    18210\n",
      "2     3485\n",
      "Name: status_group, dtype: int64\n",
      "\n",
      "\n",
      "Class Distribution After:\n",
      "Train Set\n",
      "2    25825\n",
      "1    25825\n",
      "0    25825\n",
      "Name: status_group, dtype: int64\n"
     ]
    }
   ],
   "source": [
    "#previous original class distribution\n",
    "print('Class Distribution Before:')\n",
    "print('Train Set')\n",
    "print(y_train.value_counts())\n",
    "\n",
    "#fit\n",
    "smote = SMOTE()\n",
    "X_train, y_train = smote.fit_resample(X_train, y_train)\n",
    "\n",
    "#check class distribution\n",
    "print('\\n')\n",
    "print('Class Distribution After:')\n",
    "print('Train Set')\n",
    "print(pd.Series(y_train).value_counts())"
   ]
  },
  {
   "cell_type": "code",
   "execution_count": 359,
   "metadata": {
    "scrolled": true
   },
   "outputs": [
    {
     "name": "stdout",
     "output_type": "stream",
     "text": [
      "Train accuracy: 99.80509841884478\n",
      "Test accuracy: 75.32828282828284\n"
     ]
    }
   ],
   "source": [
    "#instantiate improved model\n",
    "decision_tree_clf = DecisionTreeClassifier(random_state = 21, criterion = 'entropy')\n",
    "\n",
    "#fit\n",
    "decision_tree_clf.fit(X_train, y_train)\n",
    "\n",
    "#predict\n",
    "y_hat_train = decision_tree_clf.predict(X_train)\n",
    "y_hat_test = decision_tree_clf.predict(X_test)\n",
    "\n",
    "#train accuracy \n",
    "decision_tree_train_accuracy = accuracy_score(y_train, y_hat_train) * 100\n",
    "print('Train accuracy: {0}'.format(decision_tree_train_accuracy))\n",
    "\n",
    "#test accuracy \n",
    "decision_tree_test_accuracy = accuracy_score(y_test, y_hat_test) * 100\n",
    "print('Test accuracy: {0}'.format(decision_tree_test_accuracy))"
   ]
  },
  {
   "cell_type": "code",
   "execution_count": 360,
   "metadata": {
    "scrolled": true
   },
   "outputs": [
    {
     "data": {
      "text/plain": [
       "{'criterion': 'gini',\n",
       " 'max_depth': 40,\n",
       " 'max_features': 'auto',\n",
       " 'min_samples_leaf': 3,\n",
       " 'min_samples_split': 8}"
      ]
     },
     "execution_count": 360,
     "metadata": {},
     "output_type": "execute_result"
    }
   ],
   "source": [
    "#set param grid\n",
    "decision_tree_param_grid = {'criterion' : ['gini', 'entropy'],\n",
    "                            'min_samples_split' : [8, 10],\n",
    "                            'min_samples_leaf' : [3, 4, 5],\n",
    "                            'max_depth': [40, 80],\n",
    "                            'max_features': ['auto', 'sqrt', 'log2']}\n",
    "\n",
    "#gridsearch\n",
    "decision_tree_gridsearch = GridSearchCV(estimator = decision_tree_clf, \n",
    "                                        param_grid = decision_tree_param_grid,\n",
    "                                        scoring = 'accuracy', \n",
    "                                        cv = 5,\n",
    "                                        n_jobs = -1)\n",
    "\n",
    "#fit\n",
    "decision_tree_gridsearch.fit(X_train, y_train)\n",
    "\n",
    "#best param\n",
    "decision_tree_gridsearch.best_params_"
   ]
  },
  {
   "cell_type": "code",
   "execution_count": null,
   "metadata": {},
   "outputs": [],
   "source": [
    "#get cross-validation result\n",
    "decision_tree_cross_val_results = pd.DataFrame(decision_tree_gridsearch.cv_results_)\n",
    "print('Number of Various Combinations of Parameters Tried : %d'%len(decision_tree_cross_val_results))\n",
    "\n",
    "decision_tree_cross_val_results.head()"
   ]
  },
  {
   "cell_type": "code",
   "execution_count": 361,
   "metadata": {
    "scrolled": true
   },
   "outputs": [
    {
     "name": "stdout",
     "output_type": "stream",
     "text": [
      "Train accuracy: 80.34075508228462\n",
      "Test accuracy: 69.21717171717172\n"
     ]
    }
   ],
   "source": [
    "#train a classifier with optimal values identified above\n",
    "decision_tree_clf = DecisionTreeClassifier(random_state = 21, \n",
    "                                           criterion = 'gini',\n",
    "                                           max_depth = 40,\n",
    "                                           max_features = 'auto',\n",
    "                                           min_samples_leaf = 3,\n",
    "                                           min_samples_split = 8)\n",
    "\n",
    "#fit\n",
    "decision_tree_clf.fit(X_train, y_train)\n",
    "\n",
    "#predict\n",
    "y_hat_train = decision_tree_clf.predict(X_train)\n",
    "y_hat_test = decision_tree_clf.predict(X_test)\n",
    "\n",
    "#train accuracy \n",
    "decision_tree_train_accuracy = accuracy_score(y_train, y_hat_train) * 100\n",
    "print('Train accuracy: {0}'.format(decision_tree_train_accuracy))\n",
    "\n",
    "#test accuracy \n",
    "decision_tree_test_accuracy = accuracy_score(y_test, y_hat_test) * 100\n",
    "print('Test accuracy: {0}'.format(decision_tree_test_accuracy))"
   ]
  },
  {
   "cell_type": "code",
   "execution_count": 362,
   "metadata": {},
   "outputs": [
    {
     "name": "stdout",
     "output_type": "stream",
     "text": [
      "Train cross validation: 0.7458535011293966\n",
      "Train cross validation: 0.6909932659932659\n"
     ]
    }
   ],
   "source": [
    "#train cross validation\n",
    "decision_tree_train_cv_score = cross_val_score(decision_tree_clf, X_train, y_train, cv = 5, n_jobs = -1).mean()\n",
    "print('Train cross validation:',decision_tree_train_cv_score)\n",
    "\n",
    "#test cross validation\n",
    "decision_tree_test_cv_score = cross_val_score(decision_tree_clf, X_test, y_test, cv = 5, n_jobs = -1).mean()\n",
    "print('Train cross validation:',decision_tree_test_cv_score)"
   ]
  },
  {
   "cell_type": "code",
   "execution_count": 363,
   "metadata": {},
   "outputs": [
    {
     "name": "stdout",
     "output_type": "stream",
     "text": [
      "Mean Absolute Error: 0.352020202020202\n",
      "Mean Squared Error: 0.4404040404040404\n",
      "Root Mean Squared Error: 0.6636294451002309\n"
     ]
    }
   ],
   "source": [
    "#evaluate with MAE, MSE, RMSE\n",
    "print('Mean Absolute Error:', mean_absolute_error(y_test, y_hat_test))  \n",
    "print('Mean Squared Error:', mean_squared_error(y_test, y_hat_test))  \n",
    "print('Root Mean Squared Error:', mean_squared_error(y_test, y_hat_test, squared = False))"
   ]
  },
  {
   "cell_type": "code",
   "execution_count": 364,
   "metadata": {},
   "outputs": [
    {
     "name": "stdout",
     "output_type": "stream",
     "text": [
      "Model: adaBoost \n",
      "               precision    recall  f1-score   support\n",
      "\n",
      "           0       0.72      0.71      0.71      4614\n",
      "           1       0.79      0.70      0.74      6434\n",
      "           2       0.28      0.55      0.37       832\n",
      "\n",
      "    accuracy                           0.69     11880\n",
      "   macro avg       0.60      0.65      0.61     11880\n",
      "weighted avg       0.73      0.69      0.71     11880\n",
      "\n"
     ]
    }
   ],
   "source": [
    "#classification report\n",
    "decision_tree_classification_report = classification_report(y_test, y_hat_test)\n",
    "print('Model: adaBoost', '\\n', decision_tree_classification_report)"
   ]
  },
  {
   "cell_type": "code",
   "execution_count": 365,
   "metadata": {},
   "outputs": [
    {
     "data": {
      "text/plain": [
       "<sklearn.metrics._plot.confusion_matrix.ConfusionMatrixDisplay at 0x7febd267dd90>"
      ]
     },
     "execution_count": 365,
     "metadata": {},
     "output_type": "execute_result"
    },
    {
     "data": {
      "image/png": "[encoded data removed]",
      "text/plain": [
       "<Figure size 432x288 with 2 Axes>"
      ]
     },
     "metadata": {
      "needs_background": "light"
     },
     "output_type": "display_data"
    }
   ],
   "source": [
    "#plot confusion matrix\n",
    "plot_confusion_matrix(decision_tree_clf, X_test, y_test, cmap = plt.cm.Blues)    "
   ]
  },
  {
   "cell_type": "code",
   "execution_count": 366,
   "metadata": {},
   "outputs": [
    {
     "name": "stdout",
     "output_type": "stream",
     "text": [
      "0.07912457912457913\n",
      "0.4619630366515889\n"
     ]
    }
   ],
   "source": [
    "#function bias() to calculate the bias of a model's predictions given the actual data\n",
    "def bias(y, y_hat):\n",
    "    return np.mean(y_hat - y)\n",
    "\n",
    "#function variance() to calculate the variance of a model's predictions\n",
    "def variance(y_hat):\n",
    "    return np.mean([yi**2 for yi in y_hat]) - np.mean(y_hat)**2\n",
    "\n",
    "#get test bias and variance\n",
    "print(bias(y_test, y_hat_test))\n",
    "print(variance(y_hat_test))"
   ]
  },
  {
   "cell_type": "code",
   "execution_count": 369,
   "metadata": {},
   "outputs": [
    {
     "data": {
      "text/html": [
       "<div>\n",
       "<style scoped>\n",
       "    .dataframe tbody tr th:only-of-type {\n",
       "        vertical-align: middle;\n",
       "    }\n",
       "\n",
       "    .dataframe tbody tr th {\n",
       "        vertical-align: top;\n",
       "    }\n",
       "\n",
       "    .dataframe thead th {\n",
       "        text-align: right;\n",
       "    }\n",
       "</style>\n",
       "<table border=\"1\" class=\"dataframe\">\n",
       "  <thead>\n",
       "    <tr style=\"text-align: right;\">\n",
       "      <th></th>\n",
       "      <th>Model</th>\n",
       "      <th>Accuracy</th>\n",
       "      <th>CV</th>\n",
       "      <th>Precision</th>\n",
       "      <th>Recall</th>\n",
       "      <th>F1 Score</th>\n",
       "      <th>MAE</th>\n",
       "      <th>MSE</th>\n",
       "      <th>RMSE</th>\n",
       "      <th>AUC</th>\n",
       "      <th>Bias</th>\n",
       "      <th>Variance</th>\n",
       "    </tr>\n",
       "  </thead>\n",
       "  <tbody>\n",
       "    <tr>\n",
       "      <th>0</th>\n",
       "      <td>Imbalance Logistic Regression</td>\n",
       "      <td>75.03</td>\n",
       "      <td>0.74</td>\n",
       "      <td>0.67</td>\n",
       "      <td>0.56</td>\n",
       "      <td>0.58</td>\n",
       "      <td>0.30</td>\n",
       "      <td>0.41</td>\n",
       "      <td>0.64</td>\n",
       "      <td>0.82</td>\n",
       "      <td>-0.165152</td>\n",
       "      <td>0.269192</td>\n",
       "    </tr>\n",
       "    <tr>\n",
       "      <th>2</th>\n",
       "      <td>Decision Tree</td>\n",
       "      <td>69.22</td>\n",
       "      <td>0.69</td>\n",
       "      <td>0.60</td>\n",
       "      <td>0.65</td>\n",
       "      <td>0.61</td>\n",
       "      <td>0.35</td>\n",
       "      <td>0.44</td>\n",
       "      <td>0.66</td>\n",
       "      <td>-</td>\n",
       "      <td>0.079125</td>\n",
       "      <td>0.461963</td>\n",
       "    </tr>\n",
       "    <tr>\n",
       "      <th>1</th>\n",
       "      <td>Decision Tree</td>\n",
       "      <td>69.22</td>\n",
       "      <td>0.69</td>\n",
       "      <td>0.60</td>\n",
       "      <td>0.65</td>\n",
       "      <td>0.61</td>\n",
       "      <td>0.35</td>\n",
       "      <td>0.44</td>\n",
       "      <td>0.66</td>\n",
       "      <td>-</td>\n",
       "      <td>0.079125</td>\n",
       "      <td>0.461963</td>\n",
       "    </tr>\n",
       "  </tbody>\n",
       "</table>\n",
       "</div>"
      ],
      "text/plain": [
       "                           Model  Accuracy    CV  Precision  Recall  F1 Score  \\\n",
       "0  Imbalance Logistic Regression     75.03  0.74       0.67    0.56      0.58   \n",
       "2                  Decision Tree     69.22  0.69       0.60    0.65      0.61   \n",
       "1                  Decision Tree     69.22  0.69       0.60    0.65      0.61   \n",
       "\n",
       "    MAE   MSE  RMSE   AUC      Bias  Variance  \n",
       "0  0.30  0.41  0.64  0.82 -0.165152  0.269192  \n",
       "2  0.35  0.44  0.66     -  0.079125  0.461963  \n",
       "1  0.35  0.44  0.66     -  0.079125  0.461963  "
      ]
     },
     "execution_count": 369,
     "metadata": {},
     "output_type": "execute_result"
    }
   ],
   "source": [
    "#summary table\n",
    "summary_table = pd.DataFrame({'Model': [],\n",
    "                              'Accuracy': [], 'CV': [], \n",
    "                              'Precision': [], 'Recall': [], 'F1 Score': [],\n",
    "                              'MAE': [], 'MSE': [], 'RMSE': [],\n",
    "                              'AUC': [], 'Bias': [], 'Variance': []\n",
    "                              })\n",
    "\n",
    "summary_table.loc[0] = ['Decision Tree',\n",
    "                        round(decision_tree_test_accuracy, 2), round(decision_tree_test_cv_score, 2), \n",
    "                        round(precision_score(y_test, y_hat_test, average = 'macro'), 2), round(recall_score(y_test, y_hat_test, average = 'macro'), 2), round(f1_score(y_test, y_hat_test, average = 'macro'), 2),\n",
    "                        round(mean_absolute_error(y_test, y_hat_test), 2), round(mean_squared_error(y_test, y_hat_test), 2), round(mean_squared_error(y_test, y_hat_test, squared = False), 2),\n",
    "                        '-', bias(y_test, y_hat_test), variance(y_hat_test)]\n",
    "summary_table.head()"
   ]
  },
  {
   "cell_type": "markdown",
   "metadata": {},
   "source": [
    "# Logistic Regression"
   ]
  },
  {
   "cell_type": "code",
   "execution_count": 370,
   "metadata": {},
   "outputs": [
    {
     "name": "stdout",
     "output_type": "stream",
     "text": [
      "Train accuracy: 67.91481122942885\n",
      "Test accuracy: 65.79124579124579\n"
     ]
    }
   ],
   "source": [
    "#instantiate baseline model\n",
    "logreg_clf = LogisticRegression(fit_intercept = False, C = 1e12, random_state = 21)\n",
    "\n",
    "#fit\n",
    "logreg_clf.fit(X_train, y_train)\n",
    "\n",
    "#predict\n",
    "y_hat_train = logreg_clf.predict(X_train)\n",
    "y_hat_test = logreg_clf.predict(X_test)\n",
    "\n",
    "#train accuracy \n",
    "logreg_train_accuracy = accuracy_score(y_train, y_hat_train) * 100\n",
    "print('Train accuracy: {0}'.format(logreg_train_accuracy))\n",
    "\n",
    "#test accuracy \n",
    "logreg_test_accuracy = accuracy_score(y_test, y_hat_test) * 100\n",
    "print('Test accuracy: {0}'.format(logreg_test_accuracy))"
   ]
  },
  {
   "cell_type": "code",
   "execution_count": 371,
   "metadata": {},
   "outputs": [
    {
     "data": {
      "text/plain": [
       "{'multi_class': 'multinomial', 'solver': 'saga'}"
      ]
     },
     "execution_count": 371,
     "metadata": {},
     "output_type": "execute_result"
    }
   ],
   "source": [
    "#set param grid\n",
    "logreg_param_grid = {'solver' : ['sag', 'saga', 'liblinear'],\n",
    "                     'multi_class': ['multinomial', 'auto']}\n",
    "\n",
    "#gridsearch\n",
    "logreg_gridsearch = GridSearchCV(estimator = logreg_clf,\n",
    "                                 param_grid = logreg_param_grid,\n",
    "                                 scoring = 'accuracy', cv = 5,\n",
    "                                 n_jobs = -1)\n",
    "\n",
    "#fit\n",
    "logreg_gridsearch.fit(X_train, y_train)\n",
    "\n",
    "#best param\n",
    "logreg_gridsearch.best_params_"
   ]
  },
  {
   "cell_type": "code",
   "execution_count": null,
   "metadata": {},
   "outputs": [],
   "source": [
    "#get cross-validation result\n",
    "logreg_cross_val_results = pd.DataFrame(logreg_gridsearch.cv_results_)\n",
    "print('Number of Various Combinations of Parameters Tried : %d'%len(logreg_cross_val_results))\n",
    "\n",
    "logreg_cross_val_results.head()"
   ]
  },
  {
   "cell_type": "code",
   "execution_count": 372,
   "metadata": {},
   "outputs": [
    {
     "name": "stdout",
     "output_type": "stream",
     "text": [
      "Train accuracy: 67.83349467570184\n",
      "Test accuracy: 65.63973063973064\n"
     ]
    }
   ],
   "source": [
    "#train a classifier with optimal values identified above\n",
    "logreg_clf = LogisticRegression(fit_intercept = False, C = 1e12, random_state = 21,\n",
    "                               multi_class = 'multinomial', solver = 'saga')\n",
    "\n",
    "#fit\n",
    "logreg_clf.fit(X_train, y_train)\n",
    "\n",
    "#predict\n",
    "y_hat_train = logreg_clf.predict(X_train)\n",
    "y_hat_test = logreg_clf.predict(X_test)\n",
    "\n",
    "#train accuracy \n",
    "logreg_train_accuracy = accuracy_score(y_train, y_hat_train) * 100\n",
    "print('Train accuracy: {0}'.format(logreg_train_accuracy))\n",
    "\n",
    "#test accuracy \n",
    "logreg_test_accuracy = accuracy_score(y_test, y_hat_test) * 100\n",
    "print('Test accuracy: {0}'.format(logreg_test_accuracy))"
   ]
  },
  {
   "cell_type": "code",
   "execution_count": 373,
   "metadata": {},
   "outputs": [
    {
     "name": "stdout",
     "output_type": "stream",
     "text": [
      "Train cross validation: 0.6755727654081961\n",
      "Test cross validation: 0.742003367003367\n"
     ]
    }
   ],
   "source": [
    "#train cross validation\n",
    "logreg_train_cv_score = cross_val_score(logreg_clf, X_train, y_train, cv = 5, n_jobs = -1).mean()\n",
    "print('Train cross validation:', logreg_train_cv_score)\n",
    "\n",
    "#test cross validation\n",
    "logreg_test_cv_score = cross_val_score(logreg_clf, X_test, y_test, cv = 5, n_jobs = -1).mean()\n",
    "print('Test cross validation:', logreg_test_cv_score)"
   ]
  },
  {
   "cell_type": "code",
   "execution_count": 374,
   "metadata": {},
   "outputs": [
    {
     "name": "stdout",
     "output_type": "stream",
     "text": [
      "Mean Absolute Error: 0.4091750841750842\n",
      "Mean Squared Error: 0.5403198653198653\n",
      "Root Mean Squared Error: 0.7350645313983428\n"
     ]
    }
   ],
   "source": [
    "#evaluate with MAE, MSE, RMSE\n",
    "print('Mean Absolute Error:', mean_absolute_error(y_test, y_hat_test))  \n",
    "print('Mean Squared Error:', mean_squared_error(y_test, y_hat_test))  \n",
    "print('Root Mean Squared Error:', mean_squared_error(y_test, y_hat_test, squared = False))"
   ]
  },
  {
   "cell_type": "code",
   "execution_count": 375,
   "metadata": {},
   "outputs": [
    {
     "name": "stdout",
     "output_type": "stream",
     "text": [
      "Model: Logistic Regression \n",
      "               precision    recall  f1-score   support\n",
      "\n",
      "           0       0.78      0.66      0.71      4614\n",
      "           1       0.80      0.65      0.72      6434\n",
      "           2       0.21      0.70      0.32       832\n",
      "\n",
      "    accuracy                           0.66     11880\n",
      "   macro avg       0.60      0.67      0.58     11880\n",
      "weighted avg       0.75      0.66      0.69     11880\n",
      "\n"
     ]
    }
   ],
   "source": [
    "#classification report\n",
    "logreg_classification_report = classification_report(y_test, y_hat_test)\n",
    "print('Model: Logistic Regression', '\\n', logreg_classification_report)"
   ]
  },
  {
   "cell_type": "code",
   "execution_count": 376,
   "metadata": {},
   "outputs": [
    {
     "data": {
      "text/plain": [
       "<sklearn.metrics._plot.confusion_matrix.ConfusionMatrixDisplay at 0x7feb907f5580>"
      ]
     },
     "execution_count": 376,
     "metadata": {},
     "output_type": "execute_result"
    },
    {
     "data": {
      "image/png": "[encoded data removed]",
      "text/plain": [
       "<Figure size 432x288 with 2 Axes>"
      ]
     },
     "metadata": {
      "needs_background": "light"
     },
     "output_type": "display_data"
    }
   ],
   "source": [
    "#plot confusion matrix\n",
    "plot_confusion_matrix(logreg_clf, X_test, y_test, cmap = plt.cm.Blues)"
   ]
  },
  {
   "cell_type": "code",
   "execution_count": 377,
   "metadata": {
    "scrolled": true
   },
   "outputs": [
    {
     "name": "stdout",
     "output_type": "stream",
     "text": [
      "AUC: 0.8182263779904473\n"
     ]
    },
    {
     "data": {
      "image/png": "[encoded data removed]",
      "text/plain": [
       "<Figure size 1080x360 with 1 Axes>"
      ]
     },
     "metadata": {
      "needs_background": "light"
     },
     "output_type": "display_data"
    }
   ],
   "source": [
    "#get AUC\n",
    "logreg_y_score = logreg_clf.fit(X_train, y_train).decision_function(X_test)\n",
    "\n",
    "#roc curve for classes\n",
    "logreg_fpr = {}\n",
    "logreg_tpr = {}\n",
    "logreg_thresh = {}\n",
    "\n",
    "n_class = 3\n",
    "\n",
    "for i in range(n_class):    \n",
    "    logreg_fpr[i], logreg_tpr[i], logreg_thresh[i] = roc_curve(y_test, logreg_y_score[:, i], pos_label = i)\n",
    "\n",
    "# plotting\n",
    "plt.figure(figsize = (15, 5))\n",
    "plt.plot(logreg_fpr[0], logreg_tpr[0], linestyle = '--',color = 'blue', label = 'Class 0 vs Rest')\n",
    "plt.plot(logreg_fpr[1], logreg_tpr[1], linestyle = '--',color = 'gray', label = 'Class 1 vs Rest')\n",
    "plt.plot(logreg_fpr[2], logreg_tpr[2], linestyle = '--',color = 'red', label = 'Class 2 vs Rest')\n",
    "plt.title('Multiclass ROC curve')\n",
    "plt.xlabel('False Positive Rate')\n",
    "plt.ylabel('True Positive Rate')\n",
    "plt.legend(loc = 'best')\n",
    "\n",
    "plt.savefig('./Data/logreg_roc')\n",
    "\n",
    "#get AUC\n",
    "print('AUC:', auc(logreg_fpr[i], logreg_tpr[i]))"
   ]
  },
  {
   "cell_type": "code",
   "execution_count": 378,
   "metadata": {},
   "outputs": [
    {
     "name": "stdout",
     "output_type": "stream",
     "text": [
      "0.22348484848484848\n",
      "0.5506807057669854\n"
     ]
    }
   ],
   "source": [
    "#get test bias and variance\n",
    "print(bias(y_test, y_hat_test))\n",
    "print(variance(y_hat_test))"
   ]
  },
  {
   "cell_type": "code",
   "execution_count": 379,
   "metadata": {},
   "outputs": [
    {
     "data": {
      "text/html": [
       "<div>\n",
       "<style scoped>\n",
       "    .dataframe tbody tr th:only-of-type {\n",
       "        vertical-align: middle;\n",
       "    }\n",
       "\n",
       "    .dataframe tbody tr th {\n",
       "        vertical-align: top;\n",
       "    }\n",
       "\n",
       "    .dataframe thead th {\n",
       "        text-align: right;\n",
       "    }\n",
       "</style>\n",
       "<table border=\"1\" class=\"dataframe\">\n",
       "  <thead>\n",
       "    <tr style=\"text-align: right;\">\n",
       "      <th></th>\n",
       "      <th>Model</th>\n",
       "      <th>Accuracy</th>\n",
       "      <th>CV</th>\n",
       "      <th>Precision</th>\n",
       "      <th>Recall</th>\n",
       "      <th>F1 Score</th>\n",
       "      <th>MAE</th>\n",
       "      <th>MSE</th>\n",
       "      <th>RMSE</th>\n",
       "      <th>AUC</th>\n",
       "      <th>Bias</th>\n",
       "      <th>Variance</th>\n",
       "    </tr>\n",
       "  </thead>\n",
       "  <tbody>\n",
       "    <tr>\n",
       "      <th>0</th>\n",
       "      <td>Imbalance Logistic Regression</td>\n",
       "      <td>75.03</td>\n",
       "      <td>0.74</td>\n",
       "      <td>0.67</td>\n",
       "      <td>0.56</td>\n",
       "      <td>0.58</td>\n",
       "      <td>0.30</td>\n",
       "      <td>0.41</td>\n",
       "      <td>0.64</td>\n",
       "      <td>0.82</td>\n",
       "      <td>-0.165152</td>\n",
       "      <td>0.269192</td>\n",
       "    </tr>\n",
       "    <tr>\n",
       "      <th>2</th>\n",
       "      <td>Logistic Regression</td>\n",
       "      <td>65.64</td>\n",
       "      <td>0.74</td>\n",
       "      <td>0.60</td>\n",
       "      <td>0.67</td>\n",
       "      <td>0.58</td>\n",
       "      <td>0.41</td>\n",
       "      <td>0.54</td>\n",
       "      <td>0.74</td>\n",
       "      <td>0.82</td>\n",
       "      <td>0.223485</td>\n",
       "      <td>0.550681</td>\n",
       "    </tr>\n",
       "    <tr>\n",
       "      <th>1</th>\n",
       "      <td>Decision Tree</td>\n",
       "      <td>69.22</td>\n",
       "      <td>0.69</td>\n",
       "      <td>0.60</td>\n",
       "      <td>0.65</td>\n",
       "      <td>0.61</td>\n",
       "      <td>0.35</td>\n",
       "      <td>0.44</td>\n",
       "      <td>0.66</td>\n",
       "      <td>-</td>\n",
       "      <td>0.079125</td>\n",
       "      <td>0.461963</td>\n",
       "    </tr>\n",
       "  </tbody>\n",
       "</table>\n",
       "</div>"
      ],
      "text/plain": [
       "                           Model  Accuracy    CV  Precision  Recall  F1 Score  \\\n",
       "0  Imbalance Logistic Regression     75.03  0.74       0.67    0.56      0.58   \n",
       "2            Logistic Regression     65.64  0.74       0.60    0.67      0.58   \n",
       "1                  Decision Tree     69.22  0.69       0.60    0.65      0.61   \n",
       "\n",
       "    MAE   MSE  RMSE   AUC      Bias  Variance  \n",
       "0  0.30  0.41  0.64  0.82 -0.165152  0.269192  \n",
       "2  0.41  0.54  0.74  0.82  0.223485  0.550681  \n",
       "1  0.35  0.44  0.66     -  0.079125  0.461963  "
      ]
     },
     "execution_count": 379,
     "metadata": {},
     "output_type": "execute_result"
    }
   ],
   "source": [
    "#summary table\n",
    "summary_table.loc[1] = ['Logistic Regression',\n",
    "                        round(logreg_test_accuracy, 2), round(logreg_test_cv_score, 2), \n",
    "                        round(precision_score(y_test, y_hat_test, average = 'macro'), 2), round(recall_score(y_test, y_hat_test, average = 'macro'), 2), round(f1_score(y_test, y_hat_test, average = 'macro'), 2),\n",
    "                        round(mean_absolute_error(y_test, y_hat_test), 2), round(mean_squared_error(y_test, y_hat_test), 2), round(mean_squared_error(y_test, y_hat_test, squared = False), 2),\n",
    "                        round(auc(logreg_fpr[i], logreg_tpr[i]), 2), bias(y_test, y_hat_test), variance(y_hat_test)]\n",
    "summary_table.head()"
   ]
  },
  {
   "cell_type": "markdown",
   "metadata": {},
   "source": [
    "# K-Nearest Neighbor"
   ]
  },
  {
   "cell_type": "code",
   "execution_count": 380,
   "metadata": {},
   "outputs": [
    {
     "name": "stdout",
     "output_type": "stream",
     "text": [
      "Train accuracy: 87.69925782510487\n",
      "Test accuracy: 73.04713804713805\n"
     ]
    }
   ],
   "source": [
    "#instantiate baseline model\n",
    "knn_clf = KNeighborsClassifier()\n",
    "\n",
    "#fit\n",
    "knn_clf.fit(X_train, y_train)\n",
    "\n",
    "#predict on the test set\n",
    "y_hat_train = knn_clf.predict(X_train)\n",
    "y_hat_test = knn_clf.predict(X_test)\n",
    "\n",
    "#train accuracy \n",
    "knn_train_accuracy = accuracy_score(y_train, y_hat_train) * 100\n",
    "print('Train accuracy: {0}'.format(knn_train_accuracy))\n",
    "\n",
    "#test accuracy \n",
    "knn_test_accuracy = accuracy_score(y_test, y_hat_test) * 100\n",
    "print('Test accuracy: {0}'.format(knn_test_accuracy))"
   ]
  },
  {
   "cell_type": "code",
   "execution_count": 381,
   "metadata": {},
   "outputs": [
    {
     "data": {
      "text/plain": [
       "{'n_neighbors': 3, 'weights': 'distance'}"
      ]
     },
     "execution_count": 381,
     "metadata": {},
     "output_type": "execute_result"
    }
   ],
   "source": [
    "#set param grid\n",
    "knn_param_grid = {\"n_neighbors\" : [3, 5, 7, 10],\n",
    "                  'weights' : ['uniform', 'distance']}\n",
    "\n",
    "#gridsearch\n",
    "knn_gridsearch = GridSearchCV(estimator = knn_clf,\n",
    "                             param_grid = knn_param_grid,\n",
    "                             scoring = 'accuracy', cv = 5,\n",
    "                             n_jobs = -1)\n",
    "\n",
    "#fit\n",
    "knn_gridsearch.fit(X_train, y_train)\n",
    "\n",
    "#best param\n",
    "knn_gridsearch.best_params_"
   ]
  },
  {
   "cell_type": "code",
   "execution_count": 393,
   "metadata": {},
   "outputs": [
    {
     "name": "stdout",
     "output_type": "stream",
     "text": [
      "Number of Various Combinations of Parameters Tried : 8\n"
     ]
    },
    {
     "data": {
      "text/html": [
       "<div>\n",
       "<style scoped>\n",
       "    .dataframe tbody tr th:only-of-type {\n",
       "        vertical-align: middle;\n",
       "    }\n",
       "\n",
       "    .dataframe tbody tr th {\n",
       "        vertical-align: top;\n",
       "    }\n",
       "\n",
       "    .dataframe thead th {\n",
       "        text-align: right;\n",
       "    }\n",
       "</style>\n",
       "<table border=\"1\" class=\"dataframe\">\n",
       "  <thead>\n",
       "    <tr style=\"text-align: right;\">\n",
       "      <th></th>\n",
       "      <th>mean_fit_time</th>\n",
       "      <th>std_fit_time</th>\n",
       "      <th>mean_score_time</th>\n",
       "      <th>std_score_time</th>\n",
       "      <th>param_n_neighbors</th>\n",
       "      <th>param_weights</th>\n",
       "      <th>params</th>\n",
       "      <th>split0_test_score</th>\n",
       "      <th>split1_test_score</th>\n",
       "      <th>split2_test_score</th>\n",
       "      <th>split3_test_score</th>\n",
       "      <th>split4_test_score</th>\n",
       "      <th>mean_test_score</th>\n",
       "      <th>std_test_score</th>\n",
       "      <th>rank_test_score</th>\n",
       "    </tr>\n",
       "  </thead>\n",
       "  <tbody>\n",
       "    <tr>\n",
       "      <th>0</th>\n",
       "      <td>0.227746</td>\n",
       "      <td>0.014654</td>\n",
       "      <td>77.999129</td>\n",
       "      <td>1.486565</td>\n",
       "      <td>3</td>\n",
       "      <td>uniform</td>\n",
       "      <td>{'n_neighbors': 3, 'weights': 'uniform'}</td>\n",
       "      <td>0.795224</td>\n",
       "      <td>0.816586</td>\n",
       "      <td>0.819426</td>\n",
       "      <td>0.831429</td>\n",
       "      <td>0.847951</td>\n",
       "      <td>0.822123</td>\n",
       "      <td>0.017408</td>\n",
       "      <td>5</td>\n",
       "    </tr>\n",
       "    <tr>\n",
       "      <th>1</th>\n",
       "      <td>0.305427</td>\n",
       "      <td>0.130589</td>\n",
       "      <td>76.766878</td>\n",
       "      <td>1.969014</td>\n",
       "      <td>3</td>\n",
       "      <td>distance</td>\n",
       "      <td>{'n_neighbors': 3, 'weights': 'distance'}</td>\n",
       "      <td>0.797289</td>\n",
       "      <td>0.831300</td>\n",
       "      <td>0.830784</td>\n",
       "      <td>0.843304</td>\n",
       "      <td>0.866409</td>\n",
       "      <td>0.833817</td>\n",
       "      <td>0.022370</td>\n",
       "      <td>1</td>\n",
       "    </tr>\n",
       "    <tr>\n",
       "      <th>2</th>\n",
       "      <td>0.574865</td>\n",
       "      <td>0.009344</td>\n",
       "      <td>80.044498</td>\n",
       "      <td>1.627794</td>\n",
       "      <td>5</td>\n",
       "      <td>uniform</td>\n",
       "      <td>{'n_neighbors': 5, 'weights': 'uniform'}</td>\n",
       "      <td>0.787932</td>\n",
       "      <td>0.801807</td>\n",
       "      <td>0.803614</td>\n",
       "      <td>0.816263</td>\n",
       "      <td>0.835560</td>\n",
       "      <td>0.809035</td>\n",
       "      <td>0.016017</td>\n",
       "      <td>6</td>\n",
       "    </tr>\n",
       "    <tr>\n",
       "      <th>3</th>\n",
       "      <td>0.570200</td>\n",
       "      <td>0.021274</td>\n",
       "      <td>79.622086</td>\n",
       "      <td>1.327898</td>\n",
       "      <td>5</td>\n",
       "      <td>distance</td>\n",
       "      <td>{'n_neighbors': 5, 'weights': 'distance'}</td>\n",
       "      <td>0.798387</td>\n",
       "      <td>0.828203</td>\n",
       "      <td>0.829558</td>\n",
       "      <td>0.838658</td>\n",
       "      <td>0.864085</td>\n",
       "      <td>0.831778</td>\n",
       "      <td>0.021089</td>\n",
       "      <td>2</td>\n",
       "    </tr>\n",
       "    <tr>\n",
       "      <th>4</th>\n",
       "      <td>0.479950</td>\n",
       "      <td>0.089972</td>\n",
       "      <td>73.557507</td>\n",
       "      <td>0.810058</td>\n",
       "      <td>7</td>\n",
       "      <td>uniform</td>\n",
       "      <td>{'n_neighbors': 7, 'weights': 'uniform'}</td>\n",
       "      <td>0.776121</td>\n",
       "      <td>0.789158</td>\n",
       "      <td>0.789997</td>\n",
       "      <td>0.805163</td>\n",
       "      <td>0.819297</td>\n",
       "      <td>0.795947</td>\n",
       "      <td>0.014864</td>\n",
       "      <td>7</td>\n",
       "    </tr>\n",
       "  </tbody>\n",
       "</table>\n",
       "</div>"
      ],
      "text/plain": [
       "   mean_fit_time  std_fit_time  mean_score_time  std_score_time  \\\n",
       "0       0.227746      0.014654        77.999129        1.486565   \n",
       "1       0.305427      0.130589        76.766878        1.969014   \n",
       "2       0.574865      0.009344        80.044498        1.627794   \n",
       "3       0.570200      0.021274        79.622086        1.327898   \n",
       "4       0.479950      0.089972        73.557507        0.810058   \n",
       "\n",
       "  param_n_neighbors param_weights                                     params  \\\n",
       "0                 3       uniform   {'n_neighbors': 3, 'weights': 'uniform'}   \n",
       "1                 3      distance  {'n_neighbors': 3, 'weights': 'distance'}   \n",
       "2                 5       uniform   {'n_neighbors': 5, 'weights': 'uniform'}   \n",
       "3                 5      distance  {'n_neighbors': 5, 'weights': 'distance'}   \n",
       "4                 7       uniform   {'n_neighbors': 7, 'weights': 'uniform'}   \n",
       "\n",
       "   split0_test_score  split1_test_score  split2_test_score  split3_test_score  \\\n",
       "0           0.795224           0.816586           0.819426           0.831429   \n",
       "1           0.797289           0.831300           0.830784           0.843304   \n",
       "2           0.787932           0.801807           0.803614           0.816263   \n",
       "3           0.798387           0.828203           0.829558           0.838658   \n",
       "4           0.776121           0.789158           0.789997           0.805163   \n",
       "\n",
       "   split4_test_score  mean_test_score  std_test_score  rank_test_score  \n",
       "0           0.847951         0.822123        0.017408                5  \n",
       "1           0.866409         0.833817        0.022370                1  \n",
       "2           0.835560         0.809035        0.016017                6  \n",
       "3           0.864085         0.831778        0.021089                2  \n",
       "4           0.819297         0.795947        0.014864                7  "
      ]
     },
     "execution_count": 393,
     "metadata": {},
     "output_type": "execute_result"
    }
   ],
   "source": [
    "#get cross-validation result\n",
    "knn_cross_val_results = pd.DataFrame(knn_gridsearch.cv_results_)\n",
    "print('Number of Various Combinations of Parameters Tried : %d'%len(knn_cross_val_results))\n",
    "\n",
    "knn_cross_val_results.head()"
   ]
  },
  {
   "cell_type": "code",
   "execution_count": 382,
   "metadata": {},
   "outputs": [
    {
     "name": "stdout",
     "output_type": "stream",
     "text": [
      "Train accuracy: 99.7160374314295\n",
      "Test accuracy: 74.7895622895623\n"
     ]
    }
   ],
   "source": [
    "#train a classifier with optimal values identified above\n",
    "knn_clf = KNeighborsClassifier(n_neighbors = 3, weights = 'distance')\n",
    "\n",
    "#fit\n",
    "knn_clf.fit(X_train, y_train)\n",
    "\n",
    "#predict on the test set\n",
    "y_hat_train = knn_clf.predict(X_train)\n",
    "y_hat_test = knn_clf.predict(X_test)\n",
    "\n",
    "#train accuracy \n",
    "knn_train_accuracy = accuracy_score(y_train, y_hat_train) * 100\n",
    "print('Train accuracy: {0}'.format(knn_train_accuracy))\n",
    "\n",
    "#test accuracy \n",
    "knn_test_accuracy = accuracy_score(y_test, y_hat_test) * 100\n",
    "print('Test accuracy: {0}'.format(knn_test_accuracy))"
   ]
  },
  {
   "cell_type": "code",
   "execution_count": 383,
   "metadata": {},
   "outputs": [
    {
     "name": "stdout",
     "output_type": "stream",
     "text": [
      "Train cross validation: 0.8338173604388512\n",
      "Test cross validation: 0.7227272727272727\n"
     ]
    }
   ],
   "source": [
    "#train cross validation\n",
    "knn_train_cv_score = cross_val_score(knn_clf, X_train, y_train, cv = 5, n_jobs = -1).mean()\n",
    "print('Train cross validation:', knn_train_cv_score)\n",
    "\n",
    "#test cross validation\n",
    "knn_test_cv_score = cross_val_score(knn_clf, X_test, y_test, cv = 5, n_jobs = -1).mean()\n",
    "print('Test cross validation:', knn_test_cv_score)"
   ]
  },
  {
   "cell_type": "code",
   "execution_count": 384,
   "metadata": {},
   "outputs": [
    {
     "name": "stdout",
     "output_type": "stream",
     "text": [
      "Mean Absolute Error: 0.2878787878787879\n",
      "Mean Squared Error: 0.35942760942760943\n",
      "Root Mean Squared Error: 0.5995228181042065\n"
     ]
    }
   ],
   "source": [
    "#evaluate with MAE, MSE, RMSE\n",
    "print('Mean Absolute Error:', mean_absolute_error(y_test, y_hat_test))  \n",
    "print('Mean Squared Error:', mean_squared_error(y_test, y_hat_test))  \n",
    "print('Root Mean Squared Error:', mean_squared_error(y_test, y_hat_test, squared = False))"
   ]
  },
  {
   "cell_type": "code",
   "execution_count": 385,
   "metadata": {},
   "outputs": [
    {
     "name": "stdout",
     "output_type": "stream",
     "text": [
      "Model: adaBoost \n",
      "               precision    recall  f1-score   support\n",
      "\n",
      "           0       0.78      0.76      0.77      4614\n",
      "           1       0.81      0.78      0.80      6434\n",
      "           2       0.32      0.48      0.38       832\n",
      "\n",
      "    accuracy                           0.75     11880\n",
      "   macro avg       0.64      0.67      0.65     11880\n",
      "weighted avg       0.76      0.75      0.76     11880\n",
      "\n"
     ]
    }
   ],
   "source": [
    "#classification report\n",
    "knn_classification_report = classification_report(y_test, y_hat_test)\n",
    "print('Model: adaBoost', '\\n', knn_classification_report)"
   ]
  },
  {
   "cell_type": "code",
   "execution_count": 386,
   "metadata": {
    "scrolled": false
   },
   "outputs": [
    {
     "data": {
      "text/plain": [
       "<sklearn.metrics._plot.confusion_matrix.ConfusionMatrixDisplay at 0x7febc0fe4a90>"
      ]
     },
     "execution_count": 386,
     "metadata": {},
     "output_type": "execute_result"
    },
    {
     "data": {
      "image/png": "[encoded data removed]",
      "text/plain": [
       "<Figure size 432x288 with 2 Axes>"
      ]
     },
     "metadata": {
      "needs_background": "light"
     },
     "output_type": "display_data"
    }
   ],
   "source": [
    "#plot\n",
    "plot_confusion_matrix(knn_clf, X_test, y_test, cmap = plt.cm.Blues)    "
   ]
  },
  {
   "cell_type": "code",
   "execution_count": 387,
   "metadata": {},
   "outputs": [
    {
     "name": "stdout",
     "output_type": "stream",
     "text": [
      "0.04562289562289562\n",
      "0.4089531680440771\n"
     ]
    }
   ],
   "source": [
    "#get test bias and variance\n",
    "print(bias(y_test, y_hat_test))\n",
    "print(variance(y_hat_test))"
   ]
  },
  {
   "cell_type": "code",
   "execution_count": 388,
   "metadata": {},
   "outputs": [
    {
     "data": {
      "text/html": [
       "<div>\n",
       "<style scoped>\n",
       "    .dataframe tbody tr th:only-of-type {\n",
       "        vertical-align: middle;\n",
       "    }\n",
       "\n",
       "    .dataframe tbody tr th {\n",
       "        vertical-align: top;\n",
       "    }\n",
       "\n",
       "    .dataframe thead th {\n",
       "        text-align: right;\n",
       "    }\n",
       "</style>\n",
       "<table border=\"1\" class=\"dataframe\">\n",
       "  <thead>\n",
       "    <tr style=\"text-align: right;\">\n",
       "      <th></th>\n",
       "      <th>Model</th>\n",
       "      <th>Accuracy</th>\n",
       "      <th>CV</th>\n",
       "      <th>Precision</th>\n",
       "      <th>Recall</th>\n",
       "      <th>F1 Score</th>\n",
       "      <th>MAE</th>\n",
       "      <th>MSE</th>\n",
       "      <th>RMSE</th>\n",
       "      <th>AUC</th>\n",
       "      <th>Bias</th>\n",
       "      <th>Variance</th>\n",
       "    </tr>\n",
       "  </thead>\n",
       "  <tbody>\n",
       "    <tr>\n",
       "      <th>0</th>\n",
       "      <td>Imbalance Logistic Regression</td>\n",
       "      <td>75.03</td>\n",
       "      <td>0.74</td>\n",
       "      <td>0.67</td>\n",
       "      <td>0.56</td>\n",
       "      <td>0.58</td>\n",
       "      <td>0.30</td>\n",
       "      <td>0.41</td>\n",
       "      <td>0.64</td>\n",
       "      <td>0.82</td>\n",
       "      <td>-0.165152</td>\n",
       "      <td>0.269192</td>\n",
       "    </tr>\n",
       "    <tr>\n",
       "      <th>2</th>\n",
       "      <td>Logistic Regression</td>\n",
       "      <td>65.64</td>\n",
       "      <td>0.74</td>\n",
       "      <td>0.60</td>\n",
       "      <td>0.67</td>\n",
       "      <td>0.58</td>\n",
       "      <td>0.41</td>\n",
       "      <td>0.54</td>\n",
       "      <td>0.74</td>\n",
       "      <td>0.82</td>\n",
       "      <td>0.223485</td>\n",
       "      <td>0.550681</td>\n",
       "    </tr>\n",
       "    <tr>\n",
       "      <th>1</th>\n",
       "      <td>Decision Tree</td>\n",
       "      <td>69.22</td>\n",
       "      <td>0.69</td>\n",
       "      <td>0.60</td>\n",
       "      <td>0.65</td>\n",
       "      <td>0.61</td>\n",
       "      <td>0.35</td>\n",
       "      <td>0.44</td>\n",
       "      <td>0.66</td>\n",
       "      <td>-</td>\n",
       "      <td>0.079125</td>\n",
       "      <td>0.461963</td>\n",
       "    </tr>\n",
       "    <tr>\n",
       "      <th>3</th>\n",
       "      <td>KNN</td>\n",
       "      <td>74.79</td>\n",
       "      <td>0.72</td>\n",
       "      <td>0.64</td>\n",
       "      <td>0.67</td>\n",
       "      <td>0.65</td>\n",
       "      <td>0.29</td>\n",
       "      <td>0.36</td>\n",
       "      <td>0.60</td>\n",
       "      <td>-</td>\n",
       "      <td>0.045623</td>\n",
       "      <td>0.408953</td>\n",
       "    </tr>\n",
       "  </tbody>\n",
       "</table>\n",
       "</div>"
      ],
      "text/plain": [
       "                           Model  Accuracy    CV  Precision  Recall  F1 Score  \\\n",
       "0  Imbalance Logistic Regression     75.03  0.74       0.67    0.56      0.58   \n",
       "2            Logistic Regression     65.64  0.74       0.60    0.67      0.58   \n",
       "1                  Decision Tree     69.22  0.69       0.60    0.65      0.61   \n",
       "3                            KNN     74.79  0.72       0.64    0.67      0.65   \n",
       "\n",
       "    MAE   MSE  RMSE   AUC      Bias  Variance  \n",
       "0  0.30  0.41  0.64  0.82 -0.165152  0.269192  \n",
       "2  0.41  0.54  0.74  0.82  0.223485  0.550681  \n",
       "1  0.35  0.44  0.66     -  0.079125  0.461963  \n",
       "3  0.29  0.36  0.60     -  0.045623  0.408953  "
      ]
     },
     "execution_count": 388,
     "metadata": {},
     "output_type": "execute_result"
    }
   ],
   "source": [
    "#summary table\n",
    "summary_table.loc[2] = ['KNN',\n",
    "                        round(knn_test_accuracy, 2), round(knn_test_cv_score, 2), \n",
    "                        round(precision_score(y_test, y_hat_test, average = 'macro'), 2), round(recall_score(y_test, y_hat_test, average = 'macro'), 2), round(f1_score(y_test, y_hat_test, average = 'macro'), 2),\n",
    "                        round(mean_absolute_error(y_test, y_hat_test), 2), round(mean_squared_error(y_test, y_hat_test), 2), round(mean_squared_error(y_test, y_hat_test, squared = False), 2),\n",
    "                        '-', bias(y_test, y_hat_test), variance(y_hat_test)]\n",
    "summary_table.head()"
   ]
  },
  {
   "cell_type": "markdown",
   "metadata": {},
   "source": [
    "# Bagged Tree"
   ]
  },
  {
   "cell_type": "code",
   "execution_count": 389,
   "metadata": {
    "scrolled": true
   },
   "outputs": [
    {
     "name": "stdout",
     "output_type": "stream",
     "text": [
      "Train accuracy: 87.50435624394967\n",
      "Test accuracy: 76.20370370370371\n"
     ]
    }
   ],
   "source": [
    "#instantiate baseline model\n",
    "bagged_tree_clf = BaggingClassifier(DecisionTreeClassifier(random_state = 21,\n",
    "                                                           criterion = 'gini',\n",
    "                                                           max_depth = 40,\n",
    "                                                           max_features = 'auto',\n",
    "                                                           min_samples_leaf = 3,\n",
    "                                                           min_samples_split = 8),\n",
    "                                    random_state = 21)\n",
    "\n",
    "#fit\n",
    "bagged_tree_clf.fit(X_train, y_train)\n",
    "\n",
    "#predict\n",
    "y_hat_test = bagged_tree_clf.predict(X_test)\n",
    "y_hat_train = bagged_tree_clf.predict(X_train)\n",
    "\n",
    "#train accuracy\n",
    "bagged_tree_train_accuracy = accuracy_score(y_train, y_hat_train) * 100\n",
    "print('Train accuracy: {0}'.format(bagged_tree_train_accuracy))\n",
    "\n",
    "#test accuracy\n",
    "bagged_tree_test_accuracy = accuracy_score(y_test, y_hat_test) * 100\n",
    "print('Test accuracy: {0}'.format(bagged_tree_test_accuracy))"
   ]
  },
  {
   "cell_type": "code",
   "execution_count": 394,
   "metadata": {
    "scrolled": true
   },
   "outputs": [
    {
     "data": {
      "text/plain": [
       "{'bootstrap': False,\n",
       " 'bootstrap_features': True,\n",
       " 'max_features': 50,\n",
       " 'max_samples': 50,\n",
       " 'n_estimators': 100}"
      ]
     },
     "execution_count": 394,
     "metadata": {},
     "output_type": "execute_result"
    }
   ],
   "source": [
    "#set param grid\n",
    "n_samples = X.shape[0]\n",
    "n_features = X.shape[1]\n",
    "\n",
    "bagged_tree_param_grid = {'n_estimators' : [20, 50, 100],\n",
    "                          'max_samples': [1, 5, 10, 20, 50],\n",
    "                          'max_features': [1, 5, 10, 20, 50]}\n",
    "\n",
    "#gridsearch\n",
    "bagged_tree_gridsearch = GridSearchCV(estimator = bagged_tree_clf, \n",
    "                                        param_grid = bagged_tree_param_grid,\n",
    "                                        scoring = 'accuracy', cv = 5,\n",
    "                                        n_jobs = -1)\n",
    "\n",
    "#fit\n",
    "bagged_tree_gridsearch.fit(X_train, y_train)\n",
    "\n",
    "#best param\n",
    "bagged_tree_gridsearch.best_params_"
   ]
  },
  {
   "cell_type": "code",
   "execution_count": 395,
   "metadata": {},
   "outputs": [
    {
     "name": "stdout",
     "output_type": "stream",
     "text": [
      "Number of Various Combinations of Parameters Tried : 300\n"
     ]
    },
    {
     "data": {
      "text/html": [
       "<div>\n",
       "<style scoped>\n",
       "    .dataframe tbody tr th:only-of-type {\n",
       "        vertical-align: middle;\n",
       "    }\n",
       "\n",
       "    .dataframe tbody tr th {\n",
       "        vertical-align: top;\n",
       "    }\n",
       "\n",
       "    .dataframe thead th {\n",
       "        text-align: right;\n",
       "    }\n",
       "</style>\n",
       "<table border=\"1\" class=\"dataframe\">\n",
       "  <thead>\n",
       "    <tr style=\"text-align: right;\">\n",
       "      <th></th>\n",
       "      <th>mean_fit_time</th>\n",
       "      <th>std_fit_time</th>\n",
       "      <th>mean_score_time</th>\n",
       "      <th>std_score_time</th>\n",
       "      <th>param_bootstrap</th>\n",
       "      <th>param_bootstrap_features</th>\n",
       "      <th>param_max_features</th>\n",
       "      <th>param_max_samples</th>\n",
       "      <th>param_n_estimators</th>\n",
       "      <th>params</th>\n",
       "      <th>split0_test_score</th>\n",
       "      <th>split1_test_score</th>\n",
       "      <th>split2_test_score</th>\n",
       "      <th>split3_test_score</th>\n",
       "      <th>split4_test_score</th>\n",
       "      <th>mean_test_score</th>\n",
       "      <th>std_test_score</th>\n",
       "      <th>rank_test_score</th>\n",
       "    </tr>\n",
       "  </thead>\n",
       "  <tbody>\n",
       "    <tr>\n",
       "      <th>0</th>\n",
       "      <td>0.890624</td>\n",
       "      <td>0.025599</td>\n",
       "      <td>0.039545</td>\n",
       "      <td>0.001341</td>\n",
       "      <td>True</td>\n",
       "      <td>True</td>\n",
       "      <td>1</td>\n",
       "      <td>1</td>\n",
       "      <td>20</td>\n",
       "      <td>{'bootstrap': True, 'bootstrap_features': True...</td>\n",
       "      <td>0.333333</td>\n",
       "      <td>0.333333</td>\n",
       "      <td>0.333333</td>\n",
       "      <td>0.333333</td>\n",
       "      <td>0.333333</td>\n",
       "      <td>0.333333</td>\n",
       "      <td>0.0</td>\n",
       "      <td>175</td>\n",
       "    </tr>\n",
       "    <tr>\n",
       "      <th>1</th>\n",
       "      <td>1.203876</td>\n",
       "      <td>0.009477</td>\n",
       "      <td>0.112762</td>\n",
       "      <td>0.002822</td>\n",
       "      <td>True</td>\n",
       "      <td>True</td>\n",
       "      <td>1</td>\n",
       "      <td>1</td>\n",
       "      <td>50</td>\n",
       "      <td>{'bootstrap': True, 'bootstrap_features': True...</td>\n",
       "      <td>0.333333</td>\n",
       "      <td>0.333333</td>\n",
       "      <td>0.333333</td>\n",
       "      <td>0.333333</td>\n",
       "      <td>0.333333</td>\n",
       "      <td>0.333333</td>\n",
       "      <td>0.0</td>\n",
       "      <td>175</td>\n",
       "    </tr>\n",
       "    <tr>\n",
       "      <th>2</th>\n",
       "      <td>1.809732</td>\n",
       "      <td>0.015691</td>\n",
       "      <td>0.170906</td>\n",
       "      <td>0.010017</td>\n",
       "      <td>True</td>\n",
       "      <td>True</td>\n",
       "      <td>1</td>\n",
       "      <td>1</td>\n",
       "      <td>100</td>\n",
       "      <td>{'bootstrap': True, 'bootstrap_features': True...</td>\n",
       "      <td>0.333333</td>\n",
       "      <td>0.333333</td>\n",
       "      <td>0.333333</td>\n",
       "      <td>0.333333</td>\n",
       "      <td>0.333333</td>\n",
       "      <td>0.333333</td>\n",
       "      <td>0.0</td>\n",
       "      <td>175</td>\n",
       "    </tr>\n",
       "    <tr>\n",
       "      <th>3</th>\n",
       "      <td>0.803783</td>\n",
       "      <td>0.021579</td>\n",
       "      <td>0.040256</td>\n",
       "      <td>0.001571</td>\n",
       "      <td>True</td>\n",
       "      <td>True</td>\n",
       "      <td>1</td>\n",
       "      <td>5</td>\n",
       "      <td>20</td>\n",
       "      <td>{'bootstrap': True, 'bootstrap_features': True...</td>\n",
       "      <td>0.333333</td>\n",
       "      <td>0.333333</td>\n",
       "      <td>0.333333</td>\n",
       "      <td>0.333333</td>\n",
       "      <td>0.333333</td>\n",
       "      <td>0.333333</td>\n",
       "      <td>0.0</td>\n",
       "      <td>175</td>\n",
       "    </tr>\n",
       "    <tr>\n",
       "      <th>4</th>\n",
       "      <td>0.874628</td>\n",
       "      <td>0.011505</td>\n",
       "      <td>0.091408</td>\n",
       "      <td>0.003560</td>\n",
       "      <td>True</td>\n",
       "      <td>True</td>\n",
       "      <td>1</td>\n",
       "      <td>5</td>\n",
       "      <td>50</td>\n",
       "      <td>{'bootstrap': True, 'bootstrap_features': True...</td>\n",
       "      <td>0.333333</td>\n",
       "      <td>0.333333</td>\n",
       "      <td>0.333333</td>\n",
       "      <td>0.333333</td>\n",
       "      <td>0.333333</td>\n",
       "      <td>0.333333</td>\n",
       "      <td>0.0</td>\n",
       "      <td>175</td>\n",
       "    </tr>\n",
       "  </tbody>\n",
       "</table>\n",
       "</div>"
      ],
      "text/plain": [
       "   mean_fit_time  std_fit_time  mean_score_time  std_score_time  \\\n",
       "0       0.890624      0.025599         0.039545        0.001341   \n",
       "1       1.203876      0.009477         0.112762        0.002822   \n",
       "2       1.809732      0.015691         0.170906        0.010017   \n",
       "3       0.803783      0.021579         0.040256        0.001571   \n",
       "4       0.874628      0.011505         0.091408        0.003560   \n",
       "\n",
       "  param_bootstrap param_bootstrap_features param_max_features  \\\n",
       "0            True                     True                  1   \n",
       "1            True                     True                  1   \n",
       "2            True                     True                  1   \n",
       "3            True                     True                  1   \n",
       "4            True                     True                  1   \n",
       "\n",
       "  param_max_samples param_n_estimators  \\\n",
       "0                 1                 20   \n",
       "1                 1                 50   \n",
       "2                 1                100   \n",
       "3                 5                 20   \n",
       "4                 5                 50   \n",
       "\n",
       "                                              params  split0_test_score  \\\n",
       "0  {'bootstrap': True, 'bootstrap_features': True...           0.333333   \n",
       "1  {'bootstrap': True, 'bootstrap_features': True...           0.333333   \n",
       "2  {'bootstrap': True, 'bootstrap_features': True...           0.333333   \n",
       "3  {'bootstrap': True, 'bootstrap_features': True...           0.333333   \n",
       "4  {'bootstrap': True, 'bootstrap_features': True...           0.333333   \n",
       "\n",
       "   split1_test_score  split2_test_score  split3_test_score  split4_test_score  \\\n",
       "0           0.333333           0.333333           0.333333           0.333333   \n",
       "1           0.333333           0.333333           0.333333           0.333333   \n",
       "2           0.333333           0.333333           0.333333           0.333333   \n",
       "3           0.333333           0.333333           0.333333           0.333333   \n",
       "4           0.333333           0.333333           0.333333           0.333333   \n",
       "\n",
       "   mean_test_score  std_test_score  rank_test_score  \n",
       "0         0.333333             0.0              175  \n",
       "1         0.333333             0.0              175  \n",
       "2         0.333333             0.0              175  \n",
       "3         0.333333             0.0              175  \n",
       "4         0.333333             0.0              175  "
      ]
     },
     "execution_count": 395,
     "metadata": {},
     "output_type": "execute_result"
    }
   ],
   "source": [
    "#get cross-validation result\n",
    "bagged_tree_cross_val_results = pd.DataFrame(bagged_tree_gridsearch.cv_results_)\n",
    "print('Number of Various Combinations of Parameters Tried : %d'%len(bagged_tree_cross_val_results))\n",
    "\n",
    "bagged_tree_cross_val_results.head()"
   ]
  },
  {
   "cell_type": "code",
   "execution_count": 396,
   "metadata": {},
   "outputs": [
    {
     "name": "stdout",
     "output_type": "stream",
     "text": [
      "Train accuracy: 52.438851242336234\n",
      "Test accuracy: 55.19360269360269\n"
     ]
    }
   ],
   "source": [
    "#train a classifier with optimal values identified above\n",
    "bagged_tree_clf = BaggingClassifier(DecisionTreeClassifier(random_state = 21,\n",
    "                                                           criterion = 'gini',\n",
    "                                                           max_depth = 40,\n",
    "                                                           max_features = 'auto',\n",
    "                                                           min_samples_leaf = 3,\n",
    "                                                           min_samples_split = 8),\n",
    "                                    random_state = 21,\n",
    "                                    max_features = 50,\n",
    "                                    max_samples = 50,\n",
    "                                    n_estimators = 100)\n",
    "\n",
    "#fit\n",
    "bagged_tree_clf.fit(X_train, y_train)\n",
    "\n",
    "#predict\n",
    "y_hat_test = bagged_tree_clf.predict(X_test)\n",
    "y_hat_train = bagged_tree_clf.predict(X_train)\n",
    "\n",
    "#train accuracy\n",
    "bagged_tree_train_accuracy = accuracy_score(y_train, y_hat_train) * 100\n",
    "print('Train accuracy: {0}'.format(bagged_tree_train_accuracy))\n",
    "\n",
    "#test accuracy\n",
    "bagged_tree_test_accuracy = accuracy_score(y_test, y_hat_test) * 100\n",
    "print('Test accuracy: {0}'.format(bagged_tree_test_accuracy))"
   ]
  },
  {
   "cell_type": "code",
   "execution_count": 397,
   "metadata": {},
   "outputs": [
    {
     "name": "stdout",
     "output_type": "stream",
     "text": [
      "Test cross validation: 0.5328428525330752\n",
      "Train cross validation: 0.5733164983164982\n"
     ]
    }
   ],
   "source": [
    "#train cross validation\n",
    "bagged_tree_train_cv_score = cross_val_score(bagged_tree_clf, X_train, y_train, cv = 5, n_jobs = -1).mean()\n",
    "print('Test cross validation:', bagged_tree_train_cv_score)\n",
    "\n",
    "#test cross validation\n",
    "bagged_tree_test_cv_score = cross_val_score(bagged_tree_clf, X_test, y_test, cv = 5, n_jobs = -1).mean()\n",
    "print('Train cross validation:', bagged_tree_test_cv_score)"
   ]
  },
  {
   "cell_type": "code",
   "execution_count": 398,
   "metadata": {},
   "outputs": [
    {
     "name": "stdout",
     "output_type": "stream",
     "text": [
      "Mean Absolute Error: 0.5228956228956229\n",
      "Mean Squared Error: 0.6725589225589226\n",
      "Root Mean Squared Error: 0.820096898274175\n"
     ]
    }
   ],
   "source": [
    "#evaluate with MAE, MSE, RMSE\n",
    "print('Mean Absolute Error:', mean_absolute_error(y_test, y_hat_test))  \n",
    "print('Mean Squared Error:', mean_squared_error(y_test, y_hat_test))  \n",
    "print('Root Mean Squared Error:', mean_squared_error(y_test, y_hat_test, squared = False))"
   ]
  },
  {
   "cell_type": "code",
   "execution_count": 399,
   "metadata": {},
   "outputs": [
    {
     "name": "stdout",
     "output_type": "stream",
     "text": [
      "Model: Bagged Tree \n",
      "               precision    recall  f1-score   support\n",
      "\n",
      "           0       0.56      0.61      0.59      4614\n",
      "           1       0.71      0.53      0.61      6434\n",
      "           2       0.16      0.38      0.22       832\n",
      "\n",
      "    accuracy                           0.55     11880\n",
      "   macro avg       0.48      0.51      0.47     11880\n",
      "weighted avg       0.61      0.55      0.57     11880\n",
      "\n"
     ]
    }
   ],
   "source": [
    "#classification report\n",
    "bagged_tree_classification_report = classification_report(y_test, y_hat_test)\n",
    "print('Model: Bagged Tree', '\\n', bagged_tree_classification_report)"
   ]
  },
  {
   "cell_type": "code",
   "execution_count": 400,
   "metadata": {
    "scrolled": true
   },
   "outputs": [
    {
     "data": {
      "text/plain": [
       "<sklearn.metrics._plot.confusion_matrix.ConfusionMatrixDisplay at 0x7fe9214740a0>"
      ]
     },
     "execution_count": 400,
     "metadata": {},
     "output_type": "execute_result"
    },
    {
     "data": {
      "image/png": "[encoded data removed]",
      "text/plain": [
       "<Figure size 432x288 with 2 Axes>"
      ]
     },
     "metadata": {
      "needs_background": "light"
     },
     "output_type": "display_data"
    }
   ],
   "source": [
    "#plot confusion matrix\n",
    "plot_confusion_matrix(bagged_tree_clf, X_test, y_test, cmap = plt.cm.Blues)"
   ]
  },
  {
   "cell_type": "code",
   "execution_count": 401,
   "metadata": {},
   "outputs": [
    {
     "name": "stdout",
     "output_type": "stream",
     "text": [
      "0.06161616161616162\n",
      "0.5297105454091985\n"
     ]
    }
   ],
   "source": [
    "#get test bias and variance\n",
    "print(bias(y_test, y_hat_test))\n",
    "print(variance(y_hat_test))"
   ]
  },
  {
   "cell_type": "code",
   "execution_count": 402,
   "metadata": {},
   "outputs": [
    {
     "data": {
      "text/html": [
       "<div>\n",
       "<style scoped>\n",
       "    .dataframe tbody tr th:only-of-type {\n",
       "        vertical-align: middle;\n",
       "    }\n",
       "\n",
       "    .dataframe tbody tr th {\n",
       "        vertical-align: top;\n",
       "    }\n",
       "\n",
       "    .dataframe thead th {\n",
       "        text-align: right;\n",
       "    }\n",
       "</style>\n",
       "<table border=\"1\" class=\"dataframe\">\n",
       "  <thead>\n",
       "    <tr style=\"text-align: right;\">\n",
       "      <th></th>\n",
       "      <th>Model</th>\n",
       "      <th>Accuracy</th>\n",
       "      <th>CV</th>\n",
       "      <th>Precision</th>\n",
       "      <th>Recall</th>\n",
       "      <th>F1 Score</th>\n",
       "      <th>MAE</th>\n",
       "      <th>MSE</th>\n",
       "      <th>RMSE</th>\n",
       "      <th>AUC</th>\n",
       "      <th>Bias</th>\n",
       "      <th>Variance</th>\n",
       "    </tr>\n",
       "  </thead>\n",
       "  <tbody>\n",
       "    <tr>\n",
       "      <th>0</th>\n",
       "      <td>Imbalance Logistic Regression</td>\n",
       "      <td>75.03</td>\n",
       "      <td>0.74</td>\n",
       "      <td>0.67</td>\n",
       "      <td>0.56</td>\n",
       "      <td>0.58</td>\n",
       "      <td>0.30</td>\n",
       "      <td>0.41</td>\n",
       "      <td>0.64</td>\n",
       "      <td>0.82</td>\n",
       "      <td>-0.165152</td>\n",
       "      <td>0.269192</td>\n",
       "    </tr>\n",
       "    <tr>\n",
       "      <th>2</th>\n",
       "      <td>Logistic Regression</td>\n",
       "      <td>65.64</td>\n",
       "      <td>0.74</td>\n",
       "      <td>0.60</td>\n",
       "      <td>0.67</td>\n",
       "      <td>0.58</td>\n",
       "      <td>0.41</td>\n",
       "      <td>0.54</td>\n",
       "      <td>0.74</td>\n",
       "      <td>0.82</td>\n",
       "      <td>0.223485</td>\n",
       "      <td>0.550681</td>\n",
       "    </tr>\n",
       "    <tr>\n",
       "      <th>1</th>\n",
       "      <td>Decision Tree</td>\n",
       "      <td>69.22</td>\n",
       "      <td>0.69</td>\n",
       "      <td>0.60</td>\n",
       "      <td>0.65</td>\n",
       "      <td>0.61</td>\n",
       "      <td>0.35</td>\n",
       "      <td>0.44</td>\n",
       "      <td>0.66</td>\n",
       "      <td>-</td>\n",
       "      <td>0.079125</td>\n",
       "      <td>0.461963</td>\n",
       "    </tr>\n",
       "    <tr>\n",
       "      <th>3</th>\n",
       "      <td>KNN</td>\n",
       "      <td>74.79</td>\n",
       "      <td>0.72</td>\n",
       "      <td>0.64</td>\n",
       "      <td>0.67</td>\n",
       "      <td>0.65</td>\n",
       "      <td>0.29</td>\n",
       "      <td>0.36</td>\n",
       "      <td>0.60</td>\n",
       "      <td>-</td>\n",
       "      <td>0.045623</td>\n",
       "      <td>0.408953</td>\n",
       "    </tr>\n",
       "    <tr>\n",
       "      <th>4</th>\n",
       "      <td>Bagged Tree</td>\n",
       "      <td>55.19</td>\n",
       "      <td>0.57</td>\n",
       "      <td>0.48</td>\n",
       "      <td>0.51</td>\n",
       "      <td>0.47</td>\n",
       "      <td>0.52</td>\n",
       "      <td>0.67</td>\n",
       "      <td>0.82</td>\n",
       "      <td>-</td>\n",
       "      <td>0.061616</td>\n",
       "      <td>0.529711</td>\n",
       "    </tr>\n",
       "  </tbody>\n",
       "</table>\n",
       "</div>"
      ],
      "text/plain": [
       "                           Model  Accuracy    CV  Precision  Recall  F1 Score  \\\n",
       "0  Imbalance Logistic Regression     75.03  0.74       0.67    0.56      0.58   \n",
       "2            Logistic Regression     65.64  0.74       0.60    0.67      0.58   \n",
       "1                  Decision Tree     69.22  0.69       0.60    0.65      0.61   \n",
       "3                            KNN     74.79  0.72       0.64    0.67      0.65   \n",
       "4                    Bagged Tree     55.19  0.57       0.48    0.51      0.47   \n",
       "\n",
       "    MAE   MSE  RMSE   AUC      Bias  Variance  \n",
       "0  0.30  0.41  0.64  0.82 -0.165152  0.269192  \n",
       "2  0.41  0.54  0.74  0.82  0.223485  0.550681  \n",
       "1  0.35  0.44  0.66     -  0.079125  0.461963  \n",
       "3  0.29  0.36  0.60     -  0.045623  0.408953  \n",
       "4  0.52  0.67  0.82     -  0.061616  0.529711  "
      ]
     },
     "execution_count": 402,
     "metadata": {},
     "output_type": "execute_result"
    }
   ],
   "source": [
    "#summary table\n",
    "summary_table.loc[3] = ['Bagged Tree',\n",
    "                        round(bagged_tree_test_accuracy, 2), round(bagged_tree_test_cv_score, 2), \n",
    "                        round(precision_score(y_test, y_hat_test, average = 'macro'), 2), round(recall_score(y_test, y_hat_test, average = 'macro'), 2), round(f1_score(y_test, y_hat_test, average = 'macro'), 2),\n",
    "                        round(mean_absolute_error(y_test, y_hat_test), 2), round(mean_squared_error(y_test, y_hat_test), 2), round(mean_squared_error(y_test, y_hat_test, squared = False), 2),\n",
    "                        '-', bias(y_test, y_hat_test), variance(y_hat_test)]\n",
    "summary_table.head()"
   ]
  },
  {
   "cell_type": "markdown",
   "metadata": {},
   "source": [
    "# Random Forest"
   ]
  },
  {
   "cell_type": "code",
   "execution_count": 403,
   "metadata": {},
   "outputs": [
    {
     "name": "stdout",
     "output_type": "stream",
     "text": [
      "Train accuracy: 99.80380767989674\n",
      "Test accuracy: 79.42760942760943\n"
     ]
    }
   ],
   "source": [
    "#instantiate baseline model\n",
    "random_forest_clf = RandomForestClassifier(random_state = 21)\n",
    "\n",
    "#fit\n",
    "random_forest_clf.fit(X_train, y_train)\n",
    "\n",
    "#predict\n",
    "y_hat_train = random_forest_clf.predict(X_train)\n",
    "y_hat_test = random_forest_clf.predict(X_test)\n",
    "\n",
    "#train accuracy\n",
    "random_forest_train_accuracy = accuracy_score(y_train, y_hat_train) * 100\n",
    "print('Train accuracy: {0}'.format(random_forest_train_accuracy))\n",
    "\n",
    "#test accuracy\n",
    "random_forest_test_accuracy = accuracy_score(y_test, y_hat_test) * 100\n",
    "print('Test accuracy: {0}'.format(random_forest_test_accuracy))"
   ]
  },
  {
   "cell_type": "code",
   "execution_count": 404,
   "metadata": {},
   "outputs": [
    {
     "data": {
      "text/plain": [
       "{'criterion': 'gini',\n",
       " 'max_depth': 40,\n",
       " 'max_features': 'auto',\n",
       " 'min_samples_leaf': 3,\n",
       " 'min_samples_split': 8,\n",
       " 'n_estimators': 100}"
      ]
     },
     "execution_count": 404,
     "metadata": {},
     "output_type": "execute_result"
    }
   ],
   "source": [
    "#set param grid\n",
    "random_forest_param_grid = {'n_estimators' : [20, 50, 100],\n",
    "                            'criterion' : ['gini', 'entropy'],\n",
    "                            'min_samples_split' : [8, 10, 12],\n",
    "                            'min_samples_leaf' : [3, 4, 5],\n",
    "                            'max_depth': [40, 80, 90, 100],\n",
    "                            'max_features': ['auto', 'sqrt', 'log2']}\n",
    "\n",
    "#gridsearch\n",
    "random_forest_gridsearch = GridSearchCV(estimator = random_forest_clf, \n",
    "                                        param_grid = random_forest_param_grid,\n",
    "                                        scoring = 'accuracy', cv = 5,\n",
    "                                        n_jobs = -1)\n",
    "\n",
    "#fit\n",
    "random_forest_gridsearch.fit(X_train, y_train)\n",
    "\n",
    "#best param\n",
    "random_forest_gridsearch.best_params_"
   ]
  },
  {
   "cell_type": "code",
   "execution_count": 405,
   "metadata": {},
   "outputs": [
    {
     "name": "stdout",
     "output_type": "stream",
     "text": [
      "Number of Various Combinations of Parameters Tried : 648\n"
     ]
    },
    {
     "data": {
      "text/html": [
       "<div>\n",
       "<style scoped>\n",
       "    .dataframe tbody tr th:only-of-type {\n",
       "        vertical-align: middle;\n",
       "    }\n",
       "\n",
       "    .dataframe tbody tr th {\n",
       "        vertical-align: top;\n",
       "    }\n",
       "\n",
       "    .dataframe thead th {\n",
       "        text-align: right;\n",
       "    }\n",
       "</style>\n",
       "<table border=\"1\" class=\"dataframe\">\n",
       "  <thead>\n",
       "    <tr style=\"text-align: right;\">\n",
       "      <th></th>\n",
       "      <th>mean_fit_time</th>\n",
       "      <th>std_fit_time</th>\n",
       "      <th>mean_score_time</th>\n",
       "      <th>std_score_time</th>\n",
       "      <th>param_criterion</th>\n",
       "      <th>param_max_depth</th>\n",
       "      <th>param_max_features</th>\n",
       "      <th>param_min_samples_leaf</th>\n",
       "      <th>param_min_samples_split</th>\n",
       "      <th>param_n_estimators</th>\n",
       "      <th>params</th>\n",
       "      <th>split0_test_score</th>\n",
       "      <th>split1_test_score</th>\n",
       "      <th>split2_test_score</th>\n",
       "      <th>split3_test_score</th>\n",
       "      <th>split4_test_score</th>\n",
       "      <th>mean_test_score</th>\n",
       "      <th>std_test_score</th>\n",
       "      <th>rank_test_score</th>\n",
       "    </tr>\n",
       "  </thead>\n",
       "  <tbody>\n",
       "    <tr>\n",
       "      <th>0</th>\n",
       "      <td>6.296644</td>\n",
       "      <td>0.177103</td>\n",
       "      <td>0.169011</td>\n",
       "      <td>0.004758</td>\n",
       "      <td>gini</td>\n",
       "      <td>40</td>\n",
       "      <td>auto</td>\n",
       "      <td>3</td>\n",
       "      <td>8</td>\n",
       "      <td>20</td>\n",
       "      <td>{'criterion': 'gini', 'max_depth': 40, 'max_fe...</td>\n",
       "      <td>0.788641</td>\n",
       "      <td>0.830849</td>\n",
       "      <td>0.826460</td>\n",
       "      <td>0.838916</td>\n",
       "      <td>0.842078</td>\n",
       "      <td>0.825389</td>\n",
       "      <td>0.019198</td>\n",
       "      <td>105</td>\n",
       "    </tr>\n",
       "    <tr>\n",
       "      <th>1</th>\n",
       "      <td>15.116637</td>\n",
       "      <td>0.369859</td>\n",
       "      <td>0.432651</td>\n",
       "      <td>0.012092</td>\n",
       "      <td>gini</td>\n",
       "      <td>40</td>\n",
       "      <td>auto</td>\n",
       "      <td>3</td>\n",
       "      <td>8</td>\n",
       "      <td>50</td>\n",
       "      <td>{'criterion': 'gini', 'max_depth': 40, 'max_fe...</td>\n",
       "      <td>0.792707</td>\n",
       "      <td>0.834205</td>\n",
       "      <td>0.836205</td>\n",
       "      <td>0.845305</td>\n",
       "      <td>0.849113</td>\n",
       "      <td>0.831507</td>\n",
       "      <td>0.020175</td>\n",
       "      <td>23</td>\n",
       "    </tr>\n",
       "    <tr>\n",
       "      <th>2</th>\n",
       "      <td>29.721372</td>\n",
       "      <td>0.120499</td>\n",
       "      <td>0.775921</td>\n",
       "      <td>0.024168</td>\n",
       "      <td>gini</td>\n",
       "      <td>40</td>\n",
       "      <td>auto</td>\n",
       "      <td>3</td>\n",
       "      <td>8</td>\n",
       "      <td>100</td>\n",
       "      <td>{'criterion': 'gini', 'max_depth': 40, 'max_fe...</td>\n",
       "      <td>0.796128</td>\n",
       "      <td>0.833366</td>\n",
       "      <td>0.835947</td>\n",
       "      <td>0.844724</td>\n",
       "      <td>0.851242</td>\n",
       "      <td>0.832281</td>\n",
       "      <td>0.019163</td>\n",
       "      <td>1</td>\n",
       "    </tr>\n",
       "    <tr>\n",
       "      <th>3</th>\n",
       "      <td>6.231986</td>\n",
       "      <td>0.134953</td>\n",
       "      <td>0.176335</td>\n",
       "      <td>0.008361</td>\n",
       "      <td>gini</td>\n",
       "      <td>40</td>\n",
       "      <td>auto</td>\n",
       "      <td>3</td>\n",
       "      <td>10</td>\n",
       "      <td>20</td>\n",
       "      <td>{'criterion': 'gini', 'max_depth': 40, 'max_fe...</td>\n",
       "      <td>0.788835</td>\n",
       "      <td>0.823491</td>\n",
       "      <td>0.826654</td>\n",
       "      <td>0.835108</td>\n",
       "      <td>0.835818</td>\n",
       "      <td>0.821981</td>\n",
       "      <td>0.017243</td>\n",
       "      <td>159</td>\n",
       "    </tr>\n",
       "    <tr>\n",
       "      <th>4</th>\n",
       "      <td>15.087884</td>\n",
       "      <td>0.164234</td>\n",
       "      <td>0.399618</td>\n",
       "      <td>0.005261</td>\n",
       "      <td>gini</td>\n",
       "      <td>40</td>\n",
       "      <td>auto</td>\n",
       "      <td>3</td>\n",
       "      <td>10</td>\n",
       "      <td>50</td>\n",
       "      <td>{'criterion': 'gini', 'max_depth': 40, 'max_fe...</td>\n",
       "      <td>0.793740</td>\n",
       "      <td>0.829364</td>\n",
       "      <td>0.833624</td>\n",
       "      <td>0.839948</td>\n",
       "      <td>0.843821</td>\n",
       "      <td>0.828099</td>\n",
       "      <td>0.017890</td>\n",
       "      <td>79</td>\n",
       "    </tr>\n",
       "  </tbody>\n",
       "</table>\n",
       "</div>"
      ],
      "text/plain": [
       "   mean_fit_time  std_fit_time  mean_score_time  std_score_time  \\\n",
       "0       6.296644      0.177103         0.169011        0.004758   \n",
       "1      15.116637      0.369859         0.432651        0.012092   \n",
       "2      29.721372      0.120499         0.775921        0.024168   \n",
       "3       6.231986      0.134953         0.176335        0.008361   \n",
       "4      15.087884      0.164234         0.399618        0.005261   \n",
       "\n",
       "  param_criterion param_max_depth param_max_features param_min_samples_leaf  \\\n",
       "0            gini              40               auto                      3   \n",
       "1            gini              40               auto                      3   \n",
       "2            gini              40               auto                      3   \n",
       "3            gini              40               auto                      3   \n",
       "4            gini              40               auto                      3   \n",
       "\n",
       "  param_min_samples_split param_n_estimators  \\\n",
       "0                       8                 20   \n",
       "1                       8                 50   \n",
       "2                       8                100   \n",
       "3                      10                 20   \n",
       "4                      10                 50   \n",
       "\n",
       "                                              params  split0_test_score  \\\n",
       "0  {'criterion': 'gini', 'max_depth': 40, 'max_fe...           0.788641   \n",
       "1  {'criterion': 'gini', 'max_depth': 40, 'max_fe...           0.792707   \n",
       "2  {'criterion': 'gini', 'max_depth': 40, 'max_fe...           0.796128   \n",
       "3  {'criterion': 'gini', 'max_depth': 40, 'max_fe...           0.788835   \n",
       "4  {'criterion': 'gini', 'max_depth': 40, 'max_fe...           0.793740   \n",
       "\n",
       "   split1_test_score  split2_test_score  split3_test_score  split4_test_score  \\\n",
       "0           0.830849           0.826460           0.838916           0.842078   \n",
       "1           0.834205           0.836205           0.845305           0.849113   \n",
       "2           0.833366           0.835947           0.844724           0.851242   \n",
       "3           0.823491           0.826654           0.835108           0.835818   \n",
       "4           0.829364           0.833624           0.839948           0.843821   \n",
       "\n",
       "   mean_test_score  std_test_score  rank_test_score  \n",
       "0         0.825389        0.019198              105  \n",
       "1         0.831507        0.020175               23  \n",
       "2         0.832281        0.019163                1  \n",
       "3         0.821981        0.017243              159  \n",
       "4         0.828099        0.017890               79  "
      ]
     },
     "execution_count": 405,
     "metadata": {},
     "output_type": "execute_result"
    }
   ],
   "source": [
    "#get cross-validation result\n",
    "random_forest_cross_val_results = pd.DataFrame(random_forest_gridsearch.cv_results_)\n",
    "print('Number of Various Combinations of Parameters Tried : %d'%len(random_forest_cross_val_results))\n",
    "\n",
    "random_forest_cross_val_results.head()"
   ]
  },
  {
   "cell_type": "code",
   "execution_count": 406,
   "metadata": {},
   "outputs": [
    {
     "name": "stdout",
     "output_type": "stream",
     "text": [
      "Train accuracy: 88.53049370764762\n",
      "Test accuracy: 76.91077441077441\n"
     ]
    }
   ],
   "source": [
    "#train a classifier with optimal values identified above\n",
    "random_forest_clf = RandomForestClassifier(random_state = 21, \n",
    "                                           criterion = 'gini',\n",
    "                                           max_depth = 40,\n",
    "                                           max_features = 'auto',\n",
    "                                           min_samples_leaf = 3,\n",
    "                                           min_samples_split = 8,\n",
    "                                           n_estimators = 100)\n",
    "\n",
    "#fit\n",
    "random_forest_clf.fit(X_train, y_train)\n",
    "\n",
    "#predict\n",
    "y_hat_train = random_forest_clf.predict(X_train)\n",
    "y_hat_test = random_forest_clf.predict(X_test)\n",
    "\n",
    "#train accuracy\n",
    "random_forest_train_accuracy = accuracy_score(y_train, y_hat_train) * 100\n",
    "print('Train accuracy: {0}'.format(random_forest_train_accuracy))\n",
    "\n",
    "#test accuracy\n",
    "random_forest_test_accuracy = accuracy_score(y_test, y_hat_test) * 100\n",
    "print('Test accuracy: {0}'.format(random_forest_test_accuracy))"
   ]
  },
  {
   "cell_type": "code",
   "execution_count": 407,
   "metadata": {},
   "outputs": [
    {
     "name": "stdout",
     "output_type": "stream",
     "text": [
      "Train cross validation: 0.8322813810906744\n",
      "Test cross validation: 0.7614478114478114\n"
     ]
    }
   ],
   "source": [
    "#train cross validation\n",
    "random_forest_train_cv_score = cross_val_score(random_forest_clf, X_train, y_train, cv = 5, n_jobs = -1).mean()\n",
    "print('Train cross validation:', random_forest_train_cv_score)\n",
    "\n",
    "#test cross validation\n",
    "random_forest_test_cv_score = cross_val_score(random_forest_clf, X_test, y_test, cv = 5, n_jobs = -1).mean()\n",
    "print('Test cross validation:', random_forest_test_cv_score)"
   ]
  },
  {
   "cell_type": "code",
   "execution_count": 408,
   "metadata": {},
   "outputs": [
    {
     "name": "stdout",
     "output_type": "stream",
     "text": [
      "Mean Absolute Error: 0.26346801346801346\n",
      "Mean Squared Error: 0.32861952861952864\n",
      "Root Mean Squared Error: 0.5732534593175419\n"
     ]
    }
   ],
   "source": [
    "#evaluate with MAE, MSE, RMSE\n",
    "print('Mean Absolute Error:', mean_absolute_error(y_test, y_hat_test))  \n",
    "print('Mean Squared Error:', mean_squared_error(y_test, y_hat_test))  \n",
    "print('Root Mean Squared Error:', mean_squared_error(y_test, y_hat_test, squared = False))"
   ]
  },
  {
   "cell_type": "code",
   "execution_count": 409,
   "metadata": {
    "scrolled": true
   },
   "outputs": [
    {
     "name": "stdout",
     "output_type": "stream",
     "text": [
      "Model: Random Forest \n",
      "               precision    recall  f1-score   support\n",
      "\n",
      "           0       0.83      0.76      0.80      4614\n",
      "           1       0.83      0.80      0.81      6434\n",
      "           2       0.33      0.60      0.43       832\n",
      "\n",
      "    accuracy                           0.77     11880\n",
      "   macro avg       0.67      0.72      0.68     11880\n",
      "weighted avg       0.80      0.77      0.78     11880\n",
      "\n"
     ]
    }
   ],
   "source": [
    "#classification report\n",
    "random_forest_classification_report = classification_report(y_test, y_hat_test)\n",
    "print('Model: Random Forest', '\\n', random_forest_classification_report)"
   ]
  },
  {
   "cell_type": "code",
   "execution_count": 410,
   "metadata": {
    "scrolled": true
   },
   "outputs": [
    {
     "data": {
      "text/plain": [
       "<sklearn.metrics._plot.confusion_matrix.ConfusionMatrixDisplay at 0x7febc0fcaa00>"
      ]
     },
     "execution_count": 410,
     "metadata": {},
     "output_type": "execute_result"
    },
    {
     "data": {
      "image/png": "[encoded data removed]",
      "text/plain": [
       "<Figure size 432x288 with 2 Axes>"
      ]
     },
     "metadata": {
      "needs_background": "light"
     },
     "output_type": "display_data"
    }
   ],
   "source": [
    "#plot confusion matrix\n",
    "plot_confusion_matrix(random_forest_clf, X_test, y_test, cmap = plt.cm.Blues)"
   ]
  },
  {
   "cell_type": "code",
   "execution_count": 411,
   "metadata": {},
   "outputs": [
    {
     "name": "stdout",
     "output_type": "stream",
     "text": [
      "0.0893939393939394\n",
      "0.4275453751884728\n"
     ]
    }
   ],
   "source": [
    "#get test bias and variance\n",
    "print(bias(y_test, y_hat_test))\n",
    "print(variance(y_hat_test))"
   ]
  },
  {
   "cell_type": "code",
   "execution_count": 412,
   "metadata": {},
   "outputs": [
    {
     "data": {
      "text/html": [
       "<div>\n",
       "<style scoped>\n",
       "    .dataframe tbody tr th:only-of-type {\n",
       "        vertical-align: middle;\n",
       "    }\n",
       "\n",
       "    .dataframe tbody tr th {\n",
       "        vertical-align: top;\n",
       "    }\n",
       "\n",
       "    .dataframe thead th {\n",
       "        text-align: right;\n",
       "    }\n",
       "</style>\n",
       "<table border=\"1\" class=\"dataframe\">\n",
       "  <thead>\n",
       "    <tr style=\"text-align: right;\">\n",
       "      <th></th>\n",
       "      <th>Model</th>\n",
       "      <th>Accuracy</th>\n",
       "      <th>CV</th>\n",
       "      <th>Precision</th>\n",
       "      <th>Recall</th>\n",
       "      <th>F1 Score</th>\n",
       "      <th>MAE</th>\n",
       "      <th>MSE</th>\n",
       "      <th>RMSE</th>\n",
       "      <th>AUC</th>\n",
       "      <th>Bias</th>\n",
       "      <th>Variance</th>\n",
       "    </tr>\n",
       "  </thead>\n",
       "  <tbody>\n",
       "    <tr>\n",
       "      <th>0</th>\n",
       "      <td>Imbalance Logistic Regression</td>\n",
       "      <td>75.03</td>\n",
       "      <td>0.74</td>\n",
       "      <td>0.67</td>\n",
       "      <td>0.56</td>\n",
       "      <td>0.58</td>\n",
       "      <td>0.30</td>\n",
       "      <td>0.41</td>\n",
       "      <td>0.64</td>\n",
       "      <td>0.82</td>\n",
       "      <td>-0.165152</td>\n",
       "      <td>0.269192</td>\n",
       "    </tr>\n",
       "    <tr>\n",
       "      <th>2</th>\n",
       "      <td>Logistic Regression</td>\n",
       "      <td>65.64</td>\n",
       "      <td>0.74</td>\n",
       "      <td>0.60</td>\n",
       "      <td>0.67</td>\n",
       "      <td>0.58</td>\n",
       "      <td>0.41</td>\n",
       "      <td>0.54</td>\n",
       "      <td>0.74</td>\n",
       "      <td>0.82</td>\n",
       "      <td>0.223485</td>\n",
       "      <td>0.550681</td>\n",
       "    </tr>\n",
       "    <tr>\n",
       "      <th>1</th>\n",
       "      <td>Decision Tree</td>\n",
       "      <td>69.22</td>\n",
       "      <td>0.69</td>\n",
       "      <td>0.60</td>\n",
       "      <td>0.65</td>\n",
       "      <td>0.61</td>\n",
       "      <td>0.35</td>\n",
       "      <td>0.44</td>\n",
       "      <td>0.66</td>\n",
       "      <td>-</td>\n",
       "      <td>0.079125</td>\n",
       "      <td>0.461963</td>\n",
       "    </tr>\n",
       "    <tr>\n",
       "      <th>3</th>\n",
       "      <td>KNN</td>\n",
       "      <td>74.79</td>\n",
       "      <td>0.72</td>\n",
       "      <td>0.64</td>\n",
       "      <td>0.67</td>\n",
       "      <td>0.65</td>\n",
       "      <td>0.29</td>\n",
       "      <td>0.36</td>\n",
       "      <td>0.60</td>\n",
       "      <td>-</td>\n",
       "      <td>0.045623</td>\n",
       "      <td>0.408953</td>\n",
       "    </tr>\n",
       "    <tr>\n",
       "      <th>4</th>\n",
       "      <td>Random Forest</td>\n",
       "      <td>76.91</td>\n",
       "      <td>0.76</td>\n",
       "      <td>0.67</td>\n",
       "      <td>0.72</td>\n",
       "      <td>0.68</td>\n",
       "      <td>0.26</td>\n",
       "      <td>0.33</td>\n",
       "      <td>0.57</td>\n",
       "      <td>-</td>\n",
       "      <td>0.089394</td>\n",
       "      <td>0.427545</td>\n",
       "    </tr>\n",
       "  </tbody>\n",
       "</table>\n",
       "</div>"
      ],
      "text/plain": [
       "                           Model  Accuracy    CV  Precision  Recall  F1 Score  \\\n",
       "0  Imbalance Logistic Regression     75.03  0.74       0.67    0.56      0.58   \n",
       "2            Logistic Regression     65.64  0.74       0.60    0.67      0.58   \n",
       "1                  Decision Tree     69.22  0.69       0.60    0.65      0.61   \n",
       "3                            KNN     74.79  0.72       0.64    0.67      0.65   \n",
       "4                  Random Forest     76.91  0.76       0.67    0.72      0.68   \n",
       "\n",
       "    MAE   MSE  RMSE   AUC      Bias  Variance  \n",
       "0  0.30  0.41  0.64  0.82 -0.165152  0.269192  \n",
       "2  0.41  0.54  0.74  0.82  0.223485  0.550681  \n",
       "1  0.35  0.44  0.66     -  0.079125  0.461963  \n",
       "3  0.29  0.36  0.60     -  0.045623  0.408953  \n",
       "4  0.26  0.33  0.57     -  0.089394  0.427545  "
      ]
     },
     "execution_count": 412,
     "metadata": {},
     "output_type": "execute_result"
    }
   ],
   "source": [
    "#summary table\n",
    "summary_table.loc[4] = ['Random Forest',\n",
    "                        round(random_forest_test_accuracy, 2), round(random_forest_test_cv_score, 2), \n",
    "                        round(precision_score(y_test, y_hat_test, average = 'macro'), 2), round(recall_score(y_test, y_hat_test, average = 'macro'), 2), round(f1_score(y_test, y_hat_test, average = 'macro'), 2),\n",
    "                        round(mean_absolute_error(y_test, y_hat_test), 2), round(mean_squared_error(y_test, y_hat_test), 2), round(mean_squared_error(y_test, y_hat_test, squared = False), 2),\n",
    "                        '-', bias(y_test, y_hat_test), variance(y_hat_test)]\n",
    "summary_table.head()"
   ]
  },
  {
   "cell_type": "markdown",
   "metadata": {},
   "source": [
    "# Gradient Boosting"
   ]
  },
  {
   "cell_type": "code",
   "execution_count": 413,
   "metadata": {},
   "outputs": [
    {
     "name": "stdout",
     "output_type": "stream",
     "text": [
      "Train accuracy: 99.80509841884478\n",
      "Test accuracy: 79.58754208754209\n"
     ]
    }
   ],
   "source": [
    "#instantiate baseline model\n",
    "gradient_boost_clf = GradientBoostingClassifier(random_state = 21,\n",
    "                                                max_depth = 40,\n",
    "                                                max_features = 'auto',\n",
    "                                                min_samples_leaf = 3,\n",
    "                                                min_samples_split = 8,\n",
    "                                                n_estimators = 100)\n",
    "\n",
    "#fit\n",
    "gradient_boost_clf.fit(X_train, y_train)\n",
    "\n",
    "#predict\n",
    "y_hat_train = gradient_boost_clf.predict(X_train)\n",
    "y_hat_test = gradient_boost_clf.predict(X_test)\n",
    "\n",
    "#train accuracy\n",
    "gradient_boost_train_accuracy = accuracy_score(y_train, y_hat_train) * 100\n",
    "print('Train accuracy: {0}'.format(gradient_boost_train_accuracy))\n",
    "\n",
    "#test accuracy\n",
    "gradient_boost_test_accuracy = accuracy_score(y_test, y_hat_test) * 100\n",
    "print('Test accuracy: {0}'.format(gradient_boost_test_accuracy))"
   ]
  },
  {
   "cell_type": "code",
   "execution_count": 414,
   "metadata": {},
   "outputs": [
    {
     "data": {
      "text/plain": [
       "{'learning_rate': 0.05, 'subsample': 0.5}"
      ]
     },
     "execution_count": 414,
     "metadata": {},
     "output_type": "execute_result"
    }
   ],
   "source": [
    "#set param grid\n",
    "gradient_boost_param_grid = {'learning_rate': [0.01, 0.025, 0.05],\n",
    "                             'subsample': [0.5, 0.8, 1.0]}\n",
    "\n",
    "#gridsearch\n",
    "gradient_boost_gridsearch = GridSearchCV(estimator = gradient_boost_clf,\n",
    "                                         param_grid = gradient_boost_param_grid, \n",
    "                                         scoring = 'accuracy',\n",
    "                                         n_jobs = -1,\n",
    "                                         cv = 5)\n",
    "\n",
    "#fit\n",
    "gradient_boost_gridsearch.fit(X_train, y_train)\n",
    "\n",
    "#best param\n",
    "gradient_boost_gridsearch.best_params_"
   ]
  },
  {
   "cell_type": "code",
   "execution_count": 415,
   "metadata": {},
   "outputs": [
    {
     "name": "stdout",
     "output_type": "stream",
     "text": [
      "Number of Various Combinations of Parameters Tried : 9\n"
     ]
    },
    {
     "data": {
      "text/html": [
       "<div>\n",
       "<style scoped>\n",
       "    .dataframe tbody tr th:only-of-type {\n",
       "        vertical-align: middle;\n",
       "    }\n",
       "\n",
       "    .dataframe tbody tr th {\n",
       "        vertical-align: top;\n",
       "    }\n",
       "\n",
       "    .dataframe thead th {\n",
       "        text-align: right;\n",
       "    }\n",
       "</style>\n",
       "<table border=\"1\" class=\"dataframe\">\n",
       "  <thead>\n",
       "    <tr style=\"text-align: right;\">\n",
       "      <th></th>\n",
       "      <th>mean_fit_time</th>\n",
       "      <th>std_fit_time</th>\n",
       "      <th>mean_score_time</th>\n",
       "      <th>std_score_time</th>\n",
       "      <th>param_learning_rate</th>\n",
       "      <th>param_subsample</th>\n",
       "      <th>params</th>\n",
       "      <th>split0_test_score</th>\n",
       "      <th>split1_test_score</th>\n",
       "      <th>split2_test_score</th>\n",
       "      <th>split3_test_score</th>\n",
       "      <th>split4_test_score</th>\n",
       "      <th>mean_test_score</th>\n",
       "      <th>std_test_score</th>\n",
       "      <th>rank_test_score</th>\n",
       "    </tr>\n",
       "  </thead>\n",
       "  <tbody>\n",
       "    <tr>\n",
       "      <th>0</th>\n",
       "      <td>1063.280611</td>\n",
       "      <td>6.400122</td>\n",
       "      <td>2.531589</td>\n",
       "      <td>0.069140</td>\n",
       "      <td>0.01</td>\n",
       "      <td>0.5</td>\n",
       "      <td>{'learning_rate': 0.01, 'subsample': 0.5}</td>\n",
       "      <td>0.808971</td>\n",
       "      <td>0.865828</td>\n",
       "      <td>0.867247</td>\n",
       "      <td>0.877122</td>\n",
       "      <td>0.887641</td>\n",
       "      <td>0.861362</td>\n",
       "      <td>0.027344</td>\n",
       "      <td>7</td>\n",
       "    </tr>\n",
       "    <tr>\n",
       "      <th>1</th>\n",
       "      <td>3828.541333</td>\n",
       "      <td>34.523492</td>\n",
       "      <td>6.174996</td>\n",
       "      <td>0.237433</td>\n",
       "      <td>0.01</td>\n",
       "      <td>0.8</td>\n",
       "      <td>{'learning_rate': 0.01, 'subsample': 0.8}</td>\n",
       "      <td>0.808971</td>\n",
       "      <td>0.867893</td>\n",
       "      <td>0.868667</td>\n",
       "      <td>0.883124</td>\n",
       "      <td>0.892030</td>\n",
       "      <td>0.864137</td>\n",
       "      <td>0.029039</td>\n",
       "      <td>5</td>\n",
       "    </tr>\n",
       "    <tr>\n",
       "      <th>2</th>\n",
       "      <td>6814.524971</td>\n",
       "      <td>27.924772</td>\n",
       "      <td>3.287249</td>\n",
       "      <td>0.051272</td>\n",
       "      <td>0.01</td>\n",
       "      <td>1</td>\n",
       "      <td>{'learning_rate': 0.01, 'subsample': 1.0}</td>\n",
       "      <td>0.794579</td>\n",
       "      <td>0.851371</td>\n",
       "      <td>0.857373</td>\n",
       "      <td>0.869313</td>\n",
       "      <td>0.877832</td>\n",
       "      <td>0.850094</td>\n",
       "      <td>0.029241</td>\n",
       "      <td>9</td>\n",
       "    </tr>\n",
       "    <tr>\n",
       "      <th>3</th>\n",
       "      <td>1111.332214</td>\n",
       "      <td>3.907094</td>\n",
       "      <td>2.560229</td>\n",
       "      <td>0.105365</td>\n",
       "      <td>0.025</td>\n",
       "      <td>0.5</td>\n",
       "      <td>{'learning_rate': 0.025, 'subsample': 0.5}</td>\n",
       "      <td>0.811810</td>\n",
       "      <td>0.871701</td>\n",
       "      <td>0.871959</td>\n",
       "      <td>0.885060</td>\n",
       "      <td>0.892675</td>\n",
       "      <td>0.866641</td>\n",
       "      <td>0.028556</td>\n",
       "      <td>3</td>\n",
       "    </tr>\n",
       "    <tr>\n",
       "      <th>4</th>\n",
       "      <td>6292.879076</td>\n",
       "      <td>11.569284</td>\n",
       "      <td>3.443209</td>\n",
       "      <td>0.085396</td>\n",
       "      <td>0.025</td>\n",
       "      <td>0.8</td>\n",
       "      <td>{'learning_rate': 0.025, 'subsample': 0.8}</td>\n",
       "      <td>0.810842</td>\n",
       "      <td>0.870797</td>\n",
       "      <td>0.870281</td>\n",
       "      <td>0.884543</td>\n",
       "      <td>0.896418</td>\n",
       "      <td>0.866576</td>\n",
       "      <td>0.029500</td>\n",
       "      <td>4</td>\n",
       "    </tr>\n",
       "  </tbody>\n",
       "</table>\n",
       "</div>"
      ],
      "text/plain": [
       "   mean_fit_time  std_fit_time  mean_score_time  std_score_time  \\\n",
       "0    1063.280611      6.400122         2.531589        0.069140   \n",
       "1    3828.541333     34.523492         6.174996        0.237433   \n",
       "2    6814.524971     27.924772         3.287249        0.051272   \n",
       "3    1111.332214      3.907094         2.560229        0.105365   \n",
       "4    6292.879076     11.569284         3.443209        0.085396   \n",
       "\n",
       "  param_learning_rate param_subsample  \\\n",
       "0                0.01             0.5   \n",
       "1                0.01             0.8   \n",
       "2                0.01               1   \n",
       "3               0.025             0.5   \n",
       "4               0.025             0.8   \n",
       "\n",
       "                                       params  split0_test_score  \\\n",
       "0   {'learning_rate': 0.01, 'subsample': 0.5}           0.808971   \n",
       "1   {'learning_rate': 0.01, 'subsample': 0.8}           0.808971   \n",
       "2   {'learning_rate': 0.01, 'subsample': 1.0}           0.794579   \n",
       "3  {'learning_rate': 0.025, 'subsample': 0.5}           0.811810   \n",
       "4  {'learning_rate': 0.025, 'subsample': 0.8}           0.810842   \n",
       "\n",
       "   split1_test_score  split2_test_score  split3_test_score  split4_test_score  \\\n",
       "0           0.865828           0.867247           0.877122           0.887641   \n",
       "1           0.867893           0.868667           0.883124           0.892030   \n",
       "2           0.851371           0.857373           0.869313           0.877832   \n",
       "3           0.871701           0.871959           0.885060           0.892675   \n",
       "4           0.870797           0.870281           0.884543           0.896418   \n",
       "\n",
       "   mean_test_score  std_test_score  rank_test_score  \n",
       "0         0.861362        0.027344                7  \n",
       "1         0.864137        0.029039                5  \n",
       "2         0.850094        0.029241                9  \n",
       "3         0.866641        0.028556                3  \n",
       "4         0.866576        0.029500                4  "
      ]
     },
     "execution_count": 415,
     "metadata": {},
     "output_type": "execute_result"
    }
   ],
   "source": [
    "#get cross-validation result\n",
    "gradient_boost_cross_val_results = pd.DataFrame(gradient_boost_gridsearch.cv_results_)\n",
    "print('Number of Various Combinations of Parameters Tried : %d'%len(gradient_boost_cross_val_results))\n",
    "\n",
    "gradient_boost_cross_val_results.head()"
   ]
  },
  {
   "cell_type": "code",
   "execution_count": 417,
   "metadata": {},
   "outputs": [
    {
     "name": "stdout",
     "output_type": "stream",
     "text": [
      "Train accuracy: 71.08228460793804\n",
      "Test accuracy: 68.493265993266\n"
     ]
    }
   ],
   "source": [
    "#train a classifier with optimal values identified above\n",
    "gradient_boost_clf = GradientBoostingClassifier(random_state = 21,\n",
    "                                  learning_rate = 0.05,\n",
    "                                  subsample = 0.5)\n",
    "\n",
    "#fit\n",
    "gradient_boost_clf.fit(X_train, y_train)\n",
    "\n",
    "#predict\n",
    "y_hat_train = gradient_boost_clf.predict(X_train)\n",
    "y_hat_test = gradient_boost_clf.predict(X_test)\n",
    "\n",
    "#train accuracy\n",
    "gradient_boost_train_accuracy = accuracy_score(y_train, y_hat_train) * 100\n",
    "print('Train accuracy: {0}'.format(gradient_boost_train_accuracy))\n",
    "\n",
    "#test accuracy\n",
    "gradient_boost_test_accuracy = accuracy_score(y_test, y_hat_test) * 100\n",
    "print('Test accuracy: {0}'.format(gradient_boost_test_accuracy))"
   ]
  },
  {
   "cell_type": "code",
   "execution_count": 418,
   "metadata": {},
   "outputs": [
    {
     "name": "stdout",
     "output_type": "stream",
     "text": [
      "Train cross validation: 0.7065505001613424\n",
      "Train cross validation: 0.7456228956228956\n"
     ]
    }
   ],
   "source": [
    "#train cross validation\n",
    "gradient_boost_train_cv_score = cross_val_score(gradient_boost_clf, X_train, y_train, cv = 5, n_jobs = -1).mean()\n",
    "print('Train cross validation:', gradient_boost_train_cv_score)\n",
    "\n",
    "#test cross validation\n",
    "gradient_boost_test_cv_score = cross_val_score(gradient_boost_clf, X_test, y_test, cv = 5, n_jobs = -1).mean()\n",
    "print('Train cross validation:', gradient_boost_test_cv_score)"
   ]
  },
  {
   "cell_type": "code",
   "execution_count": 419,
   "metadata": {},
   "outputs": [
    {
     "name": "stdout",
     "output_type": "stream",
     "text": [
      "Mean Absolute Error: 0.3659090909090909\n",
      "Mean Squared Error: 0.4675925925925926\n",
      "Root Mean Squared Error: 0.6838074236161762\n"
     ]
    }
   ],
   "source": [
    "#evaluate\n",
    "print('Mean Absolute Error:', mean_absolute_error(y_test, y_hat_test))  \n",
    "print('Mean Squared Error:', mean_squared_error(y_test, y_hat_test))  \n",
    "print('Root Mean Squared Error:', mean_squared_error(y_test, y_hat_test, squared = False))"
   ]
  },
  {
   "cell_type": "code",
   "execution_count": 420,
   "metadata": {
    "scrolled": true
   },
   "outputs": [
    {
     "name": "stdout",
     "output_type": "stream",
     "text": [
      "Model: Gradient Boosting \n",
      "               precision    recall  f1-score   support\n",
      "\n",
      "           0       0.80      0.64      0.71      4614\n",
      "           1       0.77      0.73      0.75      6434\n",
      "           2       0.23      0.58      0.33       832\n",
      "\n",
      "    accuracy                           0.68     11880\n",
      "   macro avg       0.60      0.65      0.60     11880\n",
      "weighted avg       0.74      0.68      0.71     11880\n",
      "\n"
     ]
    }
   ],
   "source": [
    "#classification report\n",
    "gradient_boost_classification_report = classification_report(y_test, y_hat_test)\n",
    "print('Model: Gradient Boosting', '\\n', gradient_boost_classification_report)"
   ]
  },
  {
   "cell_type": "code",
   "execution_count": 421,
   "metadata": {
    "scrolled": true
   },
   "outputs": [
    {
     "data": {
      "text/plain": [
       "<sklearn.metrics._plot.confusion_matrix.ConfusionMatrixDisplay at 0x7febd163e8e0>"
      ]
     },
     "execution_count": 421,
     "metadata": {},
     "output_type": "execute_result"
    },
    {
     "data": {
      "image/png": "[encoded data removed]",
      "text/plain": [
       "<Figure size 432x288 with 2 Axes>"
      ]
     },
     "metadata": {
      "needs_background": "light"
     },
     "output_type": "display_data"
    }
   ],
   "source": [
    "#plot confusion matrix\n",
    "plot_confusion_matrix(gradient_boost_clf, X_test, y_test, cmap = plt.cm.Blues)"
   ]
  },
  {
   "cell_type": "code",
   "execution_count": 422,
   "metadata": {},
   "outputs": [
    {
     "name": "stdout",
     "output_type": "stream",
     "text": [
      "0.1824074074074074\n",
      "0.4709976802253738\n"
     ]
    }
   ],
   "source": [
    "#get test bias and variance\n",
    "print(bias(y_test, y_hat_test))\n",
    "print(variance(y_hat_test))"
   ]
  },
  {
   "cell_type": "code",
   "execution_count": 423,
   "metadata": {},
   "outputs": [
    {
     "data": {
      "text/html": [
       "<div>\n",
       "<style scoped>\n",
       "    .dataframe tbody tr th:only-of-type {\n",
       "        vertical-align: middle;\n",
       "    }\n",
       "\n",
       "    .dataframe tbody tr th {\n",
       "        vertical-align: top;\n",
       "    }\n",
       "\n",
       "    .dataframe thead th {\n",
       "        text-align: right;\n",
       "    }\n",
       "</style>\n",
       "<table border=\"1\" class=\"dataframe\">\n",
       "  <thead>\n",
       "    <tr style=\"text-align: right;\">\n",
       "      <th></th>\n",
       "      <th>Model</th>\n",
       "      <th>Accuracy</th>\n",
       "      <th>CV</th>\n",
       "      <th>Precision</th>\n",
       "      <th>Recall</th>\n",
       "      <th>F1 Score</th>\n",
       "      <th>MAE</th>\n",
       "      <th>MSE</th>\n",
       "      <th>RMSE</th>\n",
       "      <th>AUC</th>\n",
       "      <th>Bias</th>\n",
       "      <th>Variance</th>\n",
       "    </tr>\n",
       "  </thead>\n",
       "  <tbody>\n",
       "    <tr>\n",
       "      <th>0</th>\n",
       "      <td>Imbalance Logistic Regression</td>\n",
       "      <td>75.03</td>\n",
       "      <td>0.74</td>\n",
       "      <td>0.67</td>\n",
       "      <td>0.56</td>\n",
       "      <td>0.58</td>\n",
       "      <td>0.30</td>\n",
       "      <td>0.41</td>\n",
       "      <td>0.64</td>\n",
       "      <td>0.82</td>\n",
       "      <td>-0.165152</td>\n",
       "      <td>0.269192</td>\n",
       "    </tr>\n",
       "    <tr>\n",
       "      <th>2</th>\n",
       "      <td>Logistic Regression</td>\n",
       "      <td>65.64</td>\n",
       "      <td>0.74</td>\n",
       "      <td>0.60</td>\n",
       "      <td>0.67</td>\n",
       "      <td>0.58</td>\n",
       "      <td>0.41</td>\n",
       "      <td>0.54</td>\n",
       "      <td>0.74</td>\n",
       "      <td>0.82</td>\n",
       "      <td>0.223485</td>\n",
       "      <td>0.550681</td>\n",
       "    </tr>\n",
       "    <tr>\n",
       "      <th>1</th>\n",
       "      <td>Decision Tree</td>\n",
       "      <td>69.22</td>\n",
       "      <td>0.69</td>\n",
       "      <td>0.60</td>\n",
       "      <td>0.65</td>\n",
       "      <td>0.61</td>\n",
       "      <td>0.35</td>\n",
       "      <td>0.44</td>\n",
       "      <td>0.66</td>\n",
       "      <td>-</td>\n",
       "      <td>0.079125</td>\n",
       "      <td>0.461963</td>\n",
       "    </tr>\n",
       "    <tr>\n",
       "      <th>3</th>\n",
       "      <td>KNN</td>\n",
       "      <td>74.79</td>\n",
       "      <td>0.72</td>\n",
       "      <td>0.64</td>\n",
       "      <td>0.67</td>\n",
       "      <td>0.65</td>\n",
       "      <td>0.29</td>\n",
       "      <td>0.36</td>\n",
       "      <td>0.60</td>\n",
       "      <td>-</td>\n",
       "      <td>0.045623</td>\n",
       "      <td>0.408953</td>\n",
       "    </tr>\n",
       "    <tr>\n",
       "      <th>4</th>\n",
       "      <td>Random Forest</td>\n",
       "      <td>76.91</td>\n",
       "      <td>0.76</td>\n",
       "      <td>0.67</td>\n",
       "      <td>0.72</td>\n",
       "      <td>0.68</td>\n",
       "      <td>0.26</td>\n",
       "      <td>0.33</td>\n",
       "      <td>0.57</td>\n",
       "      <td>-</td>\n",
       "      <td>0.089394</td>\n",
       "      <td>0.427545</td>\n",
       "    </tr>\n",
       "  </tbody>\n",
       "</table>\n",
       "</div>"
      ],
      "text/plain": [
       "                           Model  Accuracy    CV  Precision  Recall  F1 Score  \\\n",
       "0  Imbalance Logistic Regression     75.03  0.74       0.67    0.56      0.58   \n",
       "2            Logistic Regression     65.64  0.74       0.60    0.67      0.58   \n",
       "1                  Decision Tree     69.22  0.69       0.60    0.65      0.61   \n",
       "3                            KNN     74.79  0.72       0.64    0.67      0.65   \n",
       "4                  Random Forest     76.91  0.76       0.67    0.72      0.68   \n",
       "\n",
       "    MAE   MSE  RMSE   AUC      Bias  Variance  \n",
       "0  0.30  0.41  0.64  0.82 -0.165152  0.269192  \n",
       "2  0.41  0.54  0.74  0.82  0.223485  0.550681  \n",
       "1  0.35  0.44  0.66     -  0.079125  0.461963  \n",
       "3  0.29  0.36  0.60     -  0.045623  0.408953  \n",
       "4  0.26  0.33  0.57     -  0.089394  0.427545  "
      ]
     },
     "execution_count": 423,
     "metadata": {},
     "output_type": "execute_result"
    }
   ],
   "source": [
    "#summary table\n",
    "summary_table.loc[5] = ['Gradient Boost',\n",
    "                        round(gradient_boost_test_accuracy, 2), round(gradient_boost_test_cv_score, 2), \n",
    "                        round(precision_score(y_test, y_hat_test, average = 'macro'), 2), round(recall_score(y_test, y_hat_test, average = 'macro'), 2), round(f1_score(y_test, y_hat_test, average = 'macro'), 2),\n",
    "                        round(mean_absolute_error(y_test, y_hat_test), 2), round(mean_squared_error(y_test, y_hat_test), 2), round(mean_squared_error(y_test, y_hat_test, squared = False), 2),\n",
    "                        '-', bias(y_test, y_hat_test), variance(y_hat_test)]\n",
    "summary_table.head()"
   ]
  },
  {
   "cell_type": "markdown",
   "metadata": {},
   "source": [
    "# AdaBoost"
   ]
  },
  {
   "cell_type": "code",
   "execution_count": 424,
   "metadata": {},
   "outputs": [
    {
     "name": "stdout",
     "output_type": "stream",
     "text": [
      "Train accuracy: 65.29590190383995 \n",
      "Test accuracy: 63.122895622895626 \n"
     ]
    }
   ],
   "source": [
    "#instantiate baseline model\n",
    "adaboost_clf = AdaBoostClassifier(random_state = 21)\n",
    "\n",
    "#fit\n",
    "adaboost_clf.fit(X_train, y_train)\n",
    "\n",
    "#predict\n",
    "y_hat_train = adaboost_clf.predict(X_train)\n",
    "y_hat_test = adaboost_clf.predict(X_test)\n",
    "\n",
    "#train accuracy\n",
    "adaboost_train_accuracy = accuracy_score(y_train, y_hat_train) * 100\n",
    "print('Train accuracy: {0} '.format(adaboost_train_accuracy))\n",
    "\n",
    "#test accuracy\n",
    "adaboost_test_accuracy = accuracy_score(y_test, y_hat_test) * 100\n",
    "print('Test accuracy: {0} '.format(adaboost_test_accuracy))"
   ]
  },
  {
   "cell_type": "code",
   "execution_count": 425,
   "metadata": {},
   "outputs": [
    {
     "data": {
      "text/plain": [
       "{'learning_rate': 0.05, 'n_estimators': 100}"
      ]
     },
     "execution_count": 425,
     "metadata": {},
     "output_type": "execute_result"
    }
   ],
   "source": [
    "#param\n",
    "adaboost_param_grid = {'learning_rate': [0.01, 0.025, 0.05],\n",
    "                       'n_estimators' : [20, 50, 100]}\n",
    "\n",
    "#gridsearch\n",
    "adaboost_gridsearch = GridSearchCV(estimator = adaboost_clf,\n",
    "                                   param_grid = adaboost_param_grid,\n",
    "                                   scoring = 'accuracy',\n",
    "                                   n_jobs = -1,\n",
    "                                   cv = 5)\n",
    "\n",
    "#fit\n",
    "adaboost_gridsearch.fit(X_train, y_train)\n",
    "\n",
    "#best param\n",
    "adaboost_gridsearch.best_params_"
   ]
  },
  {
   "cell_type": "code",
   "execution_count": 426,
   "metadata": {},
   "outputs": [
    {
     "name": "stdout",
     "output_type": "stream",
     "text": [
      "Number of Various Combinations of Parameters Tried : 9\n"
     ]
    },
    {
     "data": {
      "text/html": [
       "<div>\n",
       "<style scoped>\n",
       "    .dataframe tbody tr th:only-of-type {\n",
       "        vertical-align: middle;\n",
       "    }\n",
       "\n",
       "    .dataframe tbody tr th {\n",
       "        vertical-align: top;\n",
       "    }\n",
       "\n",
       "    .dataframe thead th {\n",
       "        text-align: right;\n",
       "    }\n",
       "</style>\n",
       "<table border=\"1\" class=\"dataframe\">\n",
       "  <thead>\n",
       "    <tr style=\"text-align: right;\">\n",
       "      <th></th>\n",
       "      <th>mean_fit_time</th>\n",
       "      <th>std_fit_time</th>\n",
       "      <th>mean_score_time</th>\n",
       "      <th>std_score_time</th>\n",
       "      <th>param_learning_rate</th>\n",
       "      <th>param_n_estimators</th>\n",
       "      <th>params</th>\n",
       "      <th>split0_test_score</th>\n",
       "      <th>split1_test_score</th>\n",
       "      <th>split2_test_score</th>\n",
       "      <th>split3_test_score</th>\n",
       "      <th>split4_test_score</th>\n",
       "      <th>mean_test_score</th>\n",
       "      <th>std_test_score</th>\n",
       "      <th>rank_test_score</th>\n",
       "    </tr>\n",
       "  </thead>\n",
       "  <tbody>\n",
       "    <tr>\n",
       "      <th>0</th>\n",
       "      <td>29.261327</td>\n",
       "      <td>0.422242</td>\n",
       "      <td>0.697362</td>\n",
       "      <td>0.024153</td>\n",
       "      <td>0.01</td>\n",
       "      <td>20</td>\n",
       "      <td>{'learning_rate': 0.01, 'n_estimators': 20}</td>\n",
       "      <td>0.456922</td>\n",
       "      <td>0.463956</td>\n",
       "      <td>0.463956</td>\n",
       "      <td>0.459503</td>\n",
       "      <td>0.458341</td>\n",
       "      <td>0.460536</td>\n",
       "      <td>0.002910</td>\n",
       "      <td>9</td>\n",
       "    </tr>\n",
       "    <tr>\n",
       "      <th>1</th>\n",
       "      <td>73.909179</td>\n",
       "      <td>0.367680</td>\n",
       "      <td>1.733230</td>\n",
       "      <td>0.047455</td>\n",
       "      <td>0.01</td>\n",
       "      <td>50</td>\n",
       "      <td>{'learning_rate': 0.01, 'n_estimators': 50}</td>\n",
       "      <td>0.457373</td>\n",
       "      <td>0.464666</td>\n",
       "      <td>0.464472</td>\n",
       "      <td>0.459761</td>\n",
       "      <td>0.458858</td>\n",
       "      <td>0.461026</td>\n",
       "      <td>0.002992</td>\n",
       "      <td>8</td>\n",
       "    </tr>\n",
       "    <tr>\n",
       "      <th>2</th>\n",
       "      <td>145.455450</td>\n",
       "      <td>0.708682</td>\n",
       "      <td>3.098091</td>\n",
       "      <td>0.162893</td>\n",
       "      <td>0.01</td>\n",
       "      <td>100</td>\n",
       "      <td>{'learning_rate': 0.01, 'n_estimators': 100}</td>\n",
       "      <td>0.507002</td>\n",
       "      <td>0.529719</td>\n",
       "      <td>0.524556</td>\n",
       "      <td>0.525008</td>\n",
       "      <td>0.517909</td>\n",
       "      <td>0.520839</td>\n",
       "      <td>0.007875</td>\n",
       "      <td>4</td>\n",
       "    </tr>\n",
       "    <tr>\n",
       "      <th>3</th>\n",
       "      <td>30.063511</td>\n",
       "      <td>0.547768</td>\n",
       "      <td>0.705524</td>\n",
       "      <td>0.010443</td>\n",
       "      <td>0.025</td>\n",
       "      <td>20</td>\n",
       "      <td>{'learning_rate': 0.025, 'n_estimators': 20}</td>\n",
       "      <td>0.457373</td>\n",
       "      <td>0.464408</td>\n",
       "      <td>0.464472</td>\n",
       "      <td>0.460600</td>\n",
       "      <td>0.458922</td>\n",
       "      <td>0.461155</td>\n",
       "      <td>0.002870</td>\n",
       "      <td>7</td>\n",
       "    </tr>\n",
       "    <tr>\n",
       "      <th>4</th>\n",
       "      <td>73.790877</td>\n",
       "      <td>0.534223</td>\n",
       "      <td>1.746942</td>\n",
       "      <td>0.012835</td>\n",
       "      <td>0.025</td>\n",
       "      <td>50</td>\n",
       "      <td>{'learning_rate': 0.025, 'n_estimators': 50}</td>\n",
       "      <td>0.507002</td>\n",
       "      <td>0.529719</td>\n",
       "      <td>0.524298</td>\n",
       "      <td>0.525073</td>\n",
       "      <td>0.517909</td>\n",
       "      <td>0.520800</td>\n",
       "      <td>0.007859</td>\n",
       "      <td>5</td>\n",
       "    </tr>\n",
       "  </tbody>\n",
       "</table>\n",
       "</div>"
      ],
      "text/plain": [
       "   mean_fit_time  std_fit_time  mean_score_time  std_score_time  \\\n",
       "0      29.261327      0.422242         0.697362        0.024153   \n",
       "1      73.909179      0.367680         1.733230        0.047455   \n",
       "2     145.455450      0.708682         3.098091        0.162893   \n",
       "3      30.063511      0.547768         0.705524        0.010443   \n",
       "4      73.790877      0.534223         1.746942        0.012835   \n",
       "\n",
       "  param_learning_rate param_n_estimators  \\\n",
       "0                0.01                 20   \n",
       "1                0.01                 50   \n",
       "2                0.01                100   \n",
       "3               0.025                 20   \n",
       "4               0.025                 50   \n",
       "\n",
       "                                         params  split0_test_score  \\\n",
       "0   {'learning_rate': 0.01, 'n_estimators': 20}           0.456922   \n",
       "1   {'learning_rate': 0.01, 'n_estimators': 50}           0.457373   \n",
       "2  {'learning_rate': 0.01, 'n_estimators': 100}           0.507002   \n",
       "3  {'learning_rate': 0.025, 'n_estimators': 20}           0.457373   \n",
       "4  {'learning_rate': 0.025, 'n_estimators': 50}           0.507002   \n",
       "\n",
       "   split1_test_score  split2_test_score  split3_test_score  split4_test_score  \\\n",
       "0           0.463956           0.463956           0.459503           0.458341   \n",
       "1           0.464666           0.464472           0.459761           0.458858   \n",
       "2           0.529719           0.524556           0.525008           0.517909   \n",
       "3           0.464408           0.464472           0.460600           0.458922   \n",
       "4           0.529719           0.524298           0.525073           0.517909   \n",
       "\n",
       "   mean_test_score  std_test_score  rank_test_score  \n",
       "0         0.460536        0.002910                9  \n",
       "1         0.461026        0.002992                8  \n",
       "2         0.520839        0.007875                4  \n",
       "3         0.461155        0.002870                7  \n",
       "4         0.520800        0.007859                5  "
      ]
     },
     "execution_count": 426,
     "metadata": {},
     "output_type": "execute_result"
    }
   ],
   "source": [
    "#get cross-validation result\n",
    "adaboost_cross_val_results = pd.DataFrame(adaboost_gridsearch.cv_results_)\n",
    "print('Number of Various Combinations of Parameters Tried : %d'%len(adaboost_cross_val_results))\n",
    "\n",
    "adaboost_cross_val_results.head()"
   ]
  },
  {
   "cell_type": "code",
   "execution_count": 427,
   "metadata": {},
   "outputs": [
    {
     "name": "stdout",
     "output_type": "stream",
     "text": [
      "Train accuracy: 55.2539528880284\n",
      "Test accuracy: 57.43265993265994\n"
     ]
    }
   ],
   "source": [
    "#train a classifier with optimal values identified above\n",
    "adaboost_clf = AdaBoostClassifier(random_state = 21,\n",
    "                                  learning_rate = 0.05,\n",
    "                                  n_estimators = 100)\n",
    "\n",
    "#fit\n",
    "adaboost_clf.fit(X_train, y_train)\n",
    "\n",
    "#predict\n",
    "y_hat_train = adaboost_clf.predict(X_train)\n",
    "y_hat_test = adaboost_clf.predict(X_test)\n",
    "\n",
    "#train accuracy\n",
    "adaboost_train_accuracy = accuracy_score(y_train, y_hat_train) * 100\n",
    "print('Train accuracy:', adaboost_train_accuracy)\n",
    "\n",
    "#test accuracy\n",
    "adaboost_test_accuracy = accuracy_score(y_test, y_hat_test) * 100\n",
    "print('Test accuracy:', adaboost_test_accuracy)"
   ]
  },
  {
   "cell_type": "code",
   "execution_count": 428,
   "metadata": {},
   "outputs": [
    {
     "name": "stdout",
     "output_type": "stream",
     "text": [
      "Train cross validation: 0.5490029041626332\n",
      "Test cross validation: 0.6485690235690236\n"
     ]
    }
   ],
   "source": [
    "#train cross validation\n",
    "adaboost_train_cv_score = cross_val_score(adaboost_clf, X_train, y_train, cv = 5, n_jobs = -1).mean()\n",
    "print('Train cross validation:', adaboost_train_cv_score)\n",
    "\n",
    "#test cross validation\n",
    "adaboost_test_cv_score = cross_val_score(adaboost_clf, X_test, y_test, cv = 5, n_jobs = -1).mean()\n",
    "print('Test cross validation:', adaboost_test_cv_score)"
   ]
  },
  {
   "cell_type": "code",
   "execution_count": 429,
   "metadata": {},
   "outputs": [
    {
     "name": "stdout",
     "output_type": "stream",
     "text": [
      "Mean Absolute Error: 0.5247474747474747\n",
      "Mean Squared Error: 0.7228956228956229\n",
      "Root Mean Squared Error: 0.8502326875012646\n"
     ]
    }
   ],
   "source": [
    "#evaluate with MAE, MSE, RMSE\n",
    "print('Mean Absolute Error:', mean_absolute_error(y_test, y_hat_test))  \n",
    "print('Mean Squared Error:', mean_squared_error(y_test, y_hat_test))  \n",
    "print('Root Mean Squared Error:', mean_squared_error(y_test, y_hat_test, squared = False))"
   ]
  },
  {
   "cell_type": "code",
   "execution_count": 430,
   "metadata": {},
   "outputs": [
    {
     "name": "stdout",
     "output_type": "stream",
     "text": [
      "Model: adaBoost \n",
      "               precision    recall  f1-score   support\n",
      "\n",
      "           0       0.66      0.50      0.57      4614\n",
      "           1       0.72      0.64      0.68      6434\n",
      "           2       0.14      0.46      0.22       832\n",
      "\n",
      "    accuracy                           0.57     11880\n",
      "   macro avg       0.51      0.53      0.49     11880\n",
      "weighted avg       0.66      0.57      0.60     11880\n",
      "\n"
     ]
    }
   ],
   "source": [
    "#classification report\n",
    "adaboost_classification_report = classification_report(y_test, y_hat_test)\n",
    "print('Model: adaBoost', '\\n', adaboost_classification_report)"
   ]
  },
  {
   "cell_type": "code",
   "execution_count": 431,
   "metadata": {
    "scrolled": true
   },
   "outputs": [
    {
     "data": {
      "text/plain": [
       "<sklearn.metrics._plot.confusion_matrix.ConfusionMatrixDisplay at 0x7feba1095d30>"
      ]
     },
     "execution_count": 431,
     "metadata": {},
     "output_type": "execute_result"
    },
    {
     "data": {
      "image/png": "[encoded data removed]",
      "text/plain": [
       "<Figure size 432x288 with 2 Axes>"
      ]
     },
     "metadata": {
      "needs_background": "light"
     },
     "output_type": "display_data"
    }
   ],
   "source": [
    "#plot confusion matrix\n",
    "plot_confusion_matrix(adaboost_clf, X_test, y_test, cmap = plt.cm.Blues)"
   ]
  },
  {
   "cell_type": "code",
   "execution_count": 432,
   "metadata": {},
   "outputs": [
    {
     "name": "stdout",
     "output_type": "stream",
     "text": [
      "0.24511784511784512\n",
      "0.5146706968676666\n"
     ]
    }
   ],
   "source": [
    "#get test bias and variance\n",
    "print(bias(y_test, y_hat_test))\n",
    "print(variance(y_hat_test))"
   ]
  },
  {
   "cell_type": "code",
   "execution_count": 433,
   "metadata": {},
   "outputs": [
    {
     "data": {
      "text/html": [
       "<div>\n",
       "<style scoped>\n",
       "    .dataframe tbody tr th:only-of-type {\n",
       "        vertical-align: middle;\n",
       "    }\n",
       "\n",
       "    .dataframe tbody tr th {\n",
       "        vertical-align: top;\n",
       "    }\n",
       "\n",
       "    .dataframe thead th {\n",
       "        text-align: right;\n",
       "    }\n",
       "</style>\n",
       "<table border=\"1\" class=\"dataframe\">\n",
       "  <thead>\n",
       "    <tr style=\"text-align: right;\">\n",
       "      <th></th>\n",
       "      <th>Model</th>\n",
       "      <th>Accuracy</th>\n",
       "      <th>CV</th>\n",
       "      <th>Precision</th>\n",
       "      <th>Recall</th>\n",
       "      <th>F1 Score</th>\n",
       "      <th>MAE</th>\n",
       "      <th>MSE</th>\n",
       "      <th>RMSE</th>\n",
       "      <th>AUC</th>\n",
       "      <th>Bias</th>\n",
       "      <th>Variance</th>\n",
       "    </tr>\n",
       "  </thead>\n",
       "  <tbody>\n",
       "    <tr>\n",
       "      <th>0</th>\n",
       "      <td>Imbalance Logistic Regression</td>\n",
       "      <td>75.03</td>\n",
       "      <td>0.74</td>\n",
       "      <td>0.67</td>\n",
       "      <td>0.56</td>\n",
       "      <td>0.58</td>\n",
       "      <td>0.30</td>\n",
       "      <td>0.41</td>\n",
       "      <td>0.64</td>\n",
       "      <td>0.82</td>\n",
       "      <td>-0.165152</td>\n",
       "      <td>0.269192</td>\n",
       "    </tr>\n",
       "    <tr>\n",
       "      <th>2</th>\n",
       "      <td>Logistic Regression</td>\n",
       "      <td>65.64</td>\n",
       "      <td>0.74</td>\n",
       "      <td>0.60</td>\n",
       "      <td>0.67</td>\n",
       "      <td>0.58</td>\n",
       "      <td>0.41</td>\n",
       "      <td>0.54</td>\n",
       "      <td>0.74</td>\n",
       "      <td>0.82</td>\n",
       "      <td>0.223485</td>\n",
       "      <td>0.550681</td>\n",
       "    </tr>\n",
       "    <tr>\n",
       "      <th>1</th>\n",
       "      <td>Decision Tree</td>\n",
       "      <td>69.22</td>\n",
       "      <td>0.69</td>\n",
       "      <td>0.60</td>\n",
       "      <td>0.65</td>\n",
       "      <td>0.61</td>\n",
       "      <td>0.35</td>\n",
       "      <td>0.44</td>\n",
       "      <td>0.66</td>\n",
       "      <td>-</td>\n",
       "      <td>0.079125</td>\n",
       "      <td>0.461963</td>\n",
       "    </tr>\n",
       "    <tr>\n",
       "      <th>3</th>\n",
       "      <td>KNN</td>\n",
       "      <td>74.79</td>\n",
       "      <td>0.72</td>\n",
       "      <td>0.64</td>\n",
       "      <td>0.67</td>\n",
       "      <td>0.65</td>\n",
       "      <td>0.29</td>\n",
       "      <td>0.36</td>\n",
       "      <td>0.60</td>\n",
       "      <td>-</td>\n",
       "      <td>0.045623</td>\n",
       "      <td>0.408953</td>\n",
       "    </tr>\n",
       "    <tr>\n",
       "      <th>4</th>\n",
       "      <td>Random Forest</td>\n",
       "      <td>76.91</td>\n",
       "      <td>0.76</td>\n",
       "      <td>0.67</td>\n",
       "      <td>0.72</td>\n",
       "      <td>0.68</td>\n",
       "      <td>0.26</td>\n",
       "      <td>0.33</td>\n",
       "      <td>0.57</td>\n",
       "      <td>-</td>\n",
       "      <td>0.089394</td>\n",
       "      <td>0.427545</td>\n",
       "    </tr>\n",
       "  </tbody>\n",
       "</table>\n",
       "</div>"
      ],
      "text/plain": [
       "                           Model  Accuracy    CV  Precision  Recall  F1 Score  \\\n",
       "0  Imbalance Logistic Regression     75.03  0.74       0.67    0.56      0.58   \n",
       "2            Logistic Regression     65.64  0.74       0.60    0.67      0.58   \n",
       "1                  Decision Tree     69.22  0.69       0.60    0.65      0.61   \n",
       "3                            KNN     74.79  0.72       0.64    0.67      0.65   \n",
       "4                  Random Forest     76.91  0.76       0.67    0.72      0.68   \n",
       "\n",
       "    MAE   MSE  RMSE   AUC      Bias  Variance  \n",
       "0  0.30  0.41  0.64  0.82 -0.165152  0.269192  \n",
       "2  0.41  0.54  0.74  0.82  0.223485  0.550681  \n",
       "1  0.35  0.44  0.66     -  0.079125  0.461963  \n",
       "3  0.29  0.36  0.60     -  0.045623  0.408953  \n",
       "4  0.26  0.33  0.57     -  0.089394  0.427545  "
      ]
     },
     "execution_count": 433,
     "metadata": {},
     "output_type": "execute_result"
    }
   ],
   "source": [
    "#summary table\n",
    "summary_table.loc[6] = ['ADABoost',\n",
    "                        round(adaboost_test_accuracy, 2), round(adaboost_test_cv_score, 2), \n",
    "                        round(precision_score(y_test, y_hat_test, average = 'macro'), 2), round(recall_score(y_test, y_hat_test, average = 'macro'), 2), round(f1_score(y_test, y_hat_test, average = 'macro'), 2),\n",
    "                        round(mean_absolute_error(y_test, y_hat_test), 2), round(mean_squared_error(y_test, y_hat_test), 2), round(mean_squared_error(y_test, y_hat_test, squared = False), 2),\n",
    "                        '-', bias(y_test, y_hat_test), variance(y_hat_test)]\n",
    "summary_table.head()"
   ]
  },
  {
   "cell_type": "markdown",
   "metadata": {},
   "source": [
    "# XGBoost"
   ]
  },
  {
   "cell_type": "code",
   "execution_count": 434,
   "metadata": {},
   "outputs": [
    {
     "name": "stdout",
     "output_type": "stream",
     "text": [
      "Train accuracy: 86.04711197160374\n",
      "Test accuracy: 77.22222222222223\n"
     ]
    }
   ],
   "source": [
    "#instantiate baseline model\n",
    "xgb_clf = xgb.XGBClassifier(random_state = 21)\n",
    "\n",
    "#train a classifier with optimal values identified above\n",
    "xgb_clf = xgb.XGBClassifier(random_state = 21)\n",
    "\n",
    "#fit\n",
    "xgb_clf.fit(X_train, y_train)\n",
    "\n",
    "#predict\n",
    "y_hat_train = xgb_clf.predict(X_train)\n",
    "y_hat_test = xgb_clf.predict(X_test)\n",
    "\n",
    "#train accuracy\n",
    "xgb_train_accuracy = accuracy_score(y_train, y_hat_train) * 100\n",
    "print('Train accuracy:', xgb_train_accuracy)\n",
    "\n",
    "#test accuracy\n",
    "xgb_test_accuracy = accuracy_score(y_test, y_hat_test) * 100\n",
    "print('Test accuracy:', xgb_test_accuracy)"
   ]
  },
  {
   "cell_type": "code",
   "execution_count": null,
   "metadata": {},
   "outputs": [],
   "source": [
    "#set param grid\n",
    "xgb_param_grid = {\"n_estimators\" : [20, 50, 100, 200, 300],\n",
    "                  'max_depth': [80, 90, 100, 110]}\n",
    "\n",
    "#gridsearch\n",
    "xgb_gridsearch = GridSearchCV(estimator = xgb_clf, \n",
    "                                        param_grid = xgb_param_grid,\n",
    "                                        scoring = 'accuracy', cv = 5,\n",
    "                                        n_jobs = -1)\n",
    "\n",
    "#fit\n",
    "xgb_gridsearch.fit(X_train, y_train)\n",
    "\n",
    "#best param\n",
    "xgb_gridsearch.best_params_"
   ]
  },
  {
   "cell_type": "code",
   "execution_count": null,
   "metadata": {},
   "outputs": [],
   "source": [
    "#get cross-validation result\n",
    "xgb_cross_val_results = pd.DataFrame(xgb_gridsearch.cv_results_)\n",
    "print('Number of Various Combinations of Parameters Tried : %d'%len(xgb_cross_val_results))\n",
    "\n",
    "xgb_cross_val_results.head()"
   ]
  },
  {
   "cell_type": "code",
   "execution_count": 147,
   "metadata": {
    "scrolled": false
   },
   "outputs": [
    {
     "data": {
      "text/plain": [
       "XGBClassifier(base_score=0.5, booster='gbtree', colsample_bylevel=1,\n",
       "              colsample_bynode=1, colsample_bytree=1, gamma=0, gpu_id=-1,\n",
       "              importance_type='gain', interaction_constraints='',\n",
       "              learning_rate=0.300000012, max_delta_step=0, max_depth=6,\n",
       "              min_child_weight=1, missing=nan, monotone_constraints='()',\n",
       "              n_estimators=100, n_jobs=0, num_parallel_tree=1,\n",
       "              objective='multi:softprob', random_state=0, reg_alpha=0,\n",
       "              reg_lambda=1, scale_pos_weight=None, subsample=1,\n",
       "              tree_method='exact', validate_parameters=1, verbosity=None)"
      ]
     },
     "execution_count": 147,
     "metadata": {},
     "output_type": "execute_result"
    }
   ],
   "source": [
    "#train a classifier with optimal values identified above\n",
    "xgb_clf = xgb.XGBClassifier(random_state = 21)\n",
    "\n",
    "#fit\n",
    "xgb_clf.fit(X_train, y_train)\n",
    "\n",
    "#predict\n",
    "y_hat_train = xgb_clf.predict(X_train)\n",
    "y_hat_test = xgb_clf.predict(X_test)\n",
    "\n",
    "#train accuracy\n",
    "xgb_train_accuracy = accuracy_score(y_train, y_hat_train) * 100\n",
    "print('Train accuracy:', xgb_train_accuracy)\n",
    "\n",
    "#test accuracy\n",
    "xgb_test_accuracy = accuracy_score(y_test, y_hat_test) * 100\n",
    "print('Test accuracy:', xgb_test_accuracy)"
   ]
  },
  {
   "cell_type": "code",
   "execution_count": 151,
   "metadata": {},
   "outputs": [
    {
     "name": "stdout",
     "output_type": "stream",
     "text": [
      "Train cross validation: 0.7984769280413037\n",
      "Test cross validation: 0.776010101010101\n"
     ]
    }
   ],
   "source": [
    "#train cross validation\n",
    "xgb_train_cv_score = cross_val_score(xgb_clf, X_train, y_train, cv = 5, n_jobs = -1).mean()\n",
    "print('Train cross validation:', xgb_train_cv_score)\n",
    "\n",
    "#test cross validation\n",
    "xgb_test_cv_score = cross_val_score(xgb_clf, X_test, y_test, cv = 5, n_jobs = -1).mean()\n",
    "print('Test cross validation:', xgb_test_cv_score)"
   ]
  },
  {
   "cell_type": "code",
   "execution_count": 153,
   "metadata": {},
   "outputs": [
    {
     "name": "stdout",
     "output_type": "stream",
     "text": [
      "Mean Absolute Error: 0.4868686868686869\n",
      "Mean Squared Error: 0.717003367003367\n",
      "Root Mean Squared Error: 0.8467605133704376\n"
     ]
    }
   ],
   "source": [
    "#evaluate with MAE, MSE, RMSE\n",
    "print('Mean Absolute Error:', mean_absolute_error(y_test, y_hat_test))  \n",
    "print('Mean Squared Error:', mean_squared_error(y_test, y_hat_test))  \n",
    "print('Root Mean Squared Error:', mean_squared_error(y_test, y_hat_test, squared = False))"
   ]
  },
  {
   "cell_type": "code",
   "execution_count": 154,
   "metadata": {},
   "outputs": [
    {
     "name": "stdout",
     "output_type": "stream",
     "text": [
      "Model: adaBoost \n",
      "               precision    recall  f1-score   support\n",
      "\n",
      "           0       0.74      0.69      0.71      6434\n",
      "           1       0.72      0.56      0.63      4614\n",
      "           2       0.20      0.54      0.29       832\n",
      "\n",
      "    accuracy                           0.63     11880\n",
      "   macro avg       0.55      0.60      0.54     11880\n",
      "weighted avg       0.69      0.63      0.65     11880\n",
      "\n"
     ]
    }
   ],
   "source": [
    "#classification report\n",
    "xgb_classification_report = classification_report(y_test, y_hat_test)\n",
    "print('Model: adaBoost', '\\n', xgb_classification_report)"
   ]
  },
  {
   "cell_type": "code",
   "execution_count": 155,
   "metadata": {
    "scrolled": true
   },
   "outputs": [
    {
     "data": {
      "text/plain": [
       "<sklearn.metrics._plot.confusion_matrix.ConfusionMatrixDisplay at 0x7feb90845100>"
      ]
     },
     "execution_count": 155,
     "metadata": {},
     "output_type": "execute_result"
    },
    {
     "data": {
      "image/png": "[encoded data removed]",
      "text/plain": [
       "<Figure size 432x288 with 2 Axes>"
      ]
     },
     "metadata": {
      "needs_background": "light"
     },
     "output_type": "display_data"
    }
   ],
   "source": [
    "#plot confusion matrix\n",
    "plot_confusion_matrix(xgb_clf, X_test, y_test, cmap = plt.cm.Blues)"
   ]
  },
  {
   "cell_type": "code",
   "execution_count": null,
   "metadata": {},
   "outputs": [],
   "source": [
    "#get test bias and variance\n",
    "print(bias(y_test, y_hat_test))\n",
    "print(variance(y_hat_test))"
   ]
  },
  {
   "cell_type": "code",
   "execution_count": 156,
   "metadata": {},
   "outputs": [
    {
     "data": {
      "text/html": [
       "<div>\n",
       "<style scoped>\n",
       "    .dataframe tbody tr th:only-of-type {\n",
       "        vertical-align: middle;\n",
       "    }\n",
       "\n",
       "    .dataframe tbody tr th {\n",
       "        vertical-align: top;\n",
       "    }\n",
       "\n",
       "    .dataframe thead th {\n",
       "        text-align: right;\n",
       "    }\n",
       "</style>\n",
       "<table border=\"1\" class=\"dataframe\">\n",
       "  <thead>\n",
       "    <tr style=\"text-align: right;\">\n",
       "      <th></th>\n",
       "      <th>Model</th>\n",
       "      <th>Accuracy</th>\n",
       "      <th>CV</th>\n",
       "      <th>Precision</th>\n",
       "      <th>Recall</th>\n",
       "      <th>F1 Score</th>\n",
       "      <th>MAE</th>\n",
       "      <th>MSE</th>\n",
       "      <th>RMSE</th>\n",
       "      <th>AUC</th>\n",
       "    </tr>\n",
       "  </thead>\n",
       "  <tbody>\n",
       "    <tr>\n",
       "      <th>0</th>\n",
       "      <td>Logistic Regression</td>\n",
       "      <td>70.70</td>\n",
       "      <td>0.74</td>\n",
       "      <td>0.60</td>\n",
       "      <td>0.62</td>\n",
       "      <td>0.60</td>\n",
       "      <td>0.38</td>\n",
       "      <td>0.55</td>\n",
       "      <td>0.74</td>\n",
       "      <td>0.77</td>\n",
       "    </tr>\n",
       "    <tr>\n",
       "      <th>7</th>\n",
       "      <td>XGBoost</td>\n",
       "      <td>62.82</td>\n",
       "      <td>0.78</td>\n",
       "      <td>0.55</td>\n",
       "      <td>0.60</td>\n",
       "      <td>0.54</td>\n",
       "      <td>0.49</td>\n",
       "      <td>0.72</td>\n",
       "      <td>0.85</td>\n",
       "      <td>-</td>\n",
       "    </tr>\n",
       "  </tbody>\n",
       "</table>\n",
       "</div>"
      ],
      "text/plain": [
       "                 Model  Accuracy    CV  Precision  Recall  F1 Score   MAE  \\\n",
       "0  Logistic Regression     70.70  0.74       0.60    0.62      0.60  0.38   \n",
       "7              XGBoost     62.82  0.78       0.55    0.60      0.54  0.49   \n",
       "\n",
       "    MSE  RMSE   AUC  \n",
       "0  0.55  0.74  0.77  \n",
       "7  0.72  0.85     -  "
      ]
     },
     "execution_count": 156,
     "metadata": {},
     "output_type": "execute_result"
    }
   ],
   "source": [
    "#summary table\n",
    "summary_table.loc[7] = ['XGBoost',\n",
    "                        round(xgb_test_accuracy, 2), round(xgb_test_cv_score, 2), \n",
    "                        round(precision_score(y_test, y_hat_test, average = 'macro'), 2), round(recall_score(y_test, y_hat_test, average = 'macro'), 2), round(f1_score(y_test, y_hat_test, average = 'macro'), 2),\n",
    "                        round(mean_absolute_error(y_test, y_hat_test), 2), round(mean_squared_error(y_test, y_hat_test), 2), round(mean_squared_error(y_test, y_hat_test, squared = False), 2),\n",
    "                        '-', bias(y_test, y_hat_test), variance(y_hat_test)]\n",
    "summary_table.head()"
   ]
  },
  {
   "cell_type": "markdown",
   "metadata": {},
   "source": [
    "# Support Vector Machine"
   ]
  },
  {
   "cell_type": "code",
   "execution_count": null,
   "metadata": {},
   "outputs": [],
   "source": [
    "#instantiate baseline model\n",
    "svm_clf = SVC(random_state = 21)\n",
    "\n",
    "#fit\n",
    "svm_clf.fit(X_train, y_train)\n",
    "\n",
    "#predict\n",
    "y_hat_train = svm_clf.predict(X_train)\n",
    "y_hat_test = svm_clf.predict(X_test)\n",
    "\n",
    "#train accuracy\n",
    "svm_train_accuracy = accuracy_score(y_train, y_hat_train) * 100\n",
    "print('Train accuracy:', svm_train_accuracy)\n",
    "\n",
    "#test accuracy\n",
    "svm_test_accuracy = accuracy_score(y_test, y_hat_test) * 100\n",
    "print('Test accuracy:', svm_test_accuracy)"
   ]
  },
  {
   "cell_type": "code",
   "execution_count": null,
   "metadata": {},
   "outputs": [],
   "source": [
    "#set param grid\n",
    "svm_param_grid = {'C' : [1000000, 3000000, 5000000],\n",
    "                  'degree': [1, 2, 3, 4],\n",
    "                  'gamma': ['scale', 'auto'],\n",
    "                  'decision_function_shape': ['ovo', 'ovr']}\n",
    "\n",
    "#gridsearch\n",
    "svm_gridsearch = GridSearchCV(estimator = svm_clf,\n",
    "                              param_grid = svm_param_grid,\n",
    "                              scoring = 'accuracy', cv = 5,\n",
    "                              n_jobs = -1)\n",
    "\n",
    "#fit\n",
    "svm_gridsearch.fit(X_train, y_train)\n",
    "\n",
    "#best param\n",
    "svm_gridsearch.best_params_"
   ]
  },
  {
   "cell_type": "code",
   "execution_count": null,
   "metadata": {},
   "outputs": [],
   "source": [
    "#train a classifier with optimal values identified above\n",
    "svm_clf = SVC(random_state = 21)\n",
    "\n",
    "#fit\n",
    "svm_clf.fit(X_train, y_train)\n",
    "\n",
    "#predict\n",
    "y_hat_train = svm_clf.predict(X_train)\n",
    "y_hat_test = svm_clf.predict(X_test)\n",
    "\n",
    "#train accuracy\n",
    "svm_train_accuracy = accuracy_score(y_train, y_hat_train) * 100\n",
    "print('Train accuracy:', svm_train_accuracy)\n",
    "\n",
    "#test accuracy\n",
    "svm_test_accuracy = accuracy_score(y_test, y_hat_test) * 100\n",
    "print('Test accuracy:', svm_test_accuracy)"
   ]
  },
  {
   "cell_type": "code",
   "execution_count": null,
   "metadata": {},
   "outputs": [],
   "source": [
    "#train cross validation\n",
    "svm_train_cv_score = cross_val_score(svm_clf, X_train, y_train, cv = 5, n_jobs = -1).mean()\n",
    "print('Train cross validation:', svm_train_cv_score)\n",
    "\n",
    "#test cross validation\n",
    "svm_test_cv_score = cross_val_score(svm_clf, X_test, y_test, cv = 5, n_jobs = -1).mean()\n",
    "print('Test cross validation:', svm_test_cv_score)"
   ]
  },
  {
   "cell_type": "code",
   "execution_count": null,
   "metadata": {},
   "outputs": [],
   "source": [
    "#evaluate with MAE, MSE, RMSE\n",
    "print('Mean Absolute Error:', mean_absolute_error(y_test, y_hat_test))  \n",
    "print('Mean Squared Error:', mean_squared_error(y_test, y_hat_test))  \n",
    "print('Root Mean Squared Error:', mean_squared_error(y_test, y_hat_test, squared = False))"
   ]
  },
  {
   "cell_type": "code",
   "execution_count": null,
   "metadata": {},
   "outputs": [],
   "source": [
    "#classification report\n",
    "svm_classification_report = classification_report(y_test, y_hat_test)\n",
    "print('Model: adaBoost', '\\n', svm_classification_report)"
   ]
  },
  {
   "cell_type": "code",
   "execution_count": null,
   "metadata": {},
   "outputs": [],
   "source": [
    "#plot confusion matrix\n",
    "plot_confusion_matrix(svm_clf, X_test, y_test, cmap = plt.cm.Blues)"
   ]
  },
  {
   "cell_type": "code",
   "execution_count": null,
   "metadata": {},
   "outputs": [],
   "source": [
    "#get test bias and variance\n",
    "print(bias(y_test, y_hat_test))\n",
    "print(variance(y_hat_test))"
   ]
  },
  {
   "cell_type": "code",
   "execution_count": null,
   "metadata": {},
   "outputs": [],
   "source": [
    "#summary table\n",
    "summary_table.loc[8] = ['SVM',\n",
    "                        round(svm_test_accuracy, 2), round(svm_test_cv_score, 2), \n",
    "                        round(precision_score(y_test, y_hat_test, average = 'macro'), 2), round(recall_score(y_test, y_hat_test, average = 'macro'), 2), round(f1_score(y_test, y_hat_test, average = 'macro'), 2),\n",
    "                        round(mean_absolute_error(y_test, y_hat_test), 2), round(mean_squared_error(y_test, y_hat_test), 2), round(mean_squared_error(y_test, y_hat_test, squared = False), 2),\n",
    "                        '-', bias(y_test, y_hat_test), variance(y_hat_test)]\n",
    "summary_table.head()"
   ]
  },
  {
   "cell_type": "code",
   "execution_count": null,
   "metadata": {},
   "outputs": [],
   "source": []
  },
  {
   "cell_type": "code",
   "execution_count": null,
   "metadata": {},
   "outputs": [],
   "source": []
  },
  {
   "cell_type": "markdown",
   "metadata": {},
   "source": [
    "# Models Comparison"
   ]
  },
  {
   "cell_type": "code",
   "execution_count": 248,
   "metadata": {},
   "outputs": [
    {
     "ename": "TypeError",
     "evalue": "boxplot() got an unexpected keyword argument 's'",
     "output_type": "error",
     "traceback": [
      "\u001b[0;31m---------------------------------------------------------------------------\u001b[0m",
      "\u001b[0;31mTypeError\u001b[0m                                 Traceback (most recent call last)",
      "\u001b[0;32m<ipython-input-248-0386c1cdefcb>\u001b[0m in \u001b[0;36m<module>\u001b[0;34m\u001b[0m\n\u001b[1;32m      1\u001b[0m \u001b[0;31m#plot accuracy\u001b[0m\u001b[0;34m\u001b[0m\u001b[0;34m\u001b[0m\u001b[0;34m\u001b[0m\u001b[0m\n\u001b[1;32m      2\u001b[0m \u001b[0mplt\u001b[0m\u001b[0;34m.\u001b[0m\u001b[0mfigure\u001b[0m\u001b[0;34m(\u001b[0m\u001b[0mfigsize\u001b[0m \u001b[0;34m=\u001b[0m \u001b[0;34m(\u001b[0m\u001b[0;36m15\u001b[0m\u001b[0;34m,\u001b[0m \u001b[0;36m5\u001b[0m\u001b[0;34m)\u001b[0m\u001b[0;34m)\u001b[0m\u001b[0;34m\u001b[0m\u001b[0;34m\u001b[0m\u001b[0m\n\u001b[0;32m----> 3\u001b[0;31m \u001b[0msns\u001b[0m\u001b[0;34m.\u001b[0m\u001b[0mboxplot\u001b[0m\u001b[0;34m(\u001b[0m\u001b[0mx\u001b[0m \u001b[0;34m=\u001b[0m \u001b[0msummary_table\u001b[0m\u001b[0;34m[\u001b[0m\u001b[0;34m'Accuracy'\u001b[0m\u001b[0;34m]\u001b[0m\u001b[0;34m,\u001b[0m \u001b[0my\u001b[0m \u001b[0;34m=\u001b[0m \u001b[0msummary_table\u001b[0m\u001b[0;34m[\u001b[0m\u001b[0;34m'Model'\u001b[0m\u001b[0;34m]\u001b[0m\u001b[0;34m,\u001b[0m \u001b[0ms\u001b[0m \u001b[0;34m=\u001b[0m \u001b[0;36m100\u001b[0m\u001b[0;34m,\u001b[0m \u001b[0mmarker\u001b[0m \u001b[0;34m=\u001b[0m \u001b[0;34m'o'\u001b[0m\u001b[0;34m)\u001b[0m\u001b[0;34m\u001b[0m\u001b[0;34m\u001b[0m\u001b[0m\n\u001b[0m\u001b[1;32m      4\u001b[0m \u001b[0mplt\u001b[0m\u001b[0;34m.\u001b[0m\u001b[0mxlabel\u001b[0m\u001b[0;34m(\u001b[0m\u001b[0;34m'Accuracy'\u001b[0m\u001b[0;34m)\u001b[0m\u001b[0;34m\u001b[0m\u001b[0;34m\u001b[0m\u001b[0m\n\u001b[1;32m      5\u001b[0m \u001b[0mplt\u001b[0m\u001b[0;34m.\u001b[0m\u001b[0mylabel\u001b[0m\u001b[0;34m(\u001b[0m\u001b[0;34m'Model'\u001b[0m\u001b[0;34m)\u001b[0m\u001b[0;34m\u001b[0m\u001b[0;34m\u001b[0m\u001b[0m\n",
      "\u001b[0;32m/opt/anaconda3/lib/python3.8/site-packages/seaborn/_decorators.py\u001b[0m in \u001b[0;36minner_f\u001b[0;34m(*args, **kwargs)\u001b[0m\n\u001b[1;32m     44\u001b[0m             )\n\u001b[1;32m     45\u001b[0m         \u001b[0mkwargs\u001b[0m\u001b[0;34m.\u001b[0m\u001b[0mupdate\u001b[0m\u001b[0;34m(\u001b[0m\u001b[0;34m{\u001b[0m\u001b[0mk\u001b[0m\u001b[0;34m:\u001b[0m \u001b[0marg\u001b[0m \u001b[0;32mfor\u001b[0m \u001b[0mk\u001b[0m\u001b[0;34m,\u001b[0m \u001b[0marg\u001b[0m \u001b[0;32min\u001b[0m \u001b[0mzip\u001b[0m\u001b[0;34m(\u001b[0m\u001b[0msig\u001b[0m\u001b[0;34m.\u001b[0m\u001b[0mparameters\u001b[0m\u001b[0;34m,\u001b[0m \u001b[0margs\u001b[0m\u001b[0;34m)\u001b[0m\u001b[0;34m}\u001b[0m\u001b[0;34m)\u001b[0m\u001b[0;34m\u001b[0m\u001b[0;34m\u001b[0m\u001b[0m\n\u001b[0;32m---> 46\u001b[0;31m         \u001b[0;32mreturn\u001b[0m \u001b[0mf\u001b[0m\u001b[0;34m(\u001b[0m\u001b[0;34m**\u001b[0m\u001b[0mkwargs\u001b[0m\u001b[0;34m)\u001b[0m\u001b[0;34m\u001b[0m\u001b[0;34m\u001b[0m\u001b[0m\n\u001b[0m\u001b[1;32m     47\u001b[0m     \u001b[0;32mreturn\u001b[0m \u001b[0minner_f\u001b[0m\u001b[0;34m\u001b[0m\u001b[0;34m\u001b[0m\u001b[0m\n\u001b[1;32m     48\u001b[0m \u001b[0;34m\u001b[0m\u001b[0m\n",
      "\u001b[0;32m/opt/anaconda3/lib/python3.8/site-packages/seaborn/categorical.py\u001b[0m in \u001b[0;36mboxplot\u001b[0;34m(x, y, hue, data, order, hue_order, orient, color, palette, saturation, width, dodge, fliersize, linewidth, whis, ax, **kwargs)\u001b[0m\n\u001b[1;32m   2236\u001b[0m     \u001b[0mkwargs\u001b[0m\u001b[0;34m.\u001b[0m\u001b[0mupdate\u001b[0m\u001b[0;34m(\u001b[0m\u001b[0mdict\u001b[0m\u001b[0;34m(\u001b[0m\u001b[0mwhis\u001b[0m\u001b[0;34m=\u001b[0m\u001b[0mwhis\u001b[0m\u001b[0;34m)\u001b[0m\u001b[0;34m)\u001b[0m\u001b[0;34m\u001b[0m\u001b[0;34m\u001b[0m\u001b[0m\n\u001b[1;32m   2237\u001b[0m \u001b[0;34m\u001b[0m\u001b[0m\n\u001b[0;32m-> 2238\u001b[0;31m     \u001b[0mplotter\u001b[0m\u001b[0;34m.\u001b[0m\u001b[0mplot\u001b[0m\u001b[0;34m(\u001b[0m\u001b[0max\u001b[0m\u001b[0;34m,\u001b[0m \u001b[0mkwargs\u001b[0m\u001b[0;34m)\u001b[0m\u001b[0;34m\u001b[0m\u001b[0;34m\u001b[0m\u001b[0m\n\u001b[0m\u001b[1;32m   2239\u001b[0m     \u001b[0;32mreturn\u001b[0m \u001b[0max\u001b[0m\u001b[0;34m\u001b[0m\u001b[0;34m\u001b[0m\u001b[0m\n\u001b[1;32m   2240\u001b[0m \u001b[0;34m\u001b[0m\u001b[0m\n",
      "\u001b[0;32m/opt/anaconda3/lib/python3.8/site-packages/seaborn/categorical.py\u001b[0m in \u001b[0;36mplot\u001b[0;34m(self, ax, boxplot_kws)\u001b[0m\n\u001b[1;32m    507\u001b[0m     \u001b[0;32mdef\u001b[0m \u001b[0mplot\u001b[0m\u001b[0;34m(\u001b[0m\u001b[0mself\u001b[0m\u001b[0;34m,\u001b[0m \u001b[0max\u001b[0m\u001b[0;34m,\u001b[0m \u001b[0mboxplot_kws\u001b[0m\u001b[0;34m)\u001b[0m\u001b[0;34m:\u001b[0m\u001b[0;34m\u001b[0m\u001b[0;34m\u001b[0m\u001b[0m\n\u001b[1;32m    508\u001b[0m         \u001b[0;34m\"\"\"Make the plot.\"\"\"\u001b[0m\u001b[0;34m\u001b[0m\u001b[0;34m\u001b[0m\u001b[0m\n\u001b[0;32m--> 509\u001b[0;31m         \u001b[0mself\u001b[0m\u001b[0;34m.\u001b[0m\u001b[0mdraw_boxplot\u001b[0m\u001b[0;34m(\u001b[0m\u001b[0max\u001b[0m\u001b[0;34m,\u001b[0m \u001b[0mboxplot_kws\u001b[0m\u001b[0;34m)\u001b[0m\u001b[0;34m\u001b[0m\u001b[0;34m\u001b[0m\u001b[0m\n\u001b[0m\u001b[1;32m    510\u001b[0m         \u001b[0mself\u001b[0m\u001b[0;34m.\u001b[0m\u001b[0mannotate_axes\u001b[0m\u001b[0;34m(\u001b[0m\u001b[0max\u001b[0m\u001b[0;34m)\u001b[0m\u001b[0;34m\u001b[0m\u001b[0;34m\u001b[0m\u001b[0m\n\u001b[1;32m    511\u001b[0m         \u001b[0;32mif\u001b[0m \u001b[0mself\u001b[0m\u001b[0;34m.\u001b[0m\u001b[0morient\u001b[0m \u001b[0;34m==\u001b[0m \u001b[0;34m\"h\"\u001b[0m\u001b[0;34m:\u001b[0m\u001b[0;34m\u001b[0m\u001b[0;34m\u001b[0m\u001b[0m\n",
      "\u001b[0;32m/opt/anaconda3/lib/python3.8/site-packages/seaborn/categorical.py\u001b[0m in \u001b[0;36mdraw_boxplot\u001b[0;34m(self, ax, kws)\u001b[0m\n\u001b[1;32m    439\u001b[0m                     \u001b[0;32mcontinue\u001b[0m\u001b[0;34m\u001b[0m\u001b[0;34m\u001b[0m\u001b[0m\n\u001b[1;32m    440\u001b[0m \u001b[0;34m\u001b[0m\u001b[0m\n\u001b[0;32m--> 441\u001b[0;31m                 artist_dict = ax.boxplot(box_data,\n\u001b[0m\u001b[1;32m    442\u001b[0m                                          \u001b[0mvert\u001b[0m\u001b[0;34m=\u001b[0m\u001b[0mvert\u001b[0m\u001b[0;34m,\u001b[0m\u001b[0;34m\u001b[0m\u001b[0;34m\u001b[0m\u001b[0m\n\u001b[1;32m    443\u001b[0m                                          \u001b[0mpatch_artist\u001b[0m\u001b[0;34m=\u001b[0m\u001b[0;32mTrue\u001b[0m\u001b[0;34m,\u001b[0m\u001b[0;34m\u001b[0m\u001b[0;34m\u001b[0m\u001b[0m\n",
      "\u001b[0;32m/opt/anaconda3/lib/python3.8/site-packages/matplotlib/__init__.py\u001b[0m in \u001b[0;36minner\u001b[0;34m(ax, data, *args, **kwargs)\u001b[0m\n\u001b[1;32m   1436\u001b[0m     \u001b[0;32mdef\u001b[0m \u001b[0minner\u001b[0m\u001b[0;34m(\u001b[0m\u001b[0max\u001b[0m\u001b[0;34m,\u001b[0m \u001b[0;34m*\u001b[0m\u001b[0margs\u001b[0m\u001b[0;34m,\u001b[0m \u001b[0mdata\u001b[0m\u001b[0;34m=\u001b[0m\u001b[0;32mNone\u001b[0m\u001b[0;34m,\u001b[0m \u001b[0;34m**\u001b[0m\u001b[0mkwargs\u001b[0m\u001b[0;34m)\u001b[0m\u001b[0;34m:\u001b[0m\u001b[0;34m\u001b[0m\u001b[0;34m\u001b[0m\u001b[0m\n\u001b[1;32m   1437\u001b[0m         \u001b[0;32mif\u001b[0m \u001b[0mdata\u001b[0m \u001b[0;32mis\u001b[0m \u001b[0;32mNone\u001b[0m\u001b[0;34m:\u001b[0m\u001b[0;34m\u001b[0m\u001b[0;34m\u001b[0m\u001b[0m\n\u001b[0;32m-> 1438\u001b[0;31m             \u001b[0;32mreturn\u001b[0m \u001b[0mfunc\u001b[0m\u001b[0;34m(\u001b[0m\u001b[0max\u001b[0m\u001b[0;34m,\u001b[0m \u001b[0;34m*\u001b[0m\u001b[0mmap\u001b[0m\u001b[0;34m(\u001b[0m\u001b[0msanitize_sequence\u001b[0m\u001b[0;34m,\u001b[0m \u001b[0margs\u001b[0m\u001b[0;34m)\u001b[0m\u001b[0;34m,\u001b[0m \u001b[0;34m**\u001b[0m\u001b[0mkwargs\u001b[0m\u001b[0;34m)\u001b[0m\u001b[0;34m\u001b[0m\u001b[0;34m\u001b[0m\u001b[0m\n\u001b[0m\u001b[1;32m   1439\u001b[0m \u001b[0;34m\u001b[0m\u001b[0m\n\u001b[1;32m   1440\u001b[0m         \u001b[0mbound\u001b[0m \u001b[0;34m=\u001b[0m \u001b[0mnew_sig\u001b[0m\u001b[0;34m.\u001b[0m\u001b[0mbind\u001b[0m\u001b[0;34m(\u001b[0m\u001b[0max\u001b[0m\u001b[0;34m,\u001b[0m \u001b[0;34m*\u001b[0m\u001b[0margs\u001b[0m\u001b[0;34m,\u001b[0m \u001b[0;34m**\u001b[0m\u001b[0mkwargs\u001b[0m\u001b[0;34m)\u001b[0m\u001b[0;34m\u001b[0m\u001b[0;34m\u001b[0m\u001b[0m\n",
      "\u001b[0;31mTypeError\u001b[0m: boxplot() got an unexpected keyword argument 's'"
     ]
    },
    {
     "data": {
      "image/png": "[encoded data removed]",
      "text/plain": [
       "<Figure size 1080x360 with 1 Axes>"
      ]
     },
     "metadata": {
      "needs_background": "light"
     },
     "output_type": "display_data"
    }
   ],
   "source": [
    "#plot accuracy\n",
    "plt.figure(figsize = (15, 5))\n",
    "sns.boxplot(x = summary_table['Accuracy'], y = summary_table['Model'], s = 100, marker = 'o')\n",
    "plt.xlabel('Accuracy')\n",
    "plt.ylabel('Model')\n",
    "plt.title(\"Accuracy Comparison\")\n",
    "\n",
    "plt.savefig('./Data/models_comparison')"
   ]
  },
  {
   "cell_type": "code",
   "execution_count": null,
   "metadata": {},
   "outputs": [],
   "source": []
  },
  {
   "cell_type": "code",
   "execution_count": null,
   "metadata": {},
   "outputs": [],
   "source": []
  },
  {
   "cell_type": "code",
   "execution_count": null,
   "metadata": {},
   "outputs": [],
   "source": []
  },
  {
   "cell_type": "markdown",
   "metadata": {},
   "source": [
    "# Submission Dataframe"
   ]
  },
  {
   "cell_type": "code",
   "execution_count": null,
   "metadata": {},
   "outputs": [],
   "source": [
    "prediction = clf.predict(test_values[features])\n",
    "prediction_df = pd.DataFrame(prediction, columns=[\"status_group\"])\n",
    "submission = pd.merge(test_values.id.reset_index()[\"id\"].to_frame(), prediction_df, right_index = True, left_index = True)\n",
    "submission.head()\n",
    "submission.to_csv(\"sub.csv\", index = False)"
   ]
  }
 ],
 "metadata": {
  "kernelspec": {
   "display_name": "Python 3",
   "language": "python",
   "name": "python3"
  }
 },
 "nbformat": 4,
 "nbformat_minor": 4
}
