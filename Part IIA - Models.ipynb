{
 "cells": [
  {
   "cell_type": "code",
   "execution_count": 463,
   "metadata": {},
   "outputs": [
    {
     "name": "stdout",
     "output_type": "stream",
     "text": [
      "Requirement already satisfied: xgboost in /opt/anaconda3/lib/python3.8/site-packages (1.3.3)\r\n",
      "Requirement already satisfied: scipy in /opt/anaconda3/lib/python3.8/site-packages (from xgboost) (1.5.2)\r\n",
      "Requirement already satisfied: numpy in /opt/anaconda3/lib/python3.8/site-packages (from xgboost) (1.19.2)\r\n"
     ]
    }
   ],
   "source": [
    "import pandas as pd\n",
    "import numpy as np\n",
    "\n",
    "#plot\n",
    "import matplotlib.pyplot as plt  \n",
    "%matplotlib inline        \n",
    "import seaborn as sns\n",
    "import plotly.graph_objects as go\n",
    "from sklearn.metrics import plot_confusion_matrix\n",
    "\n",
    "#other\n",
    "from sklearn.preprocessing import MinMaxScaler\n",
    "from imblearn.over_sampling import SMOTE\n",
    "from sklearn.model_selection import train_test_split, cross_val_score\n",
    "from sklearn.metrics import accuracy_score, precision_score, recall_score, f1_score, confusion_matrix, classification_report, roc_auc_score, mean_absolute_error, mean_squared_error\n",
    "from sklearn.metrics import roc_curve, auc, roc_auc_score\n",
    "\n",
    "#models\n",
    "from sklearn.linear_model import LogisticRegression\n",
    "from sklearn.neighbors import KNeighborsClassifier\n",
    "from sklearn.model_selection import KFold\n",
    "from sklearn.tree import DecisionTreeClassifier, DecisionTreeRegressor\n",
    "from sklearn.ensemble import RandomForestClassifier, BaggingClassifier\n",
    "from sklearn.model_selection import GridSearchCV\n",
    "from sklearn.ensemble import AdaBoostClassifier, GradientBoostingClassifier\n",
    "from sklearn.svm import SVC\n",
    "\n",
    "!pip install xgboost\n",
    "import xgboost as xgb\n",
    "\n",
    "import warnings\n",
    "warnings.filterwarnings('ignore')"
   ]
  },
  {
   "cell_type": "code",
   "execution_count": 464,
   "metadata": {
    "scrolled": true
   },
   "outputs": [
    {
     "data": {
      "text/html": [
       "<div>\n",
       "<style scoped>\n",
       "    .dataframe tbody tr th:only-of-type {\n",
       "        vertical-align: middle;\n",
       "    }\n",
       "\n",
       "    .dataframe tbody tr th {\n",
       "        vertical-align: top;\n",
       "    }\n",
       "\n",
       "    .dataframe thead th {\n",
       "        text-align: right;\n",
       "    }\n",
       "</style>\n",
       "<table border=\"1\" class=\"dataframe\">\n",
       "  <thead>\n",
       "    <tr style=\"text-align: right;\">\n",
       "      <th></th>\n",
       "      <th>status_group</th>\n",
       "      <th>amount_tsh</th>\n",
       "      <th>gps_height</th>\n",
       "      <th>longitude</th>\n",
       "      <th>latitude</th>\n",
       "      <th>population</th>\n",
       "      <th>age</th>\n",
       "      <th>basin_Lake Nyasa</th>\n",
       "      <th>basin_Lake Rukwa</th>\n",
       "      <th>basin_Lake Tanganyika</th>\n",
       "      <th>...</th>\n",
       "      <th>scheme_name_group_m</th>\n",
       "      <th>scheme_name_group_machumba estate pipe line</th>\n",
       "      <th>scheme_name_group_makwale water supplied sche</th>\n",
       "      <th>scheme_name_group_mkongoro one</th>\n",
       "      <th>scheme_name_group_n</th>\n",
       "      <th>scheme_name_group_ngana water supplied scheme</th>\n",
       "      <th>scheme_name_group_other</th>\n",
       "      <th>scheme_name_group_s</th>\n",
       "      <th>scheme_name_group_uroki-bomang'ombe water sup</th>\n",
       "      <th>scheme_name_group_wanging'ombe water</th>\n",
       "    </tr>\n",
       "  </thead>\n",
       "  <tbody>\n",
       "    <tr>\n",
       "      <th>0</th>\n",
       "      <td>1</td>\n",
       "      <td>6000.0</td>\n",
       "      <td>1390</td>\n",
       "      <td>34.938093</td>\n",
       "      <td>-9.856322</td>\n",
       "      <td>109</td>\n",
       "      <td>14</td>\n",
       "      <td>1</td>\n",
       "      <td>0</td>\n",
       "      <td>0</td>\n",
       "      <td>...</td>\n",
       "      <td>0</td>\n",
       "      <td>0</td>\n",
       "      <td>0</td>\n",
       "      <td>0</td>\n",
       "      <td>0</td>\n",
       "      <td>0</td>\n",
       "      <td>1</td>\n",
       "      <td>0</td>\n",
       "      <td>0</td>\n",
       "      <td>0</td>\n",
       "    </tr>\n",
       "    <tr>\n",
       "      <th>1</th>\n",
       "      <td>1</td>\n",
       "      <td>0.0</td>\n",
       "      <td>1399</td>\n",
       "      <td>34.698766</td>\n",
       "      <td>-2.147466</td>\n",
       "      <td>280</td>\n",
       "      <td>3</td>\n",
       "      <td>0</td>\n",
       "      <td>0</td>\n",
       "      <td>0</td>\n",
       "      <td>...</td>\n",
       "      <td>0</td>\n",
       "      <td>0</td>\n",
       "      <td>0</td>\n",
       "      <td>0</td>\n",
       "      <td>0</td>\n",
       "      <td>0</td>\n",
       "      <td>1</td>\n",
       "      <td>0</td>\n",
       "      <td>0</td>\n",
       "      <td>0</td>\n",
       "    </tr>\n",
       "    <tr>\n",
       "      <th>2</th>\n",
       "      <td>1</td>\n",
       "      <td>25.0</td>\n",
       "      <td>686</td>\n",
       "      <td>37.460664</td>\n",
       "      <td>-3.821329</td>\n",
       "      <td>250</td>\n",
       "      <td>4</td>\n",
       "      <td>0</td>\n",
       "      <td>0</td>\n",
       "      <td>0</td>\n",
       "      <td>...</td>\n",
       "      <td>0</td>\n",
       "      <td>0</td>\n",
       "      <td>0</td>\n",
       "      <td>0</td>\n",
       "      <td>0</td>\n",
       "      <td>0</td>\n",
       "      <td>1</td>\n",
       "      <td>0</td>\n",
       "      <td>0</td>\n",
       "      <td>0</td>\n",
       "    </tr>\n",
       "    <tr>\n",
       "      <th>3</th>\n",
       "      <td>0</td>\n",
       "      <td>0.0</td>\n",
       "      <td>263</td>\n",
       "      <td>38.486161</td>\n",
       "      <td>-11.155298</td>\n",
       "      <td>58</td>\n",
       "      <td>27</td>\n",
       "      <td>0</td>\n",
       "      <td>0</td>\n",
       "      <td>0</td>\n",
       "      <td>...</td>\n",
       "      <td>0</td>\n",
       "      <td>0</td>\n",
       "      <td>0</td>\n",
       "      <td>0</td>\n",
       "      <td>0</td>\n",
       "      <td>0</td>\n",
       "      <td>1</td>\n",
       "      <td>0</td>\n",
       "      <td>0</td>\n",
       "      <td>0</td>\n",
       "    </tr>\n",
       "    <tr>\n",
       "      <th>4</th>\n",
       "      <td>1</td>\n",
       "      <td>0.0</td>\n",
       "      <td>0</td>\n",
       "      <td>31.130847</td>\n",
       "      <td>-1.825359</td>\n",
       "      <td>150</td>\n",
       "      <td>17</td>\n",
       "      <td>0</td>\n",
       "      <td>0</td>\n",
       "      <td>0</td>\n",
       "      <td>...</td>\n",
       "      <td>0</td>\n",
       "      <td>0</td>\n",
       "      <td>0</td>\n",
       "      <td>0</td>\n",
       "      <td>0</td>\n",
       "      <td>0</td>\n",
       "      <td>1</td>\n",
       "      <td>0</td>\n",
       "      <td>0</td>\n",
       "      <td>0</td>\n",
       "    </tr>\n",
       "  </tbody>\n",
       "</table>\n",
       "<p>5 rows × 287 columns</p>\n",
       "</div>"
      ],
      "text/plain": [
       "   status_group  amount_tsh  gps_height  longitude   latitude  population  \\\n",
       "0             1      6000.0        1390  34.938093  -9.856322         109   \n",
       "1             1         0.0        1399  34.698766  -2.147466         280   \n",
       "2             1        25.0         686  37.460664  -3.821329         250   \n",
       "3             0         0.0         263  38.486161 -11.155298          58   \n",
       "4             1         0.0           0  31.130847  -1.825359         150   \n",
       "\n",
       "   age  basin_Lake Nyasa  basin_Lake Rukwa  basin_Lake Tanganyika  ...  \\\n",
       "0   14                 1                 0                      0  ...   \n",
       "1    3                 0                 0                      0  ...   \n",
       "2    4                 0                 0                      0  ...   \n",
       "3   27                 0                 0                      0  ...   \n",
       "4   17                 0                 0                      0  ...   \n",
       "\n",
       "   scheme_name_group_m  scheme_name_group_machumba estate pipe line  \\\n",
       "0                    0                                            0   \n",
       "1                    0                                            0   \n",
       "2                    0                                            0   \n",
       "3                    0                                            0   \n",
       "4                    0                                            0   \n",
       "\n",
       "   scheme_name_group_makwale water supplied sche  \\\n",
       "0                                              0   \n",
       "1                                              0   \n",
       "2                                              0   \n",
       "3                                              0   \n",
       "4                                              0   \n",
       "\n",
       "   scheme_name_group_mkongoro one  scheme_name_group_n  \\\n",
       "0                               0                    0   \n",
       "1                               0                    0   \n",
       "2                               0                    0   \n",
       "3                               0                    0   \n",
       "4                               0                    0   \n",
       "\n",
       "   scheme_name_group_ngana water supplied scheme  scheme_name_group_other  \\\n",
       "0                                              0                        1   \n",
       "1                                              0                        1   \n",
       "2                                              0                        1   \n",
       "3                                              0                        1   \n",
       "4                                              0                        1   \n",
       "\n",
       "   scheme_name_group_s  scheme_name_group_uroki-bomang'ombe water sup  \\\n",
       "0                    0                                              0   \n",
       "1                    0                                              0   \n",
       "2                    0                                              0   \n",
       "3                    0                                              0   \n",
       "4                    0                                              0   \n",
       "\n",
       "   scheme_name_group_wanging'ombe water  \n",
       "0                                     0  \n",
       "1                                     0  \n",
       "2                                     0  \n",
       "3                                     0  \n",
       "4                                     0  \n",
       "\n",
       "[5 rows x 287 columns]"
      ]
     },
     "execution_count": 464,
     "metadata": {},
     "output_type": "execute_result"
    }
   ],
   "source": [
    "#read dataset\n",
    "preprocessed_df = pd.read_csv('./Data/preprocessed_df.cvs', index_col = 0) \n",
    "preprocessed_df.head()"
   ]
  },
  {
   "cell_type": "code",
   "execution_count": 465,
   "metadata": {},
   "outputs": [
    {
     "data": {
      "text/plain": [
       "(59400, 287)"
      ]
     },
     "execution_count": 465,
     "metadata": {},
     "output_type": "execute_result"
    }
   ],
   "source": [
    "preprocessed_df.shape"
   ]
  },
  {
   "cell_type": "code",
   "execution_count": 466,
   "metadata": {},
   "outputs": [],
   "source": [
    "#define X and y\n",
    "y = preprocessed_df['status_group']\n",
    "X = preprocessed_df.drop(['status_group'], axis = 1)"
   ]
  },
  {
   "cell_type": "code",
   "execution_count": 467,
   "metadata": {},
   "outputs": [],
   "source": [
    "#perform test train split\n",
    "X_train, X_test, y_train, y_test = train_test_split(X, y, test_size = 0.2, random_state = 21)"
   ]
  },
  {
   "cell_type": "markdown",
   "metadata": {},
   "source": [
    "# Data Transformation"
   ]
  },
  {
   "cell_type": "markdown",
   "metadata": {},
   "source": [
    "After splitting the data into training and test sets, we use the `MixMaxScaler()` to fit and transform `X_train` and transform `X_test` of continuous variables.\n",
    "\n",
    "We want to fit and transform only the training data because in a real-world setting, we only have access to this data. We can then use the same scalar object to transform the test data. \n",
    "\n",
    "If we to first transform the data and then split into training and test sets, it will lead to data-leakage. "
   ]
  },
  {
   "cell_type": "code",
   "execution_count": 468,
   "metadata": {},
   "outputs": [],
   "source": [
    "#scale to make sure that all of our data is represented at the same scale\n",
    "scale = MinMaxScaler()\n",
    "\n",
    "#fit\n",
    "X_train = scale.fit_transform(X_train) #to create a scaled version of the training dataset\n",
    "X_test = scale.transform(X_test) #to create a scaled version of the test dataset"
   ]
  },
  {
   "cell_type": "markdown",
   "metadata": {},
   "source": [
    "# Decision Tree"
   ]
  },
  {
   "cell_type": "code",
   "execution_count": 469,
   "metadata": {},
   "outputs": [
    {
     "name": "stdout",
     "output_type": "stream",
     "text": [
      "Train accuracy: 99.76010101010101\n",
      "Test accuracy: 75.85858585858585\n"
     ]
    }
   ],
   "source": [
    "#instantiate baseline model\n",
    "decision_tree_clf = DecisionTreeClassifier(random_state = 21, criterion = 'entropy')\n",
    "\n",
    "#fit\n",
    "decision_tree_clf.fit(X_train, y_train)\n",
    "\n",
    "#predict\n",
    "y_hat_train = decision_tree_clf.predict(X_train)\n",
    "y_hat_test = decision_tree_clf.predict(X_test)\n",
    "\n",
    "#train accuracy \n",
    "decision_tree_train_accuracy = accuracy_score(y_train, y_hat_train) * 100\n",
    "print('Train accuracy: {0}'.format(decision_tree_train_accuracy))\n",
    "\n",
    "#test accuracy \n",
    "decision_tree_test_accuracy = accuracy_score(y_test, y_hat_test) * 100\n",
    "print('Test accuracy: {0}'.format(decision_tree_test_accuracy))"
   ]
  },
  {
   "cell_type": "code",
   "execution_count": 470,
   "metadata": {
    "scrolled": false
   },
   "outputs": [
    {
     "data": {
      "image/png": "[encoded data removed]",
      "text/plain": [
       "<Figure size 1440x7200 with 1 Axes>"
      ]
     },
     "metadata": {
      "needs_background": "light"
     },
     "output_type": "display_data"
    }
   ],
   "source": [
    "#feature importance\n",
    "decision_tree_clf.feature_importances_;\n",
    "\n",
    "def plot_feature_importances(model):\n",
    "    n_features = X_train.shape[1]\n",
    "    plt.figure(figsize = (20, 100))\n",
    "    plt.barh(range(n_features), model.feature_importances_, align = 'center') \n",
    "    plt.yticks(np.arange(n_features), X.columns.values) \n",
    "    plt.xlabel('Feature importance')\n",
    "    plt.ylabel('Feature')\n",
    "\n",
    "plot_feature_importances(decision_tree_clf)\n",
    "\n",
    "#save\n",
    "plt.savefig('./Data/decision_tree_clf_feature_importances')"
   ]
  },
  {
   "cell_type": "code",
   "execution_count": 471,
   "metadata": {},
   "outputs": [
    {
     "data": {
      "text/plain": [
       "Index(['ward_group_Chanika', 'ward_group_Igosi', 'ward_group_Imalinyi',\n",
       "       'ward_group_Itete', 'ward_group_Kitunda', 'ward_group_Maji ya Chai',\n",
       "       'ward_group_Maramba', 'ward_group_Matola', 'ward_group_Mdandu',\n",
       "       'ward_group_Mishamo', 'ward_group_Msindo', 'ward_group_Mtwango',\n",
       "       'ward_group_Nduruma', 'ward_group_Ngarenanyuki', 'ward_group_Siha Kati',\n",
       "       'ward_group_Usuka', 'ward_group_Vikindu', 'ward_group_Wanging'ombe',\n",
       "       'ward_group_Zinga/Ikerege', 'ward_group_other'],\n",
       "      dtype='object')"
      ]
     },
     "execution_count": 471,
     "metadata": {},
     "output_type": "execute_result"
    }
   ],
   "source": [
    "#look for columns with 'ward'\n",
    "preprocessed_df.filter(like = 'ward').columns"
   ]
  },
  {
   "cell_type": "code",
   "execution_count": 472,
   "metadata": {},
   "outputs": [
    {
     "data": {
      "text/plain": [
       "Index(['subvillage_group_I', 'subvillage_group_Kanisani',\n",
       "       'subvillage_group_Kati', 'subvillage_group_Kibaoni',\n",
       "       'subvillage_group_M', 'subvillage_group_Madukani',\n",
       "       'subvillage_group_Majengo', 'subvillage_group_Mapinduzi',\n",
       "       'subvillage_group_Mbuyuni', 'subvillage_group_Miembeni',\n",
       "       'subvillage_group_Mjimwema', 'subvillage_group_Mlimani',\n",
       "       'subvillage_group_Msikitini', 'subvillage_group_Mtakuja',\n",
       "       'subvillage_group_Muungano', 'subvillage_group_Shuleni',\n",
       "       'subvillage_group_Sokoni', 'subvillage_group_Songambele',\n",
       "       'subvillage_group_other'],\n",
       "      dtype='object')"
      ]
     },
     "execution_count": 472,
     "metadata": {},
     "output_type": "execute_result"
    }
   ],
   "source": [
    "#look for columns with 'subvillage'\n",
    "preprocessed_df.filter(like = 'subvillage').columns"
   ]
  },
  {
   "cell_type": "code",
   "execution_count": 473,
   "metadata": {},
   "outputs": [
    {
     "data": {
      "text/plain": [
       "Index(['wpt_name_group_Hospital', 'wpt_name_group_Kanisani',\n",
       "       'wpt_name_group_Kituo Cha Afya', 'wpt_name_group_Madukani',\n",
       "       'wpt_name_group_Mbugani', 'wpt_name_group_Mkombozi',\n",
       "       'wpt_name_group_Mkuyuni', 'wpt_name_group_Msikitini',\n",
       "       'wpt_name_group_Muungano', 'wpt_name_group_Ofisini',\n",
       "       'wpt_name_group_School', 'wpt_name_group_Sekondari',\n",
       "       'wpt_name_group_Shule', 'wpt_name_group_Shule Ya Msingi',\n",
       "       'wpt_name_group_Shuleni', 'wpt_name_group_Sokoni',\n",
       "       'wpt_name_group_Upendo', 'wpt_name_group_Zahanati',\n",
       "       'wpt_name_group_other'],\n",
       "      dtype='object')"
      ]
     },
     "execution_count": 473,
     "metadata": {},
     "output_type": "execute_result"
    }
   ],
   "source": [
    "#look for columns with 'wpt_name'\n",
    "preprocessed_df.filter(like = 'wpt_name').columns"
   ]
  },
  {
   "cell_type": "code",
   "execution_count": 474,
   "metadata": {},
   "outputs": [],
   "source": [
    "#drop features\n",
    "X.drop(columns = ['ward_group_Chanika', 'ward_group_Igosi', 'ward_group_Imalinyi',\n",
    "       'ward_group_Itete', 'ward_group_Kitunda', 'ward_group_Maji ya Chai',\n",
    "       'ward_group_Maramba', 'ward_group_Matola', 'ward_group_Mdandu',\n",
    "       'ward_group_Mishamo', 'ward_group_Msindo', 'ward_group_Mtwango',\n",
    "       'ward_group_Nduruma', 'ward_group_Ngarenanyuki', 'ward_group_Siha Kati',\n",
    "       'ward_group_Usuka', 'ward_group_Vikindu', \"ward_group_Wanging'ombe\",\n",
    "       'ward_group_Zinga/Ikerege', 'ward_group_other'], axis = 1, inplace = True)"
   ]
  },
  {
   "cell_type": "code",
   "execution_count": 475,
   "metadata": {},
   "outputs": [],
   "source": [
    "#drop features\n",
    "X.drop(columns = ['subvillage_group_I', 'subvillage_group_Kanisani',\n",
    "       'subvillage_group_Kati', 'subvillage_group_Kibaoni',\n",
    "       'subvillage_group_M', 'subvillage_group_Madukani',\n",
    "       'subvillage_group_Majengo', 'subvillage_group_Mapinduzi',\n",
    "       'subvillage_group_Mbuyuni', 'subvillage_group_Miembeni',\n",
    "       'subvillage_group_Mjimwema', 'subvillage_group_Mlimani',\n",
    "       'subvillage_group_Msikitini', 'subvillage_group_Mtakuja',\n",
    "       'subvillage_group_Muungano', 'subvillage_group_Shuleni',\n",
    "       'subvillage_group_Sokoni', 'subvillage_group_Songambele',\n",
    "       'subvillage_group_other'], axis = 1, inplace = True)"
   ]
  },
  {
   "cell_type": "code",
   "execution_count": 476,
   "metadata": {},
   "outputs": [],
   "source": [
    "#drop features\n",
    "X.drop(columns = ['wpt_name_group_Hospital', 'wpt_name_group_Kanisani',\n",
    "       'wpt_name_group_Kituo Cha Afya', 'wpt_name_group_Madukani',\n",
    "       'wpt_name_group_Mbugani', 'wpt_name_group_Mkombozi',\n",
    "       'wpt_name_group_Mkuyuni', 'wpt_name_group_Msikitini',\n",
    "       'wpt_name_group_Muungano', 'wpt_name_group_Ofisini',\n",
    "       'wpt_name_group_School', 'wpt_name_group_Sekondari',\n",
    "       'wpt_name_group_Shule', 'wpt_name_group_Shule Ya Msingi',\n",
    "       'wpt_name_group_Shuleni', 'wpt_name_group_Sokoni',\n",
    "       'wpt_name_group_Upendo', 'wpt_name_group_Zahanati',\n",
    "       'wpt_name_group_other'], axis = 1, inplace = True)"
   ]
  },
  {
   "cell_type": "code",
   "execution_count": 477,
   "metadata": {},
   "outputs": [],
   "source": [
    "#re-perform test train split\n",
    "X_train, X_test, y_train, y_test = train_test_split(X, y, test_size = 0.2, random_state = 21)"
   ]
  },
  {
   "cell_type": "code",
   "execution_count": 478,
   "metadata": {},
   "outputs": [],
   "source": [
    "#re-scale to make sure that all of our data is represented at the same scale\n",
    "scale = MinMaxScaler()\n",
    "\n",
    "#fit\n",
    "X_train = scale.fit_transform(X_train) #to create a scaled version of the training dataset\n",
    "X_test = scale.transform(X_test) #to create a scaled version of the test dataset"
   ]
  },
  {
   "cell_type": "markdown",
   "metadata": {},
   "source": [
    "# Deal with Class Imbalance"
   ]
  },
  {
   "cell_type": "code",
   "execution_count": 479,
   "metadata": {
    "scrolled": true
   },
   "outputs": [
    {
     "name": "stdout",
     "output_type": "stream",
     "text": [
      "Class Distribution Before:\n",
      "Train Set\n",
      "1    25825\n",
      "0    18210\n",
      "2     3485\n",
      "Name: status_group, dtype: int64\n",
      "\n",
      "\n",
      "Class Distribution After:\n",
      "Train Set\n",
      "2    25825\n",
      "1    25825\n",
      "0    25825\n",
      "Name: status_group, dtype: int64\n"
     ]
    }
   ],
   "source": [
    "#previous original class distribution\n",
    "print('Class Distribution Before:')\n",
    "print('Train Set')\n",
    "print(y_train.value_counts())\n",
    "\n",
    "#fit\n",
    "smote = SMOTE()\n",
    "X_train, y_train = smote.fit_resample(X_train, y_train)\n",
    "\n",
    "#check class distribution\n",
    "print('\\n')\n",
    "print('Class Distribution After:')\n",
    "print('Train Set')\n",
    "print(pd.Series(y_train).value_counts())"
   ]
  },
  {
   "cell_type": "code",
   "execution_count": 480,
   "metadata": {
    "scrolled": true
   },
   "outputs": [
    {
     "name": "stdout",
     "output_type": "stream",
     "text": [
      "Train accuracy: 99.75605033881897\n",
      "Test accuracy: 75.10942760942761\n"
     ]
    }
   ],
   "source": [
    "#instantiate trimmed model\n",
    "decision_tree_clf = DecisionTreeClassifier(random_state = 21)\n",
    "\n",
    "#fit\n",
    "decision_tree_clf.fit(X_train, y_train)\n",
    "\n",
    "#predict\n",
    "y_hat_train = decision_tree_clf.predict(X_train)\n",
    "y_hat_test = decision_tree_clf.predict(X_test)\n",
    "\n",
    "#train accuracy \n",
    "decision_tree_train_accuracy = accuracy_score(y_train, y_hat_train) * 100\n",
    "print('Train accuracy: {0}'.format(decision_tree_train_accuracy))\n",
    "\n",
    "#test accuracy \n",
    "decision_tree_test_accuracy = accuracy_score(y_test, y_hat_test) * 100\n",
    "print('Test accuracy: {0}'.format(decision_tree_test_accuracy))\n",
    "\n",
    "#Train accuracy: 99.75605033881897\n",
    "#Test accuracy: 75.10942760942761"
   ]
  },
  {
   "cell_type": "code",
   "execution_count": 481,
   "metadata": {
    "scrolled": true
   },
   "outputs": [
    {
     "data": {
      "text/plain": [
       "{'criterion': 'entropy',\n",
       " 'max_depth': 40,\n",
       " 'max_features': 'auto',\n",
       " 'min_samples_leaf': 3,\n",
       " 'min_samples_split': 10}"
      ]
     },
     "execution_count": 481,
     "metadata": {},
     "output_type": "execute_result"
    }
   ],
   "source": [
    "#set param grid\n",
    "#decision_tree_param_grid = {'criterion' : ['gini', 'entropy'],\n",
    "#                            'min_samples_split' : [8, 10],\n",
    "#                            'min_samples_leaf' : [3, 4, 5],\n",
    "#                            'max_depth': [40, 80],\n",
    "#                            'max_features': ['auto', 'sqrt', 'log2']}\n",
    "\n",
    "#gridsearch\n",
    "#decision_tree_gridsearch = GridSearchCV(estimator = decision_tree_clf, \n",
    "#                                        param_grid = decision_tree_param_grid,\n",
    "#                                        scoring = 'accuracy', \n",
    "#                                        cv = 5,\n",
    "#                                        n_jobs = -1)\n",
    "\n",
    "#fit\n",
    "#decision_tree_gridsearch.fit(X_train, y_train)\n",
    "\n",
    "#best param\n",
    "#decision_tree_gridsearch.best_params_\n",
    "\n",
    "#'criterion': 'gini',\n",
    "#'max_depth': 40,\n",
    "#'max_features': 'auto',\n",
    "#'min_samples_leaf': 3,\n",
    "#'min_samples_split': 8"
   ]
  },
  {
   "cell_type": "code",
   "execution_count": 482,
   "metadata": {},
   "outputs": [
    {
     "name": "stdout",
     "output_type": "stream",
     "text": [
      "Number of Various Combinations of Parameters Tried : 72\n"
     ]
    },
    {
     "data": {
      "text/html": [
       "<div>\n",
       "<style scoped>\n",
       "    .dataframe tbody tr th:only-of-type {\n",
       "        vertical-align: middle;\n",
       "    }\n",
       "\n",
       "    .dataframe tbody tr th {\n",
       "        vertical-align: top;\n",
       "    }\n",
       "\n",
       "    .dataframe thead th {\n",
       "        text-align: right;\n",
       "    }\n",
       "</style>\n",
       "<table border=\"1\" class=\"dataframe\">\n",
       "  <thead>\n",
       "    <tr style=\"text-align: right;\">\n",
       "      <th></th>\n",
       "      <th>mean_fit_time</th>\n",
       "      <th>std_fit_time</th>\n",
       "      <th>mean_score_time</th>\n",
       "      <th>std_score_time</th>\n",
       "      <th>param_criterion</th>\n",
       "      <th>param_max_depth</th>\n",
       "      <th>param_max_features</th>\n",
       "      <th>param_min_samples_leaf</th>\n",
       "      <th>param_min_samples_split</th>\n",
       "      <th>params</th>\n",
       "      <th>split0_test_score</th>\n",
       "      <th>split1_test_score</th>\n",
       "      <th>split2_test_score</th>\n",
       "      <th>split3_test_score</th>\n",
       "      <th>split4_test_score</th>\n",
       "      <th>mean_test_score</th>\n",
       "      <th>std_test_score</th>\n",
       "      <th>rank_test_score</th>\n",
       "    </tr>\n",
       "  </thead>\n",
       "  <tbody>\n",
       "    <tr>\n",
       "      <th>0</th>\n",
       "      <td>0.939872</td>\n",
       "      <td>0.048194</td>\n",
       "      <td>0.037876</td>\n",
       "      <td>0.008379</td>\n",
       "      <td>gini</td>\n",
       "      <td>40</td>\n",
       "      <td>auto</td>\n",
       "      <td>3</td>\n",
       "      <td>8</td>\n",
       "      <td>{'criterion': 'gini', 'max_depth': 40, 'max_fe...</td>\n",
       "      <td>0.715521</td>\n",
       "      <td>0.752307</td>\n",
       "      <td>0.755340</td>\n",
       "      <td>0.760181</td>\n",
       "      <td>0.768119</td>\n",
       "      <td>0.750294</td>\n",
       "      <td>0.018189</td>\n",
       "      <td>15</td>\n",
       "    </tr>\n",
       "    <tr>\n",
       "      <th>1</th>\n",
       "      <td>1.014193</td>\n",
       "      <td>0.037790</td>\n",
       "      <td>0.037927</td>\n",
       "      <td>0.004435</td>\n",
       "      <td>gini</td>\n",
       "      <td>40</td>\n",
       "      <td>auto</td>\n",
       "      <td>3</td>\n",
       "      <td>10</td>\n",
       "      <td>{'criterion': 'gini', 'max_depth': 40, 'max_fe...</td>\n",
       "      <td>0.724234</td>\n",
       "      <td>0.760762</td>\n",
       "      <td>0.754114</td>\n",
       "      <td>0.767086</td>\n",
       "      <td>0.771410</td>\n",
       "      <td>0.755521</td>\n",
       "      <td>0.016701</td>\n",
       "      <td>7</td>\n",
       "    </tr>\n",
       "    <tr>\n",
       "      <th>2</th>\n",
       "      <td>1.007252</td>\n",
       "      <td>0.022069</td>\n",
       "      <td>0.040832</td>\n",
       "      <td>0.008599</td>\n",
       "      <td>gini</td>\n",
       "      <td>40</td>\n",
       "      <td>auto</td>\n",
       "      <td>4</td>\n",
       "      <td>8</td>\n",
       "      <td>{'criterion': 'gini', 'max_depth': 40, 'max_fe...</td>\n",
       "      <td>0.717070</td>\n",
       "      <td>0.738045</td>\n",
       "      <td>0.741530</td>\n",
       "      <td>0.752178</td>\n",
       "      <td>0.747402</td>\n",
       "      <td>0.739245</td>\n",
       "      <td>0.012101</td>\n",
       "      <td>31</td>\n",
       "    </tr>\n",
       "    <tr>\n",
       "      <th>3</th>\n",
       "      <td>0.968658</td>\n",
       "      <td>0.036722</td>\n",
       "      <td>0.040924</td>\n",
       "      <td>0.005620</td>\n",
       "      <td>gini</td>\n",
       "      <td>40</td>\n",
       "      <td>auto</td>\n",
       "      <td>4</td>\n",
       "      <td>10</td>\n",
       "      <td>{'criterion': 'gini', 'max_depth': 40, 'max_fe...</td>\n",
       "      <td>0.710423</td>\n",
       "      <td>0.739787</td>\n",
       "      <td>0.746757</td>\n",
       "      <td>0.752436</td>\n",
       "      <td>0.755405</td>\n",
       "      <td>0.740962</td>\n",
       "      <td>0.016173</td>\n",
       "      <td>29</td>\n",
       "    </tr>\n",
       "    <tr>\n",
       "      <th>4</th>\n",
       "      <td>0.765399</td>\n",
       "      <td>0.017040</td>\n",
       "      <td>0.022495</td>\n",
       "      <td>0.001338</td>\n",
       "      <td>gini</td>\n",
       "      <td>40</td>\n",
       "      <td>auto</td>\n",
       "      <td>5</td>\n",
       "      <td>8</td>\n",
       "      <td>{'criterion': 'gini', 'max_depth': 40, 'max_fe...</td>\n",
       "      <td>0.706357</td>\n",
       "      <td>0.744885</td>\n",
       "      <td>0.735140</td>\n",
       "      <td>0.743078</td>\n",
       "      <td>0.750177</td>\n",
       "      <td>0.735928</td>\n",
       "      <td>0.015553</td>\n",
       "      <td>33</td>\n",
       "    </tr>\n",
       "  </tbody>\n",
       "</table>\n",
       "</div>"
      ],
      "text/plain": [
       "   mean_fit_time  std_fit_time  mean_score_time  std_score_time  \\\n",
       "0       0.939872      0.048194         0.037876        0.008379   \n",
       "1       1.014193      0.037790         0.037927        0.004435   \n",
       "2       1.007252      0.022069         0.040832        0.008599   \n",
       "3       0.968658      0.036722         0.040924        0.005620   \n",
       "4       0.765399      0.017040         0.022495        0.001338   \n",
       "\n",
       "  param_criterion param_max_depth param_max_features param_min_samples_leaf  \\\n",
       "0            gini              40               auto                      3   \n",
       "1            gini              40               auto                      3   \n",
       "2            gini              40               auto                      4   \n",
       "3            gini              40               auto                      4   \n",
       "4            gini              40               auto                      5   \n",
       "\n",
       "  param_min_samples_split                                             params  \\\n",
       "0                       8  {'criterion': 'gini', 'max_depth': 40, 'max_fe...   \n",
       "1                      10  {'criterion': 'gini', 'max_depth': 40, 'max_fe...   \n",
       "2                       8  {'criterion': 'gini', 'max_depth': 40, 'max_fe...   \n",
       "3                      10  {'criterion': 'gini', 'max_depth': 40, 'max_fe...   \n",
       "4                       8  {'criterion': 'gini', 'max_depth': 40, 'max_fe...   \n",
       "\n",
       "   split0_test_score  split1_test_score  split2_test_score  split3_test_score  \\\n",
       "0           0.715521           0.752307           0.755340           0.760181   \n",
       "1           0.724234           0.760762           0.754114           0.767086   \n",
       "2           0.717070           0.738045           0.741530           0.752178   \n",
       "3           0.710423           0.739787           0.746757           0.752436   \n",
       "4           0.706357           0.744885           0.735140           0.743078   \n",
       "\n",
       "   split4_test_score  mean_test_score  std_test_score  rank_test_score  \n",
       "0           0.768119         0.750294        0.018189               15  \n",
       "1           0.771410         0.755521        0.016701                7  \n",
       "2           0.747402         0.739245        0.012101               31  \n",
       "3           0.755405         0.740962        0.016173               29  \n",
       "4           0.750177         0.735928        0.015553               33  "
      ]
     },
     "execution_count": 482,
     "metadata": {},
     "output_type": "execute_result"
    }
   ],
   "source": [
    "#get cross-validation result\n",
    "#decision_tree_cross_val_results = pd.DataFrame(decision_tree_gridsearch.cv_results_)\n",
    "#print('Number of Various Combinations of Parameters Tried : %d'%len(decision_tree_cross_val_results))\n",
    "\n",
    "#save\n",
    "#decision_tree_cross_val_resultss.to_csv('./Data/decision_tree_cross_val_results')\n",
    "\n",
    "#decision_tree_cross_val_results.head()"
   ]
  },
  {
   "cell_type": "code",
   "execution_count": 483,
   "metadata": {
    "scrolled": true
   },
   "outputs": [
    {
     "name": "stdout",
     "output_type": "stream",
     "text": [
      "Train accuracy: 82.5892223297838\n",
      "Test accuracy: 70.34511784511784\n"
     ]
    }
   ],
   "source": [
    "#train a classifier with optimal values identified above\n",
    "decision_tree_clf = DecisionTreeClassifier(random_state = 21, \n",
    "                                           criterion = 'gini',\n",
    "                                           max_depth = 40,\n",
    "                                           max_features = 'auto',\n",
    "                                           min_samples_leaf = 3,\n",
    "                                           min_samples_split = 8)\n",
    "\n",
    "#fit\n",
    "decision_tree_clf.fit(X_train, y_train)\n",
    "\n",
    "#predict\n",
    "y_hat_train = decision_tree_clf.predict(X_train)\n",
    "y_hat_test = decision_tree_clf.predict(X_test)\n",
    "\n",
    "#train accuracy \n",
    "decision_tree_train_accuracy = accuracy_score(y_train, y_hat_train) * 100\n",
    "print('Train accuracy: {0}'.format(decision_tree_train_accuracy))\n",
    "\n",
    "#test accuracy \n",
    "decision_tree_test_accuracy = accuracy_score(y_test, y_hat_test) * 100\n",
    "print('Test accuracy: {0}'.format(decision_tree_test_accuracy))\n",
    "\n",
    "#Train accuracy: 82.5892223297838\n",
    "#Test accuracy: 70.34511784511784"
   ]
  },
  {
   "cell_type": "code",
   "execution_count": 484,
   "metadata": {},
   "outputs": [
    {
     "name": "stdout",
     "output_type": "stream",
     "text": [
      "Train cross validation: 0.7502936431106809\n",
      "Train cross validation: 0.6898148148148148\n"
     ]
    }
   ],
   "source": [
    "#train cross validation\n",
    "decision_tree_train_cv_score = cross_val_score(decision_tree_clf, X_train, y_train, cv = 5, n_jobs = -1).mean()\n",
    "print('Train cross validation:',decision_tree_train_cv_score)\n",
    "\n",
    "#test cross validation\n",
    "decision_tree_test_cv_score = cross_val_score(decision_tree_clf, X_test, y_test, cv = 5, n_jobs = -1).mean()\n",
    "print('Train cross validation:',decision_tree_test_cv_score)"
   ]
  },
  {
   "cell_type": "code",
   "execution_count": 485,
   "metadata": {},
   "outputs": [
    {
     "name": "stdout",
     "output_type": "stream",
     "text": [
      "Mean Absolute Error: 0.34175084175084175\n",
      "Mean Squared Error: 0.4321548821548822\n",
      "Root Mean Squared Error: 0.6573848812947269\n"
     ]
    }
   ],
   "source": [
    "#evaluate with MAE, MSE, RMSE\n",
    "print('Mean Absolute Error:', mean_absolute_error(y_test, y_hat_test))  \n",
    "print('Mean Squared Error:', mean_squared_error(y_test, y_hat_test))  \n",
    "print('Root Mean Squared Error:', mean_squared_error(y_test, y_hat_test, squared = False))"
   ]
  },
  {
   "cell_type": "code",
   "execution_count": 486,
   "metadata": {},
   "outputs": [
    {
     "name": "stdout",
     "output_type": "stream",
     "text": [
      "Model: adaBoost \n",
      "               precision    recall  f1-score   support\n",
      "\n",
      "           0       0.75      0.72      0.73      4614\n",
      "           1       0.80      0.71      0.75      6434\n",
      "           2       0.26      0.54      0.35       832\n",
      "\n",
      "    accuracy                           0.70     11880\n",
      "   macro avg       0.60      0.66      0.61     11880\n",
      "weighted avg       0.74      0.70      0.72     11880\n",
      "\n"
     ]
    }
   ],
   "source": [
    "#classification report\n",
    "decision_tree_classification_report = classification_report(y_test, y_hat_test)\n",
    "print('Model: adaBoost', '\\n', decision_tree_classification_report)"
   ]
  },
  {
   "cell_type": "code",
   "execution_count": 487,
   "metadata": {},
   "outputs": [
    {
     "data": {
      "text/plain": [
       "<sklearn.metrics._plot.confusion_matrix.ConfusionMatrixDisplay at 0x7febc139f1f0>"
      ]
     },
     "execution_count": 487,
     "metadata": {},
     "output_type": "execute_result"
    },
    {
     "data": {
      "image/png": "[encoded data removed]",
      "text/plain": [
       "<Figure size 432x288 with 2 Axes>"
      ]
     },
     "metadata": {
      "needs_background": "light"
     },
     "output_type": "display_data"
    }
   ],
   "source": [
    "#plot confusion matrix\n",
    "plot_confusion_matrix(decision_tree_clf, X_test, y_test, cmap = plt.cm.Blues)    "
   ]
  },
  {
   "cell_type": "code",
   "execution_count": 488,
   "metadata": {},
   "outputs": [
    {
     "name": "stdout",
     "output_type": "stream",
     "text": [
      "0.08787878787878788\n",
      "0.46590651180718534\n"
     ]
    }
   ],
   "source": [
    "#function bias() to calculate the bias of a model's predictions given the actual data\n",
    "def bias(y, y_hat):\n",
    "    return np.mean(y_hat - y)\n",
    "\n",
    "#function variance() to calculate the variance of a model's predictions\n",
    "def variance(y_hat):\n",
    "    return np.mean([yi**2 for yi in y_hat]) - np.mean(y_hat)**2\n",
    "\n",
    "#get test bias and variance\n",
    "print(bias(y_test, y_hat_test))\n",
    "print(variance(y_hat_test))"
   ]
  },
  {
   "cell_type": "code",
   "execution_count": 489,
   "metadata": {},
   "outputs": [
    {
     "data": {
      "text/html": [
       "<div>\n",
       "<style scoped>\n",
       "    .dataframe tbody tr th:only-of-type {\n",
       "        vertical-align: middle;\n",
       "    }\n",
       "\n",
       "    .dataframe tbody tr th {\n",
       "        vertical-align: top;\n",
       "    }\n",
       "\n",
       "    .dataframe thead th {\n",
       "        text-align: right;\n",
       "    }\n",
       "</style>\n",
       "<table border=\"1\" class=\"dataframe\">\n",
       "  <thead>\n",
       "    <tr style=\"text-align: right;\">\n",
       "      <th></th>\n",
       "      <th>Model</th>\n",
       "      <th>Accuracy</th>\n",
       "      <th>CV</th>\n",
       "      <th>Precision</th>\n",
       "      <th>Recall</th>\n",
       "      <th>F1 Score</th>\n",
       "      <th>MAE</th>\n",
       "      <th>MSE</th>\n",
       "      <th>RMSE</th>\n",
       "      <th>AUC</th>\n",
       "      <th>Bias</th>\n",
       "      <th>Variance</th>\n",
       "    </tr>\n",
       "  </thead>\n",
       "  <tbody>\n",
       "    <tr>\n",
       "      <th>0</th>\n",
       "      <td>Decision Tree</td>\n",
       "      <td>70.35</td>\n",
       "      <td>0.69</td>\n",
       "      <td>0.6</td>\n",
       "      <td>0.66</td>\n",
       "      <td>0.61</td>\n",
       "      <td>0.34</td>\n",
       "      <td>0.43</td>\n",
       "      <td>0.66</td>\n",
       "      <td>-</td>\n",
       "      <td>0.087879</td>\n",
       "      <td>0.465907</td>\n",
       "    </tr>\n",
       "  </tbody>\n",
       "</table>\n",
       "</div>"
      ],
      "text/plain": [
       "           Model  Accuracy    CV  Precision  Recall  F1 Score   MAE   MSE  \\\n",
       "0  Decision Tree     70.35  0.69        0.6    0.66      0.61  0.34  0.43   \n",
       "\n",
       "   RMSE AUC      Bias  Variance  \n",
       "0  0.66   -  0.087879  0.465907  "
      ]
     },
     "execution_count": 489,
     "metadata": {},
     "output_type": "execute_result"
    }
   ],
   "source": [
    "#summary table\n",
    "summary_table = pd.DataFrame({'Model': [],\n",
    "                              'Accuracy': [], 'CV': [], \n",
    "                              'Precision': [], 'Recall': [], 'F1 Score': [],\n",
    "                              'MAE': [], 'MSE': [], 'RMSE': [],\n",
    "                              'AUC': [], 'Bias': [], 'Variance': []\n",
    "                              })\n",
    "\n",
    "summary_table.loc[0] = ['Decision Tree',\n",
    "                        round(decision_tree_test_accuracy, 2), round(decision_tree_test_cv_score, 2), \n",
    "                        round(precision_score(y_test, y_hat_test, average = 'macro'), 2), round(recall_score(y_test, y_hat_test, average = 'macro'), 2), round(f1_score(y_test, y_hat_test, average = 'macro'), 2),\n",
    "                        round(mean_absolute_error(y_test, y_hat_test), 2), round(mean_squared_error(y_test, y_hat_test), 2), round(mean_squared_error(y_test, y_hat_test, squared = False), 2),\n",
    "                        '-', bias(y_test, y_hat_test), variance(y_hat_test)]\n",
    "summary_table.head()"
   ]
  },
  {
   "cell_type": "markdown",
   "metadata": {},
   "source": [
    "# Logistic Regression"
   ]
  },
  {
   "cell_type": "code",
   "execution_count": 490,
   "metadata": {},
   "outputs": [
    {
     "name": "stdout",
     "output_type": "stream",
     "text": [
      "Train accuracy: 67.75217812197482\n",
      "Test accuracy: 65.79966329966331\n"
     ]
    }
   ],
   "source": [
    "#instantiate baseline model\n",
    "logreg_clf = LogisticRegression(random_state = 21)\n",
    "\n",
    "#fit\n",
    "logreg_clf.fit(X_train, y_train)\n",
    "\n",
    "#predict\n",
    "y_hat_train = logreg_clf.predict(X_train)\n",
    "y_hat_test = logreg_clf.predict(X_test)\n",
    "\n",
    "#train accuracy \n",
    "logreg_train_accuracy = accuracy_score(y_train, y_hat_train) * 100\n",
    "print('Train accuracy: {0}'.format(logreg_train_accuracy))\n",
    "\n",
    "#test accuracy \n",
    "logreg_test_accuracy = accuracy_score(y_test, y_hat_test) * 100\n",
    "print('Test accuracy: {0}'.format(logreg_test_accuracy))\n",
    "\n",
    "#Train accuracy: 67.75217812197482\n",
    "#Test accuracy: 65.79966329966331"
   ]
  },
  {
   "cell_type": "code",
   "execution_count": 491,
   "metadata": {},
   "outputs": [
    {
     "data": {
      "text/plain": [
       "{'multi_class': 'multinomial', 'solver': 'saga'}"
      ]
     },
     "execution_count": 491,
     "metadata": {},
     "output_type": "execute_result"
    }
   ],
   "source": [
    "#set param grid\n",
    "#logreg_param_grid = {'solver' : ['sag', 'saga', 'liblinear'],\n",
    "#                     'multi_class': ['multinomial', 'auto']}\n",
    "\n",
    "#gridsearch\n",
    "#logreg_gridsearch = GridSearchCV(estimator = logreg_clf,\n",
    "#                                 param_grid = logreg_param_grid,\n",
    "#                                 scoring = 'accuracy', cv = 5,\n",
    "#                                 n_jobs = -1)\n",
    "\n",
    "#fit\n",
    "#logreg_gridsearch.fit(X_train, y_train)\n",
    "\n",
    "#best param\n",
    "#logreg_gridsearch.best_params_\n",
    "\n",
    "#'multi_class': 'multinomial' \n",
    "#'solver': 'saga'"
   ]
  },
  {
   "cell_type": "code",
   "execution_count": 492,
   "metadata": {},
   "outputs": [
    {
     "name": "stdout",
     "output_type": "stream",
     "text": [
      "Number of Various Combinations of Parameters Tried : 6\n"
     ]
    },
    {
     "data": {
      "text/html": [
       "<div>\n",
       "<style scoped>\n",
       "    .dataframe tbody tr th:only-of-type {\n",
       "        vertical-align: middle;\n",
       "    }\n",
       "\n",
       "    .dataframe tbody tr th {\n",
       "        vertical-align: top;\n",
       "    }\n",
       "\n",
       "    .dataframe thead th {\n",
       "        text-align: right;\n",
       "    }\n",
       "</style>\n",
       "<table border=\"1\" class=\"dataframe\">\n",
       "  <thead>\n",
       "    <tr style=\"text-align: right;\">\n",
       "      <th></th>\n",
       "      <th>mean_fit_time</th>\n",
       "      <th>std_fit_time</th>\n",
       "      <th>mean_score_time</th>\n",
       "      <th>std_score_time</th>\n",
       "      <th>param_multi_class</th>\n",
       "      <th>param_solver</th>\n",
       "      <th>params</th>\n",
       "      <th>split0_test_score</th>\n",
       "      <th>split1_test_score</th>\n",
       "      <th>split2_test_score</th>\n",
       "      <th>split3_test_score</th>\n",
       "      <th>split4_test_score</th>\n",
       "      <th>mean_test_score</th>\n",
       "      <th>std_test_score</th>\n",
       "      <th>rank_test_score</th>\n",
       "    </tr>\n",
       "  </thead>\n",
       "  <tbody>\n",
       "    <tr>\n",
       "      <th>0</th>\n",
       "      <td>39.664337</td>\n",
       "      <td>0.104556</td>\n",
       "      <td>0.009523</td>\n",
       "      <td>0.000455</td>\n",
       "      <td>multinomial</td>\n",
       "      <td>sag</td>\n",
       "      <td>{'multi_class': 'multinomial', 'solver': 'sag'}</td>\n",
       "      <td>0.666344</td>\n",
       "      <td>0.679445</td>\n",
       "      <td>0.670926</td>\n",
       "      <td>0.680348</td>\n",
       "      <td>0.681962</td>\n",
       "      <td>0.675805</td>\n",
       "      <td>0.006085</td>\n",
       "      <td>3</td>\n",
       "    </tr>\n",
       "    <tr>\n",
       "      <th>1</th>\n",
       "      <td>50.080592</td>\n",
       "      <td>0.097901</td>\n",
       "      <td>0.006685</td>\n",
       "      <td>0.000111</td>\n",
       "      <td>multinomial</td>\n",
       "      <td>saga</td>\n",
       "      <td>{'multi_class': 'multinomial', 'solver': 'saga'}</td>\n",
       "      <td>0.666409</td>\n",
       "      <td>0.679639</td>\n",
       "      <td>0.670668</td>\n",
       "      <td>0.680607</td>\n",
       "      <td>0.682026</td>\n",
       "      <td>0.675870</td>\n",
       "      <td>0.006183</td>\n",
       "      <td>1</td>\n",
       "    </tr>\n",
       "    <tr>\n",
       "      <th>2</th>\n",
       "      <td>0.419315</td>\n",
       "      <td>0.005394</td>\n",
       "      <td>0.000000</td>\n",
       "      <td>0.000000</td>\n",
       "      <td>multinomial</td>\n",
       "      <td>liblinear</td>\n",
       "      <td>{'multi_class': 'multinomial', 'solver': 'libl...</td>\n",
       "      <td>NaN</td>\n",
       "      <td>NaN</td>\n",
       "      <td>NaN</td>\n",
       "      <td>NaN</td>\n",
       "      <td>NaN</td>\n",
       "      <td>NaN</td>\n",
       "      <td>NaN</td>\n",
       "      <td>6</td>\n",
       "    </tr>\n",
       "    <tr>\n",
       "      <th>3</th>\n",
       "      <td>39.586029</td>\n",
       "      <td>0.045173</td>\n",
       "      <td>0.010798</td>\n",
       "      <td>0.001739</td>\n",
       "      <td>auto</td>\n",
       "      <td>sag</td>\n",
       "      <td>{'multi_class': 'auto', 'solver': 'sag'}</td>\n",
       "      <td>0.666344</td>\n",
       "      <td>0.679445</td>\n",
       "      <td>0.670926</td>\n",
       "      <td>0.680348</td>\n",
       "      <td>0.681962</td>\n",
       "      <td>0.675805</td>\n",
       "      <td>0.006085</td>\n",
       "      <td>3</td>\n",
       "    </tr>\n",
       "    <tr>\n",
       "      <th>4</th>\n",
       "      <td>49.716804</td>\n",
       "      <td>0.164191</td>\n",
       "      <td>0.006492</td>\n",
       "      <td>0.000243</td>\n",
       "      <td>auto</td>\n",
       "      <td>saga</td>\n",
       "      <td>{'multi_class': 'auto', 'solver': 'saga'}</td>\n",
       "      <td>0.666409</td>\n",
       "      <td>0.679639</td>\n",
       "      <td>0.670668</td>\n",
       "      <td>0.680607</td>\n",
       "      <td>0.682026</td>\n",
       "      <td>0.675870</td>\n",
       "      <td>0.006183</td>\n",
       "      <td>1</td>\n",
       "    </tr>\n",
       "  </tbody>\n",
       "</table>\n",
       "</div>"
      ],
      "text/plain": [
       "   mean_fit_time  std_fit_time  mean_score_time  std_score_time  \\\n",
       "0      39.664337      0.104556         0.009523        0.000455   \n",
       "1      50.080592      0.097901         0.006685        0.000111   \n",
       "2       0.419315      0.005394         0.000000        0.000000   \n",
       "3      39.586029      0.045173         0.010798        0.001739   \n",
       "4      49.716804      0.164191         0.006492        0.000243   \n",
       "\n",
       "  param_multi_class param_solver  \\\n",
       "0       multinomial          sag   \n",
       "1       multinomial         saga   \n",
       "2       multinomial    liblinear   \n",
       "3              auto          sag   \n",
       "4              auto         saga   \n",
       "\n",
       "                                              params  split0_test_score  \\\n",
       "0    {'multi_class': 'multinomial', 'solver': 'sag'}           0.666344   \n",
       "1   {'multi_class': 'multinomial', 'solver': 'saga'}           0.666409   \n",
       "2  {'multi_class': 'multinomial', 'solver': 'libl...                NaN   \n",
       "3           {'multi_class': 'auto', 'solver': 'sag'}           0.666344   \n",
       "4          {'multi_class': 'auto', 'solver': 'saga'}           0.666409   \n",
       "\n",
       "   split1_test_score  split2_test_score  split3_test_score  split4_test_score  \\\n",
       "0           0.679445           0.670926           0.680348           0.681962   \n",
       "1           0.679639           0.670668           0.680607           0.682026   \n",
       "2                NaN                NaN                NaN                NaN   \n",
       "3           0.679445           0.670926           0.680348           0.681962   \n",
       "4           0.679639           0.670668           0.680607           0.682026   \n",
       "\n",
       "   mean_test_score  std_test_score  rank_test_score  \n",
       "0         0.675805        0.006085                3  \n",
       "1         0.675870        0.006183                1  \n",
       "2              NaN             NaN                6  \n",
       "3         0.675805        0.006085                3  \n",
       "4         0.675870        0.006183                1  "
      ]
     },
     "execution_count": 492,
     "metadata": {},
     "output_type": "execute_result"
    }
   ],
   "source": [
    "#get cross-validation result\n",
    "#logreg_cross_val_results = pd.DataFrame(logreg_gridsearch.cv_results_)\n",
    "#print('Number of Various Combinations of Parameters Tried : %d'%len(logreg_cross_val_results))\n",
    "\n",
    "#save\n",
    "#logreg_cross_val_results.to_csv('./Data/logreg_cross_val_results')\n",
    "\n",
    "#logreg_cross_val_results.head()"
   ]
  },
  {
   "cell_type": "code",
   "execution_count": 493,
   "metadata": {},
   "outputs": [
    {
     "name": "stdout",
     "output_type": "stream",
     "text": [
      "Train accuracy: 67.83220393675379\n",
      "Test accuracy: 65.41245791245791\n"
     ]
    }
   ],
   "source": [
    "#train a classifier with optimal values identified above\n",
    "logreg_clf = LogisticRegression(random_state = 21,\n",
    "                                multi_class = 'multinomial', \n",
    "                                solver = 'saga')\n",
    "\n",
    "#fit\n",
    "logreg_clf.fit(X_train, y_train)\n",
    "\n",
    "#predict\n",
    "y_hat_train = logreg_clf.predict(X_train)\n",
    "y_hat_test = logreg_clf.predict(X_test)\n",
    "\n",
    "#train accuracy \n",
    "logreg_train_accuracy = accuracy_score(y_train, y_hat_train) * 100\n",
    "print('Train accuracy: {0}'.format(logreg_train_accuracy))\n",
    "\n",
    "#test accuracy \n",
    "logreg_test_accuracy = accuracy_score(y_test, y_hat_test) * 100\n",
    "print('Test accuracy: {0}'.format(logreg_test_accuracy))\n",
    "\n",
    "#Train accuracy: 67.83220393675379\n",
    "#Test accuracy: 65.41245791245791"
   ]
  },
  {
   "cell_type": "code",
   "execution_count": 494,
   "metadata": {},
   "outputs": [
    {
     "name": "stdout",
     "output_type": "stream",
     "text": [
      "Train cross validation: 0.6758696353662471\n",
      "Test cross validation: 0.743097643097643\n"
     ]
    }
   ],
   "source": [
    "#train cross validation\n",
    "logreg_train_cv_score = cross_val_score(logreg_clf, X_train, y_train, cv = 5, n_jobs = -1).mean()\n",
    "print('Train cross validation:', logreg_train_cv_score)\n",
    "\n",
    "#test cross validation\n",
    "logreg_test_cv_score = cross_val_score(logreg_clf, X_test, y_test, cv = 5, n_jobs = -1).mean()\n",
    "print('Test cross validation:', logreg_test_cv_score)"
   ]
  },
  {
   "cell_type": "code",
   "execution_count": 495,
   "metadata": {},
   "outputs": [
    {
     "name": "stdout",
     "output_type": "stream",
     "text": [
      "Mean Absolute Error: 0.413973063973064\n",
      "Mean Squared Error: 0.5501683501683502\n",
      "Root Mean Squared Error: 0.7417333416857774\n"
     ]
    }
   ],
   "source": [
    "#evaluate with MAE, MSE, RMSE\n",
    "print('Mean Absolute Error:', mean_absolute_error(y_test, y_hat_test))  \n",
    "print('Mean Squared Error:', mean_squared_error(y_test, y_hat_test))  \n",
    "print('Root Mean Squared Error:', mean_squared_error(y_test, y_hat_test, squared = False))"
   ]
  },
  {
   "cell_type": "code",
   "execution_count": 496,
   "metadata": {},
   "outputs": [
    {
     "name": "stdout",
     "output_type": "stream",
     "text": [
      "Model: Logistic Regression \n",
      "               precision    recall  f1-score   support\n",
      "\n",
      "           0       0.78      0.65      0.71      4614\n",
      "           1       0.80      0.65      0.72      6434\n",
      "           2       0.21      0.70      0.32       832\n",
      "\n",
      "    accuracy                           0.65     11880\n",
      "   macro avg       0.60      0.67      0.58     11880\n",
      "weighted avg       0.75      0.65      0.69     11880\n",
      "\n"
     ]
    }
   ],
   "source": [
    "#classification report\n",
    "logreg_classification_report = classification_report(y_test, y_hat_test)\n",
    "print('Model: Logistic Regression', '\\n', logreg_classification_report)"
   ]
  },
  {
   "cell_type": "code",
   "execution_count": 497,
   "metadata": {},
   "outputs": [
    {
     "data": {
      "text/plain": [
       "<sklearn.metrics._plot.confusion_matrix.ConfusionMatrixDisplay at 0x7febb6f5b970>"
      ]
     },
     "execution_count": 497,
     "metadata": {},
     "output_type": "execute_result"
    },
    {
     "data": {
      "image/png": "[encoded data removed]",
      "text/plain": [
       "<Figure size 432x288 with 2 Axes>"
      ]
     },
     "metadata": {
      "needs_background": "light"
     },
     "output_type": "display_data"
    }
   ],
   "source": [
    "#plot confusion matrix\n",
    "plot_confusion_matrix(logreg_clf, X_test, y_test, cmap = plt.cm.Blues)"
   ]
  },
  {
   "cell_type": "code",
   "execution_count": 498,
   "metadata": {
    "scrolled": true
   },
   "outputs": [
    {
     "name": "stdout",
     "output_type": "stream",
     "text": [
      "AUC: 0.821508439571381\n"
     ]
    },
    {
     "data": {
      "image/png": "[encoded data removed]",
      "text/plain": [
       "<Figure size 1080x360 with 1 Axes>"
      ]
     },
     "metadata": {
      "needs_background": "light"
     },
     "output_type": "display_data"
    }
   ],
   "source": [
    "#get AUC\n",
    "logreg_y_score = logreg_clf.fit(X_train, y_train).decision_function(X_test)\n",
    "\n",
    "#roc curve for classes\n",
    "logreg_fpr = {}\n",
    "logreg_tpr = {}\n",
    "logreg_thresh = {}\n",
    "\n",
    "n_class = 3\n",
    "\n",
    "for i in range(n_class):    \n",
    "    logreg_fpr[i], logreg_tpr[i], logreg_thresh[i] = roc_curve(y_test, logreg_y_score[:, i], pos_label = i)\n",
    "\n",
    "# plotting\n",
    "plt.figure(figsize = (15, 5))\n",
    "plt.plot(logreg_fpr[0], logreg_tpr[0], linestyle = '--',color = 'blue', label = 'Class 0 vs Rest')\n",
    "plt.plot(logreg_fpr[1], logreg_tpr[1], linestyle = '--',color = 'gray', label = 'Class 1 vs Rest')\n",
    "plt.plot(logreg_fpr[2], logreg_tpr[2], linestyle = '--',color = 'red', label = 'Class 2 vs Rest')\n",
    "plt.title('Multiclass ROC curve')\n",
    "plt.xlabel('False Positive Rate')\n",
    "plt.ylabel('True Positive Rate')\n",
    "plt.legend(loc = 'best')\n",
    "\n",
    "plt.savefig('./Data/logreg_roc')\n",
    "\n",
    "#get AUC\n",
    "print('AUC:', auc(logreg_fpr[i], logreg_tpr[i]))"
   ]
  },
  {
   "cell_type": "code",
   "execution_count": 499,
   "metadata": {},
   "outputs": [
    {
     "name": "stdout",
     "output_type": "stream",
     "text": [
      "0.23282828282828283\n",
      "0.5544705188812934\n"
     ]
    }
   ],
   "source": [
    "#get test bias and variance\n",
    "print(bias(y_test, y_hat_test))\n",
    "print(variance(y_hat_test))"
   ]
  },
  {
   "cell_type": "code",
   "execution_count": 500,
   "metadata": {},
   "outputs": [
    {
     "data": {
      "text/html": [
       "<div>\n",
       "<style scoped>\n",
       "    .dataframe tbody tr th:only-of-type {\n",
       "        vertical-align: middle;\n",
       "    }\n",
       "\n",
       "    .dataframe tbody tr th {\n",
       "        vertical-align: top;\n",
       "    }\n",
       "\n",
       "    .dataframe thead th {\n",
       "        text-align: right;\n",
       "    }\n",
       "</style>\n",
       "<table border=\"1\" class=\"dataframe\">\n",
       "  <thead>\n",
       "    <tr style=\"text-align: right;\">\n",
       "      <th></th>\n",
       "      <th>Model</th>\n",
       "      <th>Accuracy</th>\n",
       "      <th>CV</th>\n",
       "      <th>Precision</th>\n",
       "      <th>Recall</th>\n",
       "      <th>F1 Score</th>\n",
       "      <th>MAE</th>\n",
       "      <th>MSE</th>\n",
       "      <th>RMSE</th>\n",
       "      <th>AUC</th>\n",
       "      <th>Bias</th>\n",
       "      <th>Variance</th>\n",
       "    </tr>\n",
       "  </thead>\n",
       "  <tbody>\n",
       "    <tr>\n",
       "      <th>0</th>\n",
       "      <td>Decision Tree</td>\n",
       "      <td>70.35</td>\n",
       "      <td>0.69</td>\n",
       "      <td>0.6</td>\n",
       "      <td>0.66</td>\n",
       "      <td>0.61</td>\n",
       "      <td>0.34</td>\n",
       "      <td>0.43</td>\n",
       "      <td>0.66</td>\n",
       "      <td>-</td>\n",
       "      <td>0.087879</td>\n",
       "      <td>0.465907</td>\n",
       "    </tr>\n",
       "    <tr>\n",
       "      <th>1</th>\n",
       "      <td>Logistic Regression</td>\n",
       "      <td>65.41</td>\n",
       "      <td>0.74</td>\n",
       "      <td>0.6</td>\n",
       "      <td>0.67</td>\n",
       "      <td>0.58</td>\n",
       "      <td>0.41</td>\n",
       "      <td>0.55</td>\n",
       "      <td>0.74</td>\n",
       "      <td>0.82</td>\n",
       "      <td>0.232828</td>\n",
       "      <td>0.554471</td>\n",
       "    </tr>\n",
       "  </tbody>\n",
       "</table>\n",
       "</div>"
      ],
      "text/plain": [
       "                 Model  Accuracy    CV  Precision  Recall  F1 Score   MAE  \\\n",
       "0        Decision Tree     70.35  0.69        0.6    0.66      0.61  0.34   \n",
       "1  Logistic Regression     65.41  0.74        0.6    0.67      0.58  0.41   \n",
       "\n",
       "    MSE  RMSE   AUC      Bias  Variance  \n",
       "0  0.43  0.66     -  0.087879  0.465907  \n",
       "1  0.55  0.74  0.82  0.232828  0.554471  "
      ]
     },
     "execution_count": 500,
     "metadata": {},
     "output_type": "execute_result"
    }
   ],
   "source": [
    "#summary table\n",
    "summary_table.loc[1] = ['Logistic Regression',\n",
    "                        round(logreg_test_accuracy, 2), round(logreg_test_cv_score, 2), \n",
    "                        round(precision_score(y_test, y_hat_test, average = 'macro'), 2), round(recall_score(y_test, y_hat_test, average = 'macro'), 2), round(f1_score(y_test, y_hat_test, average = 'macro'), 2),\n",
    "                        round(mean_absolute_error(y_test, y_hat_test), 2), round(mean_squared_error(y_test, y_hat_test), 2), round(mean_squared_error(y_test, y_hat_test, squared = False), 2),\n",
    "                        round(auc(logreg_fpr[i], logreg_tpr[i]), 2), bias(y_test, y_hat_test), variance(y_hat_test)]\n",
    "summary_table.head()"
   ]
  },
  {
   "cell_type": "markdown",
   "metadata": {},
   "source": [
    "# K-Nearest Neighbor"
   ]
  },
  {
   "cell_type": "code",
   "execution_count": 501,
   "metadata": {},
   "outputs": [
    {
     "name": "stdout",
     "output_type": "stream",
     "text": [
      "Train accuracy: 87.64375605033882\n",
      "Test accuracy: 73.33333333333333\n"
     ]
    }
   ],
   "source": [
    "#instantiate baseline model\n",
    "knn_clf = KNeighborsClassifier()\n",
    "\n",
    "#fit\n",
    "knn_clf.fit(X_train, y_train)\n",
    "\n",
    "#predict on the test set\n",
    "y_hat_train = knn_clf.predict(X_train)\n",
    "y_hat_test = knn_clf.predict(X_test)\n",
    "\n",
    "#train accuracy \n",
    "knn_train_accuracy = accuracy_score(y_train, y_hat_train) * 100\n",
    "print('Train accuracy: {0}'.format(knn_train_accuracy))\n",
    "\n",
    "#test accuracy \n",
    "knn_test_accuracy = accuracy_score(y_test, y_hat_test) * 100\n",
    "print('Test accuracy: {0}'.format(knn_test_accuracy))\n",
    "\n",
    "#Train accuracy: 87.64375605033882\n",
    "#Test accuracy: 73.33333333333333"
   ]
  },
  {
   "cell_type": "code",
   "execution_count": 502,
   "metadata": {},
   "outputs": [
    {
     "data": {
      "text/plain": [
       "{'n_neighbors': 3, 'weights': 'distance'}"
      ]
     },
     "execution_count": 502,
     "metadata": {},
     "output_type": "execute_result"
    }
   ],
   "source": [
    "#set param grid\n",
    "#knn_param_grid = {\"n_neighbors\" : [3, 5, 7, 10],\n",
    "#                  'weights' : ['uniform', 'distance']}\n",
    "\n",
    "#gridsearch\n",
    "#knn_gridsearch = GridSearchCV(estimator = knn_clf,\n",
    "#                             param_grid = knn_param_grid,\n",
    "#                             scoring = 'accuracy', cv = 5,\n",
    "#                             n_jobs = -1)\n",
    "\n",
    "#fit\n",
    "#knn_gridsearch.fit(X_train, y_train)\n",
    "\n",
    "#best param\n",
    "#knn_gridsearch.best_params_\n",
    "\n",
    "#'n_neighbors': 3\n",
    "#'weights': 'distance'"
   ]
  },
  {
   "cell_type": "code",
   "execution_count": 503,
   "metadata": {},
   "outputs": [
    {
     "name": "stdout",
     "output_type": "stream",
     "text": [
      "Number of Various Combinations of Parameters Tried : 8\n"
     ]
    },
    {
     "data": {
      "text/html": [
       "<div>\n",
       "<style scoped>\n",
       "    .dataframe tbody tr th:only-of-type {\n",
       "        vertical-align: middle;\n",
       "    }\n",
       "\n",
       "    .dataframe tbody tr th {\n",
       "        vertical-align: top;\n",
       "    }\n",
       "\n",
       "    .dataframe thead th {\n",
       "        text-align: right;\n",
       "    }\n",
       "</style>\n",
       "<table border=\"1\" class=\"dataframe\">\n",
       "  <thead>\n",
       "    <tr style=\"text-align: right;\">\n",
       "      <th></th>\n",
       "      <th>mean_fit_time</th>\n",
       "      <th>std_fit_time</th>\n",
       "      <th>mean_score_time</th>\n",
       "      <th>std_score_time</th>\n",
       "      <th>param_n_neighbors</th>\n",
       "      <th>param_weights</th>\n",
       "      <th>params</th>\n",
       "      <th>split0_test_score</th>\n",
       "      <th>split1_test_score</th>\n",
       "      <th>split2_test_score</th>\n",
       "      <th>split3_test_score</th>\n",
       "      <th>split4_test_score</th>\n",
       "      <th>mean_test_score</th>\n",
       "      <th>std_test_score</th>\n",
       "      <th>rank_test_score</th>\n",
       "    </tr>\n",
       "  </thead>\n",
       "  <tbody>\n",
       "    <tr>\n",
       "      <th>0</th>\n",
       "      <td>0.217859</td>\n",
       "      <td>0.010784</td>\n",
       "      <td>106.766633</td>\n",
       "      <td>3.375557</td>\n",
       "      <td>3</td>\n",
       "      <td>uniform</td>\n",
       "      <td>{'n_neighbors': 3, 'weights': 'uniform'}</td>\n",
       "      <td>0.791481</td>\n",
       "      <td>0.817554</td>\n",
       "      <td>0.819684</td>\n",
       "      <td>0.831752</td>\n",
       "      <td>0.850081</td>\n",
       "      <td>0.822110</td>\n",
       "      <td>0.019184</td>\n",
       "      <td>5</td>\n",
       "    </tr>\n",
       "    <tr>\n",
       "      <th>1</th>\n",
       "      <td>0.246206</td>\n",
       "      <td>0.008696</td>\n",
       "      <td>107.527787</td>\n",
       "      <td>0.090453</td>\n",
       "      <td>3</td>\n",
       "      <td>distance</td>\n",
       "      <td>{'n_neighbors': 3, 'weights': 'distance'}</td>\n",
       "      <td>0.793353</td>\n",
       "      <td>0.831107</td>\n",
       "      <td>0.833817</td>\n",
       "      <td>0.846015</td>\n",
       "      <td>0.870087</td>\n",
       "      <td>0.834876</td>\n",
       "      <td>0.024913</td>\n",
       "      <td>1</td>\n",
       "    </tr>\n",
       "    <tr>\n",
       "      <th>2</th>\n",
       "      <td>0.347877</td>\n",
       "      <td>0.117723</td>\n",
       "      <td>115.058716</td>\n",
       "      <td>6.201667</td>\n",
       "      <td>5</td>\n",
       "      <td>uniform</td>\n",
       "      <td>{'n_neighbors': 5, 'weights': 'uniform'}</td>\n",
       "      <td>0.784511</td>\n",
       "      <td>0.804582</td>\n",
       "      <td>0.804001</td>\n",
       "      <td>0.817296</td>\n",
       "      <td>0.833430</td>\n",
       "      <td>0.808764</td>\n",
       "      <td>0.016184</td>\n",
       "      <td>6</td>\n",
       "    </tr>\n",
       "    <tr>\n",
       "      <th>3</th>\n",
       "      <td>0.270654</td>\n",
       "      <td>0.017230</td>\n",
       "      <td>119.439850</td>\n",
       "      <td>0.055920</td>\n",
       "      <td>5</td>\n",
       "      <td>distance</td>\n",
       "      <td>{'n_neighbors': 5, 'weights': 'distance'}</td>\n",
       "      <td>0.795611</td>\n",
       "      <td>0.828590</td>\n",
       "      <td>0.830526</td>\n",
       "      <td>0.841884</td>\n",
       "      <td>0.862665</td>\n",
       "      <td>0.831855</td>\n",
       "      <td>0.021799</td>\n",
       "      <td>2</td>\n",
       "    </tr>\n",
       "    <tr>\n",
       "      <th>4</th>\n",
       "      <td>0.620069</td>\n",
       "      <td>0.446564</td>\n",
       "      <td>78.169492</td>\n",
       "      <td>2.409327</td>\n",
       "      <td>7</td>\n",
       "      <td>uniform</td>\n",
       "      <td>{'n_neighbors': 7, 'weights': 'uniform'}</td>\n",
       "      <td>0.774572</td>\n",
       "      <td>0.789739</td>\n",
       "      <td>0.789416</td>\n",
       "      <td>0.804518</td>\n",
       "      <td>0.819748</td>\n",
       "      <td>0.795599</td>\n",
       "      <td>0.015345</td>\n",
       "      <td>7</td>\n",
       "    </tr>\n",
       "  </tbody>\n",
       "</table>\n",
       "</div>"
      ],
      "text/plain": [
       "   mean_fit_time  std_fit_time  mean_score_time  std_score_time  \\\n",
       "0       0.217859      0.010784       106.766633        3.375557   \n",
       "1       0.246206      0.008696       107.527787        0.090453   \n",
       "2       0.347877      0.117723       115.058716        6.201667   \n",
       "3       0.270654      0.017230       119.439850        0.055920   \n",
       "4       0.620069      0.446564        78.169492        2.409327   \n",
       "\n",
       "  param_n_neighbors param_weights                                     params  \\\n",
       "0                 3       uniform   {'n_neighbors': 3, 'weights': 'uniform'}   \n",
       "1                 3      distance  {'n_neighbors': 3, 'weights': 'distance'}   \n",
       "2                 5       uniform   {'n_neighbors': 5, 'weights': 'uniform'}   \n",
       "3                 5      distance  {'n_neighbors': 5, 'weights': 'distance'}   \n",
       "4                 7       uniform   {'n_neighbors': 7, 'weights': 'uniform'}   \n",
       "\n",
       "   split0_test_score  split1_test_score  split2_test_score  split3_test_score  \\\n",
       "0           0.791481           0.817554           0.819684           0.831752   \n",
       "1           0.793353           0.831107           0.833817           0.846015   \n",
       "2           0.784511           0.804582           0.804001           0.817296   \n",
       "3           0.795611           0.828590           0.830526           0.841884   \n",
       "4           0.774572           0.789739           0.789416           0.804518   \n",
       "\n",
       "   split4_test_score  mean_test_score  std_test_score  rank_test_score  \n",
       "0           0.850081         0.822110        0.019184                5  \n",
       "1           0.870087         0.834876        0.024913                1  \n",
       "2           0.833430         0.808764        0.016184                6  \n",
       "3           0.862665         0.831855        0.021799                2  \n",
       "4           0.819748         0.795599        0.015345                7  "
      ]
     },
     "execution_count": 503,
     "metadata": {},
     "output_type": "execute_result"
    }
   ],
   "source": [
    "#get cross-validation result\n",
    "#knn_cross_val_results = pd.DataFrame(knn_gridsearch.cv_results_)\n",
    "#print('Number of Various Combinations of Parameters Tried : %d'%len(knn_cross_val_results))\n",
    "\n",
    "#save\n",
    "#knn_cross_val_results.to_csv('./Data/knn_cross_val_results')\n",
    "\n",
    "#knn_cross_val_results.head()"
   ]
  },
  {
   "cell_type": "code",
   "execution_count": 504,
   "metadata": {},
   "outputs": [
    {
     "name": "stdout",
     "output_type": "stream",
     "text": [
      "Train accuracy: 99.66698935140369\n",
      "Test accuracy: 75.22727272727273\n"
     ]
    }
   ],
   "source": [
    "#train a classifier with optimal values identified above\n",
    "knn_clf = KNeighborsClassifier(n_neighbors = 3, weights = 'distance')\n",
    "\n",
    "#fit\n",
    "knn_clf.fit(X_train, y_train)\n",
    "\n",
    "#predict on the test set\n",
    "y_hat_train = knn_clf.predict(X_train)\n",
    "y_hat_test = knn_clf.predict(X_test)\n",
    "\n",
    "#train accuracy \n",
    "knn_train_accuracy = accuracy_score(y_train, y_hat_train) * 100\n",
    "print('Train accuracy: {0}'.format(knn_train_accuracy))\n",
    "\n",
    "#test accuracy \n",
    "knn_test_accuracy = accuracy_score(y_test, y_hat_test) * 100\n",
    "print('Test accuracy: {0}'.format(knn_test_accuracy))\n",
    "\n",
    "#Train accuracy: 99.66698935140369\n",
    "#Test accuracy: 75.22727272727273"
   ]
  },
  {
   "cell_type": "code",
   "execution_count": 505,
   "metadata": {},
   "outputs": [
    {
     "name": "stdout",
     "output_type": "stream",
     "text": [
      "Train cross validation: 0.8348757663762505\n",
      "Test cross validation: 0.7241582491582491\n"
     ]
    }
   ],
   "source": [
    "#train cross validation\n",
    "knn_train_cv_score = cross_val_score(knn_clf, X_train, y_train, cv = 5, n_jobs = -1).mean()\n",
    "print('Train cross validation:', knn_train_cv_score)\n",
    "\n",
    "#test cross validation\n",
    "knn_test_cv_score = cross_val_score(knn_clf, X_test, y_test, cv = 5, n_jobs = -1).mean()\n",
    "print('Test cross validation:', knn_test_cv_score)"
   ]
  },
  {
   "cell_type": "code",
   "execution_count": 506,
   "metadata": {},
   "outputs": [
    {
     "name": "stdout",
     "output_type": "stream",
     "text": [
      "Mean Absolute Error: 0.2812289562289562\n",
      "Mean Squared Error: 0.3482323232323232\n",
      "Root Mean Squared Error: 0.5901121276777179\n"
     ]
    }
   ],
   "source": [
    "#evaluate with MAE, MSE, RMSE\n",
    "print('Mean Absolute Error:', mean_absolute_error(y_test, y_hat_test))  \n",
    "print('Mean Squared Error:', mean_squared_error(y_test, y_hat_test))  \n",
    "print('Root Mean Squared Error:', mean_squared_error(y_test, y_hat_test, squared = False))"
   ]
  },
  {
   "cell_type": "code",
   "execution_count": 507,
   "metadata": {},
   "outputs": [
    {
     "name": "stdout",
     "output_type": "stream",
     "text": [
      "Model: adaBoost \n",
      "               precision    recall  f1-score   support\n",
      "\n",
      "           0       0.78      0.76      0.77      4614\n",
      "           1       0.81      0.78      0.80      6434\n",
      "           2       0.32      0.46      0.38       832\n",
      "\n",
      "    accuracy                           0.75     11880\n",
      "   macro avg       0.64      0.67      0.65     11880\n",
      "weighted avg       0.77      0.75      0.76     11880\n",
      "\n"
     ]
    }
   ],
   "source": [
    "#classification report\n",
    "knn_classification_report = classification_report(y_test, y_hat_test)\n",
    "print('Model: adaBoost', '\\n', knn_classification_report)"
   ]
  },
  {
   "cell_type": "code",
   "execution_count": 508,
   "metadata": {
    "scrolled": false
   },
   "outputs": [
    {
     "data": {
      "text/plain": [
       "<sklearn.metrics._plot.confusion_matrix.ConfusionMatrixDisplay at 0x7febd77d55e0>"
      ]
     },
     "execution_count": 508,
     "metadata": {},
     "output_type": "execute_result"
    },
    {
     "data": {
      "image/png": "[encoded data removed]",
      "text/plain": [
       "<Figure size 432x288 with 2 Axes>"
      ]
     },
     "metadata": {
      "needs_background": "light"
     },
     "output_type": "display_data"
    }
   ],
   "source": [
    "#plot\n",
    "plot_confusion_matrix(knn_clf, X_test, y_test, cmap = plt.cm.Blues)    "
   ]
  },
  {
   "cell_type": "code",
   "execution_count": 509,
   "metadata": {},
   "outputs": [
    {
     "name": "stdout",
     "output_type": "stream",
     "text": [
      "0.04301346801346801\n",
      "0.4044085566665533\n"
     ]
    }
   ],
   "source": [
    "#get test bias and variance\n",
    "print(bias(y_test, y_hat_test))\n",
    "print(variance(y_hat_test))"
   ]
  },
  {
   "cell_type": "code",
   "execution_count": 510,
   "metadata": {},
   "outputs": [
    {
     "data": {
      "text/html": [
       "<div>\n",
       "<style scoped>\n",
       "    .dataframe tbody tr th:only-of-type {\n",
       "        vertical-align: middle;\n",
       "    }\n",
       "\n",
       "    .dataframe tbody tr th {\n",
       "        vertical-align: top;\n",
       "    }\n",
       "\n",
       "    .dataframe thead th {\n",
       "        text-align: right;\n",
       "    }\n",
       "</style>\n",
       "<table border=\"1\" class=\"dataframe\">\n",
       "  <thead>\n",
       "    <tr style=\"text-align: right;\">\n",
       "      <th></th>\n",
       "      <th>Model</th>\n",
       "      <th>Accuracy</th>\n",
       "      <th>CV</th>\n",
       "      <th>Precision</th>\n",
       "      <th>Recall</th>\n",
       "      <th>F1 Score</th>\n",
       "      <th>MAE</th>\n",
       "      <th>MSE</th>\n",
       "      <th>RMSE</th>\n",
       "      <th>AUC</th>\n",
       "      <th>Bias</th>\n",
       "      <th>Variance</th>\n",
       "    </tr>\n",
       "  </thead>\n",
       "  <tbody>\n",
       "    <tr>\n",
       "      <th>0</th>\n",
       "      <td>Decision Tree</td>\n",
       "      <td>70.35</td>\n",
       "      <td>0.69</td>\n",
       "      <td>0.60</td>\n",
       "      <td>0.66</td>\n",
       "      <td>0.61</td>\n",
       "      <td>0.34</td>\n",
       "      <td>0.43</td>\n",
       "      <td>0.66</td>\n",
       "      <td>-</td>\n",
       "      <td>0.087879</td>\n",
       "      <td>0.465907</td>\n",
       "    </tr>\n",
       "    <tr>\n",
       "      <th>1</th>\n",
       "      <td>Logistic Regression</td>\n",
       "      <td>65.41</td>\n",
       "      <td>0.74</td>\n",
       "      <td>0.60</td>\n",
       "      <td>0.67</td>\n",
       "      <td>0.58</td>\n",
       "      <td>0.41</td>\n",
       "      <td>0.55</td>\n",
       "      <td>0.74</td>\n",
       "      <td>0.82</td>\n",
       "      <td>0.232828</td>\n",
       "      <td>0.554471</td>\n",
       "    </tr>\n",
       "    <tr>\n",
       "      <th>2</th>\n",
       "      <td>KNN</td>\n",
       "      <td>75.23</td>\n",
       "      <td>0.72</td>\n",
       "      <td>0.64</td>\n",
       "      <td>0.67</td>\n",
       "      <td>0.65</td>\n",
       "      <td>0.28</td>\n",
       "      <td>0.35</td>\n",
       "      <td>0.59</td>\n",
       "      <td>-</td>\n",
       "      <td>0.043013</td>\n",
       "      <td>0.404409</td>\n",
       "    </tr>\n",
       "  </tbody>\n",
       "</table>\n",
       "</div>"
      ],
      "text/plain": [
       "                 Model  Accuracy    CV  Precision  Recall  F1 Score   MAE  \\\n",
       "0        Decision Tree     70.35  0.69       0.60    0.66      0.61  0.34   \n",
       "1  Logistic Regression     65.41  0.74       0.60    0.67      0.58  0.41   \n",
       "2                  KNN     75.23  0.72       0.64    0.67      0.65  0.28   \n",
       "\n",
       "    MSE  RMSE   AUC      Bias  Variance  \n",
       "0  0.43  0.66     -  0.087879  0.465907  \n",
       "1  0.55  0.74  0.82  0.232828  0.554471  \n",
       "2  0.35  0.59     -  0.043013  0.404409  "
      ]
     },
     "execution_count": 510,
     "metadata": {},
     "output_type": "execute_result"
    }
   ],
   "source": [
    "#summary table\n",
    "summary_table.loc[2] = ['KNN',\n",
    "                        round(knn_test_accuracy, 2), round(knn_test_cv_score, 2), \n",
    "                        round(precision_score(y_test, y_hat_test, average = 'macro'), 2), round(recall_score(y_test, y_hat_test, average = 'macro'), 2), round(f1_score(y_test, y_hat_test, average = 'macro'), 2),\n",
    "                        round(mean_absolute_error(y_test, y_hat_test), 2), round(mean_squared_error(y_test, y_hat_test), 2), round(mean_squared_error(y_test, y_hat_test, squared = False), 2),\n",
    "                        '-', bias(y_test, y_hat_test), variance(y_hat_test)]\n",
    "summary_table.head()"
   ]
  },
  {
   "cell_type": "markdown",
   "metadata": {},
   "source": [
    "# Bagged Tree"
   ]
  },
  {
   "cell_type": "code",
   "execution_count": 511,
   "metadata": {
    "scrolled": true
   },
   "outputs": [
    {
     "name": "stdout",
     "output_type": "stream",
     "text": [
      "Train accuracy: 98.86414972571798\n",
      "Test accuracy: 77.72727272727272\n"
     ]
    }
   ],
   "source": [
    "#instantiate baseline model\n",
    "bagged_tree_clf = BaggingClassifier(DecisionTreeClassifier(random_state = 21),\n",
    "                                    random_state = 21)\n",
    "\n",
    "#fit\n",
    "bagged_tree_clf.fit(X_train, y_train)\n",
    "\n",
    "#predict\n",
    "y_hat_test = bagged_tree_clf.predict(X_test)\n",
    "y_hat_train = bagged_tree_clf.predict(X_train)\n",
    "\n",
    "#train accuracy\n",
    "bagged_tree_train_accuracy = accuracy_score(y_train, y_hat_train) * 100\n",
    "print('Train accuracy: {0}'.format(bagged_tree_train_accuracy))\n",
    "\n",
    "#test accuracy\n",
    "bagged_tree_test_accuracy = accuracy_score(y_test, y_hat_test) * 100\n",
    "print('Test accuracy: {0}'.format(bagged_tree_test_accuracy))\n",
    "\n",
    "#Train accuracy: 98.86414972571798\n",
    "#Test accuracy: 77.72727272727272"
   ]
  },
  {
   "cell_type": "code",
   "execution_count": 512,
   "metadata": {
    "scrolled": true
   },
   "outputs": [
    {
     "data": {
      "text/plain": [
       "{'max_features': 50, 'max_samples': 50, 'n_estimators': 100}"
      ]
     },
     "execution_count": 512,
     "metadata": {},
     "output_type": "execute_result"
    }
   ],
   "source": [
    "#set param grid\n",
    "#bagged_tree_param_grid = {'n_estimators' : [20, 50, 100],\n",
    "##                          'max_samples': [1, 5, 10, 20, 50],\n",
    " #                         'max_features': [1, 5, 10, 20, 50]}\n",
    "\n",
    "#gridsearch\n",
    "#bagged_tree_gridsearch = GridSearchCV(estimator = bagged_tree_clf, \n",
    "#                                        param_grid = bagged_tree_param_grid,\n",
    "#                                        scoring = 'accuracy', cv = 5,\n",
    "#                                        n_jobs = -1)\n",
    "\n",
    "#fit\n",
    "#bagged_tree_gridsearch.fit(X_train, y_train)\n",
    "\n",
    "#best param\n",
    "#bagged_tree_gridsearch.best_params_\n",
    "\n",
    "#'bootstrap': False,\n",
    "#'bootstrap_features': True,\n",
    "#'max_features': 50,\n",
    "#'max_samples': 50,\n",
    "#'n_estimators': 100"
   ]
  },
  {
   "cell_type": "code",
   "execution_count": 513,
   "metadata": {},
   "outputs": [
    {
     "name": "stdout",
     "output_type": "stream",
     "text": [
      "Number of Various Combinations of Parameters Tried : 75\n"
     ]
    },
    {
     "data": {
      "text/html": [
       "<div>\n",
       "<style scoped>\n",
       "    .dataframe tbody tr th:only-of-type {\n",
       "        vertical-align: middle;\n",
       "    }\n",
       "\n",
       "    .dataframe tbody tr th {\n",
       "        vertical-align: top;\n",
       "    }\n",
       "\n",
       "    .dataframe thead th {\n",
       "        text-align: right;\n",
       "    }\n",
       "</style>\n",
       "<table border=\"1\" class=\"dataframe\">\n",
       "  <thead>\n",
       "    <tr style=\"text-align: right;\">\n",
       "      <th></th>\n",
       "      <th>mean_fit_time</th>\n",
       "      <th>std_fit_time</th>\n",
       "      <th>mean_score_time</th>\n",
       "      <th>std_score_time</th>\n",
       "      <th>param_max_features</th>\n",
       "      <th>param_max_samples</th>\n",
       "      <th>param_n_estimators</th>\n",
       "      <th>params</th>\n",
       "      <th>split0_test_score</th>\n",
       "      <th>split1_test_score</th>\n",
       "      <th>split2_test_score</th>\n",
       "      <th>split3_test_score</th>\n",
       "      <th>split4_test_score</th>\n",
       "      <th>mean_test_score</th>\n",
       "      <th>std_test_score</th>\n",
       "      <th>rank_test_score</th>\n",
       "    </tr>\n",
       "  </thead>\n",
       "  <tbody>\n",
       "    <tr>\n",
       "      <th>0</th>\n",
       "      <td>0.680113</td>\n",
       "      <td>0.010620</td>\n",
       "      <td>0.037339</td>\n",
       "      <td>0.002767</td>\n",
       "      <td>1</td>\n",
       "      <td>1</td>\n",
       "      <td>20</td>\n",
       "      <td>{'max_features': 1, 'max_samples': 1, 'n_estim...</td>\n",
       "      <td>0.333333</td>\n",
       "      <td>0.333333</td>\n",
       "      <td>0.333333</td>\n",
       "      <td>0.333333</td>\n",
       "      <td>0.333333</td>\n",
       "      <td>0.333333</td>\n",
       "      <td>0.000000</td>\n",
       "      <td>60</td>\n",
       "    </tr>\n",
       "    <tr>\n",
       "      <th>1</th>\n",
       "      <td>1.007122</td>\n",
       "      <td>0.018208</td>\n",
       "      <td>0.093215</td>\n",
       "      <td>0.000530</td>\n",
       "      <td>1</td>\n",
       "      <td>1</td>\n",
       "      <td>50</td>\n",
       "      <td>{'max_features': 1, 'max_samples': 1, 'n_estim...</td>\n",
       "      <td>0.333333</td>\n",
       "      <td>0.333333</td>\n",
       "      <td>0.333333</td>\n",
       "      <td>0.333333</td>\n",
       "      <td>0.333333</td>\n",
       "      <td>0.333333</td>\n",
       "      <td>0.000000</td>\n",
       "      <td>60</td>\n",
       "    </tr>\n",
       "    <tr>\n",
       "      <th>2</th>\n",
       "      <td>1.518989</td>\n",
       "      <td>0.014071</td>\n",
       "      <td>0.164101</td>\n",
       "      <td>0.006035</td>\n",
       "      <td>1</td>\n",
       "      <td>1</td>\n",
       "      <td>100</td>\n",
       "      <td>{'max_features': 1, 'max_samples': 1, 'n_estim...</td>\n",
       "      <td>0.333333</td>\n",
       "      <td>0.333333</td>\n",
       "      <td>0.333333</td>\n",
       "      <td>0.333333</td>\n",
       "      <td>0.333333</td>\n",
       "      <td>0.333333</td>\n",
       "      <td>0.000000</td>\n",
       "      <td>60</td>\n",
       "    </tr>\n",
       "    <tr>\n",
       "      <th>3</th>\n",
       "      <td>0.489907</td>\n",
       "      <td>0.146380</td>\n",
       "      <td>0.031901</td>\n",
       "      <td>0.011827</td>\n",
       "      <td>1</td>\n",
       "      <td>5</td>\n",
       "      <td>20</td>\n",
       "      <td>{'max_features': 1, 'max_samples': 5, 'n_estim...</td>\n",
       "      <td>0.325395</td>\n",
       "      <td>0.362246</td>\n",
       "      <td>0.331139</td>\n",
       "      <td>0.333333</td>\n",
       "      <td>0.320103</td>\n",
       "      <td>0.334443</td>\n",
       "      <td>0.014647</td>\n",
       "      <td>58</td>\n",
       "    </tr>\n",
       "    <tr>\n",
       "      <th>4</th>\n",
       "      <td>0.740272</td>\n",
       "      <td>0.025685</td>\n",
       "      <td>0.080635</td>\n",
       "      <td>0.002095</td>\n",
       "      <td>1</td>\n",
       "      <td>5</td>\n",
       "      <td>50</td>\n",
       "      <td>{'max_features': 1, 'max_samples': 5, 'n_estim...</td>\n",
       "      <td>0.317586</td>\n",
       "      <td>0.333333</td>\n",
       "      <td>0.333140</td>\n",
       "      <td>0.334560</td>\n",
       "      <td>0.339722</td>\n",
       "      <td>0.331668</td>\n",
       "      <td>0.007436</td>\n",
       "      <td>75</td>\n",
       "    </tr>\n",
       "  </tbody>\n",
       "</table>\n",
       "</div>"
      ],
      "text/plain": [
       "   mean_fit_time  std_fit_time  mean_score_time  std_score_time  \\\n",
       "0       0.680113      0.010620         0.037339        0.002767   \n",
       "1       1.007122      0.018208         0.093215        0.000530   \n",
       "2       1.518989      0.014071         0.164101        0.006035   \n",
       "3       0.489907      0.146380         0.031901        0.011827   \n",
       "4       0.740272      0.025685         0.080635        0.002095   \n",
       "\n",
       "  param_max_features param_max_samples param_n_estimators  \\\n",
       "0                  1                 1                 20   \n",
       "1                  1                 1                 50   \n",
       "2                  1                 1                100   \n",
       "3                  1                 5                 20   \n",
       "4                  1                 5                 50   \n",
       "\n",
       "                                              params  split0_test_score  \\\n",
       "0  {'max_features': 1, 'max_samples': 1, 'n_estim...           0.333333   \n",
       "1  {'max_features': 1, 'max_samples': 1, 'n_estim...           0.333333   \n",
       "2  {'max_features': 1, 'max_samples': 1, 'n_estim...           0.333333   \n",
       "3  {'max_features': 1, 'max_samples': 5, 'n_estim...           0.325395   \n",
       "4  {'max_features': 1, 'max_samples': 5, 'n_estim...           0.317586   \n",
       "\n",
       "   split1_test_score  split2_test_score  split3_test_score  split4_test_score  \\\n",
       "0           0.333333           0.333333           0.333333           0.333333   \n",
       "1           0.333333           0.333333           0.333333           0.333333   \n",
       "2           0.333333           0.333333           0.333333           0.333333   \n",
       "3           0.362246           0.331139           0.333333           0.320103   \n",
       "4           0.333333           0.333140           0.334560           0.339722   \n",
       "\n",
       "   mean_test_score  std_test_score  rank_test_score  \n",
       "0         0.333333        0.000000               60  \n",
       "1         0.333333        0.000000               60  \n",
       "2         0.333333        0.000000               60  \n",
       "3         0.334443        0.014647               58  \n",
       "4         0.331668        0.007436               75  "
      ]
     },
     "execution_count": 513,
     "metadata": {},
     "output_type": "execute_result"
    }
   ],
   "source": [
    "#get cross-validation result\n",
    "#bagged_tree_cross_val_results = pd.DataFrame(bagged_tree_gridsearch.cv_results_)\n",
    "#print('Number of Various Combinations of Parameters Tried : %d'%len(bagged_tree_cross_val_results))\n",
    "\n",
    "#save\n",
    "#bagged_tree_cross_val_results.to_csv('./Data/bagged_tree_cross_val_results')\n",
    "\n",
    "#bagged_tree_cross_val_results.head()"
   ]
  },
  {
   "cell_type": "code",
   "execution_count": 514,
   "metadata": {},
   "outputs": [
    {
     "name": "stdout",
     "output_type": "stream",
     "text": [
      "Train accuracy: 55.81800580832527\n",
      "Test accuracy: 52.07912457912458\n"
     ]
    }
   ],
   "source": [
    "#train a classifier with optimal values identified above\n",
    "bagged_tree_clf = BaggingClassifier(DecisionTreeClassifier(random_state = 21,\n",
    "                                                           criterion = 'gini',\n",
    "                                                           max_depth = 40,\n",
    "                                                           max_features = 'auto',\n",
    "                                                           min_samples_leaf = 3,\n",
    "                                                           min_samples_split = 8),\n",
    "                                    random_state = 21,\n",
    "                                    max_features = 50,\n",
    "                                    max_samples = 50,\n",
    "                                    n_estimators = 100)\n",
    "\n",
    "#fit\n",
    "bagged_tree_clf.fit(X_train, y_train)\n",
    "\n",
    "#predict\n",
    "y_hat_test = bagged_tree_clf.predict(X_test)\n",
    "y_hat_train = bagged_tree_clf.predict(X_train)\n",
    "\n",
    "#train accuracy\n",
    "bagged_tree_train_accuracy = accuracy_score(y_train, y_hat_train) * 100\n",
    "print('Train accuracy: {0}'.format(bagged_tree_train_accuracy))\n",
    "\n",
    "#test accuracy\n",
    "bagged_tree_test_accuracy = accuracy_score(y_test, y_hat_test) * 100\n",
    "print('Test accuracy: {0}'.format(bagged_tree_test_accuracy))\n",
    "\n",
    "#Train accuracy: 55.81800580832527\n",
    "#Test accuracy: 52.07912457912458"
   ]
  },
  {
   "cell_type": "code",
   "execution_count": 515,
   "metadata": {},
   "outputs": [
    {
     "name": "stdout",
     "output_type": "stream",
     "text": [
      "Test cross validation: 0.5422781542433043\n",
      "Train cross validation: 0.6100168350168349\n"
     ]
    }
   ],
   "source": [
    "#train cross validation\n",
    "bagged_tree_train_cv_score = cross_val_score(bagged_tree_clf, X_train, y_train, cv = 5, n_jobs = -1).mean()\n",
    "print('Test cross validation:', bagged_tree_train_cv_score)\n",
    "\n",
    "#test cross validation\n",
    "bagged_tree_test_cv_score = cross_val_score(bagged_tree_clf, X_test, y_test, cv = 5, n_jobs = -1).mean()\n",
    "print('Train cross validation:', bagged_tree_test_cv_score)"
   ]
  },
  {
   "cell_type": "code",
   "execution_count": 516,
   "metadata": {},
   "outputs": [
    {
     "name": "stdout",
     "output_type": "stream",
     "text": [
      "Mean Absolute Error: 0.5866161616161616\n",
      "Mean Squared Error: 0.8014309764309764\n",
      "Root Mean Squared Error: 0.8952267737456115\n"
     ]
    }
   ],
   "source": [
    "#evaluate with MAE, MSE, RMSE\n",
    "print('Mean Absolute Error:', mean_absolute_error(y_test, y_hat_test))  \n",
    "print('Mean Squared Error:', mean_squared_error(y_test, y_hat_test))  \n",
    "print('Root Mean Squared Error:', mean_squared_error(y_test, y_hat_test, squared = False))"
   ]
  },
  {
   "cell_type": "code",
   "execution_count": 517,
   "metadata": {},
   "outputs": [
    {
     "name": "stdout",
     "output_type": "stream",
     "text": [
      "Model: Bagged Tree \n",
      "               precision    recall  f1-score   support\n",
      "\n",
      "           0       0.60      0.61      0.60      4614\n",
      "           1       0.77      0.45      0.57      6434\n",
      "           2       0.14      0.59      0.23       832\n",
      "\n",
      "    accuracy                           0.52     11880\n",
      "   macro avg       0.50      0.55      0.47     11880\n",
      "weighted avg       0.66      0.52      0.56     11880\n",
      "\n"
     ]
    }
   ],
   "source": [
    "#classification report\n",
    "bagged_tree_classification_report = classification_report(y_test, y_hat_test)\n",
    "print('Model: Bagged Tree', '\\n', bagged_tree_classification_report)"
   ]
  },
  {
   "cell_type": "code",
   "execution_count": 518,
   "metadata": {
    "scrolled": true
   },
   "outputs": [
    {
     "data": {
      "text/plain": [
       "<sklearn.metrics._plot.confusion_matrix.ConfusionMatrixDisplay at 0x7febb7814a60>"
      ]
     },
     "execution_count": 518,
     "metadata": {},
     "output_type": "execute_result"
    },
    {
     "data": {
      "image/png": "[encoded data removed]",
      "text/plain": [
       "<Figure size 432x288 with 2 Axes>"
      ]
     },
     "metadata": {
      "needs_background": "light"
     },
     "output_type": "display_data"
    }
   ],
   "source": [
    "#plot confusion matrix\n",
    "plot_confusion_matrix(bagged_tree_clf, X_test, y_test, cmap = plt.cm.Blues)"
   ]
  },
  {
   "cell_type": "code",
   "execution_count": 519,
   "metadata": {},
   "outputs": [
    {
     "name": "stdout",
     "output_type": "stream",
     "text": [
      "0.21136363636363636\n",
      "0.6716346900543028\n"
     ]
    }
   ],
   "source": [
    "#get test bias and variance\n",
    "print(bias(y_test, y_hat_test))\n",
    "print(variance(y_hat_test))"
   ]
  },
  {
   "cell_type": "code",
   "execution_count": 520,
   "metadata": {},
   "outputs": [
    {
     "data": {
      "text/html": [
       "<div>\n",
       "<style scoped>\n",
       "    .dataframe tbody tr th:only-of-type {\n",
       "        vertical-align: middle;\n",
       "    }\n",
       "\n",
       "    .dataframe tbody tr th {\n",
       "        vertical-align: top;\n",
       "    }\n",
       "\n",
       "    .dataframe thead th {\n",
       "        text-align: right;\n",
       "    }\n",
       "</style>\n",
       "<table border=\"1\" class=\"dataframe\">\n",
       "  <thead>\n",
       "    <tr style=\"text-align: right;\">\n",
       "      <th></th>\n",
       "      <th>Model</th>\n",
       "      <th>Accuracy</th>\n",
       "      <th>CV</th>\n",
       "      <th>Precision</th>\n",
       "      <th>Recall</th>\n",
       "      <th>F1 Score</th>\n",
       "      <th>MAE</th>\n",
       "      <th>MSE</th>\n",
       "      <th>RMSE</th>\n",
       "      <th>AUC</th>\n",
       "      <th>Bias</th>\n",
       "      <th>Variance</th>\n",
       "    </tr>\n",
       "  </thead>\n",
       "  <tbody>\n",
       "    <tr>\n",
       "      <th>0</th>\n",
       "      <td>Decision Tree</td>\n",
       "      <td>70.35</td>\n",
       "      <td>0.69</td>\n",
       "      <td>0.60</td>\n",
       "      <td>0.66</td>\n",
       "      <td>0.61</td>\n",
       "      <td>0.34</td>\n",
       "      <td>0.43</td>\n",
       "      <td>0.66</td>\n",
       "      <td>-</td>\n",
       "      <td>0.087879</td>\n",
       "      <td>0.465907</td>\n",
       "    </tr>\n",
       "    <tr>\n",
       "      <th>1</th>\n",
       "      <td>Logistic Regression</td>\n",
       "      <td>65.41</td>\n",
       "      <td>0.74</td>\n",
       "      <td>0.60</td>\n",
       "      <td>0.67</td>\n",
       "      <td>0.58</td>\n",
       "      <td>0.41</td>\n",
       "      <td>0.55</td>\n",
       "      <td>0.74</td>\n",
       "      <td>0.82</td>\n",
       "      <td>0.232828</td>\n",
       "      <td>0.554471</td>\n",
       "    </tr>\n",
       "    <tr>\n",
       "      <th>2</th>\n",
       "      <td>KNN</td>\n",
       "      <td>75.23</td>\n",
       "      <td>0.72</td>\n",
       "      <td>0.64</td>\n",
       "      <td>0.67</td>\n",
       "      <td>0.65</td>\n",
       "      <td>0.28</td>\n",
       "      <td>0.35</td>\n",
       "      <td>0.59</td>\n",
       "      <td>-</td>\n",
       "      <td>0.043013</td>\n",
       "      <td>0.404409</td>\n",
       "    </tr>\n",
       "    <tr>\n",
       "      <th>3</th>\n",
       "      <td>Bagged Tree</td>\n",
       "      <td>52.08</td>\n",
       "      <td>0.61</td>\n",
       "      <td>0.50</td>\n",
       "      <td>0.55</td>\n",
       "      <td>0.47</td>\n",
       "      <td>0.59</td>\n",
       "      <td>0.80</td>\n",
       "      <td>0.90</td>\n",
       "      <td>-</td>\n",
       "      <td>0.211364</td>\n",
       "      <td>0.671635</td>\n",
       "    </tr>\n",
       "  </tbody>\n",
       "</table>\n",
       "</div>"
      ],
      "text/plain": [
       "                 Model  Accuracy    CV  Precision  Recall  F1 Score   MAE  \\\n",
       "0        Decision Tree     70.35  0.69       0.60    0.66      0.61  0.34   \n",
       "1  Logistic Regression     65.41  0.74       0.60    0.67      0.58  0.41   \n",
       "2                  KNN     75.23  0.72       0.64    0.67      0.65  0.28   \n",
       "3          Bagged Tree     52.08  0.61       0.50    0.55      0.47  0.59   \n",
       "\n",
       "    MSE  RMSE   AUC      Bias  Variance  \n",
       "0  0.43  0.66     -  0.087879  0.465907  \n",
       "1  0.55  0.74  0.82  0.232828  0.554471  \n",
       "2  0.35  0.59     -  0.043013  0.404409  \n",
       "3  0.80  0.90     -  0.211364  0.671635  "
      ]
     },
     "execution_count": 520,
     "metadata": {},
     "output_type": "execute_result"
    }
   ],
   "source": [
    "#summary table\n",
    "summary_table.loc[3] = ['Bagged Tree',\n",
    "                        round(bagged_tree_test_accuracy, 2), round(bagged_tree_test_cv_score, 2), \n",
    "                        round(precision_score(y_test, y_hat_test, average = 'macro'), 2), round(recall_score(y_test, y_hat_test, average = 'macro'), 2), round(f1_score(y_test, y_hat_test, average = 'macro'), 2),\n",
    "                        round(mean_absolute_error(y_test, y_hat_test), 2), round(mean_squared_error(y_test, y_hat_test), 2), round(mean_squared_error(y_test, y_hat_test, squared = False), 2),\n",
    "                        '-', bias(y_test, y_hat_test), variance(y_hat_test)]\n",
    "summary_table.head()"
   ]
  },
  {
   "cell_type": "markdown",
   "metadata": {},
   "source": [
    "# Random Forest"
   ]
  },
  {
   "cell_type": "code",
   "execution_count": 521,
   "metadata": {},
   "outputs": [
    {
     "name": "stdout",
     "output_type": "stream",
     "text": [
      "Train accuracy: 99.75475959987092\n",
      "Test accuracy: 79.15824915824916\n"
     ]
    }
   ],
   "source": [
    "#instantiate baseline model\n",
    "random_forest_clf = RandomForestClassifier(random_state = 21)\n",
    "\n",
    "#fit\n",
    "random_forest_clf.fit(X_train, y_train)\n",
    "\n",
    "#predict\n",
    "y_hat_train = random_forest_clf.predict(X_train)\n",
    "y_hat_test = random_forest_clf.predict(X_test)\n",
    "\n",
    "#train accuracy\n",
    "random_forest_train_accuracy = accuracy_score(y_train, y_hat_train) * 100\n",
    "print('Train accuracy: {0}'.format(random_forest_train_accuracy))\n",
    "\n",
    "#test accuracy\n",
    "random_forest_test_accuracy = accuracy_score(y_test, y_hat_test) * 100\n",
    "print('Test accuracy: {0}'.format(random_forest_test_accuracy))\n",
    "\n",
    "#Train accuracy: 99.75475959987092\n",
    "#Test accuracy: 79.15824915824916"
   ]
  },
  {
   "cell_type": "code",
   "execution_count": 522,
   "metadata": {},
   "outputs": [
    {
     "data": {
      "text/plain": [
       "{'criterion': 'gini',\n",
       " 'max_depth': 40,\n",
       " 'max_features': 'auto',\n",
       " 'min_samples_leaf': 3,\n",
       " 'min_samples_split': 8,\n",
       " 'n_estimators': 100}"
      ]
     },
     "execution_count": 522,
     "metadata": {},
     "output_type": "execute_result"
    }
   ],
   "source": [
    "#set param grid\n",
    "#random_forest_param_grid = {'n_estimators' : [20, 50, 100],\n",
    "#                            'criterion' : ['gini', 'entropy'],\n",
    "#                            'min_samples_split' : [8, 10, 12],\n",
    "#                            'min_samples_leaf' : [3, 4, 5],\n",
    "#                            'max_depth': [40, 80],\n",
    "#                            'max_features': ['auto', 'sqrt', 'log2']}\n",
    "\n",
    "#gridsearch\n",
    "#random_forest_gridsearch = GridSearchCV(estimator = random_forest_clf, \n",
    "#                                        param_grid = random_forest_param_grid,\n",
    "#                                        scoring = 'accuracy', cv = 5,\n",
    "#                                        n_jobs = -1)\n",
    "\n",
    "#fit\n",
    "#random_forest_gridsearch.fit(X_train, y_train)\n",
    "\n",
    "#best param\n",
    "#random_forest_gridsearch.best_params_\n",
    "\n",
    "#'criterion': 'gini',\n",
    "#'max_depth': 40,\n",
    "#'max_features': 'auto',\n",
    "#'min_samples_leaf': 3,\n",
    "#'min_samples_split': 8,\n",
    "#'n_estimators': 100"
   ]
  },
  {
   "cell_type": "code",
   "execution_count": 523,
   "metadata": {},
   "outputs": [
    {
     "name": "stdout",
     "output_type": "stream",
     "text": [
      "Number of Various Combinations of Parameters Tried : 648\n"
     ]
    },
    {
     "data": {
      "text/html": [
       "<div>\n",
       "<style scoped>\n",
       "    .dataframe tbody tr th:only-of-type {\n",
       "        vertical-align: middle;\n",
       "    }\n",
       "\n",
       "    .dataframe tbody tr th {\n",
       "        vertical-align: top;\n",
       "    }\n",
       "\n",
       "    .dataframe thead th {\n",
       "        text-align: right;\n",
       "    }\n",
       "</style>\n",
       "<table border=\"1\" class=\"dataframe\">\n",
       "  <thead>\n",
       "    <tr style=\"text-align: right;\">\n",
       "      <th></th>\n",
       "      <th>mean_fit_time</th>\n",
       "      <th>std_fit_time</th>\n",
       "      <th>mean_score_time</th>\n",
       "      <th>std_score_time</th>\n",
       "      <th>param_criterion</th>\n",
       "      <th>param_max_depth</th>\n",
       "      <th>param_max_features</th>\n",
       "      <th>param_min_samples_leaf</th>\n",
       "      <th>param_min_samples_split</th>\n",
       "      <th>param_n_estimators</th>\n",
       "      <th>params</th>\n",
       "      <th>split0_test_score</th>\n",
       "      <th>split1_test_score</th>\n",
       "      <th>split2_test_score</th>\n",
       "      <th>split3_test_score</th>\n",
       "      <th>split4_test_score</th>\n",
       "      <th>mean_test_score</th>\n",
       "      <th>std_test_score</th>\n",
       "      <th>rank_test_score</th>\n",
       "    </tr>\n",
       "  </thead>\n",
       "  <tbody>\n",
       "    <tr>\n",
       "      <th>0</th>\n",
       "      <td>5.889753</td>\n",
       "      <td>0.067462</td>\n",
       "      <td>0.141957</td>\n",
       "      <td>0.007061</td>\n",
       "      <td>gini</td>\n",
       "      <td>40</td>\n",
       "      <td>auto</td>\n",
       "      <td>3</td>\n",
       "      <td>8</td>\n",
       "      <td>20</td>\n",
       "      <td>{'criterion': 'gini', 'max_depth': 40, 'max_fe...</td>\n",
       "      <td>0.793030</td>\n",
       "      <td>0.833817</td>\n",
       "      <td>0.832720</td>\n",
       "      <td>0.846015</td>\n",
       "      <td>0.853372</td>\n",
       "      <td>0.831791</td>\n",
       "      <td>0.020859</td>\n",
       "      <td>95</td>\n",
       "    </tr>\n",
       "    <tr>\n",
       "      <th>1</th>\n",
       "      <td>13.433257</td>\n",
       "      <td>0.132612</td>\n",
       "      <td>0.363124</td>\n",
       "      <td>0.006481</td>\n",
       "      <td>gini</td>\n",
       "      <td>40</td>\n",
       "      <td>auto</td>\n",
       "      <td>3</td>\n",
       "      <td>8</td>\n",
       "      <td>50</td>\n",
       "      <td>{'criterion': 'gini', 'max_depth': 40, 'max_fe...</td>\n",
       "      <td>0.795611</td>\n",
       "      <td>0.836399</td>\n",
       "      <td>0.835753</td>\n",
       "      <td>0.849823</td>\n",
       "      <td>0.856857</td>\n",
       "      <td>0.834889</td>\n",
       "      <td>0.021220</td>\n",
       "      <td>47</td>\n",
       "    </tr>\n",
       "    <tr>\n",
       "      <th>2</th>\n",
       "      <td>26.989119</td>\n",
       "      <td>0.129735</td>\n",
       "      <td>0.687151</td>\n",
       "      <td>0.009108</td>\n",
       "      <td>gini</td>\n",
       "      <td>40</td>\n",
       "      <td>auto</td>\n",
       "      <td>3</td>\n",
       "      <td>8</td>\n",
       "      <td>100</td>\n",
       "      <td>{'criterion': 'gini', 'max_depth': 40, 'max_fe...</td>\n",
       "      <td>0.796580</td>\n",
       "      <td>0.839948</td>\n",
       "      <td>0.839238</td>\n",
       "      <td>0.850791</td>\n",
       "      <td>0.859761</td>\n",
       "      <td>0.837264</td>\n",
       "      <td>0.021704</td>\n",
       "      <td>1</td>\n",
       "    </tr>\n",
       "    <tr>\n",
       "      <th>3</th>\n",
       "      <td>5.873453</td>\n",
       "      <td>0.041796</td>\n",
       "      <td>0.134580</td>\n",
       "      <td>0.006509</td>\n",
       "      <td>gini</td>\n",
       "      <td>40</td>\n",
       "      <td>auto</td>\n",
       "      <td>3</td>\n",
       "      <td>10</td>\n",
       "      <td>20</td>\n",
       "      <td>{'criterion': 'gini', 'max_depth': 40, 'max_fe...</td>\n",
       "      <td>0.791804</td>\n",
       "      <td>0.832010</td>\n",
       "      <td>0.831365</td>\n",
       "      <td>0.841626</td>\n",
       "      <td>0.850791</td>\n",
       "      <td>0.829519</td>\n",
       "      <td>0.020155</td>\n",
       "      <td>121</td>\n",
       "    </tr>\n",
       "    <tr>\n",
       "      <th>4</th>\n",
       "      <td>13.191386</td>\n",
       "      <td>0.299333</td>\n",
       "      <td>0.358245</td>\n",
       "      <td>0.015440</td>\n",
       "      <td>gini</td>\n",
       "      <td>40</td>\n",
       "      <td>auto</td>\n",
       "      <td>3</td>\n",
       "      <td>10</td>\n",
       "      <td>50</td>\n",
       "      <td>{'criterion': 'gini', 'max_depth': 40, 'max_fe...</td>\n",
       "      <td>0.793804</td>\n",
       "      <td>0.834076</td>\n",
       "      <td>0.837238</td>\n",
       "      <td>0.845305</td>\n",
       "      <td>0.854921</td>\n",
       "      <td>0.833069</td>\n",
       "      <td>0.020916</td>\n",
       "      <td>79</td>\n",
       "    </tr>\n",
       "  </tbody>\n",
       "</table>\n",
       "</div>"
      ],
      "text/plain": [
       "   mean_fit_time  std_fit_time  mean_score_time  std_score_time  \\\n",
       "0       5.889753      0.067462         0.141957        0.007061   \n",
       "1      13.433257      0.132612         0.363124        0.006481   \n",
       "2      26.989119      0.129735         0.687151        0.009108   \n",
       "3       5.873453      0.041796         0.134580        0.006509   \n",
       "4      13.191386      0.299333         0.358245        0.015440   \n",
       "\n",
       "  param_criterion param_max_depth param_max_features param_min_samples_leaf  \\\n",
       "0            gini              40               auto                      3   \n",
       "1            gini              40               auto                      3   \n",
       "2            gini              40               auto                      3   \n",
       "3            gini              40               auto                      3   \n",
       "4            gini              40               auto                      3   \n",
       "\n",
       "  param_min_samples_split param_n_estimators  \\\n",
       "0                       8                 20   \n",
       "1                       8                 50   \n",
       "2                       8                100   \n",
       "3                      10                 20   \n",
       "4                      10                 50   \n",
       "\n",
       "                                              params  split0_test_score  \\\n",
       "0  {'criterion': 'gini', 'max_depth': 40, 'max_fe...           0.793030   \n",
       "1  {'criterion': 'gini', 'max_depth': 40, 'max_fe...           0.795611   \n",
       "2  {'criterion': 'gini', 'max_depth': 40, 'max_fe...           0.796580   \n",
       "3  {'criterion': 'gini', 'max_depth': 40, 'max_fe...           0.791804   \n",
       "4  {'criterion': 'gini', 'max_depth': 40, 'max_fe...           0.793804   \n",
       "\n",
       "   split1_test_score  split2_test_score  split3_test_score  split4_test_score  \\\n",
       "0           0.833817           0.832720           0.846015           0.853372   \n",
       "1           0.836399           0.835753           0.849823           0.856857   \n",
       "2           0.839948           0.839238           0.850791           0.859761   \n",
       "3           0.832010           0.831365           0.841626           0.850791   \n",
       "4           0.834076           0.837238           0.845305           0.854921   \n",
       "\n",
       "   mean_test_score  std_test_score  rank_test_score  \n",
       "0         0.831791        0.020859               95  \n",
       "1         0.834889        0.021220               47  \n",
       "2         0.837264        0.021704                1  \n",
       "3         0.829519        0.020155              121  \n",
       "4         0.833069        0.020916               79  "
      ]
     },
     "execution_count": 523,
     "metadata": {},
     "output_type": "execute_result"
    }
   ],
   "source": [
    "#get cross-validation result\n",
    "#random_forest_cross_val_results = pd.DataFrame(random_forest_gridsearch.cv_results_)\n",
    "#print('Number of Various Combinations of Parameters Tried : %d'%len(random_forest_cross_val_results))\n",
    "\n",
    "#save\n",
    "#random_forest_cross_val_results.to_csv('./Data/random_forest_cross_val_results')\n",
    "\n",
    "#random_forest_cross_val_results.head()"
   ]
  },
  {
   "cell_type": "code",
   "execution_count": 524,
   "metadata": {},
   "outputs": [
    {
     "name": "stdout",
     "output_type": "stream",
     "text": [
      "Train accuracy: 89.52565343659245\n",
      "Test accuracy: 77.54208754208754\n"
     ]
    }
   ],
   "source": [
    "#train a classifier with optimal values identified above\n",
    "random_forest_clf = RandomForestClassifier(random_state = 21, \n",
    "                                           criterion = 'gini',\n",
    "                                           max_depth = 40,\n",
    "                                           max_features = 'auto',\n",
    "                                           min_samples_leaf = 3,\n",
    "                                           min_samples_split = 8,\n",
    "                                           n_estimators = 100)\n",
    "\n",
    "#fit\n",
    "random_forest_clf.fit(X_train, y_train)\n",
    "\n",
    "#predict\n",
    "y_hat_train = random_forest_clf.predict(X_train)\n",
    "y_hat_test = random_forest_clf.predict(X_test)\n",
    "\n",
    "#train accuracy\n",
    "random_forest_train_accuracy = accuracy_score(y_train, y_hat_train) * 100\n",
    "print('Train accuracy: {0}'.format(random_forest_train_accuracy))\n",
    "\n",
    "#test accuracy\n",
    "random_forest_test_accuracy = accuracy_score(y_test, y_hat_test) * 100\n",
    "print('Test accuracy: {0}'.format(random_forest_test_accuracy))\n",
    "\n",
    "#Train accuracy: 89.52565343659245\n",
    "#Test accuracy: 77.54208754208754"
   ]
  },
  {
   "cell_type": "code",
   "execution_count": 525,
   "metadata": {},
   "outputs": [
    {
     "name": "stdout",
     "output_type": "stream",
     "text": [
      "Train cross validation: 0.8372636334301389\n",
      "Test cross validation: 0.765993265993266\n"
     ]
    }
   ],
   "source": [
    "#train cross validation\n",
    "random_forest_train_cv_score = cross_val_score(random_forest_clf, X_train, y_train, cv = 5, n_jobs = -1).mean()\n",
    "print('Train cross validation:', random_forest_train_cv_score)\n",
    "\n",
    "#test cross validation\n",
    "random_forest_test_cv_score = cross_val_score(random_forest_clf, X_test, y_test, cv = 5, n_jobs = -1).mean()\n",
    "print('Test cross validation:', random_forest_test_cv_score)"
   ]
  },
  {
   "cell_type": "code",
   "execution_count": 526,
   "metadata": {},
   "outputs": [
    {
     "name": "stdout",
     "output_type": "stream",
     "text": [
      "Mean Absolute Error: 0.2542929292929293\n",
      "Mean Squared Error: 0.31372053872053873\n",
      "Root Mean Squared Error: 0.5601076135177406\n"
     ]
    }
   ],
   "source": [
    "#evaluate with MAE, MSE, RMSE\n",
    "print('Mean Absolute Error:', mean_absolute_error(y_test, y_hat_test))  \n",
    "print('Mean Squared Error:', mean_squared_error(y_test, y_hat_test))  \n",
    "print('Root Mean Squared Error:', mean_squared_error(y_test, y_hat_test, squared = False))"
   ]
  },
  {
   "cell_type": "code",
   "execution_count": 527,
   "metadata": {
    "scrolled": true
   },
   "outputs": [
    {
     "name": "stdout",
     "output_type": "stream",
     "text": [
      "Model: Random Forest \n",
      "               precision    recall  f1-score   support\n",
      "\n",
      "           0       0.83      0.78      0.80      4614\n",
      "           1       0.83      0.80      0.82      6434\n",
      "           2       0.34      0.58      0.43       832\n",
      "\n",
      "    accuracy                           0.78     11880\n",
      "   macro avg       0.67      0.72      0.68     11880\n",
      "weighted avg       0.80      0.78      0.78     11880\n",
      "\n"
     ]
    }
   ],
   "source": [
    "#classification report\n",
    "random_forest_classification_report = classification_report(y_test, y_hat_test)\n",
    "print('Model: Random Forest', '\\n', random_forest_classification_report)"
   ]
  },
  {
   "cell_type": "code",
   "execution_count": 528,
   "metadata": {
    "scrolled": true
   },
   "outputs": [
    {
     "data": {
      "text/plain": [
       "<sklearn.metrics._plot.confusion_matrix.ConfusionMatrixDisplay at 0x7febb4661280>"
      ]
     },
     "execution_count": 528,
     "metadata": {},
     "output_type": "execute_result"
    },
    {
     "data": {
      "image/png": "[encoded data removed]",
      "text/plain": [
       "<Figure size 432x288 with 2 Axes>"
      ]
     },
     "metadata": {
      "needs_background": "light"
     },
     "output_type": "display_data"
    }
   ],
   "source": [
    "#plot confusion matrix\n",
    "plot_confusion_matrix(random_forest_clf, X_test, y_test, cmap = plt.cm.Blues)"
   ]
  },
  {
   "cell_type": "code",
   "execution_count": 529,
   "metadata": {},
   "outputs": [
    {
     "name": "stdout",
     "output_type": "stream",
     "text": [
      "0.0755050505050505\n",
      "0.421245103957646\n"
     ]
    }
   ],
   "source": [
    "#get test bias and variance\n",
    "print(bias(y_test, y_hat_test))\n",
    "print(variance(y_hat_test))"
   ]
  },
  {
   "cell_type": "code",
   "execution_count": 530,
   "metadata": {},
   "outputs": [
    {
     "data": {
      "text/html": [
       "<div>\n",
       "<style scoped>\n",
       "    .dataframe tbody tr th:only-of-type {\n",
       "        vertical-align: middle;\n",
       "    }\n",
       "\n",
       "    .dataframe tbody tr th {\n",
       "        vertical-align: top;\n",
       "    }\n",
       "\n",
       "    .dataframe thead th {\n",
       "        text-align: right;\n",
       "    }\n",
       "</style>\n",
       "<table border=\"1\" class=\"dataframe\">\n",
       "  <thead>\n",
       "    <tr style=\"text-align: right;\">\n",
       "      <th></th>\n",
       "      <th>Model</th>\n",
       "      <th>Accuracy</th>\n",
       "      <th>CV</th>\n",
       "      <th>Precision</th>\n",
       "      <th>Recall</th>\n",
       "      <th>F1 Score</th>\n",
       "      <th>MAE</th>\n",
       "      <th>MSE</th>\n",
       "      <th>RMSE</th>\n",
       "      <th>AUC</th>\n",
       "      <th>Bias</th>\n",
       "      <th>Variance</th>\n",
       "    </tr>\n",
       "  </thead>\n",
       "  <tbody>\n",
       "    <tr>\n",
       "      <th>0</th>\n",
       "      <td>Decision Tree</td>\n",
       "      <td>70.35</td>\n",
       "      <td>0.69</td>\n",
       "      <td>0.60</td>\n",
       "      <td>0.66</td>\n",
       "      <td>0.61</td>\n",
       "      <td>0.34</td>\n",
       "      <td>0.43</td>\n",
       "      <td>0.66</td>\n",
       "      <td>-</td>\n",
       "      <td>0.087879</td>\n",
       "      <td>0.465907</td>\n",
       "    </tr>\n",
       "    <tr>\n",
       "      <th>1</th>\n",
       "      <td>Logistic Regression</td>\n",
       "      <td>65.41</td>\n",
       "      <td>0.74</td>\n",
       "      <td>0.60</td>\n",
       "      <td>0.67</td>\n",
       "      <td>0.58</td>\n",
       "      <td>0.41</td>\n",
       "      <td>0.55</td>\n",
       "      <td>0.74</td>\n",
       "      <td>0.82</td>\n",
       "      <td>0.232828</td>\n",
       "      <td>0.554471</td>\n",
       "    </tr>\n",
       "    <tr>\n",
       "      <th>2</th>\n",
       "      <td>KNN</td>\n",
       "      <td>75.23</td>\n",
       "      <td>0.72</td>\n",
       "      <td>0.64</td>\n",
       "      <td>0.67</td>\n",
       "      <td>0.65</td>\n",
       "      <td>0.28</td>\n",
       "      <td>0.35</td>\n",
       "      <td>0.59</td>\n",
       "      <td>-</td>\n",
       "      <td>0.043013</td>\n",
       "      <td>0.404409</td>\n",
       "    </tr>\n",
       "    <tr>\n",
       "      <th>3</th>\n",
       "      <td>Bagged Tree</td>\n",
       "      <td>52.08</td>\n",
       "      <td>0.61</td>\n",
       "      <td>0.50</td>\n",
       "      <td>0.55</td>\n",
       "      <td>0.47</td>\n",
       "      <td>0.59</td>\n",
       "      <td>0.80</td>\n",
       "      <td>0.90</td>\n",
       "      <td>-</td>\n",
       "      <td>0.211364</td>\n",
       "      <td>0.671635</td>\n",
       "    </tr>\n",
       "    <tr>\n",
       "      <th>4</th>\n",
       "      <td>Random Forest</td>\n",
       "      <td>77.54</td>\n",
       "      <td>0.77</td>\n",
       "      <td>0.67</td>\n",
       "      <td>0.72</td>\n",
       "      <td>0.68</td>\n",
       "      <td>0.25</td>\n",
       "      <td>0.31</td>\n",
       "      <td>0.56</td>\n",
       "      <td>-</td>\n",
       "      <td>0.075505</td>\n",
       "      <td>0.421245</td>\n",
       "    </tr>\n",
       "  </tbody>\n",
       "</table>\n",
       "</div>"
      ],
      "text/plain": [
       "                 Model  Accuracy    CV  Precision  Recall  F1 Score   MAE  \\\n",
       "0        Decision Tree     70.35  0.69       0.60    0.66      0.61  0.34   \n",
       "1  Logistic Regression     65.41  0.74       0.60    0.67      0.58  0.41   \n",
       "2                  KNN     75.23  0.72       0.64    0.67      0.65  0.28   \n",
       "3          Bagged Tree     52.08  0.61       0.50    0.55      0.47  0.59   \n",
       "4        Random Forest     77.54  0.77       0.67    0.72      0.68  0.25   \n",
       "\n",
       "    MSE  RMSE   AUC      Bias  Variance  \n",
       "0  0.43  0.66     -  0.087879  0.465907  \n",
       "1  0.55  0.74  0.82  0.232828  0.554471  \n",
       "2  0.35  0.59     -  0.043013  0.404409  \n",
       "3  0.80  0.90     -  0.211364  0.671635  \n",
       "4  0.31  0.56     -  0.075505  0.421245  "
      ]
     },
     "execution_count": 530,
     "metadata": {},
     "output_type": "execute_result"
    }
   ],
   "source": [
    "#summary table\n",
    "summary_table.loc[4] = ['Random Forest',\n",
    "                        round(random_forest_test_accuracy, 2), round(random_forest_test_cv_score, 2), \n",
    "                        round(precision_score(y_test, y_hat_test, average = 'macro'), 2), round(recall_score(y_test, y_hat_test, average = 'macro'), 2), round(f1_score(y_test, y_hat_test, average = 'macro'), 2),\n",
    "                        round(mean_absolute_error(y_test, y_hat_test), 2), round(mean_squared_error(y_test, y_hat_test), 2), round(mean_squared_error(y_test, y_hat_test, squared = False), 2),\n",
    "                        '-', bias(y_test, y_hat_test), variance(y_hat_test)]\n",
    "summary_table.head()"
   ]
  },
  {
   "cell_type": "markdown",
   "metadata": {},
   "source": [
    "# Gradient Boosting"
   ]
  },
  {
   "cell_type": "code",
   "execution_count": 533,
   "metadata": {},
   "outputs": [
    {
     "name": "stdout",
     "output_type": "stream",
     "text": [
      "Train accuracy: 73.94127137786383\n",
      "Test accuracy: 69.7979797979798\n"
     ]
    }
   ],
   "source": [
    "#instantiate baseline model\n",
    "gradient_boost_clf = GradientBoostingClassifier(random_state = 21)\n",
    "\n",
    "#fit\n",
    "gradient_boost_clf.fit(X_train, y_train)\n",
    "\n",
    "#predict\n",
    "y_hat_train = gradient_boost_clf.predict(X_train)\n",
    "y_hat_test = gradient_boost_clf.predict(X_test)\n",
    "\n",
    "#train accuracy\n",
    "gradient_boost_train_accuracy = accuracy_score(y_train, y_hat_train) * 100\n",
    "print('Train accuracy: {0}'.format(gradient_boost_train_accuracy))\n",
    "\n",
    "#test accuracy\n",
    "gradient_boost_test_accuracy = accuracy_score(y_test, y_hat_test) * 100\n",
    "print('Test accuracy: {0}'.format(gradient_boost_test_accuracy))\n",
    "\n",
    "#Train accuracy: 73.94127137786383\n",
    "#Test accuracy: 69.7979797979798"
   ]
  },
  {
   "cell_type": "code",
   "execution_count": 534,
   "metadata": {},
   "outputs": [
    {
     "data": {
      "text/plain": [
       "{'learning_rate': 0.05, 'subsample': 0.5}"
      ]
     },
     "execution_count": 534,
     "metadata": {},
     "output_type": "execute_result"
    }
   ],
   "source": [
    "#set param grid\n",
    "#gradient_boost_param_grid = {'learning_rate': [0.025, 0.05],\n",
    "#                             'subsample': [0.5, 1.0]}\n",
    "\n",
    "#gridsearch\n",
    "#gradient_boost_gridsearch = GridSearchCV(estimator = gradient_boost_clf,\n",
    "#                                         param_grid = gradient_boost_param_grid, \n",
    "#                                         scoring = 'accuracy',\n",
    "#                                         n_jobs = -1,\n",
    "#                                         cv = 5)\n",
    "\n",
    "#fit\n",
    "#gradient_boost_gridsearch.fit(X_train, y_train)\n",
    "\n",
    "#best param\n",
    "#gradient_boost_gridsearch.best_params_\n",
    "\n",
    "#'learning_rate': 0.05, \n",
    "#'subsample': 0.5"
   ]
  },
  {
   "cell_type": "code",
   "execution_count": 535,
   "metadata": {},
   "outputs": [
    {
     "name": "stdout",
     "output_type": "stream",
     "text": [
      "Number of Various Combinations of Parameters Tried : 4\n"
     ]
    },
    {
     "data": {
      "text/html": [
       "<div>\n",
       "<style scoped>\n",
       "    .dataframe tbody tr th:only-of-type {\n",
       "        vertical-align: middle;\n",
       "    }\n",
       "\n",
       "    .dataframe tbody tr th {\n",
       "        vertical-align: top;\n",
       "    }\n",
       "\n",
       "    .dataframe thead th {\n",
       "        text-align: right;\n",
       "    }\n",
       "</style>\n",
       "<table border=\"1\" class=\"dataframe\">\n",
       "  <thead>\n",
       "    <tr style=\"text-align: right;\">\n",
       "      <th></th>\n",
       "      <th>mean_fit_time</th>\n",
       "      <th>std_fit_time</th>\n",
       "      <th>mean_score_time</th>\n",
       "      <th>std_score_time</th>\n",
       "      <th>param_learning_rate</th>\n",
       "      <th>param_subsample</th>\n",
       "      <th>params</th>\n",
       "      <th>split0_test_score</th>\n",
       "      <th>split1_test_score</th>\n",
       "      <th>split2_test_score</th>\n",
       "      <th>split3_test_score</th>\n",
       "      <th>split4_test_score</th>\n",
       "      <th>mean_test_score</th>\n",
       "      <th>std_test_score</th>\n",
       "      <th>rank_test_score</th>\n",
       "    </tr>\n",
       "  </thead>\n",
       "  <tbody>\n",
       "    <tr>\n",
       "      <th>0</th>\n",
       "      <td>249.079329</td>\n",
       "      <td>0.501925</td>\n",
       "      <td>0.641749</td>\n",
       "      <td>0.052700</td>\n",
       "      <td>0.025</td>\n",
       "      <td>0.5</td>\n",
       "      <td>{'learning_rate': 0.025, 'subsample': 0.5}</td>\n",
       "      <td>0.640336</td>\n",
       "      <td>0.666731</td>\n",
       "      <td>0.665763</td>\n",
       "      <td>0.673185</td>\n",
       "      <td>0.666989</td>\n",
       "      <td>0.662601</td>\n",
       "      <td>0.011438</td>\n",
       "      <td>3</td>\n",
       "    </tr>\n",
       "    <tr>\n",
       "      <th>1</th>\n",
       "      <td>389.735568</td>\n",
       "      <td>0.756480</td>\n",
       "      <td>0.251643</td>\n",
       "      <td>0.044846</td>\n",
       "      <td>0.025</td>\n",
       "      <td>1</td>\n",
       "      <td>{'learning_rate': 0.025, 'subsample': 1.0}</td>\n",
       "      <td>0.641304</td>\n",
       "      <td>0.668990</td>\n",
       "      <td>0.663504</td>\n",
       "      <td>0.669700</td>\n",
       "      <td>0.669055</td>\n",
       "      <td>0.662510</td>\n",
       "      <td>0.010837</td>\n",
       "      <td>4</td>\n",
       "    </tr>\n",
       "    <tr>\n",
       "      <th>2</th>\n",
       "      <td>250.205113</td>\n",
       "      <td>0.537401</td>\n",
       "      <td>0.453465</td>\n",
       "      <td>0.096493</td>\n",
       "      <td>0.05</td>\n",
       "      <td>0.5</td>\n",
       "      <td>{'learning_rate': 0.05, 'subsample': 0.5}</td>\n",
       "      <td>0.672798</td>\n",
       "      <td>0.713972</td>\n",
       "      <td>0.704098</td>\n",
       "      <td>0.712359</td>\n",
       "      <td>0.715844</td>\n",
       "      <td>0.703814</td>\n",
       "      <td>0.016019</td>\n",
       "      <td>1</td>\n",
       "    </tr>\n",
       "    <tr>\n",
       "      <th>3</th>\n",
       "      <td>390.824656</td>\n",
       "      <td>0.763916</td>\n",
       "      <td>0.186609</td>\n",
       "      <td>0.046641</td>\n",
       "      <td>0.05</td>\n",
       "      <td>1</td>\n",
       "      <td>{'learning_rate': 0.05, 'subsample': 1.0}</td>\n",
       "      <td>0.671636</td>\n",
       "      <td>0.708164</td>\n",
       "      <td>0.700290</td>\n",
       "      <td>0.708809</td>\n",
       "      <td>0.709132</td>\n",
       "      <td>0.699606</td>\n",
       "      <td>0.014363</td>\n",
       "      <td>2</td>\n",
       "    </tr>\n",
       "  </tbody>\n",
       "</table>\n",
       "</div>"
      ],
      "text/plain": [
       "   mean_fit_time  std_fit_time  mean_score_time  std_score_time  \\\n",
       "0     249.079329      0.501925         0.641749        0.052700   \n",
       "1     389.735568      0.756480         0.251643        0.044846   \n",
       "2     250.205113      0.537401         0.453465        0.096493   \n",
       "3     390.824656      0.763916         0.186609        0.046641   \n",
       "\n",
       "  param_learning_rate param_subsample  \\\n",
       "0               0.025             0.5   \n",
       "1               0.025               1   \n",
       "2                0.05             0.5   \n",
       "3                0.05               1   \n",
       "\n",
       "                                       params  split0_test_score  \\\n",
       "0  {'learning_rate': 0.025, 'subsample': 0.5}           0.640336   \n",
       "1  {'learning_rate': 0.025, 'subsample': 1.0}           0.641304   \n",
       "2   {'learning_rate': 0.05, 'subsample': 0.5}           0.672798   \n",
       "3   {'learning_rate': 0.05, 'subsample': 1.0}           0.671636   \n",
       "\n",
       "   split1_test_score  split2_test_score  split3_test_score  split4_test_score  \\\n",
       "0           0.666731           0.665763           0.673185           0.666989   \n",
       "1           0.668990           0.663504           0.669700           0.669055   \n",
       "2           0.713972           0.704098           0.712359           0.715844   \n",
       "3           0.708164           0.700290           0.708809           0.709132   \n",
       "\n",
       "   mean_test_score  std_test_score  rank_test_score  \n",
       "0         0.662601        0.011438                3  \n",
       "1         0.662510        0.010837                4  \n",
       "2         0.703814        0.016019                1  \n",
       "3         0.699606        0.014363                2  "
      ]
     },
     "execution_count": 535,
     "metadata": {},
     "output_type": "execute_result"
    }
   ],
   "source": [
    "#get cross-validation result\n",
    "#gradient_boost_cross_val_results = pd.DataFrame(gradient_boost_gridsearch.cv_results_)\n",
    "#print('Number of Various Combinations of Parameters Tried : %d'%len(gradient_boost_cross_val_results))\n",
    "\n",
    "#save\n",
    "#gradient_boost_cross_val_results.to_csv('./Data/gradient_boost_cross_val_results')\n",
    "\n",
    "#gradient_boost_cross_val_results.head()"
   ]
  },
  {
   "cell_type": "code",
   "execution_count": 536,
   "metadata": {},
   "outputs": [
    {
     "name": "stdout",
     "output_type": "stream",
     "text": [
      "Train accuracy: 99.62568570506615\n",
      "Test accuracy: 79.4949494949495\n"
     ]
    }
   ],
   "source": [
    "#train a classifier with optimal values identified above\n",
    "gradient_boost_clf = GradientBoostingClassifier(random_state = 21,\n",
    "                                                max_depth = 40,\n",
    "                                                max_features = 'auto',\n",
    "                                                min_samples_leaf = 3,\n",
    "                                                min_samples_split = 8,\n",
    "                                                n_estimators = 100,\n",
    "                                                learning_rate = 0.05,\n",
    "                                                subsample = 0.5)\n",
    "\n",
    "#fit\n",
    "gradient_boost_clf.fit(X_train, y_train)\n",
    "\n",
    "#predict\n",
    "y_hat_train = gradient_boost_clf.predict(X_train)\n",
    "y_hat_test = gradient_boost_clf.predict(X_test)\n",
    "\n",
    "#train accuracy\n",
    "gradient_boost_train_accuracy = accuracy_score(y_train, y_hat_train) * 100\n",
    "print('Train accuracy: {0}'.format(gradient_boost_train_accuracy))\n",
    "\n",
    "#test accuracy\n",
    "gradient_boost_test_accuracy = accuracy_score(y_test, y_hat_test) * 100\n",
    "print('Test accuracy: {0}'.format(gradient_boost_test_accuracy))\n",
    "\n",
    "#Train accuracy: 99.62568570506615\n",
    "#Test accuracy: 79.4949494949495"
   ]
  },
  {
   "cell_type": "code",
   "execution_count": 537,
   "metadata": {},
   "outputs": [
    {
     "name": "stdout",
     "output_type": "stream",
     "text": [
      "Train cross validation: 0.8703581800580833\n",
      "Train cross validation: 0.7791245791245792\n"
     ]
    }
   ],
   "source": [
    "#train cross validation\n",
    "gradient_boost_train_cv_score = cross_val_score(gradient_boost_clf, X_train, y_train, cv = 5, n_jobs = -1).mean()\n",
    "print('Train cross validation:', gradient_boost_train_cv_score)\n",
    "\n",
    "#test cross validation\n",
    "gradient_boost_test_cv_score = cross_val_score(gradient_boost_clf, X_test, y_test, cv = 5, n_jobs = -1).mean()\n",
    "print('Train cross validation:', gradient_boost_test_cv_score)"
   ]
  },
  {
   "cell_type": "code",
   "execution_count": 538,
   "metadata": {},
   "outputs": [
    {
     "name": "stdout",
     "output_type": "stream",
     "text": [
      "Mean Absolute Error: 0.22803030303030303\n",
      "Mean Squared Error: 0.273989898989899\n",
      "Root Mean Squared Error: 0.5234404445492333\n"
     ]
    }
   ],
   "source": [
    "#evaluate\n",
    "print('Mean Absolute Error:', mean_absolute_error(y_test, y_hat_test))  \n",
    "print('Mean Squared Error:', mean_squared_error(y_test, y_hat_test))  \n",
    "print('Root Mean Squared Error:', mean_squared_error(y_test, y_hat_test, squared = False))"
   ]
  },
  {
   "cell_type": "code",
   "execution_count": 539,
   "metadata": {
    "scrolled": true
   },
   "outputs": [
    {
     "name": "stdout",
     "output_type": "stream",
     "text": [
      "Model: Gradient Boosting \n",
      "               precision    recall  f1-score   support\n",
      "\n",
      "           0       0.83      0.79      0.81      4614\n",
      "           1       0.82      0.84      0.83      6434\n",
      "           2       0.41      0.46      0.43       832\n",
      "\n",
      "    accuracy                           0.79     11880\n",
      "   macro avg       0.69      0.70      0.69     11880\n",
      "weighted avg       0.80      0.79      0.80     11880\n",
      "\n"
     ]
    }
   ],
   "source": [
    "#classification report\n",
    "gradient_boost_classification_report = classification_report(y_test, y_hat_test)\n",
    "print('Model: Gradient Boosting', '\\n', gradient_boost_classification_report)"
   ]
  },
  {
   "cell_type": "code",
   "execution_count": 540,
   "metadata": {
    "scrolled": true
   },
   "outputs": [
    {
     "data": {
      "text/plain": [
       "<sklearn.metrics._plot.confusion_matrix.ConfusionMatrixDisplay at 0x7feba13ae160>"
      ]
     },
     "execution_count": 540,
     "metadata": {},
     "output_type": "execute_result"
    },
    {
     "data": {
      "image/png": "[encoded data removed]",
      "text/plain": [
       "<Figure size 432x288 with 2 Axes>"
      ]
     },
     "metadata": {
      "needs_background": "light"
     },
     "output_type": "display_data"
    }
   ],
   "source": [
    "#plot confusion matrix\n",
    "plot_confusion_matrix(gradient_boost_clf, X_test, y_test, cmap = plt.cm.Blues)"
   ]
  },
  {
   "cell_type": "code",
   "execution_count": 541,
   "metadata": {},
   "outputs": [
    {
     "name": "stdout",
     "output_type": "stream",
     "text": [
      "0.02904040404040404\n",
      "0.36268033165549995\n"
     ]
    }
   ],
   "source": [
    "#get test bias and variance\n",
    "print(bias(y_test, y_hat_test))\n",
    "print(variance(y_hat_test))"
   ]
  },
  {
   "cell_type": "code",
   "execution_count": 542,
   "metadata": {},
   "outputs": [
    {
     "data": {
      "text/html": [
       "<div>\n",
       "<style scoped>\n",
       "    .dataframe tbody tr th:only-of-type {\n",
       "        vertical-align: middle;\n",
       "    }\n",
       "\n",
       "    .dataframe tbody tr th {\n",
       "        vertical-align: top;\n",
       "    }\n",
       "\n",
       "    .dataframe thead th {\n",
       "        text-align: right;\n",
       "    }\n",
       "</style>\n",
       "<table border=\"1\" class=\"dataframe\">\n",
       "  <thead>\n",
       "    <tr style=\"text-align: right;\">\n",
       "      <th></th>\n",
       "      <th>Model</th>\n",
       "      <th>Accuracy</th>\n",
       "      <th>CV</th>\n",
       "      <th>Precision</th>\n",
       "      <th>Recall</th>\n",
       "      <th>F1 Score</th>\n",
       "      <th>MAE</th>\n",
       "      <th>MSE</th>\n",
       "      <th>RMSE</th>\n",
       "      <th>AUC</th>\n",
       "      <th>Bias</th>\n",
       "      <th>Variance</th>\n",
       "    </tr>\n",
       "  </thead>\n",
       "  <tbody>\n",
       "    <tr>\n",
       "      <th>0</th>\n",
       "      <td>Decision Tree</td>\n",
       "      <td>70.35</td>\n",
       "      <td>0.69</td>\n",
       "      <td>0.60</td>\n",
       "      <td>0.66</td>\n",
       "      <td>0.61</td>\n",
       "      <td>0.34</td>\n",
       "      <td>0.43</td>\n",
       "      <td>0.66</td>\n",
       "      <td>-</td>\n",
       "      <td>0.087879</td>\n",
       "      <td>0.465907</td>\n",
       "    </tr>\n",
       "    <tr>\n",
       "      <th>1</th>\n",
       "      <td>Logistic Regression</td>\n",
       "      <td>65.41</td>\n",
       "      <td>0.74</td>\n",
       "      <td>0.60</td>\n",
       "      <td>0.67</td>\n",
       "      <td>0.58</td>\n",
       "      <td>0.41</td>\n",
       "      <td>0.55</td>\n",
       "      <td>0.74</td>\n",
       "      <td>0.82</td>\n",
       "      <td>0.232828</td>\n",
       "      <td>0.554471</td>\n",
       "    </tr>\n",
       "    <tr>\n",
       "      <th>2</th>\n",
       "      <td>KNN</td>\n",
       "      <td>75.23</td>\n",
       "      <td>0.72</td>\n",
       "      <td>0.64</td>\n",
       "      <td>0.67</td>\n",
       "      <td>0.65</td>\n",
       "      <td>0.28</td>\n",
       "      <td>0.35</td>\n",
       "      <td>0.59</td>\n",
       "      <td>-</td>\n",
       "      <td>0.043013</td>\n",
       "      <td>0.404409</td>\n",
       "    </tr>\n",
       "    <tr>\n",
       "      <th>3</th>\n",
       "      <td>Bagged Tree</td>\n",
       "      <td>52.08</td>\n",
       "      <td>0.61</td>\n",
       "      <td>0.50</td>\n",
       "      <td>0.55</td>\n",
       "      <td>0.47</td>\n",
       "      <td>0.59</td>\n",
       "      <td>0.80</td>\n",
       "      <td>0.90</td>\n",
       "      <td>-</td>\n",
       "      <td>0.211364</td>\n",
       "      <td>0.671635</td>\n",
       "    </tr>\n",
       "    <tr>\n",
       "      <th>4</th>\n",
       "      <td>Random Forest</td>\n",
       "      <td>77.54</td>\n",
       "      <td>0.77</td>\n",
       "      <td>0.67</td>\n",
       "      <td>0.72</td>\n",
       "      <td>0.68</td>\n",
       "      <td>0.25</td>\n",
       "      <td>0.31</td>\n",
       "      <td>0.56</td>\n",
       "      <td>-</td>\n",
       "      <td>0.075505</td>\n",
       "      <td>0.421245</td>\n",
       "    </tr>\n",
       "    <tr>\n",
       "      <th>5</th>\n",
       "      <td>Gradient Boost</td>\n",
       "      <td>79.49</td>\n",
       "      <td>0.78</td>\n",
       "      <td>0.69</td>\n",
       "      <td>0.70</td>\n",
       "      <td>0.69</td>\n",
       "      <td>0.23</td>\n",
       "      <td>0.27</td>\n",
       "      <td>0.52</td>\n",
       "      <td>-</td>\n",
       "      <td>0.029040</td>\n",
       "      <td>0.362680</td>\n",
       "    </tr>\n",
       "  </tbody>\n",
       "</table>\n",
       "</div>"
      ],
      "text/plain": [
       "                 Model  Accuracy    CV  Precision  Recall  F1 Score   MAE  \\\n",
       "0        Decision Tree     70.35  0.69       0.60    0.66      0.61  0.34   \n",
       "1  Logistic Regression     65.41  0.74       0.60    0.67      0.58  0.41   \n",
       "2                  KNN     75.23  0.72       0.64    0.67      0.65  0.28   \n",
       "3          Bagged Tree     52.08  0.61       0.50    0.55      0.47  0.59   \n",
       "4        Random Forest     77.54  0.77       0.67    0.72      0.68  0.25   \n",
       "5       Gradient Boost     79.49  0.78       0.69    0.70      0.69  0.23   \n",
       "\n",
       "    MSE  RMSE   AUC      Bias  Variance  \n",
       "0  0.43  0.66     -  0.087879  0.465907  \n",
       "1  0.55  0.74  0.82  0.232828  0.554471  \n",
       "2  0.35  0.59     -  0.043013  0.404409  \n",
       "3  0.80  0.90     -  0.211364  0.671635  \n",
       "4  0.31  0.56     -  0.075505  0.421245  \n",
       "5  0.27  0.52     -  0.029040  0.362680  "
      ]
     },
     "execution_count": 542,
     "metadata": {},
     "output_type": "execute_result"
    }
   ],
   "source": [
    "#summary table\n",
    "summary_table.loc[5] = ['Gradient Boost',\n",
    "                        round(gradient_boost_test_accuracy, 2), round(gradient_boost_test_cv_score, 2), \n",
    "                        round(precision_score(y_test, y_hat_test, average = 'macro'), 2), round(recall_score(y_test, y_hat_test, average = 'macro'), 2), round(f1_score(y_test, y_hat_test, average = 'macro'), 2),\n",
    "                        round(mean_absolute_error(y_test, y_hat_test), 2), round(mean_squared_error(y_test, y_hat_test), 2), round(mean_squared_error(y_test, y_hat_test, squared = False), 2),\n",
    "                        '-', bias(y_test, y_hat_test), variance(y_hat_test)]\n",
    "summary_table.head(10)"
   ]
  },
  {
   "cell_type": "markdown",
   "metadata": {},
   "source": [
    "# AdaBoost"
   ]
  },
  {
   "cell_type": "code",
   "execution_count": 543,
   "metadata": {},
   "outputs": [
    {
     "name": "stdout",
     "output_type": "stream",
     "text": [
      "Train accuracy: 65.12939657954179 \n",
      "Test accuracy: 63.86363636363637 \n"
     ]
    }
   ],
   "source": [
    "#instantiate baseline model\n",
    "adaboost_clf = AdaBoostClassifier(random_state = 21)\n",
    "\n",
    "#fit\n",
    "adaboost_clf.fit(X_train, y_train)\n",
    "\n",
    "#predict\n",
    "y_hat_train = adaboost_clf.predict(X_train)\n",
    "y_hat_test = adaboost_clf.predict(X_test)\n",
    "\n",
    "#train accuracy\n",
    "adaboost_train_accuracy = accuracy_score(y_train, y_hat_train) * 100\n",
    "print('Train accuracy: {0} '.format(adaboost_train_accuracy))\n",
    "\n",
    "#test accuracy\n",
    "adaboost_test_accuracy = accuracy_score(y_test, y_hat_test) * 100\n",
    "print('Test accuracy: {0} '.format(adaboost_test_accuracy))\n",
    "\n",
    "#Train accuracy: 65.12939657954179 \n",
    "#Test accuracy: 63.86363636363637"
   ]
  },
  {
   "cell_type": "code",
   "execution_count": 544,
   "metadata": {},
   "outputs": [
    {
     "data": {
      "text/plain": [
       "{'learning_rate': 0.05, 'n_estimators': 100}"
      ]
     },
     "execution_count": 544,
     "metadata": {},
     "output_type": "execute_result"
    }
   ],
   "source": [
    "#param\n",
    "#adaboost_param_grid = {'learning_rate': [0.01, 0.05],\n",
    "#                       'n_estimators' : [50, 100]}\n",
    "\n",
    "#gridsearch\n",
    "#adaboost_gridsearch = GridSearchCV(estimator = adaboost_clf,\n",
    "#                                   param_grid = adaboost_param_grid,\n",
    "#                                   scoring = 'accuracy',\n",
    "#                                   n_jobs = -1,\n",
    "#                                   cv = 5)\n",
    "\n",
    "#fit\n",
    "#adaboost_gridsearch.fit(X_train, y_train)\n",
    "\n",
    "#best param\n",
    "#adaboost_gridsearch.best_params_\n",
    "\n",
    "#'learning_rate': 0.05, \n",
    "#'n_estimators': 100"
   ]
  },
  {
   "cell_type": "code",
   "execution_count": 545,
   "metadata": {},
   "outputs": [
    {
     "name": "stdout",
     "output_type": "stream",
     "text": [
      "Number of Various Combinations of Parameters Tried : 4\n"
     ]
    },
    {
     "data": {
      "text/html": [
       "<div>\n",
       "<style scoped>\n",
       "    .dataframe tbody tr th:only-of-type {\n",
       "        vertical-align: middle;\n",
       "    }\n",
       "\n",
       "    .dataframe tbody tr th {\n",
       "        vertical-align: top;\n",
       "    }\n",
       "\n",
       "    .dataframe thead th {\n",
       "        text-align: right;\n",
       "    }\n",
       "</style>\n",
       "<table border=\"1\" class=\"dataframe\">\n",
       "  <thead>\n",
       "    <tr style=\"text-align: right;\">\n",
       "      <th></th>\n",
       "      <th>mean_fit_time</th>\n",
       "      <th>std_fit_time</th>\n",
       "      <th>mean_score_time</th>\n",
       "      <th>std_score_time</th>\n",
       "      <th>param_learning_rate</th>\n",
       "      <th>param_n_estimators</th>\n",
       "      <th>params</th>\n",
       "      <th>split0_test_score</th>\n",
       "      <th>split1_test_score</th>\n",
       "      <th>split2_test_score</th>\n",
       "      <th>split3_test_score</th>\n",
       "      <th>split4_test_score</th>\n",
       "      <th>mean_test_score</th>\n",
       "      <th>std_test_score</th>\n",
       "      <th>rank_test_score</th>\n",
       "    </tr>\n",
       "  </thead>\n",
       "  <tbody>\n",
       "    <tr>\n",
       "      <th>0</th>\n",
       "      <td>41.952960</td>\n",
       "      <td>0.411161</td>\n",
       "      <td>1.039460</td>\n",
       "      <td>0.085281</td>\n",
       "      <td>0.01</td>\n",
       "      <td>50</td>\n",
       "      <td>{'learning_rate': 0.01, 'n_estimators': 50}</td>\n",
       "      <td>0.455244</td>\n",
       "      <td>0.462343</td>\n",
       "      <td>0.463504</td>\n",
       "      <td>0.461052</td>\n",
       "      <td>0.460148</td>\n",
       "      <td>0.460458</td>\n",
       "      <td>0.002845</td>\n",
       "      <td>4</td>\n",
       "    </tr>\n",
       "    <tr>\n",
       "      <th>1</th>\n",
       "      <td>64.194194</td>\n",
       "      <td>0.636860</td>\n",
       "      <td>1.536448</td>\n",
       "      <td>0.095471</td>\n",
       "      <td>0.01</td>\n",
       "      <td>100</td>\n",
       "      <td>{'learning_rate': 0.01, 'n_estimators': 100}</td>\n",
       "      <td>0.504808</td>\n",
       "      <td>0.525331</td>\n",
       "      <td>0.524556</td>\n",
       "      <td>0.524298</td>\n",
       "      <td>0.496999</td>\n",
       "      <td>0.515198</td>\n",
       "      <td>0.011935</td>\n",
       "      <td>3</td>\n",
       "    </tr>\n",
       "    <tr>\n",
       "      <th>2</th>\n",
       "      <td>41.981107</td>\n",
       "      <td>0.416257</td>\n",
       "      <td>1.027495</td>\n",
       "      <td>0.096725</td>\n",
       "      <td>0.05</td>\n",
       "      <td>50</td>\n",
       "      <td>{'learning_rate': 0.05, 'n_estimators': 50}</td>\n",
       "      <td>0.510552</td>\n",
       "      <td>0.531978</td>\n",
       "      <td>0.529074</td>\n",
       "      <td>0.529268</td>\n",
       "      <td>0.532236</td>\n",
       "      <td>0.526621</td>\n",
       "      <td>0.008142</td>\n",
       "      <td>2</td>\n",
       "    </tr>\n",
       "    <tr>\n",
       "      <th>3</th>\n",
       "      <td>64.209046</td>\n",
       "      <td>0.865325</td>\n",
       "      <td>1.549332</td>\n",
       "      <td>0.218042</td>\n",
       "      <td>0.05</td>\n",
       "      <td>100</td>\n",
       "      <td>{'learning_rate': 0.05, 'n_estimators': 100}</td>\n",
       "      <td>0.537786</td>\n",
       "      <td>0.551597</td>\n",
       "      <td>0.549919</td>\n",
       "      <td>0.548500</td>\n",
       "      <td>0.554179</td>\n",
       "      <td>0.548396</td>\n",
       "      <td>0.005632</td>\n",
       "      <td>1</td>\n",
       "    </tr>\n",
       "  </tbody>\n",
       "</table>\n",
       "</div>"
      ],
      "text/plain": [
       "   mean_fit_time  std_fit_time  mean_score_time  std_score_time  \\\n",
       "0      41.952960      0.411161         1.039460        0.085281   \n",
       "1      64.194194      0.636860         1.536448        0.095471   \n",
       "2      41.981107      0.416257         1.027495        0.096725   \n",
       "3      64.209046      0.865325         1.549332        0.218042   \n",
       "\n",
       "  param_learning_rate param_n_estimators  \\\n",
       "0                0.01                 50   \n",
       "1                0.01                100   \n",
       "2                0.05                 50   \n",
       "3                0.05                100   \n",
       "\n",
       "                                         params  split0_test_score  \\\n",
       "0   {'learning_rate': 0.01, 'n_estimators': 50}           0.455244   \n",
       "1  {'learning_rate': 0.01, 'n_estimators': 100}           0.504808   \n",
       "2   {'learning_rate': 0.05, 'n_estimators': 50}           0.510552   \n",
       "3  {'learning_rate': 0.05, 'n_estimators': 100}           0.537786   \n",
       "\n",
       "   split1_test_score  split2_test_score  split3_test_score  split4_test_score  \\\n",
       "0           0.462343           0.463504           0.461052           0.460148   \n",
       "1           0.525331           0.524556           0.524298           0.496999   \n",
       "2           0.531978           0.529074           0.529268           0.532236   \n",
       "3           0.551597           0.549919           0.548500           0.554179   \n",
       "\n",
       "   mean_test_score  std_test_score  rank_test_score  \n",
       "0         0.460458        0.002845                4  \n",
       "1         0.515198        0.011935                3  \n",
       "2         0.526621        0.008142                2  \n",
       "3         0.548396        0.005632                1  "
      ]
     },
     "execution_count": 545,
     "metadata": {},
     "output_type": "execute_result"
    }
   ],
   "source": [
    "#get cross-validation result\n",
    "#adaboost_cross_val_results = pd.DataFrame(adaboost_gridsearch.cv_results_)\n",
    "#print('Number of Various Combinations of Parameters Tried : %d'%len(adaboost_cross_val_results))\n",
    "\n",
    "#save\n",
    "#adaboost_cross_val_results.to_csv('./Data/adaboost_cross_val_results')\n",
    "\n",
    "#adaboost_cross_val_results.head()"
   ]
  },
  {
   "cell_type": "code",
   "execution_count": 546,
   "metadata": {},
   "outputs": [
    {
     "name": "stdout",
     "output_type": "stream",
     "text": [
      "Train accuracy: 54.92223297838012\n",
      "Test accuracy: 57.398989898989896\n"
     ]
    }
   ],
   "source": [
    "#train a classifier with optimal values identified above\n",
    "adaboost_clf = AdaBoostClassifier(random_state = 21,\n",
    "                                  learning_rate = 0.05,\n",
    "                                  n_estimators = 100)\n",
    "\n",
    "#fit\n",
    "adaboost_clf.fit(X_train, y_train)\n",
    "\n",
    "#predict\n",
    "y_hat_train = adaboost_clf.predict(X_train)\n",
    "y_hat_test = adaboost_clf.predict(X_test)\n",
    "\n",
    "#train accuracy\n",
    "adaboost_train_accuracy = accuracy_score(y_train, y_hat_train) * 100\n",
    "print('Train accuracy:', adaboost_train_accuracy)\n",
    "\n",
    "#test accuracy\n",
    "adaboost_test_accuracy = accuracy_score(y_test, y_hat_test) * 100\n",
    "print('Test accuracy:', adaboost_test_accuracy)\n",
    "\n",
    "#Train accuracy: 54.92223297838012\n",
    "#Test accuracy: 57.398989898989896"
   ]
  },
  {
   "cell_type": "code",
   "execution_count": 547,
   "metadata": {},
   "outputs": [
    {
     "name": "stdout",
     "output_type": "stream",
     "text": [
      "Train cross validation: 0.5483962568570506\n",
      "Test cross validation: 0.647895622895623\n"
     ]
    }
   ],
   "source": [
    "#train cross validation\n",
    "adaboost_train_cv_score = cross_val_score(adaboost_clf, X_train, y_train, cv = 5, n_jobs = -1).mean()\n",
    "print('Train cross validation:', adaboost_train_cv_score)\n",
    "\n",
    "#test cross validation\n",
    "adaboost_test_cv_score = cross_val_score(adaboost_clf, X_test, y_test, cv = 5, n_jobs = -1).mean()\n",
    "print('Test cross validation:', adaboost_test_cv_score)"
   ]
  },
  {
   "cell_type": "code",
   "execution_count": 548,
   "metadata": {},
   "outputs": [
    {
     "name": "stdout",
     "output_type": "stream",
     "text": [
      "Mean Absolute Error: 0.5263468013468013\n",
      "Mean Squared Error: 0.727020202020202\n",
      "Root Mean Squared Error: 0.8526547965150973\n"
     ]
    }
   ],
   "source": [
    "#evaluate with MAE, MSE, RMSE\n",
    "print('Mean Absolute Error:', mean_absolute_error(y_test, y_hat_test))  \n",
    "print('Mean Squared Error:', mean_squared_error(y_test, y_hat_test))  \n",
    "print('Root Mean Squared Error:', mean_squared_error(y_test, y_hat_test, squared = False))"
   ]
  },
  {
   "cell_type": "code",
   "execution_count": 549,
   "metadata": {},
   "outputs": [
    {
     "name": "stdout",
     "output_type": "stream",
     "text": [
      "Model: adaBoost \n",
      "               precision    recall  f1-score   support\n",
      "\n",
      "           0       0.66      0.49      0.56      4614\n",
      "           1       0.72      0.65      0.68      6434\n",
      "           2       0.15      0.47      0.22       832\n",
      "\n",
      "    accuracy                           0.57     11880\n",
      "   macro avg       0.51      0.54      0.49     11880\n",
      "weighted avg       0.66      0.57      0.60     11880\n",
      "\n"
     ]
    }
   ],
   "source": [
    "#classification report\n",
    "adaboost_classification_report = classification_report(y_test, y_hat_test)\n",
    "print('Model: adaBoost', '\\n', adaboost_classification_report)"
   ]
  },
  {
   "cell_type": "code",
   "execution_count": 550,
   "metadata": {
    "scrolled": true
   },
   "outputs": [
    {
     "data": {
      "text/plain": [
       "<sklearn.metrics._plot.confusion_matrix.ConfusionMatrixDisplay at 0x7feba0f0c0d0>"
      ]
     },
     "execution_count": 550,
     "metadata": {},
     "output_type": "execute_result"
    },
    {
     "data": {
      "image/png": "[encoded data removed]",
      "text/plain": [
       "<Figure size 432x288 with 2 Axes>"
      ]
     },
     "metadata": {
      "needs_background": "light"
     },
     "output_type": "display_data"
    }
   ],
   "source": [
    "#plot confusion matrix\n",
    "plot_confusion_matrix(adaboost_clf, X_test, y_test, cmap = plt.cm.Blues)"
   ]
  },
  {
   "cell_type": "code",
   "execution_count": 551,
   "metadata": {},
   "outputs": [
    {
     "name": "stdout",
     "output_type": "stream",
     "text": [
      "0.25412457912457914\n",
      "0.5126259154394677\n"
     ]
    }
   ],
   "source": [
    "#get test bias and variance\n",
    "print(bias(y_test, y_hat_test))\n",
    "print(variance(y_hat_test))"
   ]
  },
  {
   "cell_type": "code",
   "execution_count": 552,
   "metadata": {},
   "outputs": [
    {
     "data": {
      "text/html": [
       "<div>\n",
       "<style scoped>\n",
       "    .dataframe tbody tr th:only-of-type {\n",
       "        vertical-align: middle;\n",
       "    }\n",
       "\n",
       "    .dataframe tbody tr th {\n",
       "        vertical-align: top;\n",
       "    }\n",
       "\n",
       "    .dataframe thead th {\n",
       "        text-align: right;\n",
       "    }\n",
       "</style>\n",
       "<table border=\"1\" class=\"dataframe\">\n",
       "  <thead>\n",
       "    <tr style=\"text-align: right;\">\n",
       "      <th></th>\n",
       "      <th>Model</th>\n",
       "      <th>Accuracy</th>\n",
       "      <th>CV</th>\n",
       "      <th>Precision</th>\n",
       "      <th>Recall</th>\n",
       "      <th>F1 Score</th>\n",
       "      <th>MAE</th>\n",
       "      <th>MSE</th>\n",
       "      <th>RMSE</th>\n",
       "      <th>AUC</th>\n",
       "      <th>Bias</th>\n",
       "      <th>Variance</th>\n",
       "    </tr>\n",
       "  </thead>\n",
       "  <tbody>\n",
       "    <tr>\n",
       "      <th>0</th>\n",
       "      <td>Decision Tree</td>\n",
       "      <td>70.35</td>\n",
       "      <td>0.69</td>\n",
       "      <td>0.60</td>\n",
       "      <td>0.66</td>\n",
       "      <td>0.61</td>\n",
       "      <td>0.34</td>\n",
       "      <td>0.43</td>\n",
       "      <td>0.66</td>\n",
       "      <td>-</td>\n",
       "      <td>0.087879</td>\n",
       "      <td>0.465907</td>\n",
       "    </tr>\n",
       "    <tr>\n",
       "      <th>1</th>\n",
       "      <td>Logistic Regression</td>\n",
       "      <td>65.41</td>\n",
       "      <td>0.74</td>\n",
       "      <td>0.60</td>\n",
       "      <td>0.67</td>\n",
       "      <td>0.58</td>\n",
       "      <td>0.41</td>\n",
       "      <td>0.55</td>\n",
       "      <td>0.74</td>\n",
       "      <td>0.82</td>\n",
       "      <td>0.232828</td>\n",
       "      <td>0.554471</td>\n",
       "    </tr>\n",
       "    <tr>\n",
       "      <th>2</th>\n",
       "      <td>KNN</td>\n",
       "      <td>75.23</td>\n",
       "      <td>0.72</td>\n",
       "      <td>0.64</td>\n",
       "      <td>0.67</td>\n",
       "      <td>0.65</td>\n",
       "      <td>0.28</td>\n",
       "      <td>0.35</td>\n",
       "      <td>0.59</td>\n",
       "      <td>-</td>\n",
       "      <td>0.043013</td>\n",
       "      <td>0.404409</td>\n",
       "    </tr>\n",
       "    <tr>\n",
       "      <th>3</th>\n",
       "      <td>Bagged Tree</td>\n",
       "      <td>52.08</td>\n",
       "      <td>0.61</td>\n",
       "      <td>0.50</td>\n",
       "      <td>0.55</td>\n",
       "      <td>0.47</td>\n",
       "      <td>0.59</td>\n",
       "      <td>0.80</td>\n",
       "      <td>0.90</td>\n",
       "      <td>-</td>\n",
       "      <td>0.211364</td>\n",
       "      <td>0.671635</td>\n",
       "    </tr>\n",
       "    <tr>\n",
       "      <th>4</th>\n",
       "      <td>Random Forest</td>\n",
       "      <td>77.54</td>\n",
       "      <td>0.77</td>\n",
       "      <td>0.67</td>\n",
       "      <td>0.72</td>\n",
       "      <td>0.68</td>\n",
       "      <td>0.25</td>\n",
       "      <td>0.31</td>\n",
       "      <td>0.56</td>\n",
       "      <td>-</td>\n",
       "      <td>0.075505</td>\n",
       "      <td>0.421245</td>\n",
       "    </tr>\n",
       "    <tr>\n",
       "      <th>5</th>\n",
       "      <td>Gradient Boost</td>\n",
       "      <td>79.49</td>\n",
       "      <td>0.78</td>\n",
       "      <td>0.69</td>\n",
       "      <td>0.70</td>\n",
       "      <td>0.69</td>\n",
       "      <td>0.23</td>\n",
       "      <td>0.27</td>\n",
       "      <td>0.52</td>\n",
       "      <td>-</td>\n",
       "      <td>0.029040</td>\n",
       "      <td>0.362680</td>\n",
       "    </tr>\n",
       "    <tr>\n",
       "      <th>6</th>\n",
       "      <td>ADABoost</td>\n",
       "      <td>57.40</td>\n",
       "      <td>0.65</td>\n",
       "      <td>0.51</td>\n",
       "      <td>0.54</td>\n",
       "      <td>0.49</td>\n",
       "      <td>0.53</td>\n",
       "      <td>0.73</td>\n",
       "      <td>0.85</td>\n",
       "      <td>-</td>\n",
       "      <td>0.254125</td>\n",
       "      <td>0.512626</td>\n",
       "    </tr>\n",
       "  </tbody>\n",
       "</table>\n",
       "</div>"
      ],
      "text/plain": [
       "                 Model  Accuracy    CV  Precision  Recall  F1 Score   MAE  \\\n",
       "0        Decision Tree     70.35  0.69       0.60    0.66      0.61  0.34   \n",
       "1  Logistic Regression     65.41  0.74       0.60    0.67      0.58  0.41   \n",
       "2                  KNN     75.23  0.72       0.64    0.67      0.65  0.28   \n",
       "3          Bagged Tree     52.08  0.61       0.50    0.55      0.47  0.59   \n",
       "4        Random Forest     77.54  0.77       0.67    0.72      0.68  0.25   \n",
       "5       Gradient Boost     79.49  0.78       0.69    0.70      0.69  0.23   \n",
       "6             ADABoost     57.40  0.65       0.51    0.54      0.49  0.53   \n",
       "\n",
       "    MSE  RMSE   AUC      Bias  Variance  \n",
       "0  0.43  0.66     -  0.087879  0.465907  \n",
       "1  0.55  0.74  0.82  0.232828  0.554471  \n",
       "2  0.35  0.59     -  0.043013  0.404409  \n",
       "3  0.80  0.90     -  0.211364  0.671635  \n",
       "4  0.31  0.56     -  0.075505  0.421245  \n",
       "5  0.27  0.52     -  0.029040  0.362680  \n",
       "6  0.73  0.85     -  0.254125  0.512626  "
      ]
     },
     "execution_count": 552,
     "metadata": {},
     "output_type": "execute_result"
    }
   ],
   "source": [
    "#summary table\n",
    "summary_table.loc[6] = ['ADABoost',\n",
    "                        round(adaboost_test_accuracy, 2), round(adaboost_test_cv_score, 2), \n",
    "                        round(precision_score(y_test, y_hat_test, average = 'macro'), 2), round(recall_score(y_test, y_hat_test, average = 'macro'), 2), round(f1_score(y_test, y_hat_test, average = 'macro'), 2),\n",
    "                        round(mean_absolute_error(y_test, y_hat_test), 2), round(mean_squared_error(y_test, y_hat_test), 2), round(mean_squared_error(y_test, y_hat_test, squared = False), 2),\n",
    "                        '-', bias(y_test, y_hat_test), variance(y_hat_test)]\n",
    "summary_table.head(10)"
   ]
  },
  {
   "cell_type": "markdown",
   "metadata": {},
   "source": [
    "# XGBoost"
   ]
  },
  {
   "cell_type": "code",
   "execution_count": 555,
   "metadata": {
    "scrolled": true
   },
   "outputs": [
    {
     "name": "stdout",
     "output_type": "stream",
     "text": [
      "Train accuracy: 85.96708615682478\n",
      "Test accuracy: 77.28114478114479\n"
     ]
    }
   ],
   "source": [
    "#instantiate baseline model\n",
    "xgb_clf = xgb.XGBClassifier(random_state = 21)\n",
    "\n",
    "#train a classifier with optimal values identified above\n",
    "xgb_clf = xgb.XGBClassifier(random_state = 21)\n",
    "\n",
    "#fit\n",
    "xgb_clf.fit(X_train, y_train)\n",
    "\n",
    "#predict\n",
    "y_hat_train = xgb_clf.predict(X_train)\n",
    "y_hat_test = xgb_clf.predict(X_test)\n",
    "\n",
    "#train accuracy\n",
    "xgb_train_accuracy = accuracy_score(y_train, y_hat_train) * 100\n",
    "print('Train accuracy:', xgb_train_accuracy)\n",
    "\n",
    "#test accuracy\n",
    "xgb_test_accuracy = accuracy_score(y_test, y_hat_test) * 100\n",
    "print('Test accuracy:', xgb_test_accuracy)\n",
    "\n",
    "#Train accuracy: 85.96708615682478\n",
    "#Test accuracy: 77.28114478114479"
   ]
  },
  {
   "cell_type": "code",
   "execution_count": 556,
   "metadata": {},
   "outputs": [
    {
     "data": {
      "text/plain": [
       "{'booster': 'gbtree', 'min_child_weight': 1}"
      ]
     },
     "execution_count": 556,
     "metadata": {},
     "output_type": "execute_result"
    }
   ],
   "source": [
    "#set param grid\n",
    "#xgb_param_grid = {'booster' : ['gbtree', 'gblinear'],\n",
    "#                  'min_child_weight' : [1, 3]}\n",
    "\n",
    "#gridsearch\n",
    "#xgb_gridsearch = GridSearchCV(estimator = xgb_clf, \n",
    "#                                        param_grid = xgb_param_grid,\n",
    "#                                        scoring = 'accuracy', cv = 5,\n",
    "#                                        n_jobs = -1)\n",
    "\n",
    "#fit\n",
    "#xgb_gridsearch.fit(X_train, y_train)\n",
    "\n",
    "#best param\n",
    "#xgb_gridsearch.best_params_\n",
    "\n",
    "#'booster': 'gbtree', \n",
    "#'min_child_weight': 1"
   ]
  },
  {
   "cell_type": "code",
   "execution_count": 557,
   "metadata": {},
   "outputs": [
    {
     "name": "stdout",
     "output_type": "stream",
     "text": [
      "Number of Various Combinations of Parameters Tried : 4\n"
     ]
    },
    {
     "data": {
      "text/html": [
       "<div>\n",
       "<style scoped>\n",
       "    .dataframe tbody tr th:only-of-type {\n",
       "        vertical-align: middle;\n",
       "    }\n",
       "\n",
       "    .dataframe tbody tr th {\n",
       "        vertical-align: top;\n",
       "    }\n",
       "\n",
       "    .dataframe thead th {\n",
       "        text-align: right;\n",
       "    }\n",
       "</style>\n",
       "<table border=\"1\" class=\"dataframe\">\n",
       "  <thead>\n",
       "    <tr style=\"text-align: right;\">\n",
       "      <th></th>\n",
       "      <th>mean_fit_time</th>\n",
       "      <th>std_fit_time</th>\n",
       "      <th>mean_score_time</th>\n",
       "      <th>std_score_time</th>\n",
       "      <th>param_booster</th>\n",
       "      <th>param_min_child_weight</th>\n",
       "      <th>params</th>\n",
       "      <th>split0_test_score</th>\n",
       "      <th>split1_test_score</th>\n",
       "      <th>split2_test_score</th>\n",
       "      <th>split3_test_score</th>\n",
       "      <th>split4_test_score</th>\n",
       "      <th>mean_test_score</th>\n",
       "      <th>std_test_score</th>\n",
       "      <th>rank_test_score</th>\n",
       "    </tr>\n",
       "  </thead>\n",
       "  <tbody>\n",
       "    <tr>\n",
       "      <th>0</th>\n",
       "      <td>255.059028</td>\n",
       "      <td>0.754106</td>\n",
       "      <td>0.247157</td>\n",
       "      <td>0.023198</td>\n",
       "      <td>gbtree</td>\n",
       "      <td>1</td>\n",
       "      <td>{'booster': 'gbtree', 'min_child_weight': 1}</td>\n",
       "      <td>0.763795</td>\n",
       "      <td>0.834914</td>\n",
       "      <td>0.831881</td>\n",
       "      <td>0.844724</td>\n",
       "      <td>0.848338</td>\n",
       "      <td>0.824731</td>\n",
       "      <td>0.031065</td>\n",
       "      <td>1</td>\n",
       "    </tr>\n",
       "    <tr>\n",
       "      <th>1</th>\n",
       "      <td>254.921704</td>\n",
       "      <td>0.478157</td>\n",
       "      <td>0.245729</td>\n",
       "      <td>0.011456</td>\n",
       "      <td>gbtree</td>\n",
       "      <td>3</td>\n",
       "      <td>{'booster': 'gbtree', 'min_child_weight': 3}</td>\n",
       "      <td>0.762956</td>\n",
       "      <td>0.837367</td>\n",
       "      <td>0.831494</td>\n",
       "      <td>0.845176</td>\n",
       "      <td>0.844272</td>\n",
       "      <td>0.824253</td>\n",
       "      <td>0.031049</td>\n",
       "      <td>2</td>\n",
       "    </tr>\n",
       "    <tr>\n",
       "      <th>2</th>\n",
       "      <td>47.901532</td>\n",
       "      <td>0.237030</td>\n",
       "      <td>0.096911</td>\n",
       "      <td>0.019176</td>\n",
       "      <td>gblinear</td>\n",
       "      <td>1</td>\n",
       "      <td>{'booster': 'gblinear', 'min_child_weight': 1}</td>\n",
       "      <td>0.542949</td>\n",
       "      <td>0.555857</td>\n",
       "      <td>0.545660</td>\n",
       "      <td>0.544240</td>\n",
       "      <td>0.545337</td>\n",
       "      <td>0.546809</td>\n",
       "      <td>0.004623</td>\n",
       "      <td>3</td>\n",
       "    </tr>\n",
       "    <tr>\n",
       "      <th>3</th>\n",
       "      <td>47.794966</td>\n",
       "      <td>0.154838</td>\n",
       "      <td>0.091371</td>\n",
       "      <td>0.009730</td>\n",
       "      <td>gblinear</td>\n",
       "      <td>3</td>\n",
       "      <td>{'booster': 'gblinear', 'min_child_weight': 3}</td>\n",
       "      <td>0.542949</td>\n",
       "      <td>0.555857</td>\n",
       "      <td>0.545660</td>\n",
       "      <td>0.544240</td>\n",
       "      <td>0.545337</td>\n",
       "      <td>0.546809</td>\n",
       "      <td>0.004623</td>\n",
       "      <td>3</td>\n",
       "    </tr>\n",
       "  </tbody>\n",
       "</table>\n",
       "</div>"
      ],
      "text/plain": [
       "   mean_fit_time  std_fit_time  mean_score_time  std_score_time param_booster  \\\n",
       "0     255.059028      0.754106         0.247157        0.023198        gbtree   \n",
       "1     254.921704      0.478157         0.245729        0.011456        gbtree   \n",
       "2      47.901532      0.237030         0.096911        0.019176      gblinear   \n",
       "3      47.794966      0.154838         0.091371        0.009730      gblinear   \n",
       "\n",
       "  param_min_child_weight                                          params  \\\n",
       "0                      1    {'booster': 'gbtree', 'min_child_weight': 1}   \n",
       "1                      3    {'booster': 'gbtree', 'min_child_weight': 3}   \n",
       "2                      1  {'booster': 'gblinear', 'min_child_weight': 1}   \n",
       "3                      3  {'booster': 'gblinear', 'min_child_weight': 3}   \n",
       "\n",
       "   split0_test_score  split1_test_score  split2_test_score  split3_test_score  \\\n",
       "0           0.763795           0.834914           0.831881           0.844724   \n",
       "1           0.762956           0.837367           0.831494           0.845176   \n",
       "2           0.542949           0.555857           0.545660           0.544240   \n",
       "3           0.542949           0.555857           0.545660           0.544240   \n",
       "\n",
       "   split4_test_score  mean_test_score  std_test_score  rank_test_score  \n",
       "0           0.848338         0.824731        0.031065                1  \n",
       "1           0.844272         0.824253        0.031049                2  \n",
       "2           0.545337         0.546809        0.004623                3  \n",
       "3           0.545337         0.546809        0.004623                3  "
      ]
     },
     "execution_count": 557,
     "metadata": {},
     "output_type": "execute_result"
    }
   ],
   "source": [
    "#get cross-validation result\n",
    "#xgb_cross_val_results = pd.DataFrame(xgb_gridsearch.cv_results_)\n",
    "#print('Number of Various Combinations of Parameters Tried : %d'%len(xgb_cross_val_results))\n",
    "\n",
    "#save\n",
    "#xgb_cross_val_results.to_csv('./Data/xgb_cross_val_results')\n",
    "\n",
    "#xgb_cross_val_results.head()"
   ]
  },
  {
   "cell_type": "code",
   "execution_count": 558,
   "metadata": {
    "scrolled": false
   },
   "outputs": [
    {
     "name": "stdout",
     "output_type": "stream",
     "text": [
      "Train accuracy: 85.96708615682478\n",
      "Test accuracy: 77.28114478114479\n"
     ]
    }
   ],
   "source": [
    "#train a classifier with optimal values identified above\n",
    "xgb_clf = xgb.XGBClassifier(random_state = 21,\n",
    "                            booster = 'gbtree',\n",
    "                            min_child_weight = 1)\n",
    "\n",
    "#fit\n",
    "xgb_clf.fit(X_train, y_train)\n",
    "\n",
    "#predict\n",
    "y_hat_train = xgb_clf.predict(X_train)\n",
    "y_hat_test = xgb_clf.predict(X_test)\n",
    "\n",
    "#train accuracy\n",
    "xgb_train_accuracy = accuracy_score(y_train, y_hat_train) * 100\n",
    "print('Train accuracy:', xgb_train_accuracy)\n",
    "\n",
    "#test accuracy\n",
    "xgb_test_accuracy = accuracy_score(y_test, y_hat_test) * 100\n",
    "print('Test accuracy:', xgb_test_accuracy)\n",
    "\n",
    "#Train accuracy: 99.80509841884478\n",
    "#Test accuracy: 79.78956228956228"
   ]
  },
  {
   "cell_type": "code",
   "execution_count": 559,
   "metadata": {},
   "outputs": [
    {
     "name": "stdout",
     "output_type": "stream",
     "text": [
      "Train cross validation: 0.824730558244595\n",
      "Test cross validation: 0.7751683501683502\n"
     ]
    }
   ],
   "source": [
    "#train cross validation\n",
    "xgb_train_cv_score = cross_val_score(xgb_clf, X_train, y_train, cv = 5, n_jobs = -1).mean()\n",
    "print('Train cross validation:', xgb_train_cv_score)\n",
    "\n",
    "#test cross validation\n",
    "xgb_test_cv_score = cross_val_score(xgb_clf, X_test, y_test, cv = 5, n_jobs = -1).mean()\n",
    "print('Test cross validation:', xgb_test_cv_score)"
   ]
  },
  {
   "cell_type": "code",
   "execution_count": 560,
   "metadata": {},
   "outputs": [
    {
     "name": "stdout",
     "output_type": "stream",
     "text": [
      "Mean Absolute Error: 0.255050505050505\n",
      "Mean Squared Error: 0.31077441077441076\n",
      "Root Mean Squared Error: 0.5574714439093815\n"
     ]
    }
   ],
   "source": [
    "#evaluate with MAE, MSE, RMSE\n",
    "print('Mean Absolute Error:', mean_absolute_error(y_test, y_hat_test))  \n",
    "print('Mean Squared Error:', mean_squared_error(y_test, y_hat_test))  \n",
    "print('Root Mean Squared Error:', mean_squared_error(y_test, y_hat_test, squared = False))"
   ]
  },
  {
   "cell_type": "code",
   "execution_count": 561,
   "metadata": {},
   "outputs": [
    {
     "name": "stdout",
     "output_type": "stream",
     "text": [
      "Model: adaBoost \n",
      "               precision    recall  f1-score   support\n",
      "\n",
      "           0       0.84      0.76      0.80      4614\n",
      "           1       0.82      0.81      0.82      6434\n",
      "           2       0.35      0.55      0.42       832\n",
      "\n",
      "    accuracy                           0.77     11880\n",
      "   macro avg       0.67      0.71      0.68     11880\n",
      "weighted avg       0.79      0.77      0.78     11880\n",
      "\n"
     ]
    }
   ],
   "source": [
    "#classification report\n",
    "xgb_classification_report = classification_report(y_test, y_hat_test)\n",
    "print('Model: adaBoost', '\\n', xgb_classification_report)"
   ]
  },
  {
   "cell_type": "code",
   "execution_count": 562,
   "metadata": {
    "scrolled": true
   },
   "outputs": [
    {
     "data": {
      "text/plain": [
       "<sklearn.metrics._plot.confusion_matrix.ConfusionMatrixDisplay at 0x7febe18b2f40>"
      ]
     },
     "execution_count": 562,
     "metadata": {},
     "output_type": "execute_result"
    },
    {
     "data": {
      "image/png": "[encoded data removed]",
      "text/plain": [
       "<Figure size 432x288 with 2 Axes>"
      ]
     },
     "metadata": {
      "needs_background": "light"
     },
     "output_type": "display_data"
    }
   ],
   "source": [
    "#plot confusion matrix\n",
    "plot_confusion_matrix(xgb_clf, X_test, y_test, cmap = plt.cm.Blues)"
   ]
  },
  {
   "cell_type": "code",
   "execution_count": 563,
   "metadata": {},
   "outputs": [
    {
     "name": "stdout",
     "output_type": "stream",
     "text": [
      "0.0771043771043771\n",
      "0.405605182010906\n"
     ]
    }
   ],
   "source": [
    "#get test bias and variance\n",
    "print(bias(y_test, y_hat_test))\n",
    "print(variance(y_hat_test))"
   ]
  },
  {
   "cell_type": "code",
   "execution_count": 564,
   "metadata": {},
   "outputs": [
    {
     "data": {
      "text/html": [
       "<div>\n",
       "<style scoped>\n",
       "    .dataframe tbody tr th:only-of-type {\n",
       "        vertical-align: middle;\n",
       "    }\n",
       "\n",
       "    .dataframe tbody tr th {\n",
       "        vertical-align: top;\n",
       "    }\n",
       "\n",
       "    .dataframe thead th {\n",
       "        text-align: right;\n",
       "    }\n",
       "</style>\n",
       "<table border=\"1\" class=\"dataframe\">\n",
       "  <thead>\n",
       "    <tr style=\"text-align: right;\">\n",
       "      <th></th>\n",
       "      <th>Model</th>\n",
       "      <th>Accuracy</th>\n",
       "      <th>CV</th>\n",
       "      <th>Precision</th>\n",
       "      <th>Recall</th>\n",
       "      <th>F1 Score</th>\n",
       "      <th>MAE</th>\n",
       "      <th>MSE</th>\n",
       "      <th>RMSE</th>\n",
       "      <th>AUC</th>\n",
       "      <th>Bias</th>\n",
       "      <th>Variance</th>\n",
       "    </tr>\n",
       "  </thead>\n",
       "  <tbody>\n",
       "    <tr>\n",
       "      <th>0</th>\n",
       "      <td>Decision Tree</td>\n",
       "      <td>70.35</td>\n",
       "      <td>0.69</td>\n",
       "      <td>0.60</td>\n",
       "      <td>0.66</td>\n",
       "      <td>0.61</td>\n",
       "      <td>0.34</td>\n",
       "      <td>0.43</td>\n",
       "      <td>0.66</td>\n",
       "      <td>-</td>\n",
       "      <td>0.087879</td>\n",
       "      <td>0.465907</td>\n",
       "    </tr>\n",
       "    <tr>\n",
       "      <th>1</th>\n",
       "      <td>Logistic Regression</td>\n",
       "      <td>65.41</td>\n",
       "      <td>0.74</td>\n",
       "      <td>0.60</td>\n",
       "      <td>0.67</td>\n",
       "      <td>0.58</td>\n",
       "      <td>0.41</td>\n",
       "      <td>0.55</td>\n",
       "      <td>0.74</td>\n",
       "      <td>0.82</td>\n",
       "      <td>0.232828</td>\n",
       "      <td>0.554471</td>\n",
       "    </tr>\n",
       "    <tr>\n",
       "      <th>2</th>\n",
       "      <td>KNN</td>\n",
       "      <td>75.23</td>\n",
       "      <td>0.72</td>\n",
       "      <td>0.64</td>\n",
       "      <td>0.67</td>\n",
       "      <td>0.65</td>\n",
       "      <td>0.28</td>\n",
       "      <td>0.35</td>\n",
       "      <td>0.59</td>\n",
       "      <td>-</td>\n",
       "      <td>0.043013</td>\n",
       "      <td>0.404409</td>\n",
       "    </tr>\n",
       "    <tr>\n",
       "      <th>3</th>\n",
       "      <td>Bagged Tree</td>\n",
       "      <td>52.08</td>\n",
       "      <td>0.61</td>\n",
       "      <td>0.50</td>\n",
       "      <td>0.55</td>\n",
       "      <td>0.47</td>\n",
       "      <td>0.59</td>\n",
       "      <td>0.80</td>\n",
       "      <td>0.90</td>\n",
       "      <td>-</td>\n",
       "      <td>0.211364</td>\n",
       "      <td>0.671635</td>\n",
       "    </tr>\n",
       "    <tr>\n",
       "      <th>4</th>\n",
       "      <td>Random Forest</td>\n",
       "      <td>77.54</td>\n",
       "      <td>0.77</td>\n",
       "      <td>0.67</td>\n",
       "      <td>0.72</td>\n",
       "      <td>0.68</td>\n",
       "      <td>0.25</td>\n",
       "      <td>0.31</td>\n",
       "      <td>0.56</td>\n",
       "      <td>-</td>\n",
       "      <td>0.075505</td>\n",
       "      <td>0.421245</td>\n",
       "    </tr>\n",
       "    <tr>\n",
       "      <th>5</th>\n",
       "      <td>Gradient Boost</td>\n",
       "      <td>79.49</td>\n",
       "      <td>0.78</td>\n",
       "      <td>0.69</td>\n",
       "      <td>0.70</td>\n",
       "      <td>0.69</td>\n",
       "      <td>0.23</td>\n",
       "      <td>0.27</td>\n",
       "      <td>0.52</td>\n",
       "      <td>-</td>\n",
       "      <td>0.029040</td>\n",
       "      <td>0.362680</td>\n",
       "    </tr>\n",
       "    <tr>\n",
       "      <th>6</th>\n",
       "      <td>ADABoost</td>\n",
       "      <td>57.40</td>\n",
       "      <td>0.65</td>\n",
       "      <td>0.51</td>\n",
       "      <td>0.54</td>\n",
       "      <td>0.49</td>\n",
       "      <td>0.53</td>\n",
       "      <td>0.73</td>\n",
       "      <td>0.85</td>\n",
       "      <td>-</td>\n",
       "      <td>0.254125</td>\n",
       "      <td>0.512626</td>\n",
       "    </tr>\n",
       "    <tr>\n",
       "      <th>7</th>\n",
       "      <td>XGBoost</td>\n",
       "      <td>77.28</td>\n",
       "      <td>0.78</td>\n",
       "      <td>0.67</td>\n",
       "      <td>0.71</td>\n",
       "      <td>0.68</td>\n",
       "      <td>0.26</td>\n",
       "      <td>0.31</td>\n",
       "      <td>0.56</td>\n",
       "      <td>-</td>\n",
       "      <td>0.077104</td>\n",
       "      <td>0.405605</td>\n",
       "    </tr>\n",
       "  </tbody>\n",
       "</table>\n",
       "</div>"
      ],
      "text/plain": [
       "                 Model  Accuracy    CV  Precision  Recall  F1 Score   MAE  \\\n",
       "0        Decision Tree     70.35  0.69       0.60    0.66      0.61  0.34   \n",
       "1  Logistic Regression     65.41  0.74       0.60    0.67      0.58  0.41   \n",
       "2                  KNN     75.23  0.72       0.64    0.67      0.65  0.28   \n",
       "3          Bagged Tree     52.08  0.61       0.50    0.55      0.47  0.59   \n",
       "4        Random Forest     77.54  0.77       0.67    0.72      0.68  0.25   \n",
       "5       Gradient Boost     79.49  0.78       0.69    0.70      0.69  0.23   \n",
       "6             ADABoost     57.40  0.65       0.51    0.54      0.49  0.53   \n",
       "7              XGBoost     77.28  0.78       0.67    0.71      0.68  0.26   \n",
       "\n",
       "    MSE  RMSE   AUC      Bias  Variance  \n",
       "0  0.43  0.66     -  0.087879  0.465907  \n",
       "1  0.55  0.74  0.82  0.232828  0.554471  \n",
       "2  0.35  0.59     -  0.043013  0.404409  \n",
       "3  0.80  0.90     -  0.211364  0.671635  \n",
       "4  0.31  0.56     -  0.075505  0.421245  \n",
       "5  0.27  0.52     -  0.029040  0.362680  \n",
       "6  0.73  0.85     -  0.254125  0.512626  \n",
       "7  0.31  0.56     -  0.077104  0.405605  "
      ]
     },
     "execution_count": 564,
     "metadata": {},
     "output_type": "execute_result"
    }
   ],
   "source": [
    "#summary table\n",
    "summary_table.loc[7] = ['XGBoost',\n",
    "                        round(xgb_test_accuracy, 2), round(xgb_test_cv_score, 2), \n",
    "                        round(precision_score(y_test, y_hat_test, average = 'macro'), 2), round(recall_score(y_test, y_hat_test, average = 'macro'), 2), round(f1_score(y_test, y_hat_test, average = 'macro'), 2),\n",
    "                        round(mean_absolute_error(y_test, y_hat_test), 2), round(mean_squared_error(y_test, y_hat_test), 2), round(mean_squared_error(y_test, y_hat_test, squared = False), 2),\n",
    "                        '-', bias(y_test, y_hat_test), variance(y_hat_test)]\n",
    "summary_table.head(10)"
   ]
  },
  {
   "cell_type": "markdown",
   "metadata": {},
   "source": [
    "# Support Vector Machine"
   ]
  },
  {
   "cell_type": "code",
   "execution_count": null,
   "metadata": {},
   "outputs": [],
   "source": [
    "#instantiate baseline model\n",
    "svm_clf = SVC(random_state = 21)\n",
    "\n",
    "#fit\n",
    "svm_clf.fit(X_train, y_train)\n",
    "\n",
    "#predict\n",
    "y_hat_train = svm_clf.predict(X_train)\n",
    "y_hat_test = svm_clf.predict(X_test)\n",
    "\n",
    "#train accuracy\n",
    "svm_train_accuracy = accuracy_score(y_train, y_hat_train) * 100\n",
    "print('Train accuracy:', svm_train_accuracy)\n",
    "\n",
    "#test accuracy\n",
    "svm_test_accuracy = accuracy_score(y_test, y_hat_test) * 100\n",
    "print('Test accuracy:', svm_test_accuracy)\n",
    "\n",
    "#Train accuracy: 80.3162310422717\n",
    "#Test accuracy: 73.0050505050505"
   ]
  },
  {
   "cell_type": "code",
   "execution_count": null,
   "metadata": {},
   "outputs": [],
   "source": [
    "#set param grid\n",
    "#svm_param_grid = {'decision_function_shape': ['ovo', 'ovr']}\n",
    "\n",
    "#gridsearch\n",
    "#svm_gridsearch = GridSearchCV(estimator = svm_clf,\n",
    "#                              param_grid = svm_param_grid,\n",
    "#                              scoring = 'accuracy', cv = 5,\n",
    "#                              n_jobs = -1)\n",
    "\n",
    "#fit\n",
    "#svm_gridsearch.fit(X_train, y_train)\n",
    "\n",
    "#best param\n",
    "#svm_gridsearch.best_params_\n",
    "\n",
    "#'decision_function_shape': 'ovo'"
   ]
  },
  {
   "cell_type": "code",
   "execution_count": null,
   "metadata": {},
   "outputs": [],
   "source": [
    "#train a classifier with optimal values identified above\n",
    "svm_clf = SVC(random_state = 21, decision_function_shape = 'ovo')\n",
    "\n",
    "#fit\n",
    "svm_clf.fit(X_train, y_train)\n",
    "\n",
    "#predict\n",
    "y_hat_train = svm_clf.predict(X_train)\n",
    "y_hat_test = svm_clf.predict(X_test)\n",
    "\n",
    "#train accuracy\n",
    "svm_train_accuracy = accuracy_score(y_train, y_hat_train) * 100\n",
    "print('Train accuracy:', svm_train_accuracy)\n",
    "\n",
    "#test accuracy\n",
    "svm_test_accuracy = accuracy_score(y_test, y_hat_test) * 100\n",
    "print('Test accuracy:', svm_test_accuracy)\n",
    "\n",
    "#Train accuracy: 80.3162310422717\n",
    "#Test accuracy: 73.0050505050505"
   ]
  },
  {
   "cell_type": "code",
   "execution_count": null,
   "metadata": {},
   "outputs": [],
   "source": [
    "#train cross validation\n",
    "svm_train_cv_score = cross_val_score(svm_clf, X_train, y_train, cv = 5, n_jobs = -1).mean()\n",
    "print('Train cross validation:', svm_train_cv_score)\n",
    "\n",
    "#test cross validation\n",
    "svm_test_cv_score = cross_val_score(svm_clf, X_test, y_test, cv = 5, n_jobs = -1).mean()\n",
    "print('Test cross validation:', svm_test_cv_score)"
   ]
  },
  {
   "cell_type": "code",
   "execution_count": null,
   "metadata": {},
   "outputs": [],
   "source": [
    "#evaluate with MAE, MSE, RMSE\n",
    "print('Mean Absolute Error:', mean_absolute_error(y_test, y_hat_test))  \n",
    "print('Mean Squared Error:', mean_squared_error(y_test, y_hat_test))  \n",
    "print('Root Mean Squared Error:', mean_squared_error(y_test, y_hat_test, squared = False))"
   ]
  },
  {
   "cell_type": "code",
   "execution_count": null,
   "metadata": {},
   "outputs": [],
   "source": [
    "#classification report\n",
    "svm_classification_report = classification_report(y_test, y_hat_test)\n",
    "print('Model: adaBoost', '\\n', svm_classification_report)"
   ]
  },
  {
   "cell_type": "code",
   "execution_count": null,
   "metadata": {},
   "outputs": [],
   "source": [
    "#plot confusion matrix\n",
    "plot_confusion_matrix(svm_clf, X_test, y_test, cmap = plt.cm.Blues)"
   ]
  },
  {
   "cell_type": "code",
   "execution_count": null,
   "metadata": {},
   "outputs": [],
   "source": [
    "#get test bias and variance\n",
    "print(bias(y_test, y_hat_test))\n",
    "print(variance(y_hat_test))"
   ]
  },
  {
   "cell_type": "code",
   "execution_count": null,
   "metadata": {},
   "outputs": [],
   "source": [
    "#summary table\n",
    "summary_table.loc[8] = ['SVM',\n",
    "                        round(svm_test_accuracy, 2), round(svm_test_cv_score, 2), \n",
    "                        round(precision_score(y_test, y_hat_test, average = 'macro'), 2), round(recall_score(y_test, y_hat_test, average = 'macro'), 2), round(f1_score(y_test, y_hat_test, average = 'macro'), 2),\n",
    "                        round(mean_absolute_error(y_test, y_hat_test), 2), round(mean_squared_error(y_test, y_hat_test), 2), round(mean_squared_error(y_test, y_hat_test, squared = False), 2),\n",
    "                        '-', bias(y_test, y_hat_test), variance(y_hat_test)]\n",
    "summary_table.head(10)"
   ]
  },
  {
   "cell_type": "code",
   "execution_count": null,
   "metadata": {},
   "outputs": [],
   "source": [
    "#save\n",
    "summary_table.to_csv('./Data/summary_table')"
   ]
  },
  {
   "cell_type": "code",
   "execution_count": null,
   "metadata": {},
   "outputs": [],
   "source": []
  },
  {
   "cell_type": "markdown",
   "metadata": {},
   "source": [
    "# Models Comparison"
   ]
  },
  {
   "cell_type": "code",
   "execution_count": null,
   "metadata": {},
   "outputs": [],
   "source": [
    "#plot accuracy\n",
    "plt.figure(figsize = (15, 5))\n",
    "sns.boxplot(x = summary_table['Accuracy'], y = summary_table['Model'], s = 100, marker = 'o')\n",
    "plt.xlabel('Accuracy')\n",
    "plt.ylabel('Model')\n",
    "plt.title(\"Accuracy Comparison\")\n",
    "\n",
    "plt.savefig('./Data/models_comparison')"
   ]
  },
  {
   "cell_type": "code",
   "execution_count": null,
   "metadata": {},
   "outputs": [],
   "source": []
  },
  {
   "cell_type": "code",
   "execution_count": null,
   "metadata": {},
   "outputs": [],
   "source": []
  },
  {
   "cell_type": "code",
   "execution_count": null,
   "metadata": {},
   "outputs": [],
   "source": []
  },
  {
   "cell_type": "markdown",
   "metadata": {},
   "source": [
    "# Submission Dataframe"
   ]
  },
  {
   "cell_type": "code",
   "execution_count": null,
   "metadata": {},
   "outputs": [],
   "source": [
    "prediction = clf.predict(test_values[features])\n",
    "prediction_df = pd.DataFrame(prediction, columns=[\"status_group\"])\n",
    "submission = pd.merge(test_values.id.reset_index()[\"id\"].to_frame(), prediction_df, right_index = True, left_index = True)\n",
    "submission.head()\n",
    "submission.to_csv(\"sub.csv\", index = False)"
   ]
  }
 ],
 "metadata": {
  "kernelspec": {
   "display_name": "Python 3",
   "language": "python",
   "name": "python3"
  }
 },
 "nbformat": 4,
 "nbformat_minor": 4
}
