{
 "cells": [
  {
   "cell_type": "code",
   "execution_count": 179,
   "metadata": {},
   "outputs": [
    {
     "name": "stdout",
     "output_type": "stream",
     "text": [
      "Requirement already satisfied: xgboost in /opt/anaconda3/lib/python3.8/site-packages (1.3.3)\r\n",
      "Requirement already satisfied: numpy in /opt/anaconda3/lib/python3.8/site-packages (from xgboost) (1.19.2)\r\n",
      "Requirement already satisfied: scipy in /opt/anaconda3/lib/python3.8/site-packages (from xgboost) (1.5.2)\r\n"
     ]
    }
   ],
   "source": [
    "import pandas as pd\n",
    "import numpy as np\n",
    "\n",
    "#plot\n",
    "import matplotlib.pyplot as plt  \n",
    "%matplotlib inline        \n",
    "import seaborn as sns\n",
    "import plotly.graph_objects as go\n",
    "from sklearn.metrics import plot_confusion_matrix\n",
    "\n",
    "#other\n",
    "from sklearn.preprocessing import MinMaxScaler\n",
    "from imblearn.over_sampling import SMOTE\n",
    "from sklearn.model_selection import train_test_split, cross_val_score\n",
    "from sklearn.metrics import accuracy_score, precision_score, recall_score, f1_score, confusion_matrix, classification_report, roc_auc_score, mean_absolute_error, mean_squared_error\n",
    "from sklearn.metrics import roc_curve, auc, roc_auc_score\n",
    "\n",
    "#models\n",
    "from sklearn.linear_model import LogisticRegression\n",
    "from sklearn.neighbors import KNeighborsClassifier\n",
    "from sklearn.model_selection import KFold\n",
    "from sklearn.tree import DecisionTreeClassifier, DecisionTreeRegressor\n",
    "from sklearn.ensemble import RandomForestClassifier, BaggingClassifier\n",
    "from sklearn.model_selection import GridSearchCV\n",
    "from sklearn.ensemble import AdaBoostClassifier, GradientBoostingClassifier\n",
    "from sklearn.svm import SVC\n",
    "\n",
    "!pip install xgboost\n",
    "import xgboost as xgb\n",
    "\n",
    "import warnings\n",
    "warnings.filterwarnings('ignore')"
   ]
  },
  {
   "cell_type": "code",
   "execution_count": 180,
   "metadata": {
    "scrolled": true
   },
   "outputs": [
    {
     "data": {
      "text/html": [
       "<div>\n",
       "<style scoped>\n",
       "    .dataframe tbody tr th:only-of-type {\n",
       "        vertical-align: middle;\n",
       "    }\n",
       "\n",
       "    .dataframe tbody tr th {\n",
       "        vertical-align: top;\n",
       "    }\n",
       "\n",
       "    .dataframe thead th {\n",
       "        text-align: right;\n",
       "    }\n",
       "</style>\n",
       "<table border=\"1\" class=\"dataframe\">\n",
       "  <thead>\n",
       "    <tr style=\"text-align: right;\">\n",
       "      <th></th>\n",
       "      <th>status_group</th>\n",
       "      <th>amount_tsh</th>\n",
       "      <th>gps_height</th>\n",
       "      <th>longitude</th>\n",
       "      <th>latitude</th>\n",
       "      <th>population</th>\n",
       "      <th>age</th>\n",
       "      <th>basin_Lake Nyasa</th>\n",
       "      <th>basin_Lake Rukwa</th>\n",
       "      <th>basin_Lake Tanganyika</th>\n",
       "      <th>...</th>\n",
       "      <th>scheme_name_group_m</th>\n",
       "      <th>scheme_name_group_machumba estate pipe line</th>\n",
       "      <th>scheme_name_group_makwale water supplied sche</th>\n",
       "      <th>scheme_name_group_mkongoro one</th>\n",
       "      <th>scheme_name_group_n</th>\n",
       "      <th>scheme_name_group_ngana water supplied scheme</th>\n",
       "      <th>scheme_name_group_other</th>\n",
       "      <th>scheme_name_group_s</th>\n",
       "      <th>scheme_name_group_uroki-bomang'ombe water sup</th>\n",
       "      <th>scheme_name_group_wanging'ombe water</th>\n",
       "    </tr>\n",
       "  </thead>\n",
       "  <tbody>\n",
       "    <tr>\n",
       "      <th>0</th>\n",
       "      <td>1</td>\n",
       "      <td>6000.0</td>\n",
       "      <td>1390</td>\n",
       "      <td>34.938093</td>\n",
       "      <td>-9.856322</td>\n",
       "      <td>109</td>\n",
       "      <td>14</td>\n",
       "      <td>1</td>\n",
       "      <td>0</td>\n",
       "      <td>0</td>\n",
       "      <td>...</td>\n",
       "      <td>0</td>\n",
       "      <td>0</td>\n",
       "      <td>0</td>\n",
       "      <td>0</td>\n",
       "      <td>0</td>\n",
       "      <td>0</td>\n",
       "      <td>1</td>\n",
       "      <td>0</td>\n",
       "      <td>0</td>\n",
       "      <td>0</td>\n",
       "    </tr>\n",
       "    <tr>\n",
       "      <th>1</th>\n",
       "      <td>1</td>\n",
       "      <td>0.0</td>\n",
       "      <td>1399</td>\n",
       "      <td>34.698766</td>\n",
       "      <td>-2.147466</td>\n",
       "      <td>280</td>\n",
       "      <td>3</td>\n",
       "      <td>0</td>\n",
       "      <td>0</td>\n",
       "      <td>0</td>\n",
       "      <td>...</td>\n",
       "      <td>0</td>\n",
       "      <td>0</td>\n",
       "      <td>0</td>\n",
       "      <td>0</td>\n",
       "      <td>0</td>\n",
       "      <td>0</td>\n",
       "      <td>1</td>\n",
       "      <td>0</td>\n",
       "      <td>0</td>\n",
       "      <td>0</td>\n",
       "    </tr>\n",
       "    <tr>\n",
       "      <th>2</th>\n",
       "      <td>1</td>\n",
       "      <td>25.0</td>\n",
       "      <td>686</td>\n",
       "      <td>37.460664</td>\n",
       "      <td>-3.821329</td>\n",
       "      <td>250</td>\n",
       "      <td>4</td>\n",
       "      <td>0</td>\n",
       "      <td>0</td>\n",
       "      <td>0</td>\n",
       "      <td>...</td>\n",
       "      <td>0</td>\n",
       "      <td>0</td>\n",
       "      <td>0</td>\n",
       "      <td>0</td>\n",
       "      <td>0</td>\n",
       "      <td>0</td>\n",
       "      <td>1</td>\n",
       "      <td>0</td>\n",
       "      <td>0</td>\n",
       "      <td>0</td>\n",
       "    </tr>\n",
       "    <tr>\n",
       "      <th>3</th>\n",
       "      <td>0</td>\n",
       "      <td>0.0</td>\n",
       "      <td>263</td>\n",
       "      <td>38.486161</td>\n",
       "      <td>-11.155298</td>\n",
       "      <td>58</td>\n",
       "      <td>27</td>\n",
       "      <td>0</td>\n",
       "      <td>0</td>\n",
       "      <td>0</td>\n",
       "      <td>...</td>\n",
       "      <td>0</td>\n",
       "      <td>0</td>\n",
       "      <td>0</td>\n",
       "      <td>0</td>\n",
       "      <td>0</td>\n",
       "      <td>0</td>\n",
       "      <td>1</td>\n",
       "      <td>0</td>\n",
       "      <td>0</td>\n",
       "      <td>0</td>\n",
       "    </tr>\n",
       "    <tr>\n",
       "      <th>4</th>\n",
       "      <td>1</td>\n",
       "      <td>0.0</td>\n",
       "      <td>0</td>\n",
       "      <td>31.130847</td>\n",
       "      <td>-1.825359</td>\n",
       "      <td>150</td>\n",
       "      <td>17</td>\n",
       "      <td>0</td>\n",
       "      <td>0</td>\n",
       "      <td>0</td>\n",
       "      <td>...</td>\n",
       "      <td>0</td>\n",
       "      <td>0</td>\n",
       "      <td>0</td>\n",
       "      <td>0</td>\n",
       "      <td>0</td>\n",
       "      <td>0</td>\n",
       "      <td>1</td>\n",
       "      <td>0</td>\n",
       "      <td>0</td>\n",
       "      <td>0</td>\n",
       "    </tr>\n",
       "  </tbody>\n",
       "</table>\n",
       "<p>5 rows × 287 columns</p>\n",
       "</div>"
      ],
      "text/plain": [
       "   status_group  amount_tsh  gps_height  longitude   latitude  population  \\\n",
       "0             1      6000.0        1390  34.938093  -9.856322         109   \n",
       "1             1         0.0        1399  34.698766  -2.147466         280   \n",
       "2             1        25.0         686  37.460664  -3.821329         250   \n",
       "3             0         0.0         263  38.486161 -11.155298          58   \n",
       "4             1         0.0           0  31.130847  -1.825359         150   \n",
       "\n",
       "   age  basin_Lake Nyasa  basin_Lake Rukwa  basin_Lake Tanganyika  ...  \\\n",
       "0   14                 1                 0                      0  ...   \n",
       "1    3                 0                 0                      0  ...   \n",
       "2    4                 0                 0                      0  ...   \n",
       "3   27                 0                 0                      0  ...   \n",
       "4   17                 0                 0                      0  ...   \n",
       "\n",
       "   scheme_name_group_m  scheme_name_group_machumba estate pipe line  \\\n",
       "0                    0                                            0   \n",
       "1                    0                                            0   \n",
       "2                    0                                            0   \n",
       "3                    0                                            0   \n",
       "4                    0                                            0   \n",
       "\n",
       "   scheme_name_group_makwale water supplied sche  \\\n",
       "0                                              0   \n",
       "1                                              0   \n",
       "2                                              0   \n",
       "3                                              0   \n",
       "4                                              0   \n",
       "\n",
       "   scheme_name_group_mkongoro one  scheme_name_group_n  \\\n",
       "0                               0                    0   \n",
       "1                               0                    0   \n",
       "2                               0                    0   \n",
       "3                               0                    0   \n",
       "4                               0                    0   \n",
       "\n",
       "   scheme_name_group_ngana water supplied scheme  scheme_name_group_other  \\\n",
       "0                                              0                        1   \n",
       "1                                              0                        1   \n",
       "2                                              0                        1   \n",
       "3                                              0                        1   \n",
       "4                                              0                        1   \n",
       "\n",
       "   scheme_name_group_s  scheme_name_group_uroki-bomang'ombe water sup  \\\n",
       "0                    0                                              0   \n",
       "1                    0                                              0   \n",
       "2                    0                                              0   \n",
       "3                    0                                              0   \n",
       "4                    0                                              0   \n",
       "\n",
       "   scheme_name_group_wanging'ombe water  \n",
       "0                                     0  \n",
       "1                                     0  \n",
       "2                                     0  \n",
       "3                                     0  \n",
       "4                                     0  \n",
       "\n",
       "[5 rows x 287 columns]"
      ]
     },
     "execution_count": 180,
     "metadata": {},
     "output_type": "execute_result"
    }
   ],
   "source": [
    "#read dataset\n",
    "preprocessed_df = pd.read_csv('./Data/preprocessed_df.cvs', index_col = 0) \n",
    "preprocessed_df.head()"
   ]
  },
  {
   "cell_type": "code",
   "execution_count": 181,
   "metadata": {},
   "outputs": [
    {
     "data": {
      "text/plain": [
       "(59400, 287)"
      ]
     },
     "execution_count": 181,
     "metadata": {},
     "output_type": "execute_result"
    }
   ],
   "source": [
    "preprocessed_df.shape"
   ]
  },
  {
   "cell_type": "code",
   "execution_count": 182,
   "metadata": {},
   "outputs": [],
   "source": [
    "#define X and y\n",
    "y = preprocessed_df['status_group']\n",
    "X = preprocessed_df.drop(['status_group'], axis = 1)"
   ]
  },
  {
   "cell_type": "code",
   "execution_count": 183,
   "metadata": {},
   "outputs": [],
   "source": [
    "#perform test train split\n",
    "X_train, X_test, y_train, y_test = train_test_split(X, y, test_size = 0.2, random_state = 21)"
   ]
  },
  {
   "cell_type": "markdown",
   "metadata": {},
   "source": [
    "# Data Transformation"
   ]
  },
  {
   "cell_type": "markdown",
   "metadata": {},
   "source": [
    "After splitting the data into training and test sets, we use the `MixMaxScaler()` to fit and transform `X_train` and transform `X_test` of continuous variables.\n",
    "\n",
    "We want to fit and transform only the training data because in a real-world setting, we only have access to this data. We can then use the same scalar object to transform the test data. \n",
    "\n",
    "If we to first transform the data and then split into training and test sets, it will lead to data-leakage. "
   ]
  },
  {
   "cell_type": "code",
   "execution_count": 184,
   "metadata": {},
   "outputs": [],
   "source": [
    "#scale to make sure that all of our data is represented at the same scale\n",
    "scale = MinMaxScaler()\n",
    "\n",
    "#fit\n",
    "X_train = scale.fit_transform(X_train) #to create a scaled version of the training dataset\n",
    "X_test = scale.transform(X_test) #to create a scaled version of the test dataset"
   ]
  },
  {
   "cell_type": "markdown",
   "metadata": {},
   "source": [
    "# Decision Tree"
   ]
  },
  {
   "cell_type": "code",
   "execution_count": 185,
   "metadata": {},
   "outputs": [
    {
     "name": "stdout",
     "output_type": "stream",
     "text": [
      "Train accuracy: 99.76010101010101\n",
      "Test accuracy: 75.85858585858585\n"
     ]
    }
   ],
   "source": [
    "#instantiate baseline model\n",
    "decision_tree_clf = DecisionTreeClassifier(random_state = 21, criterion = 'entropy')\n",
    "\n",
    "#fit\n",
    "decision_tree_clf.fit(X_train, y_train)\n",
    "\n",
    "#predict\n",
    "y_hat_train = decision_tree_clf.predict(X_train)\n",
    "y_hat_test = decision_tree_clf.predict(X_test)\n",
    "\n",
    "#train accuracy \n",
    "decision_tree_train_accuracy = accuracy_score(y_train, y_hat_train) * 100\n",
    "print('Train accuracy: {0}'.format(decision_tree_train_accuracy))\n",
    "\n",
    "#test accuracy \n",
    "decision_tree_test_accuracy = accuracy_score(y_test, y_hat_test) * 100\n",
    "print('Test accuracy: {0}'.format(decision_tree_test_accuracy))"
   ]
  },
  {
   "cell_type": "code",
   "execution_count": 186,
   "metadata": {
    "scrolled": false
   },
   "outputs": [
    {
     "data": {
      "image/png": "[encoded data removed]",
      "text/plain": [
       "<Figure size 1440x7200 with 1 Axes>"
      ]
     },
     "metadata": {
      "needs_background": "light"
     },
     "output_type": "display_data"
    }
   ],
   "source": [
    "#feature importance\n",
    "decision_tree_clf.feature_importances_;\n",
    "\n",
    "def plot_feature_importances(model):\n",
    "    n_features = X_train.shape[1]\n",
    "    plt.figure(figsize = (20, 100))\n",
    "    plt.barh(range(n_features), model.feature_importances_, align = 'center') \n",
    "    plt.yticks(np.arange(n_features), X.columns.values) \n",
    "    plt.xlabel('Feature importance')\n",
    "    plt.ylabel('Feature')\n",
    "\n",
    "plot_feature_importances(decision_tree_clf)\n",
    "\n",
    "#save\n",
    "plt.savefig('./Data/decision_tree_clf_feature_importances')"
   ]
  },
  {
   "cell_type": "code",
   "execution_count": 187,
   "metadata": {},
   "outputs": [
    {
     "data": {
      "text/plain": [
       "Index(['ward_group_Chanika', 'ward_group_Igosi', 'ward_group_Imalinyi',\n",
       "       'ward_group_Itete', 'ward_group_Kitunda', 'ward_group_Maji ya Chai',\n",
       "       'ward_group_Maramba', 'ward_group_Matola', 'ward_group_Mdandu',\n",
       "       'ward_group_Mishamo', 'ward_group_Msindo', 'ward_group_Mtwango',\n",
       "       'ward_group_Nduruma', 'ward_group_Ngarenanyuki', 'ward_group_Siha Kati',\n",
       "       'ward_group_Usuka', 'ward_group_Vikindu', 'ward_group_Wanging'ombe',\n",
       "       'ward_group_Zinga/Ikerege', 'ward_group_other'],\n",
       "      dtype='object')"
      ]
     },
     "execution_count": 187,
     "metadata": {},
     "output_type": "execute_result"
    }
   ],
   "source": [
    "#look for columns with 'ward'\n",
    "preprocessed_df.filter(like = 'ward').columns"
   ]
  },
  {
   "cell_type": "code",
   "execution_count": 188,
   "metadata": {},
   "outputs": [
    {
     "data": {
      "text/plain": [
       "Index(['subvillage_group_I', 'subvillage_group_Kanisani',\n",
       "       'subvillage_group_Kati', 'subvillage_group_Kibaoni',\n",
       "       'subvillage_group_M', 'subvillage_group_Madukani',\n",
       "       'subvillage_group_Majengo', 'subvillage_group_Mapinduzi',\n",
       "       'subvillage_group_Mbuyuni', 'subvillage_group_Miembeni',\n",
       "       'subvillage_group_Mjimwema', 'subvillage_group_Mlimani',\n",
       "       'subvillage_group_Msikitini', 'subvillage_group_Mtakuja',\n",
       "       'subvillage_group_Muungano', 'subvillage_group_Shuleni',\n",
       "       'subvillage_group_Sokoni', 'subvillage_group_Songambele',\n",
       "       'subvillage_group_other'],\n",
       "      dtype='object')"
      ]
     },
     "execution_count": 188,
     "metadata": {},
     "output_type": "execute_result"
    }
   ],
   "source": [
    "#look for columns with 'subvillage'\n",
    "preprocessed_df.filter(like = 'subvillage').columns"
   ]
  },
  {
   "cell_type": "code",
   "execution_count": 189,
   "metadata": {},
   "outputs": [
    {
     "data": {
      "text/plain": [
       "Index(['wpt_name_group_Hospital', 'wpt_name_group_Kanisani',\n",
       "       'wpt_name_group_Kituo Cha Afya', 'wpt_name_group_Madukani',\n",
       "       'wpt_name_group_Mbugani', 'wpt_name_group_Mkombozi',\n",
       "       'wpt_name_group_Mkuyuni', 'wpt_name_group_Msikitini',\n",
       "       'wpt_name_group_Muungano', 'wpt_name_group_Ofisini',\n",
       "       'wpt_name_group_School', 'wpt_name_group_Sekondari',\n",
       "       'wpt_name_group_Shule', 'wpt_name_group_Shule Ya Msingi',\n",
       "       'wpt_name_group_Shuleni', 'wpt_name_group_Sokoni',\n",
       "       'wpt_name_group_Upendo', 'wpt_name_group_Zahanati',\n",
       "       'wpt_name_group_other'],\n",
       "      dtype='object')"
      ]
     },
     "execution_count": 189,
     "metadata": {},
     "output_type": "execute_result"
    }
   ],
   "source": [
    "#look for columns with 'wpt_name'\n",
    "preprocessed_df.filter(like = 'wpt_name').columns"
   ]
  },
  {
   "cell_type": "code",
   "execution_count": 190,
   "metadata": {},
   "outputs": [],
   "source": [
    "#drop features\n",
    "X.drop(columns = ['ward_group_Chanika', 'ward_group_Igosi', 'ward_group_Imalinyi',\n",
    "       'ward_group_Itete', 'ward_group_Kitunda', 'ward_group_Maji ya Chai',\n",
    "       'ward_group_Maramba', 'ward_group_Matola', 'ward_group_Mdandu',\n",
    "       'ward_group_Mishamo', 'ward_group_Msindo', 'ward_group_Mtwango',\n",
    "       'ward_group_Nduruma', 'ward_group_Ngarenanyuki', 'ward_group_Siha Kati',\n",
    "       'ward_group_Usuka', 'ward_group_Vikindu', \"ward_group_Wanging'ombe\",\n",
    "       'ward_group_Zinga/Ikerege', 'ward_group_other'], axis = 1, inplace = True)"
   ]
  },
  {
   "cell_type": "code",
   "execution_count": 191,
   "metadata": {},
   "outputs": [],
   "source": [
    "#drop features\n",
    "X.drop(columns = ['subvillage_group_I', 'subvillage_group_Kanisani',\n",
    "       'subvillage_group_Kati', 'subvillage_group_Kibaoni',\n",
    "       'subvillage_group_M', 'subvillage_group_Madukani',\n",
    "       'subvillage_group_Majengo', 'subvillage_group_Mapinduzi',\n",
    "       'subvillage_group_Mbuyuni', 'subvillage_group_Miembeni',\n",
    "       'subvillage_group_Mjimwema', 'subvillage_group_Mlimani',\n",
    "       'subvillage_group_Msikitini', 'subvillage_group_Mtakuja',\n",
    "       'subvillage_group_Muungano', 'subvillage_group_Shuleni',\n",
    "       'subvillage_group_Sokoni', 'subvillage_group_Songambele',\n",
    "       'subvillage_group_other'], axis = 1, inplace = True)"
   ]
  },
  {
   "cell_type": "code",
   "execution_count": 192,
   "metadata": {},
   "outputs": [],
   "source": [
    "#drop features\n",
    "X.drop(columns = ['wpt_name_group_Hospital', 'wpt_name_group_Kanisani',\n",
    "       'wpt_name_group_Kituo Cha Afya', 'wpt_name_group_Madukani',\n",
    "       'wpt_name_group_Mbugani', 'wpt_name_group_Mkombozi',\n",
    "       'wpt_name_group_Mkuyuni', 'wpt_name_group_Msikitini',\n",
    "       'wpt_name_group_Muungano', 'wpt_name_group_Ofisini',\n",
    "       'wpt_name_group_School', 'wpt_name_group_Sekondari',\n",
    "       'wpt_name_group_Shule', 'wpt_name_group_Shule Ya Msingi',\n",
    "       'wpt_name_group_Shuleni', 'wpt_name_group_Sokoni',\n",
    "       'wpt_name_group_Upendo', 'wpt_name_group_Zahanati',\n",
    "       'wpt_name_group_other'], axis = 1, inplace = True)"
   ]
  },
  {
   "cell_type": "code",
   "execution_count": 193,
   "metadata": {},
   "outputs": [],
   "source": [
    "#re-perform test train split\n",
    "X_train, X_test, y_train, y_test = train_test_split(X, y, test_size = 0.2, random_state = 21)"
   ]
  },
  {
   "cell_type": "code",
   "execution_count": 194,
   "metadata": {},
   "outputs": [],
   "source": [
    "#re-scale to make sure that all of our data is represented at the same scale\n",
    "scale = MinMaxScaler()\n",
    "\n",
    "#fit\n",
    "X_train = scale.fit_transform(X_train) #to create a scaled version of the training dataset\n",
    "X_test = scale.transform(X_test) #to create a scaled version of the test dataset"
   ]
  },
  {
   "cell_type": "markdown",
   "metadata": {},
   "source": [
    "# Deal with Class Imbalance"
   ]
  },
  {
   "cell_type": "code",
   "execution_count": 195,
   "metadata": {
    "scrolled": true
   },
   "outputs": [
    {
     "name": "stdout",
     "output_type": "stream",
     "text": [
      "Class Distribution Before:\n",
      "Train Set\n",
      "1    25825\n",
      "0    18210\n",
      "2     3485\n",
      "Name: status_group, dtype: int64\n",
      "\n",
      "\n",
      "Class Distribution After:\n",
      "Train Set\n",
      "2    25825\n",
      "1    25825\n",
      "0    25825\n",
      "Name: status_group, dtype: int64\n"
     ]
    }
   ],
   "source": [
    "#previous original class distribution\n",
    "print('Class Distribution Before:')\n",
    "print('Train Set')\n",
    "print(y_train.value_counts())\n",
    "\n",
    "#fit\n",
    "smote = SMOTE()\n",
    "X_train, y_train = smote.fit_resample(X_train, y_train)\n",
    "\n",
    "#check class distribution\n",
    "print('\\n')\n",
    "print('Class Distribution After:')\n",
    "print('Train Set')\n",
    "print(pd.Series(y_train).value_counts())"
   ]
  },
  {
   "cell_type": "code",
   "execution_count": 196,
   "metadata": {
    "scrolled": false
   },
   "outputs": [
    {
     "name": "stdout",
     "output_type": "stream",
     "text": [
      "Train accuracy: 99.75475959987092\n",
      "Test accuracy: 75.20202020202021\n"
     ]
    }
   ],
   "source": [
    "#instantiate trimmed model\n",
    "decision_tree_clf = DecisionTreeClassifier(random_state = 21)\n",
    "\n",
    "#fit\n",
    "decision_tree_clf.fit(X_train, y_train)\n",
    "\n",
    "#predict\n",
    "y_hat_train = decision_tree_clf.predict(X_train)\n",
    "y_hat_test = decision_tree_clf.predict(X_test)\n",
    "\n",
    "#train accuracy \n",
    "decision_tree_train_accuracy = accuracy_score(y_train, y_hat_train) * 100\n",
    "print('Train accuracy: {0}'.format(decision_tree_train_accuracy))\n",
    "\n",
    "#test accuracy \n",
    "decision_tree_test_accuracy = accuracy_score(y_test, y_hat_test) * 100\n",
    "print('Test accuracy: {0}'.format(decision_tree_test_accuracy))\n",
    "\n",
    "#Train accuracy: 99.75605033881897\n",
    "#Test accuracy: 75.10942760942761"
   ]
  },
  {
   "cell_type": "markdown",
   "metadata": {},
   "source": [
    "* Deleting unnecessary features did not improve the model\n",
    "* Train and test accuracy are different, meaning the model is still overfit (train welled but did not test well)"
   ]
  },
  {
   "cell_type": "code",
   "execution_count": 197,
   "metadata": {
    "scrolled": true
   },
   "outputs": [],
   "source": [
    "#set param grid\n",
    "#decision_tree_param_grid = {'criterion' : ['gini', 'entropy'],\n",
    "#                            'min_samples_split' : [8, 10],\n",
    "#                            'min_samples_leaf' : [3, 4, 5],\n",
    "#                            'max_depth': [40, 80],\n",
    "#                            'max_features': ['auto', 'sqrt', 'log2']}\n",
    "\n",
    "#gridsearch\n",
    "#decision_tree_gridsearch = GridSearchCV(estimator = decision_tree_clf, \n",
    "#                                        param_grid = decision_tree_param_grid,\n",
    "#                                        scoring = 'accuracy', \n",
    "#                                        cv = 5,\n",
    "#                                        n_jobs = -1)\n",
    "\n",
    "#fit\n",
    "#decision_tree_gridsearch.fit(X_train, y_train)\n",
    "\n",
    "#best param\n",
    "#decision_tree_gridsearch.best_params_\n",
    "\n",
    "#'criterion': 'gini',\n",
    "#'max_depth': 40,\n",
    "#'max_features': 'auto',\n",
    "#'min_samples_leaf': 3,\n",
    "#'min_samples_split': 8"
   ]
  },
  {
   "cell_type": "code",
   "execution_count": 198,
   "metadata": {},
   "outputs": [],
   "source": [
    "#get cross-validation result\n",
    "#decision_tree_cross_val_results = pd.DataFrame(decision_tree_gridsearch.cv_results_)\n",
    "#print('Number of Various Combinations of Parameters Tried : %d'%len(decision_tree_cross_val_results))\n",
    "\n",
    "#save\n",
    "#decision_tree_cross_val_resultss.to_csv('./Data/decision_tree_cross_val_results')\n",
    "\n",
    "#decision_tree_cross_val_results.head()"
   ]
  },
  {
   "cell_type": "code",
   "execution_count": 199,
   "metadata": {
    "scrolled": true
   },
   "outputs": [],
   "source": [
    "#train a classifier with optimal values identified above\n",
    "#decision_tree_clf = DecisionTreeClassifier(random_state = 21, \n",
    "#                                           criterion = 'gini',\n",
    "#                                           max_depth = 40,\n",
    "#                                           max_features = 'auto',\n",
    "#                                           min_samples_leaf = 3,\n",
    "#                                           min_samples_split = 8)\n",
    "\n",
    "#fit\n",
    "#decision_tree_clf.fit(X_train, y_train)\n",
    "\n",
    "#predict\n",
    "#y_hat_train = decision_tree_clf.predict(X_train)\n",
    "#y_hat_test = decision_tree_clf.predict(X_test)\n",
    "\n",
    "#train accuracy \n",
    "#decision_tree_train_accuracy = accuracy_score(y_train, y_hat_train) * 100\n",
    "#print('Train accuracy: {0}'.format(decision_tree_train_accuracy))\n",
    "\n",
    "#test accuracy \n",
    "#decision_tree_test_accuracy = accuracy_score(y_test, y_hat_test) * 100\n",
    "#print('Test accuracy: {0}'.format(decision_tree_test_accuracy))\n",
    "\n",
    "#Train accuracy: 82.5892223297838\n",
    "#Test accuracy: 70.34511784511784"
   ]
  },
  {
   "cell_type": "markdown",
   "metadata": {},
   "source": [
    "Although accuracy decreases, our model fits better. However, the focus of this competition is accuracy, we will chose to use the baseline model."
   ]
  },
  {
   "cell_type": "code",
   "execution_count": 200,
   "metadata": {},
   "outputs": [
    {
     "name": "stdout",
     "output_type": "stream",
     "text": [
      "Train cross validation: 0.82189093255889\n",
      "Train cross validation: 0.7192760942760943\n"
     ]
    }
   ],
   "source": [
    "#train cross validation\n",
    "decision_tree_train_cv_score = cross_val_score(decision_tree_clf, X_train, y_train, cv = 5, n_jobs = -1).mean()\n",
    "print('Train cross validation:',decision_tree_train_cv_score)\n",
    "\n",
    "#test cross validation\n",
    "decision_tree_test_cv_score = cross_val_score(decision_tree_clf, X_test, y_test, cv = 5, n_jobs = -1).mean()\n",
    "print('Train cross validation:',decision_tree_test_cv_score)"
   ]
  },
  {
   "cell_type": "code",
   "execution_count": 201,
   "metadata": {},
   "outputs": [
    {
     "name": "stdout",
     "output_type": "stream",
     "text": [
      "Mean Absolute Error: 0.2775252525252525\n",
      "Mean Squared Error: 0.3366161616161616\n",
      "Root Mean Squared Error: 0.5801863162951721\n"
     ]
    }
   ],
   "source": [
    "#evaluate with MAE, MSE, RMSE\n",
    "print('Mean Absolute Error:', mean_absolute_error(y_test, y_hat_test))  \n",
    "print('Mean Squared Error:', mean_squared_error(y_test, y_hat_test))  \n",
    "print('Root Mean Squared Error:', mean_squared_error(y_test, y_hat_test, squared = False))"
   ]
  },
  {
   "cell_type": "code",
   "execution_count": 202,
   "metadata": {},
   "outputs": [
    {
     "name": "stdout",
     "output_type": "stream",
     "text": [
      "Model: adaBoost \n",
      "               precision    recall  f1-score   support\n",
      "\n",
      "           0       0.78      0.76      0.77      4614\n",
      "           1       0.81      0.78      0.80      6434\n",
      "           2       0.34      0.45      0.39       832\n",
      "\n",
      "    accuracy                           0.75     11880\n",
      "   macro avg       0.64      0.66      0.65     11880\n",
      "weighted avg       0.76      0.75      0.76     11880\n",
      "\n"
     ]
    }
   ],
   "source": [
    "#classification report\n",
    "decision_tree_classification_report = classification_report(y_test, y_hat_test)\n",
    "print('Model: adaBoost', '\\n', decision_tree_classification_report)"
   ]
  },
  {
   "cell_type": "code",
   "execution_count": 203,
   "metadata": {
    "scrolled": true
   },
   "outputs": [
    {
     "data": {
      "text/plain": [
       "<sklearn.metrics._plot.confusion_matrix.ConfusionMatrixDisplay at 0x7ffad411f490>"
      ]
     },
     "execution_count": 203,
     "metadata": {},
     "output_type": "execute_result"
    },
    {
     "data": {
      "image/png": "[encoded data removed]",
      "text/plain": [
       "<Figure size 432x288 with 2 Axes>"
      ]
     },
     "metadata": {
      "needs_background": "light"
     },
     "output_type": "display_data"
    }
   ],
   "source": [
    "#plot confusion matrix\n",
    "plot_confusion_matrix(decision_tree_clf, X_test, y_test, cmap = plt.cm.Blues)    "
   ]
  },
  {
   "cell_type": "code",
   "execution_count": 204,
   "metadata": {},
   "outputs": [
    {
     "name": "stdout",
     "output_type": "stream",
     "text": [
      "0.03005050505050505\n",
      "0.38986310212109876\n"
     ]
    }
   ],
   "source": [
    "#function bias() to calculate the bias of a model's predictions given the actual data\n",
    "def bias(y, y_hat):\n",
    "    return np.mean(y_hat - y)\n",
    "\n",
    "#function variance() to calculate the variance of a model's predictions\n",
    "def variance(y_hat):\n",
    "    return np.mean([yi**2 for yi in y_hat]) - np.mean(y_hat)**2\n",
    "\n",
    "#get test bias and variance\n",
    "print(bias(y_test, y_hat_test))\n",
    "print(variance(y_hat_test))"
   ]
  },
  {
   "cell_type": "code",
   "execution_count": 205,
   "metadata": {
    "scrolled": true
   },
   "outputs": [
    {
     "data": {
      "text/html": [
       "<div>\n",
       "<style scoped>\n",
       "    .dataframe tbody tr th:only-of-type {\n",
       "        vertical-align: middle;\n",
       "    }\n",
       "\n",
       "    .dataframe tbody tr th {\n",
       "        vertical-align: top;\n",
       "    }\n",
       "\n",
       "    .dataframe thead th {\n",
       "        text-align: right;\n",
       "    }\n",
       "</style>\n",
       "<table border=\"1\" class=\"dataframe\">\n",
       "  <thead>\n",
       "    <tr style=\"text-align: right;\">\n",
       "      <th></th>\n",
       "      <th>Model</th>\n",
       "      <th>Accuracy</th>\n",
       "      <th>CV</th>\n",
       "      <th>Precision</th>\n",
       "      <th>Recall</th>\n",
       "      <th>F1 Score</th>\n",
       "      <th>MAE</th>\n",
       "      <th>MSE</th>\n",
       "      <th>RMSE</th>\n",
       "      <th>AUC</th>\n",
       "      <th>Bias</th>\n",
       "      <th>Variance</th>\n",
       "    </tr>\n",
       "  </thead>\n",
       "  <tbody>\n",
       "    <tr>\n",
       "      <th>0</th>\n",
       "      <td>Decision Tree</td>\n",
       "      <td>75.2</td>\n",
       "      <td>0.72</td>\n",
       "      <td>0.64</td>\n",
       "      <td>0.66</td>\n",
       "      <td>0.65</td>\n",
       "      <td>0.28</td>\n",
       "      <td>0.34</td>\n",
       "      <td>0.58</td>\n",
       "      <td>-</td>\n",
       "      <td>0.030051</td>\n",
       "      <td>0.389863</td>\n",
       "    </tr>\n",
       "  </tbody>\n",
       "</table>\n",
       "</div>"
      ],
      "text/plain": [
       "           Model  Accuracy    CV  Precision  Recall  F1 Score   MAE   MSE  \\\n",
       "0  Decision Tree      75.2  0.72       0.64    0.66      0.65  0.28  0.34   \n",
       "\n",
       "   RMSE AUC      Bias  Variance  \n",
       "0  0.58   -  0.030051  0.389863  "
      ]
     },
     "execution_count": 205,
     "metadata": {},
     "output_type": "execute_result"
    }
   ],
   "source": [
    "#summary table\n",
    "summary_table = pd.DataFrame({'Model': [],\n",
    "                              'Accuracy': [], 'CV': [], \n",
    "                              'Precision': [], 'Recall': [], 'F1 Score': [],\n",
    "                              'MAE': [], 'MSE': [], 'RMSE': [],\n",
    "                              'AUC': [], 'Bias': [], 'Variance': []\n",
    "                              })\n",
    "\n",
    "summary_table.loc[0] = ['Decision Tree',\n",
    "                        round(decision_tree_test_accuracy, 2), round(decision_tree_test_cv_score, 2), \n",
    "                        round(precision_score(y_test, y_hat_test, average = 'macro'), 2), round(recall_score(y_test, y_hat_test, average = 'macro'), 2), round(f1_score(y_test, y_hat_test, average = 'macro'), 2),\n",
    "                        round(mean_absolute_error(y_test, y_hat_test), 2), round(mean_squared_error(y_test, y_hat_test), 2), round(mean_squared_error(y_test, y_hat_test, squared = False), 2),\n",
    "                        '-', round(bias(y_test, y_hat_test), 2), round(variance(y_hat_test), 2)]\n",
    "summary_table.head()"
   ]
  },
  {
   "cell_type": "markdown",
   "metadata": {},
   "source": [
    "This Decision Tree is not a very good model: \n",
    "* low accuracy, precision, and recall\n",
    "* high errors \n",
    "* overfit"
   ]
  },
  {
   "cell_type": "markdown",
   "metadata": {},
   "source": [
    "# Logistic Regression"
   ]
  },
  {
   "cell_type": "code",
   "execution_count": 206,
   "metadata": {},
   "outputs": [
    {
     "name": "stdout",
     "output_type": "stream",
     "text": [
      "Train accuracy: 67.64375605033882\n",
      "Test accuracy: 65.26936026936026\n"
     ]
    }
   ],
   "source": [
    "#instantiate baseline model\n",
    "logreg_clf = LogisticRegression(random_state = 21)\n",
    "\n",
    "#fit\n",
    "logreg_clf.fit(X_train, y_train)\n",
    "\n",
    "#predict\n",
    "y_hat_train = logreg_clf.predict(X_train)\n",
    "y_hat_test = logreg_clf.predict(X_test)\n",
    "\n",
    "#train accuracy \n",
    "logreg_train_accuracy = accuracy_score(y_train, y_hat_train) * 100\n",
    "print('Train accuracy: {0}'.format(logreg_train_accuracy))\n",
    "\n",
    "#test accuracy \n",
    "logreg_test_accuracy = accuracy_score(y_test, y_hat_test) * 100\n",
    "print('Test accuracy: {0}'.format(logreg_test_accuracy))\n",
    "\n",
    "#Train accuracy: 67.75217812197482\n",
    "#Test accuracy: 65.79966329966331"
   ]
  },
  {
   "cell_type": "code",
   "execution_count": 207,
   "metadata": {},
   "outputs": [],
   "source": [
    "#set param grid\n",
    "#logreg_param_grid = {'solver' : ['sag', 'saga', 'liblinear'],\n",
    "#                     'multi_class': ['multinomial', 'auto']}\n",
    "\n",
    "#gridsearch\n",
    "#logreg_gridsearch = GridSearchCV(estimator = logreg_clf,\n",
    "#                                 param_grid = logreg_param_grid,\n",
    "#                                 scoring = 'accuracy', cv = 5,\n",
    "#                                 n_jobs = -1)\n",
    "\n",
    "#fit\n",
    "#logreg_gridsearch.fit(X_train, y_train)\n",
    "\n",
    "#best param\n",
    "#logreg_gridsearch.best_params_\n",
    "\n",
    "#'multi_class': 'multinomial' \n",
    "#'solver': 'saga'"
   ]
  },
  {
   "cell_type": "code",
   "execution_count": 208,
   "metadata": {},
   "outputs": [],
   "source": [
    "#get cross-validation result\n",
    "#logreg_cross_val_results = pd.DataFrame(logreg_gridsearch.cv_results_)\n",
    "#print('Number of Various Combinations of Parameters Tried : %d'%len(logreg_cross_val_results))\n",
    "\n",
    "#save\n",
    "#logreg_cross_val_results.to_csv('./Data/logreg_cross_val_results')\n",
    "\n",
    "#logreg_cross_val_results.head()"
   ]
  },
  {
   "cell_type": "code",
   "execution_count": 209,
   "metadata": {},
   "outputs": [],
   "source": [
    "#train a classifier with optimal values identified above\n",
    "#logreg_clf = LogisticRegression(random_state = 21,\n",
    "#                                multi_class = 'multinomial', \n",
    "#                                solver = 'saga')\n",
    "\n",
    "#fit\n",
    "#logreg_clf.fit(X_train, y_train)\n",
    "\n",
    "#predict\n",
    "#y_hat_train = logreg_clf.predict(X_train)\n",
    "#y_hat_test = logreg_clf.predict(X_test)\n",
    "\n",
    "#train accuracy \n",
    "#logreg_train_accuracy = accuracy_score(y_train, y_hat_train) * 100\n",
    "#print('Train accuracy: {0}'.format(logreg_train_accuracy))\n",
    "\n",
    "#test accuracy \n",
    "#logreg_test_accuracy = accuracy_score(y_test, y_hat_test) * 100\n",
    "#print('Test accuracy: {0}'.format(logreg_test_accuracy))\n",
    "\n",
    "#Train accuracy: 67.83220393675379\n",
    "#Test accuracy: 65.41245791245791"
   ]
  },
  {
   "cell_type": "markdown",
   "metadata": {},
   "source": [
    "Optimized model did not do better than baseline model."
   ]
  },
  {
   "cell_type": "code",
   "execution_count": 210,
   "metadata": {},
   "outputs": [
    {
     "name": "stdout",
     "output_type": "stream",
     "text": [
      "Train cross validation: 0.6744240077444337\n",
      "Test cross validation: 0.7432659932659933\n"
     ]
    }
   ],
   "source": [
    "#train cross validation\n",
    "logreg_train_cv_score = cross_val_score(logreg_clf, X_train, y_train, cv = 5, n_jobs = -1).mean()\n",
    "print('Train cross validation:', logreg_train_cv_score)\n",
    "\n",
    "#test cross validation\n",
    "logreg_test_cv_score = cross_val_score(logreg_clf, X_test, y_test, cv = 5, n_jobs = -1).mean()\n",
    "print('Test cross validation:', logreg_test_cv_score)"
   ]
  },
  {
   "cell_type": "code",
   "execution_count": 211,
   "metadata": {},
   "outputs": [
    {
     "name": "stdout",
     "output_type": "stream",
     "text": [
      "Mean Absolute Error: 0.41548821548821546\n",
      "Mean Squared Error: 0.5518518518518518\n",
      "Root Mean Squared Error: 0.7428673177976346\n"
     ]
    }
   ],
   "source": [
    "#evaluate with MAE, MSE, RMSE\n",
    "print('Mean Absolute Error:', mean_absolute_error(y_test, y_hat_test))  \n",
    "print('Mean Squared Error:', mean_squared_error(y_test, y_hat_test))  \n",
    "print('Root Mean Squared Error:', mean_squared_error(y_test, y_hat_test, squared = False))"
   ]
  },
  {
   "cell_type": "code",
   "execution_count": 212,
   "metadata": {},
   "outputs": [
    {
     "name": "stdout",
     "output_type": "stream",
     "text": [
      "Model: Logistic Regression \n",
      "               precision    recall  f1-score   support\n",
      "\n",
      "           0       0.79      0.65      0.71      4614\n",
      "           1       0.80      0.65      0.72      6434\n",
      "           2       0.21      0.71      0.32       832\n",
      "\n",
      "    accuracy                           0.65     11880\n",
      "   macro avg       0.60      0.67      0.58     11880\n",
      "weighted avg       0.75      0.65      0.69     11880\n",
      "\n"
     ]
    }
   ],
   "source": [
    "#classification report\n",
    "logreg_classification_report = classification_report(y_test, y_hat_test)\n",
    "print('Model: Logistic Regression', '\\n', logreg_classification_report)"
   ]
  },
  {
   "cell_type": "code",
   "execution_count": 213,
   "metadata": {},
   "outputs": [
    {
     "data": {
      "text/plain": [
       "<sklearn.metrics._plot.confusion_matrix.ConfusionMatrixDisplay at 0x7ffa81899e80>"
      ]
     },
     "execution_count": 213,
     "metadata": {},
     "output_type": "execute_result"
    },
    {
     "data": {
      "image/png": "[encoded data removed]",
      "text/plain": [
       "<Figure size 432x288 with 2 Axes>"
      ]
     },
     "metadata": {
      "needs_background": "light"
     },
     "output_type": "display_data"
    }
   ],
   "source": [
    "#plot confusion matrix\n",
    "plot_confusion_matrix(logreg_clf, X_test, y_test, cmap = plt.cm.Blues)"
   ]
  },
  {
   "cell_type": "code",
   "execution_count": 214,
   "metadata": {
    "scrolled": true
   },
   "outputs": [
    {
     "name": "stdout",
     "output_type": "stream",
     "text": [
      "AUC: 0.8198172833231214\n"
     ]
    },
    {
     "data": {
      "image/png": "[encoded data removed]",
      "text/plain": [
       "<Figure size 1080x360 with 1 Axes>"
      ]
     },
     "metadata": {
      "needs_background": "light"
     },
     "output_type": "display_data"
    }
   ],
   "source": [
    "#get AUC\n",
    "logreg_y_score = logreg_clf.fit(X_train, y_train).decision_function(X_test)\n",
    "\n",
    "#roc curve for classes\n",
    "logreg_fpr = {}\n",
    "logreg_tpr = {}\n",
    "logreg_thresh = {}\n",
    "\n",
    "n_class = 3\n",
    "\n",
    "for i in range(n_class):    \n",
    "    logreg_fpr[i], logreg_tpr[i], logreg_thresh[i] = roc_curve(y_test, logreg_y_score[:, i], pos_label = i)\n",
    "\n",
    "# plotting\n",
    "plt.figure(figsize = (15, 5))\n",
    "plt.plot(logreg_fpr[0], logreg_tpr[0], linestyle = '--',color = 'blue', label = 'Class 0 vs Rest')\n",
    "plt.plot(logreg_fpr[1], logreg_tpr[1], linestyle = '--',color = 'gray', label = 'Class 1 vs Rest')\n",
    "plt.plot(logreg_fpr[2], logreg_tpr[2], linestyle = '--',color = 'red', label = 'Class 2 vs Rest')\n",
    "plt.title('Multiclass ROC curve')\n",
    "plt.xlabel('False Positive Rate')\n",
    "plt.ylabel('True Positive Rate')\n",
    "plt.legend(loc = 'best')\n",
    "\n",
    "plt.savefig('./Data/logreg_roc')\n",
    "\n",
    "#get AUC\n",
    "print('AUC:', auc(logreg_fpr[i], logreg_tpr[i]))"
   ]
  },
  {
   "cell_type": "code",
   "execution_count": 215,
   "metadata": {},
   "outputs": [
    {
     "name": "stdout",
     "output_type": "stream",
     "text": [
      "0.2377104377104377\n",
      "0.5537665941117119\n"
     ]
    }
   ],
   "source": [
    "#get test bias and variance\n",
    "print(bias(y_test, y_hat_test))\n",
    "print(variance(y_hat_test))"
   ]
  },
  {
   "cell_type": "code",
   "execution_count": 216,
   "metadata": {
    "scrolled": true
   },
   "outputs": [
    {
     "data": {
      "text/html": [
       "<div>\n",
       "<style scoped>\n",
       "    .dataframe tbody tr th:only-of-type {\n",
       "        vertical-align: middle;\n",
       "    }\n",
       "\n",
       "    .dataframe tbody tr th {\n",
       "        vertical-align: top;\n",
       "    }\n",
       "\n",
       "    .dataframe thead th {\n",
       "        text-align: right;\n",
       "    }\n",
       "</style>\n",
       "<table border=\"1\" class=\"dataframe\">\n",
       "  <thead>\n",
       "    <tr style=\"text-align: right;\">\n",
       "      <th></th>\n",
       "      <th>Model</th>\n",
       "      <th>Accuracy</th>\n",
       "      <th>CV</th>\n",
       "      <th>Precision</th>\n",
       "      <th>Recall</th>\n",
       "      <th>F1 Score</th>\n",
       "      <th>MAE</th>\n",
       "      <th>MSE</th>\n",
       "      <th>RMSE</th>\n",
       "      <th>AUC</th>\n",
       "      <th>Bias</th>\n",
       "      <th>Variance</th>\n",
       "    </tr>\n",
       "  </thead>\n",
       "  <tbody>\n",
       "    <tr>\n",
       "      <th>0</th>\n",
       "      <td>Decision Tree</td>\n",
       "      <td>75.20</td>\n",
       "      <td>0.72</td>\n",
       "      <td>0.64</td>\n",
       "      <td>0.66</td>\n",
       "      <td>0.65</td>\n",
       "      <td>0.28</td>\n",
       "      <td>0.34</td>\n",
       "      <td>0.58</td>\n",
       "      <td>-</td>\n",
       "      <td>0.030051</td>\n",
       "      <td>0.389863</td>\n",
       "    </tr>\n",
       "    <tr>\n",
       "      <th>1</th>\n",
       "      <td>Logistic Regression</td>\n",
       "      <td>65.27</td>\n",
       "      <td>0.74</td>\n",
       "      <td>0.60</td>\n",
       "      <td>0.67</td>\n",
       "      <td>0.58</td>\n",
       "      <td>0.42</td>\n",
       "      <td>0.55</td>\n",
       "      <td>0.74</td>\n",
       "      <td>0.82</td>\n",
       "      <td>0.237710</td>\n",
       "      <td>0.553767</td>\n",
       "    </tr>\n",
       "  </tbody>\n",
       "</table>\n",
       "</div>"
      ],
      "text/plain": [
       "                 Model  Accuracy    CV  Precision  Recall  F1 Score   MAE  \\\n",
       "0        Decision Tree     75.20  0.72       0.64    0.66      0.65  0.28   \n",
       "1  Logistic Regression     65.27  0.74       0.60    0.67      0.58  0.42   \n",
       "\n",
       "    MSE  RMSE   AUC      Bias  Variance  \n",
       "0  0.34  0.58     -  0.030051  0.389863  \n",
       "1  0.55  0.74  0.82  0.237710  0.553767  "
      ]
     },
     "execution_count": 216,
     "metadata": {},
     "output_type": "execute_result"
    }
   ],
   "source": [
    "#summary table\n",
    "summary_table.loc[1] = ['Logistic Regression',\n",
    "                        round(logreg_test_accuracy, 2), round(logreg_test_cv_score, 2), \n",
    "                        round(precision_score(y_test, y_hat_test, average = 'macro'), 2), round(recall_score(y_test, y_hat_test, average = 'macro'), 2), round(f1_score(y_test, y_hat_test, average = 'macro'), 2),\n",
    "                        round(mean_absolute_error(y_test, y_hat_test), 2), round(mean_squared_error(y_test, y_hat_test), 2), round(mean_squared_error(y_test, y_hat_test, squared = False), 2),\n",
    "                        round(auc(logreg_fpr[i], logreg_tpr[i]), 2), round(bias(y_test, y_hat_test), 2), round(variance(y_hat_test), 2)]\n",
    "summary_table.head()"
   ]
  },
  {
   "cell_type": "markdown",
   "metadata": {},
   "source": [
    "This Logistic Regression is not a very good model: \n",
    "* low accuracy, precision, and recall\n",
    "* high errors \n",
    "* overfit although fits better than Decision Tree"
   ]
  },
  {
   "cell_type": "markdown",
   "metadata": {},
   "source": [
    "# K-Nearest Neighbor"
   ]
  },
  {
   "cell_type": "code",
   "execution_count": 217,
   "metadata": {},
   "outputs": [
    {
     "name": "stdout",
     "output_type": "stream",
     "text": [
      "Train accuracy: 87.64246531139077\n",
      "Test accuracy: 73.84680134680136\n"
     ]
    }
   ],
   "source": [
    "#instantiate baseline model\n",
    "knn_clf = KNeighborsClassifier()\n",
    "\n",
    "#fit\n",
    "knn_clf.fit(X_train, y_train)\n",
    "\n",
    "#predict on the test set\n",
    "y_hat_train = knn_clf.predict(X_train)\n",
    "y_hat_test = knn_clf.predict(X_test)\n",
    "\n",
    "#train accuracy \n",
    "knn_train_accuracy = accuracy_score(y_train, y_hat_train) * 100\n",
    "print('Train accuracy: {0}'.format(knn_train_accuracy))\n",
    "\n",
    "#test accuracy \n",
    "knn_test_accuracy = accuracy_score(y_test, y_hat_test) * 100\n",
    "print('Test accuracy: {0}'.format(knn_test_accuracy))\n",
    "\n",
    "#Train accuracy: 87.64375605033882\n",
    "#Test accuracy: 73.33333333333333"
   ]
  },
  {
   "cell_type": "code",
   "execution_count": 218,
   "metadata": {},
   "outputs": [],
   "source": [
    "#set param grid\n",
    "#knn_param_grid = {\"n_neighbors\" : [3, 5, 7, 10],\n",
    "#                  'weights' : ['uniform', 'distance']}\n",
    "\n",
    "#gridsearch\n",
    "#knn_gridsearch = GridSearchCV(estimator = knn_clf,\n",
    "#                             param_grid = knn_param_grid,\n",
    "#                             scoring = 'accuracy', cv = 5,\n",
    "#                             n_jobs = -1)\n",
    "\n",
    "#fit\n",
    "#knn_gridsearch.fit(X_train, y_train)\n",
    "\n",
    "#best param\n",
    "#knn_gridsearch.best_params_\n",
    "\n",
    "#'n_neighbors': 3\n",
    "#'weights': 'distance'"
   ]
  },
  {
   "cell_type": "code",
   "execution_count": 219,
   "metadata": {},
   "outputs": [],
   "source": [
    "#get cross-validation result\n",
    "#knn_cross_val_results = pd.DataFrame(knn_gridsearch.cv_results_)\n",
    "#print('Number of Various Combinations of Parameters Tried : %d'%len(knn_cross_val_results))\n",
    "\n",
    "#save\n",
    "#knn_cross_val_results.to_csv('./Data/knn_cross_val_results')\n",
    "\n",
    "#knn_cross_val_results.head()"
   ]
  },
  {
   "cell_type": "code",
   "execution_count": 220,
   "metadata": {},
   "outputs": [
    {
     "name": "stdout",
     "output_type": "stream",
     "text": [
      "Train accuracy: 99.63601161665053\n",
      "Test accuracy: 75.44612794612794\n"
     ]
    }
   ],
   "source": [
    "#train a classifier with optimal values identified above\n",
    "knn_clf = KNeighborsClassifier(n_neighbors = 3, weights = 'distance')\n",
    "\n",
    "#fit\n",
    "knn_clf.fit(X_train, y_train)\n",
    "\n",
    "#predict on the test set\n",
    "y_hat_train = knn_clf.predict(X_train)\n",
    "y_hat_test = knn_clf.predict(X_test)\n",
    "\n",
    "#train accuracy \n",
    "knn_train_accuracy = accuracy_score(y_train, y_hat_train) * 100\n",
    "print('Train accuracy: {0}'.format(knn_train_accuracy))\n",
    "\n",
    "#test accuracy \n",
    "knn_test_accuracy = accuracy_score(y_test, y_hat_test) * 100\n",
    "print('Test accuracy: {0}'.format(knn_test_accuracy))\n",
    "\n",
    "#Train accuracy: 99.66698935140369\n",
    "#Test accuracy: 75.22727272727273"
   ]
  },
  {
   "cell_type": "markdown",
   "metadata": {},
   "source": [
    "The optimized model accuracy increased just a little but the fit got much worse. Again, accuracy is more important in this competition, we'll go with the optimized KNN model."
   ]
  },
  {
   "cell_type": "code",
   "execution_count": 221,
   "metadata": {},
   "outputs": [
    {
     "name": "stdout",
     "output_type": "stream",
     "text": [
      "Train cross validation: 0.8344627299128751\n",
      "Test cross validation: 0.7241582491582491\n"
     ]
    }
   ],
   "source": [
    "#train cross validation\n",
    "knn_train_cv_score = cross_val_score(knn_clf, X_train, y_train, cv = 5, n_jobs = -1).mean()\n",
    "print('Train cross validation:', knn_train_cv_score)\n",
    "\n",
    "#test cross validation\n",
    "knn_test_cv_score = cross_val_score(knn_clf, X_test, y_test, cv = 5, n_jobs = -1).mean()\n",
    "print('Test cross validation:', knn_test_cv_score)"
   ]
  },
  {
   "cell_type": "code",
   "execution_count": 222,
   "metadata": {},
   "outputs": [
    {
     "name": "stdout",
     "output_type": "stream",
     "text": [
      "Mean Absolute Error: 0.27904040404040403\n",
      "Mean Squared Error: 0.34604377104377104\n",
      "Root Mean Squared Error: 0.5882548521208908\n"
     ]
    }
   ],
   "source": [
    "#evaluate with MAE, MSE, RMSE\n",
    "print('Mean Absolute Error:', mean_absolute_error(y_test, y_hat_test))  \n",
    "print('Mean Squared Error:', mean_squared_error(y_test, y_hat_test))  \n",
    "print('Root Mean Squared Error:', mean_squared_error(y_test, y_hat_test, squared = False))"
   ]
  },
  {
   "cell_type": "code",
   "execution_count": 223,
   "metadata": {},
   "outputs": [
    {
     "name": "stdout",
     "output_type": "stream",
     "text": [
      "Model: adaBoost \n",
      "               precision    recall  f1-score   support\n",
      "\n",
      "           0       0.79      0.76      0.77      4614\n",
      "           1       0.82      0.79      0.80      6434\n",
      "           2       0.32      0.47      0.38       832\n",
      "\n",
      "    accuracy                           0.75     11880\n",
      "   macro avg       0.64      0.67      0.65     11880\n",
      "weighted avg       0.77      0.75      0.76     11880\n",
      "\n"
     ]
    }
   ],
   "source": [
    "#classification report\n",
    "knn_classification_report = classification_report(y_test, y_hat_test)\n",
    "print('Model: adaBoost', '\\n', knn_classification_report)"
   ]
  },
  {
   "cell_type": "code",
   "execution_count": 224,
   "metadata": {
    "scrolled": false
   },
   "outputs": [
    {
     "data": {
      "text/plain": [
       "<sklearn.metrics._plot.confusion_matrix.ConfusionMatrixDisplay at 0x7ffaa20cb340>"
      ]
     },
     "execution_count": 224,
     "metadata": {},
     "output_type": "execute_result"
    },
    {
     "data": {
      "image/png": "[encoded data removed]",
      "text/plain": [
       "<Figure size 432x288 with 2 Axes>"
      ]
     },
     "metadata": {
      "needs_background": "light"
     },
     "output_type": "display_data"
    }
   ],
   "source": [
    "#plot\n",
    "plot_confusion_matrix(knn_clf, X_test, y_test, cmap = plt.cm.Blues)    "
   ]
  },
  {
   "cell_type": "code",
   "execution_count": 225,
   "metadata": {},
   "outputs": [
    {
     "name": "stdout",
     "output_type": "stream",
     "text": [
      "0.0452020202020202\n",
      "0.404093792866941\n"
     ]
    }
   ],
   "source": [
    "#get test bias and variance\n",
    "print(bias(y_test, y_hat_test))\n",
    "print(variance(y_hat_test))"
   ]
  },
  {
   "cell_type": "code",
   "execution_count": 226,
   "metadata": {
    "scrolled": true
   },
   "outputs": [
    {
     "data": {
      "text/html": [
       "<div>\n",
       "<style scoped>\n",
       "    .dataframe tbody tr th:only-of-type {\n",
       "        vertical-align: middle;\n",
       "    }\n",
       "\n",
       "    .dataframe tbody tr th {\n",
       "        vertical-align: top;\n",
       "    }\n",
       "\n",
       "    .dataframe thead th {\n",
       "        text-align: right;\n",
       "    }\n",
       "</style>\n",
       "<table border=\"1\" class=\"dataframe\">\n",
       "  <thead>\n",
       "    <tr style=\"text-align: right;\">\n",
       "      <th></th>\n",
       "      <th>Model</th>\n",
       "      <th>Accuracy</th>\n",
       "      <th>CV</th>\n",
       "      <th>Precision</th>\n",
       "      <th>Recall</th>\n",
       "      <th>F1 Score</th>\n",
       "      <th>MAE</th>\n",
       "      <th>MSE</th>\n",
       "      <th>RMSE</th>\n",
       "      <th>AUC</th>\n",
       "      <th>Bias</th>\n",
       "      <th>Variance</th>\n",
       "    </tr>\n",
       "  </thead>\n",
       "  <tbody>\n",
       "    <tr>\n",
       "      <th>0</th>\n",
       "      <td>Decision Tree</td>\n",
       "      <td>75.20</td>\n",
       "      <td>0.72</td>\n",
       "      <td>0.64</td>\n",
       "      <td>0.66</td>\n",
       "      <td>0.65</td>\n",
       "      <td>0.28</td>\n",
       "      <td>0.34</td>\n",
       "      <td>0.58</td>\n",
       "      <td>-</td>\n",
       "      <td>0.030051</td>\n",
       "      <td>0.389863</td>\n",
       "    </tr>\n",
       "    <tr>\n",
       "      <th>1</th>\n",
       "      <td>Logistic Regression</td>\n",
       "      <td>65.27</td>\n",
       "      <td>0.74</td>\n",
       "      <td>0.60</td>\n",
       "      <td>0.67</td>\n",
       "      <td>0.58</td>\n",
       "      <td>0.42</td>\n",
       "      <td>0.55</td>\n",
       "      <td>0.74</td>\n",
       "      <td>0.82</td>\n",
       "      <td>0.237710</td>\n",
       "      <td>0.553767</td>\n",
       "    </tr>\n",
       "    <tr>\n",
       "      <th>2</th>\n",
       "      <td>KNN</td>\n",
       "      <td>75.45</td>\n",
       "      <td>0.72</td>\n",
       "      <td>0.64</td>\n",
       "      <td>0.67</td>\n",
       "      <td>0.65</td>\n",
       "      <td>0.28</td>\n",
       "      <td>0.35</td>\n",
       "      <td>0.59</td>\n",
       "      <td>-</td>\n",
       "      <td>0.045202</td>\n",
       "      <td>0.404094</td>\n",
       "    </tr>\n",
       "  </tbody>\n",
       "</table>\n",
       "</div>"
      ],
      "text/plain": [
       "                 Model  Accuracy    CV  Precision  Recall  F1 Score   MAE  \\\n",
       "0        Decision Tree     75.20  0.72       0.64    0.66      0.65  0.28   \n",
       "1  Logistic Regression     65.27  0.74       0.60    0.67      0.58  0.42   \n",
       "2                  KNN     75.45  0.72       0.64    0.67      0.65  0.28   \n",
       "\n",
       "    MSE  RMSE   AUC      Bias  Variance  \n",
       "0  0.34  0.58     -  0.030051  0.389863  \n",
       "1  0.55  0.74  0.82  0.237710  0.553767  \n",
       "2  0.35  0.59     -  0.045202  0.404094  "
      ]
     },
     "execution_count": 226,
     "metadata": {},
     "output_type": "execute_result"
    }
   ],
   "source": [
    "#summary table\n",
    "summary_table.loc[2] = ['KNN',\n",
    "                        round(knn_test_accuracy, 2), round(knn_test_cv_score, 2), \n",
    "                        round(precision_score(y_test, y_hat_test, average = 'macro'), 2), round(recall_score(y_test, y_hat_test, average = 'macro'), 2), round(f1_score(y_test, y_hat_test, average = 'macro'), 2),\n",
    "                        round(mean_absolute_error(y_test, y_hat_test), 2), round(mean_squared_error(y_test, y_hat_test), 2), round(mean_squared_error(y_test, y_hat_test, squared = False), 2),\n",
    "                        '-', round(bias(y_test, y_hat_test), 2), round(variance(y_hat_test), 2)]\n",
    "summary_table.head()"
   ]
  },
  {
   "cell_type": "markdown",
   "metadata": {},
   "source": [
    "This KNN is not a very good model: \n",
    "* low accuracy, precision, and recall\n",
    "* high errors \n",
    "* overfit"
   ]
  },
  {
   "cell_type": "markdown",
   "metadata": {},
   "source": [
    "# Bagged Tree"
   ]
  },
  {
   "cell_type": "code",
   "execution_count": 227,
   "metadata": {
    "scrolled": true
   },
   "outputs": [
    {
     "name": "stdout",
     "output_type": "stream",
     "text": [
      "Train accuracy: 98.80090351726363\n",
      "Test accuracy: 78.44276094276094\n"
     ]
    }
   ],
   "source": [
    "#instantiate baseline model\n",
    "bagged_tree_clf = BaggingClassifier(DecisionTreeClassifier(random_state = 21),\n",
    "                                    random_state = 21)\n",
    "\n",
    "#fit\n",
    "bagged_tree_clf.fit(X_train, y_train)\n",
    "\n",
    "#predict\n",
    "y_hat_test = bagged_tree_clf.predict(X_test)\n",
    "y_hat_train = bagged_tree_clf.predict(X_train)\n",
    "\n",
    "#train accuracy\n",
    "bagged_tree_train_accuracy = accuracy_score(y_train, y_hat_train) * 100\n",
    "print('Train accuracy: {0}'.format(bagged_tree_train_accuracy))\n",
    "\n",
    "#test accuracy\n",
    "bagged_tree_test_accuracy = accuracy_score(y_test, y_hat_test) * 100\n",
    "print('Test accuracy: {0}'.format(bagged_tree_test_accuracy))\n",
    "\n",
    "#Train accuracy: 98.86414972571798\n",
    "#Test accuracy: 77.72727272727272"
   ]
  },
  {
   "cell_type": "code",
   "execution_count": 228,
   "metadata": {
    "scrolled": true
   },
   "outputs": [],
   "source": [
    "#set param grid\n",
    "#bagged_tree_param_grid = {'n_estimators' : [20, 50, 100],\n",
    "##                          'max_samples': [1, 5, 10, 20, 50],\n",
    " #                         'max_features': [1, 5, 10, 20, 50]}\n",
    "\n",
    "#gridsearch\n",
    "#bagged_tree_gridsearch = GridSearchCV(estimator = bagged_tree_clf, \n",
    "#                                        param_grid = bagged_tree_param_grid,\n",
    "#                                        scoring = 'accuracy', cv = 5,\n",
    "#                                        n_jobs = -1)\n",
    "\n",
    "#fit\n",
    "#bagged_tree_gridsearch.fit(X_train, y_train)\n",
    "\n",
    "#best param\n",
    "#bagged_tree_gridsearch.best_params_\n",
    "\n",
    "#'bootstrap': False,\n",
    "#'bootstrap_features': True,\n",
    "#'max_features': 50,\n",
    "#'max_samples': 50,\n",
    "#'n_estimators': 100"
   ]
  },
  {
   "cell_type": "code",
   "execution_count": 229,
   "metadata": {},
   "outputs": [],
   "source": [
    "#get cross-validation result\n",
    "#bagged_tree_cross_val_results = pd.DataFrame(bagged_tree_gridsearch.cv_results_)\n",
    "#print('Number of Various Combinations of Parameters Tried : %d'%len(bagged_tree_cross_val_results))\n",
    "\n",
    "#save\n",
    "#bagged_tree_cross_val_results.to_csv('./Data/bagged_tree_cross_val_results')\n",
    "\n",
    "#bagged_tree_cross_val_results.head()"
   ]
  },
  {
   "cell_type": "code",
   "execution_count": 230,
   "metadata": {},
   "outputs": [],
   "source": [
    "#train a classifier with optimal values identified above\n",
    "#bagged_tree_clf = BaggingClassifier(DecisionTreeClassifier(random_state = 21,\n",
    "#                                                           criterion = 'gini',\n",
    "#                                                           max_depth = 40,\n",
    "#                                                           max_features = 'auto',\n",
    "#                                                           min_samples_leaf = 3,\n",
    "#                                                           min_samples_split = 8),\n",
    "#                                    random_state = 21,\n",
    "#                                    max_features = 50,\n",
    "#                                    max_samples = 50,\n",
    "#                                    n_estimators = 100)\n",
    "\n",
    "#fit\n",
    "#bagged_tree_clf.fit(X_train, y_train)\n",
    "\n",
    "#predict\n",
    "#y_hat_test = bagged_tree_clf.predict(X_test)\n",
    "#y_hat_train = bagged_tree_clf.predict(X_train)\n",
    "\n",
    "#train accuracy\n",
    "#bagged_tree_train_accuracy = accuracy_score(y_train, y_hat_train) * 100\n",
    "#print('Train accuracy: {0}'.format(bagged_tree_train_accuracy))\n",
    "\n",
    "#test accuracy\n",
    "#bagged_tree_test_accuracy = accuracy_score(y_test, y_hat_test) * 100\n",
    "#print('Test accuracy: {0}'.format(bagged_tree_test_accuracy))\n",
    "\n",
    "#Train accuracy: 55.81800580832527\n",
    "#Test accuracy: 52.07912457912458"
   ]
  },
  {
   "cell_type": "markdown",
   "metadata": {},
   "source": [
    "The both optimized model's accuracy the fit got worse. We'll go with the baseline Bagged_Tree model."
   ]
  },
  {
   "cell_type": "code",
   "execution_count": 231,
   "metadata": {},
   "outputs": [
    {
     "name": "stdout",
     "output_type": "stream",
     "text": [
      "Test cross validation: 0.8458212326556953\n",
      "Train cross validation: 0.7599326599326599\n"
     ]
    }
   ],
   "source": [
    "#train cross validation\n",
    "bagged_tree_train_cv_score = cross_val_score(bagged_tree_clf, X_train, y_train, cv = 5, n_jobs = -1).mean()\n",
    "print('Test cross validation:', bagged_tree_train_cv_score)\n",
    "\n",
    "#test cross validation\n",
    "bagged_tree_test_cv_score = cross_val_score(bagged_tree_clf, X_test, y_test, cv = 5, n_jobs = -1).mean()\n",
    "print('Train cross validation:', bagged_tree_test_cv_score)"
   ]
  },
  {
   "cell_type": "code",
   "execution_count": 232,
   "metadata": {},
   "outputs": [
    {
     "name": "stdout",
     "output_type": "stream",
     "text": [
      "Mean Absolute Error: 0.24023569023569025\n",
      "Mean Squared Error: 0.2895622895622896\n",
      "Root Mean Squared Error: 0.5381099233077657\n"
     ]
    }
   ],
   "source": [
    "#evaluate with MAE, MSE, RMSE\n",
    "print('Mean Absolute Error:', mean_absolute_error(y_test, y_hat_test))  \n",
    "print('Mean Squared Error:', mean_squared_error(y_test, y_hat_test))  \n",
    "print('Root Mean Squared Error:', mean_squared_error(y_test, y_hat_test, squared = False))"
   ]
  },
  {
   "cell_type": "code",
   "execution_count": 233,
   "metadata": {},
   "outputs": [
    {
     "name": "stdout",
     "output_type": "stream",
     "text": [
      "Model: Bagged Tree \n",
      "               precision    recall  f1-score   support\n",
      "\n",
      "           0       0.80      0.80      0.80      4614\n",
      "           1       0.83      0.82      0.82      6434\n",
      "           2       0.40      0.46      0.43       832\n",
      "\n",
      "    accuracy                           0.78     11880\n",
      "   macro avg       0.68      0.69      0.68     11880\n",
      "weighted avg       0.79      0.78      0.79     11880\n",
      "\n"
     ]
    }
   ],
   "source": [
    "#classification report\n",
    "bagged_tree_classification_report = classification_report(y_test, y_hat_test)\n",
    "print('Model: Bagged Tree', '\\n', bagged_tree_classification_report)"
   ]
  },
  {
   "cell_type": "code",
   "execution_count": 234,
   "metadata": {
    "scrolled": true
   },
   "outputs": [
    {
     "data": {
      "text/plain": [
       "<sklearn.metrics._plot.confusion_matrix.ConfusionMatrixDisplay at 0x7ffa73766700>"
      ]
     },
     "execution_count": 234,
     "metadata": {},
     "output_type": "execute_result"
    },
    {
     "data": {
      "image/png": "[encoded data removed]",
      "text/plain": [
       "<Figure size 432x288 with 2 Axes>"
      ]
     },
     "metadata": {
      "needs_background": "light"
     },
     "output_type": "display_data"
    }
   ],
   "source": [
    "#plot confusion matrix\n",
    "plot_confusion_matrix(bagged_tree_clf, X_test, y_test, cmap = plt.cm.Blues)"
   ]
  },
  {
   "cell_type": "code",
   "execution_count": 235,
   "metadata": {},
   "outputs": [
    {
     "name": "stdout",
     "output_type": "stream",
     "text": [
      "0.011616161616161616\n",
      "0.372580915779569\n"
     ]
    }
   ],
   "source": [
    "#get test bias and variance\n",
    "print(bias(y_test, y_hat_test))\n",
    "print(variance(y_hat_test))"
   ]
  },
  {
   "cell_type": "code",
   "execution_count": 236,
   "metadata": {
    "scrolled": true
   },
   "outputs": [
    {
     "data": {
      "text/html": [
       "<div>\n",
       "<style scoped>\n",
       "    .dataframe tbody tr th:only-of-type {\n",
       "        vertical-align: middle;\n",
       "    }\n",
       "\n",
       "    .dataframe tbody tr th {\n",
       "        vertical-align: top;\n",
       "    }\n",
       "\n",
       "    .dataframe thead th {\n",
       "        text-align: right;\n",
       "    }\n",
       "</style>\n",
       "<table border=\"1\" class=\"dataframe\">\n",
       "  <thead>\n",
       "    <tr style=\"text-align: right;\">\n",
       "      <th></th>\n",
       "      <th>Model</th>\n",
       "      <th>Accuracy</th>\n",
       "      <th>CV</th>\n",
       "      <th>Precision</th>\n",
       "      <th>Recall</th>\n",
       "      <th>F1 Score</th>\n",
       "      <th>MAE</th>\n",
       "      <th>MSE</th>\n",
       "      <th>RMSE</th>\n",
       "      <th>AUC</th>\n",
       "      <th>Bias</th>\n",
       "      <th>Variance</th>\n",
       "    </tr>\n",
       "  </thead>\n",
       "  <tbody>\n",
       "    <tr>\n",
       "      <th>0</th>\n",
       "      <td>Decision Tree</td>\n",
       "      <td>75.20</td>\n",
       "      <td>0.72</td>\n",
       "      <td>0.64</td>\n",
       "      <td>0.66</td>\n",
       "      <td>0.65</td>\n",
       "      <td>0.28</td>\n",
       "      <td>0.34</td>\n",
       "      <td>0.58</td>\n",
       "      <td>-</td>\n",
       "      <td>0.030051</td>\n",
       "      <td>0.389863</td>\n",
       "    </tr>\n",
       "    <tr>\n",
       "      <th>1</th>\n",
       "      <td>Logistic Regression</td>\n",
       "      <td>65.27</td>\n",
       "      <td>0.74</td>\n",
       "      <td>0.60</td>\n",
       "      <td>0.67</td>\n",
       "      <td>0.58</td>\n",
       "      <td>0.42</td>\n",
       "      <td>0.55</td>\n",
       "      <td>0.74</td>\n",
       "      <td>0.82</td>\n",
       "      <td>0.237710</td>\n",
       "      <td>0.553767</td>\n",
       "    </tr>\n",
       "    <tr>\n",
       "      <th>2</th>\n",
       "      <td>KNN</td>\n",
       "      <td>75.45</td>\n",
       "      <td>0.72</td>\n",
       "      <td>0.64</td>\n",
       "      <td>0.67</td>\n",
       "      <td>0.65</td>\n",
       "      <td>0.28</td>\n",
       "      <td>0.35</td>\n",
       "      <td>0.59</td>\n",
       "      <td>-</td>\n",
       "      <td>0.045202</td>\n",
       "      <td>0.404094</td>\n",
       "    </tr>\n",
       "    <tr>\n",
       "      <th>3</th>\n",
       "      <td>Bagged Tree</td>\n",
       "      <td>78.44</td>\n",
       "      <td>0.76</td>\n",
       "      <td>0.68</td>\n",
       "      <td>0.69</td>\n",
       "      <td>0.68</td>\n",
       "      <td>0.24</td>\n",
       "      <td>0.29</td>\n",
       "      <td>0.54</td>\n",
       "      <td>-</td>\n",
       "      <td>0.011616</td>\n",
       "      <td>0.372581</td>\n",
       "    </tr>\n",
       "  </tbody>\n",
       "</table>\n",
       "</div>"
      ],
      "text/plain": [
       "                 Model  Accuracy    CV  Precision  Recall  F1 Score   MAE  \\\n",
       "0        Decision Tree     75.20  0.72       0.64    0.66      0.65  0.28   \n",
       "1  Logistic Regression     65.27  0.74       0.60    0.67      0.58  0.42   \n",
       "2                  KNN     75.45  0.72       0.64    0.67      0.65  0.28   \n",
       "3          Bagged Tree     78.44  0.76       0.68    0.69      0.68  0.24   \n",
       "\n",
       "    MSE  RMSE   AUC      Bias  Variance  \n",
       "0  0.34  0.58     -  0.030051  0.389863  \n",
       "1  0.55  0.74  0.82  0.237710  0.553767  \n",
       "2  0.35  0.59     -  0.045202  0.404094  \n",
       "3  0.29  0.54     -  0.011616  0.372581  "
      ]
     },
     "execution_count": 236,
     "metadata": {},
     "output_type": "execute_result"
    }
   ],
   "source": [
    "#summary table\n",
    "summary_table.loc[3] = ['Bagged Tree',\n",
    "                        round(bagged_tree_test_accuracy, 2), round(bagged_tree_test_cv_score, 2), \n",
    "                        round(precision_score(y_test, y_hat_test, average = 'macro'), 2), round(recall_score(y_test, y_hat_test, average = 'macro'), 2), round(f1_score(y_test, y_hat_test, average = 'macro'), 2),\n",
    "                        round(mean_absolute_error(y_test, y_hat_test), 2), round(mean_squared_error(y_test, y_hat_test), 2), round(mean_squared_error(y_test, y_hat_test, squared = False), 2),\n",
    "                        '-', round(bias(y_test, y_hat_test), 2), round(variance(y_hat_test), 2)]\n",
    "summary_table.head()"
   ]
  },
  {
   "cell_type": "markdown",
   "metadata": {},
   "source": [
    "This Bagged Tree is OK model: \n",
    "* better accuracy, precision, and recall than the first 3\n",
    "* lower error score\n",
    "* however, still overfit"
   ]
  },
  {
   "cell_type": "markdown",
   "metadata": {},
   "source": [
    "# Random Forest"
   ]
  },
  {
   "cell_type": "code",
   "execution_count": 237,
   "metadata": {},
   "outputs": [
    {
     "name": "stdout",
     "output_type": "stream",
     "text": [
      "Train accuracy: 99.75217812197484\n",
      "Test accuracy: 79.24242424242425\n"
     ]
    }
   ],
   "source": [
    "#instantiate baseline model\n",
    "random_forest_clf = RandomForestClassifier(random_state = 21)\n",
    "\n",
    "#fit\n",
    "random_forest_clf.fit(X_train, y_train)\n",
    "\n",
    "#predict\n",
    "y_hat_train = random_forest_clf.predict(X_train)\n",
    "y_hat_test = random_forest_clf.predict(X_test)\n",
    "\n",
    "#train accuracy\n",
    "random_forest_train_accuracy = accuracy_score(y_train, y_hat_train) * 100\n",
    "print('Train accuracy: {0}'.format(random_forest_train_accuracy))\n",
    "\n",
    "#test accuracy\n",
    "random_forest_test_accuracy = accuracy_score(y_test, y_hat_test) * 100\n",
    "print('Test accuracy: {0}'.format(random_forest_test_accuracy))\n",
    "\n",
    "#Train accuracy: 99.75475959987092\n",
    "#Test accuracy: 79.15824915824916"
   ]
  },
  {
   "cell_type": "code",
   "execution_count": 238,
   "metadata": {},
   "outputs": [],
   "source": [
    "#set param grid\n",
    "#random_forest_param_grid = {'n_estimators' : [20, 50, 100],\n",
    "#                            'criterion' : ['gini', 'entropy'],\n",
    "#                            'min_samples_split' : [8, 10, 12],\n",
    "#                            'min_samples_leaf' : [3, 4, 5],\n",
    "#                            'max_depth': [40, 80],\n",
    "#                            'max_features': ['auto', 'sqrt', 'log2']}\n",
    "\n",
    "#gridsearch\n",
    "#random_forest_gridsearch = GridSearchCV(estimator = random_forest_clf, \n",
    "#                                        param_grid = random_forest_param_grid,\n",
    "#                                        scoring = 'accuracy', cv = 5,\n",
    "#                                        n_jobs = -1)\n",
    "\n",
    "#fit\n",
    "#random_forest_gridsearch.fit(X_train, y_train)\n",
    "\n",
    "#best param\n",
    "#random_forest_gridsearch.best_params_\n",
    "\n",
    "#'criterion': 'gini',\n",
    "#'max_depth': 40,\n",
    "#'max_features': 'auto',\n",
    "#'min_samples_leaf': 3,\n",
    "#'min_samples_split': 8,\n",
    "#'n_estimators': 100"
   ]
  },
  {
   "cell_type": "code",
   "execution_count": 239,
   "metadata": {},
   "outputs": [],
   "source": [
    "#get cross-validation result\n",
    "#random_forest_cross_val_results = pd.DataFrame(random_forest_gridsearch.cv_results_)\n",
    "#print('Number of Various Combinations of Parameters Tried : %d'%len(random_forest_cross_val_results))\n",
    "\n",
    "#save\n",
    "#random_forest_cross_val_results.to_csv('./Data/random_forest_cross_val_results')\n",
    "\n",
    "#random_forest_cross_val_results.head()"
   ]
  },
  {
   "cell_type": "code",
   "execution_count": 240,
   "metadata": {},
   "outputs": [],
   "source": [
    "#train a classifier with optimal values identified above\n",
    "#random_forest_clf = RandomForestClassifier(random_state = 21, \n",
    "#                                           criterion = 'gini',\n",
    "#                                           max_depth = 40,\n",
    "#                                           max_features = 'auto',\n",
    "#                                           min_samples_leaf = 3,\n",
    "#                                           min_samples_split = 8,\n",
    "#                                           n_estimators = 100)\n",
    "\n",
    "#fit\n",
    "#random_forest_clf.fit(X_train, y_train)\n",
    "\n",
    "#predict\n",
    "#y_hat_train = random_forest_clf.predict(X_train)\n",
    "#y_hat_test = random_forest_clf.predict(X_test)\n",
    "\n",
    "#train accuracy\n",
    "#random_forest_train_accuracy = accuracy_score(y_train, y_hat_train) * 100\n",
    "#print('Train accuracy: {0}'.format(random_forest_train_accuracy))\n",
    "\n",
    "#test accuracy\n",
    "#random_forest_test_accuracy = accuracy_score(y_test, y_hat_test) * 100\n",
    "#print('Test accuracy: {0}'.format(random_forest_test_accuracy))\n",
    "\n",
    "#Train accuracy: 89.52565343659245\n",
    "#Test accuracy: 77.54208754208754"
   ]
  },
  {
   "cell_type": "markdown",
   "metadata": {},
   "source": [
    "The optimized model's accuracy decreased but the fit improved. Still, we'll go with the baseline Random Forest model."
   ]
  },
  {
   "cell_type": "code",
   "execution_count": 241,
   "metadata": {},
   "outputs": [
    {
     "name": "stdout",
     "output_type": "stream",
     "text": [
      "Train cross validation: 0.8670151661826395\n",
      "Test cross validation: 0.7696127946127947\n"
     ]
    }
   ],
   "source": [
    "#train cross validation\n",
    "random_forest_train_cv_score = cross_val_score(random_forest_clf, X_train, y_train, cv = 5, n_jobs = -1).mean()\n",
    "print('Train cross validation:', random_forest_train_cv_score)\n",
    "\n",
    "#test cross validation\n",
    "random_forest_test_cv_score = cross_val_score(random_forest_clf, X_test, y_test, cv = 5, n_jobs = -1).mean()\n",
    "print('Test cross validation:', random_forest_test_cv_score)"
   ]
  },
  {
   "cell_type": "code",
   "execution_count": 242,
   "metadata": {},
   "outputs": [
    {
     "name": "stdout",
     "output_type": "stream",
     "text": [
      "Mean Absolute Error: 0.23106060606060605\n",
      "Mean Squared Error: 0.278030303030303\n",
      "Root Mean Squared Error: 0.5272857887619418\n"
     ]
    }
   ],
   "source": [
    "#evaluate with MAE, MSE, RMSE\n",
    "print('Mean Absolute Error:', mean_absolute_error(y_test, y_hat_test))  \n",
    "print('Mean Squared Error:', mean_squared_error(y_test, y_hat_test))  \n",
    "print('Root Mean Squared Error:', mean_squared_error(y_test, y_hat_test, squared = False))"
   ]
  },
  {
   "cell_type": "code",
   "execution_count": 243,
   "metadata": {
    "scrolled": true
   },
   "outputs": [
    {
     "name": "stdout",
     "output_type": "stream",
     "text": [
      "Model: Random Forest \n",
      "               precision    recall  f1-score   support\n",
      "\n",
      "           0       0.82      0.79      0.81      4614\n",
      "           1       0.83      0.84      0.83      6434\n",
      "           2       0.41      0.45      0.43       832\n",
      "\n",
      "    accuracy                           0.79     11880\n",
      "   macro avg       0.69      0.69      0.69     11880\n",
      "weighted avg       0.80      0.79      0.79     11880\n",
      "\n"
     ]
    }
   ],
   "source": [
    "#classification report\n",
    "random_forest_classification_report = classification_report(y_test, y_hat_test)\n",
    "print('Model: Random Forest', '\\n', random_forest_classification_report)"
   ]
  },
  {
   "cell_type": "code",
   "execution_count": 244,
   "metadata": {
    "scrolled": true
   },
   "outputs": [
    {
     "data": {
      "text/plain": [
       "<sklearn.metrics._plot.confusion_matrix.ConfusionMatrixDisplay at 0x7ffae0f3b8e0>"
      ]
     },
     "execution_count": 244,
     "metadata": {},
     "output_type": "execute_result"
    },
    {
     "data": {
      "image/png": "[encoded data removed]",
      "text/plain": [
       "<Figure size 432x288 with 2 Axes>"
      ]
     },
     "metadata": {
      "needs_background": "light"
     },
     "output_type": "display_data"
    }
   ],
   "source": [
    "#plot confusion matrix\n",
    "plot_confusion_matrix(random_forest_clf, X_test, y_test, cmap = plt.cm.Blues)"
   ]
  },
  {
   "cell_type": "code",
   "execution_count": 245,
   "metadata": {},
   "outputs": [
    {
     "name": "stdout",
     "output_type": "stream",
     "text": [
      "0.02382154882154882\n",
      "0.3638421178677912\n"
     ]
    }
   ],
   "source": [
    "#get test bias and variance\n",
    "print(bias(y_test, y_hat_test))\n",
    "print(variance(y_hat_test))"
   ]
  },
  {
   "cell_type": "code",
   "execution_count": 246,
   "metadata": {
    "scrolled": true
   },
   "outputs": [
    {
     "data": {
      "text/html": [
       "<div>\n",
       "<style scoped>\n",
       "    .dataframe tbody tr th:only-of-type {\n",
       "        vertical-align: middle;\n",
       "    }\n",
       "\n",
       "    .dataframe tbody tr th {\n",
       "        vertical-align: top;\n",
       "    }\n",
       "\n",
       "    .dataframe thead th {\n",
       "        text-align: right;\n",
       "    }\n",
       "</style>\n",
       "<table border=\"1\" class=\"dataframe\">\n",
       "  <thead>\n",
       "    <tr style=\"text-align: right;\">\n",
       "      <th></th>\n",
       "      <th>Model</th>\n",
       "      <th>Accuracy</th>\n",
       "      <th>CV</th>\n",
       "      <th>Precision</th>\n",
       "      <th>Recall</th>\n",
       "      <th>F1 Score</th>\n",
       "      <th>MAE</th>\n",
       "      <th>MSE</th>\n",
       "      <th>RMSE</th>\n",
       "      <th>AUC</th>\n",
       "      <th>Bias</th>\n",
       "      <th>Variance</th>\n",
       "    </tr>\n",
       "  </thead>\n",
       "  <tbody>\n",
       "    <tr>\n",
       "      <th>0</th>\n",
       "      <td>Decision Tree</td>\n",
       "      <td>75.20</td>\n",
       "      <td>0.72</td>\n",
       "      <td>0.64</td>\n",
       "      <td>0.66</td>\n",
       "      <td>0.65</td>\n",
       "      <td>0.28</td>\n",
       "      <td>0.34</td>\n",
       "      <td>0.58</td>\n",
       "      <td>-</td>\n",
       "      <td>0.030051</td>\n",
       "      <td>0.389863</td>\n",
       "    </tr>\n",
       "    <tr>\n",
       "      <th>1</th>\n",
       "      <td>Logistic Regression</td>\n",
       "      <td>65.27</td>\n",
       "      <td>0.74</td>\n",
       "      <td>0.60</td>\n",
       "      <td>0.67</td>\n",
       "      <td>0.58</td>\n",
       "      <td>0.42</td>\n",
       "      <td>0.55</td>\n",
       "      <td>0.74</td>\n",
       "      <td>0.82</td>\n",
       "      <td>0.237710</td>\n",
       "      <td>0.553767</td>\n",
       "    </tr>\n",
       "    <tr>\n",
       "      <th>2</th>\n",
       "      <td>KNN</td>\n",
       "      <td>75.45</td>\n",
       "      <td>0.72</td>\n",
       "      <td>0.64</td>\n",
       "      <td>0.67</td>\n",
       "      <td>0.65</td>\n",
       "      <td>0.28</td>\n",
       "      <td>0.35</td>\n",
       "      <td>0.59</td>\n",
       "      <td>-</td>\n",
       "      <td>0.045202</td>\n",
       "      <td>0.404094</td>\n",
       "    </tr>\n",
       "    <tr>\n",
       "      <th>3</th>\n",
       "      <td>Bagged Tree</td>\n",
       "      <td>78.44</td>\n",
       "      <td>0.76</td>\n",
       "      <td>0.68</td>\n",
       "      <td>0.69</td>\n",
       "      <td>0.68</td>\n",
       "      <td>0.24</td>\n",
       "      <td>0.29</td>\n",
       "      <td>0.54</td>\n",
       "      <td>-</td>\n",
       "      <td>0.011616</td>\n",
       "      <td>0.372581</td>\n",
       "    </tr>\n",
       "    <tr>\n",
       "      <th>4</th>\n",
       "      <td>Random Forest</td>\n",
       "      <td>79.24</td>\n",
       "      <td>0.77</td>\n",
       "      <td>0.69</td>\n",
       "      <td>0.69</td>\n",
       "      <td>0.69</td>\n",
       "      <td>0.23</td>\n",
       "      <td>0.28</td>\n",
       "      <td>0.53</td>\n",
       "      <td>-</td>\n",
       "      <td>0.023822</td>\n",
       "      <td>0.363842</td>\n",
       "    </tr>\n",
       "  </tbody>\n",
       "</table>\n",
       "</div>"
      ],
      "text/plain": [
       "                 Model  Accuracy    CV  Precision  Recall  F1 Score   MAE  \\\n",
       "0        Decision Tree     75.20  0.72       0.64    0.66      0.65  0.28   \n",
       "1  Logistic Regression     65.27  0.74       0.60    0.67      0.58  0.42   \n",
       "2                  KNN     75.45  0.72       0.64    0.67      0.65  0.28   \n",
       "3          Bagged Tree     78.44  0.76       0.68    0.69      0.68  0.24   \n",
       "4        Random Forest     79.24  0.77       0.69    0.69      0.69  0.23   \n",
       "\n",
       "    MSE  RMSE   AUC      Bias  Variance  \n",
       "0  0.34  0.58     -  0.030051  0.389863  \n",
       "1  0.55  0.74  0.82  0.237710  0.553767  \n",
       "2  0.35  0.59     -  0.045202  0.404094  \n",
       "3  0.29  0.54     -  0.011616  0.372581  \n",
       "4  0.28  0.53     -  0.023822  0.363842  "
      ]
     },
     "execution_count": 246,
     "metadata": {},
     "output_type": "execute_result"
    }
   ],
   "source": [
    "#summary table\n",
    "summary_table.loc[4] = ['Random Forest',\n",
    "                        round(random_forest_test_accuracy, 2), round(random_forest_test_cv_score, 2), \n",
    "                        round(precision_score(y_test, y_hat_test, average = 'macro'), 2), round(recall_score(y_test, y_hat_test, average = 'macro'), 2), round(f1_score(y_test, y_hat_test, average = 'macro'), 2),\n",
    "                        round(mean_absolute_error(y_test, y_hat_test), 2), round(mean_squared_error(y_test, y_hat_test), 2), round(mean_squared_error(y_test, y_hat_test, squared = False), 2),\n",
    "                        '-', round(bias(y_test, y_hat_test), 2), round(variance(y_hat_test), 2)]\n",
    "summary_table.head()"
   ]
  },
  {
   "cell_type": "markdown",
   "metadata": {},
   "source": [
    "This Random Forest is an OK model: \n",
    "* improved accuracy, precision, and recall\n",
    "* lower errors \n",
    "* still overfit"
   ]
  },
  {
   "cell_type": "markdown",
   "metadata": {},
   "source": [
    "# Gradient Boosting"
   ]
  },
  {
   "cell_type": "code",
   "execution_count": 247,
   "metadata": {},
   "outputs": [
    {
     "name": "stdout",
     "output_type": "stream",
     "text": [
      "Train accuracy: 73.71539206195547\n",
      "Test accuracy: 69.60437710437711\n"
     ]
    }
   ],
   "source": [
    "#instantiate baseline model\n",
    "gradient_boost_clf = GradientBoostingClassifier(random_state = 21)\n",
    "\n",
    "#fit\n",
    "gradient_boost_clf.fit(X_train, y_train)\n",
    "\n",
    "#predict\n",
    "y_hat_train = gradient_boost_clf.predict(X_train)\n",
    "y_hat_test = gradient_boost_clf.predict(X_test)\n",
    "\n",
    "#train accuracy\n",
    "gradient_boost_train_accuracy = accuracy_score(y_train, y_hat_train) * 100\n",
    "print('Train accuracy: {0}'.format(gradient_boost_train_accuracy))\n",
    "\n",
    "#test accuracy\n",
    "gradient_boost_test_accuracy = accuracy_score(y_test, y_hat_test) * 100\n",
    "print('Test accuracy: {0}'.format(gradient_boost_test_accuracy))\n",
    "\n",
    "#Train accuracy: 73.94127137786383\n",
    "#Test accuracy: 69.7979797979798"
   ]
  },
  {
   "cell_type": "code",
   "execution_count": 248,
   "metadata": {},
   "outputs": [],
   "source": [
    "#set param grid\n",
    "#gradient_boost_param_grid = {'learning_rate': [0.025, 0.05],\n",
    "#                             'subsample': [0.5, 1.0]}\n",
    "\n",
    "#gridsearch\n",
    "#gradient_boost_gridsearch = GridSearchCV(estimator = gradient_boost_clf,\n",
    "#                                         param_grid = gradient_boost_param_grid, \n",
    "#                                         scoring = 'accuracy',\n",
    "#                                         n_jobs = -1,\n",
    "#                                         cv = 5)\n",
    "\n",
    "#fit\n",
    "#gradient_boost_gridsearch.fit(X_train, y_train)\n",
    "\n",
    "#best param\n",
    "#gradient_boost_gridsearch.best_params_\n",
    "\n",
    "#'learning_rate': 0.05, \n",
    "#'subsample': 0.5"
   ]
  },
  {
   "cell_type": "code",
   "execution_count": 249,
   "metadata": {},
   "outputs": [],
   "source": [
    "#get cross-validation result\n",
    "#gradient_boost_cross_val_results = pd.DataFrame(gradient_boost_gridsearch.cv_results_)\n",
    "#print('Number of Various Combinations of Parameters Tried : %d'%len(gradient_boost_cross_val_results))\n",
    "\n",
    "#save\n",
    "#gradient_boost_cross_val_results.to_csv('./Data/gradient_boost_cross_val_results')\n",
    "\n",
    "#gradient_boost_cross_val_results.head()"
   ]
  },
  {
   "cell_type": "code",
   "execution_count": 250,
   "metadata": {},
   "outputs": [
    {
     "name": "stdout",
     "output_type": "stream",
     "text": [
      "Train accuracy: 99.63472087770249\n",
      "Test accuracy: 79.6969696969697\n"
     ]
    }
   ],
   "source": [
    "#train a classifier with optimal values identified above\n",
    "gradient_boost_clf = GradientBoostingClassifier(random_state = 21,\n",
    "                                                max_depth = 40,\n",
    "                                                max_features = 'auto',\n",
    "                                                min_samples_leaf = 3,\n",
    "                                                min_samples_split = 8,\n",
    "                                                n_estimators = 100,\n",
    "                                                learning_rate = 0.05,\n",
    "                                                subsample = 0.5)\n",
    "\n",
    "#fit\n",
    "gradient_boost_clf.fit(X_train, y_train)\n",
    "\n",
    "#predict\n",
    "y_hat_train = gradient_boost_clf.predict(X_train)\n",
    "y_hat_test = gradient_boost_clf.predict(X_test)\n",
    "\n",
    "#train accuracy\n",
    "gradient_boost_train_accuracy = accuracy_score(y_train, y_hat_train) * 100\n",
    "print('Train accuracy: {0}'.format(gradient_boost_train_accuracy))\n",
    "\n",
    "#test accuracy\n",
    "gradient_boost_test_accuracy = accuracy_score(y_test, y_hat_test) * 100\n",
    "print('Test accuracy: {0}'.format(gradient_boost_test_accuracy))\n",
    "\n",
    "#Train accuracy: 99.62568570506615\n",
    "#Test accuracy: 79.4949494949495"
   ]
  },
  {
   "cell_type": "markdown",
   "metadata": {},
   "source": [
    "Optimized model has improved accuracy score, we'll select it."
   ]
  },
  {
   "cell_type": "code",
   "execution_count": 251,
   "metadata": {},
   "outputs": [
    {
     "name": "stdout",
     "output_type": "stream",
     "text": [
      "Train cross validation: 0.8692481445627622\n",
      "Train cross validation: 0.7791245791245792\n"
     ]
    }
   ],
   "source": [
    "#train cross validation\n",
    "gradient_boost_train_cv_score = cross_val_score(gradient_boost_clf, X_train, y_train, cv = 5, n_jobs = -1).mean()\n",
    "print('Train cross validation:', gradient_boost_train_cv_score)\n",
    "\n",
    "#test cross validation\n",
    "gradient_boost_test_cv_score = cross_val_score(gradient_boost_clf, X_test, y_test, cv = 5, n_jobs = -1).mean()\n",
    "print('Train cross validation:', gradient_boost_test_cv_score)"
   ]
  },
  {
   "cell_type": "code",
   "execution_count": 252,
   "metadata": {},
   "outputs": [
    {
     "name": "stdout",
     "output_type": "stream",
     "text": [
      "Mean Absolute Error: 0.22727272727272727\n",
      "Mean Squared Error: 0.27575757575757576\n",
      "Root Mean Squared Error: 0.5251262474468171\n"
     ]
    }
   ],
   "source": [
    "#evaluate\n",
    "print('Mean Absolute Error:', mean_absolute_error(y_test, y_hat_test))  \n",
    "print('Mean Squared Error:', mean_squared_error(y_test, y_hat_test))  \n",
    "print('Root Mean Squared Error:', mean_squared_error(y_test, y_hat_test, squared = False))"
   ]
  },
  {
   "cell_type": "code",
   "execution_count": 253,
   "metadata": {
    "scrolled": true
   },
   "outputs": [
    {
     "name": "stdout",
     "output_type": "stream",
     "text": [
      "Model: Gradient Boosting \n",
      "               precision    recall  f1-score   support\n",
      "\n",
      "           0       0.83      0.79      0.81      4614\n",
      "           1       0.83      0.85      0.84      6434\n",
      "           2       0.41      0.45      0.43       832\n",
      "\n",
      "    accuracy                           0.80     11880\n",
      "   macro avg       0.69      0.70      0.69     11880\n",
      "weighted avg       0.80      0.80      0.80     11880\n",
      "\n"
     ]
    }
   ],
   "source": [
    "#classification report\n",
    "gradient_boost_classification_report = classification_report(y_test, y_hat_test)\n",
    "print('Model: Gradient Boosting', '\\n', gradient_boost_classification_report)"
   ]
  },
  {
   "cell_type": "code",
   "execution_count": 254,
   "metadata": {
    "scrolled": true
   },
   "outputs": [
    {
     "data": {
      "text/plain": [
       "<sklearn.metrics._plot.confusion_matrix.ConfusionMatrixDisplay at 0x7ffaa20e47f0>"
      ]
     },
     "execution_count": 254,
     "metadata": {},
     "output_type": "execute_result"
    },
    {
     "data": {
      "image/png": "[encoded data removed]",
      "text/plain": [
       "<Figure size 432x288 with 2 Axes>"
      ]
     },
     "metadata": {
      "needs_background": "light"
     },
     "output_type": "display_data"
    }
   ],
   "source": [
    "#plot confusion matrix\n",
    "plot_confusion_matrix(gradient_boost_clf, X_test, y_test, cmap = plt.cm.Blues)"
   ]
  },
  {
   "cell_type": "code",
   "execution_count": 255,
   "metadata": {},
   "outputs": [
    {
     "name": "stdout",
     "output_type": "stream",
     "text": [
      "0.02643097643097643\n",
      "0.3615845321905927\n"
     ]
    }
   ],
   "source": [
    "#get test bias and variance\n",
    "print(bias(y_test, y_hat_test))\n",
    "print(variance(y_hat_test))"
   ]
  },
  {
   "cell_type": "code",
   "execution_count": 256,
   "metadata": {},
   "outputs": [
    {
     "data": {
      "text/html": [
       "<div>\n",
       "<style scoped>\n",
       "    .dataframe tbody tr th:only-of-type {\n",
       "        vertical-align: middle;\n",
       "    }\n",
       "\n",
       "    .dataframe tbody tr th {\n",
       "        vertical-align: top;\n",
       "    }\n",
       "\n",
       "    .dataframe thead th {\n",
       "        text-align: right;\n",
       "    }\n",
       "</style>\n",
       "<table border=\"1\" class=\"dataframe\">\n",
       "  <thead>\n",
       "    <tr style=\"text-align: right;\">\n",
       "      <th></th>\n",
       "      <th>Model</th>\n",
       "      <th>Accuracy</th>\n",
       "      <th>CV</th>\n",
       "      <th>Precision</th>\n",
       "      <th>Recall</th>\n",
       "      <th>F1 Score</th>\n",
       "      <th>MAE</th>\n",
       "      <th>MSE</th>\n",
       "      <th>RMSE</th>\n",
       "      <th>AUC</th>\n",
       "      <th>Bias</th>\n",
       "      <th>Variance</th>\n",
       "    </tr>\n",
       "  </thead>\n",
       "  <tbody>\n",
       "    <tr>\n",
       "      <th>0</th>\n",
       "      <td>Decision Tree</td>\n",
       "      <td>75.20</td>\n",
       "      <td>0.72</td>\n",
       "      <td>0.64</td>\n",
       "      <td>0.66</td>\n",
       "      <td>0.65</td>\n",
       "      <td>0.28</td>\n",
       "      <td>0.34</td>\n",
       "      <td>0.58</td>\n",
       "      <td>-</td>\n",
       "      <td>0.030051</td>\n",
       "      <td>0.389863</td>\n",
       "    </tr>\n",
       "    <tr>\n",
       "      <th>1</th>\n",
       "      <td>Logistic Regression</td>\n",
       "      <td>65.27</td>\n",
       "      <td>0.74</td>\n",
       "      <td>0.60</td>\n",
       "      <td>0.67</td>\n",
       "      <td>0.58</td>\n",
       "      <td>0.42</td>\n",
       "      <td>0.55</td>\n",
       "      <td>0.74</td>\n",
       "      <td>0.82</td>\n",
       "      <td>0.237710</td>\n",
       "      <td>0.553767</td>\n",
       "    </tr>\n",
       "    <tr>\n",
       "      <th>2</th>\n",
       "      <td>KNN</td>\n",
       "      <td>75.45</td>\n",
       "      <td>0.72</td>\n",
       "      <td>0.64</td>\n",
       "      <td>0.67</td>\n",
       "      <td>0.65</td>\n",
       "      <td>0.28</td>\n",
       "      <td>0.35</td>\n",
       "      <td>0.59</td>\n",
       "      <td>-</td>\n",
       "      <td>0.045202</td>\n",
       "      <td>0.404094</td>\n",
       "    </tr>\n",
       "    <tr>\n",
       "      <th>3</th>\n",
       "      <td>Bagged Tree</td>\n",
       "      <td>78.44</td>\n",
       "      <td>0.76</td>\n",
       "      <td>0.68</td>\n",
       "      <td>0.69</td>\n",
       "      <td>0.68</td>\n",
       "      <td>0.24</td>\n",
       "      <td>0.29</td>\n",
       "      <td>0.54</td>\n",
       "      <td>-</td>\n",
       "      <td>0.011616</td>\n",
       "      <td>0.372581</td>\n",
       "    </tr>\n",
       "    <tr>\n",
       "      <th>4</th>\n",
       "      <td>Random Forest</td>\n",
       "      <td>79.24</td>\n",
       "      <td>0.77</td>\n",
       "      <td>0.69</td>\n",
       "      <td>0.69</td>\n",
       "      <td>0.69</td>\n",
       "      <td>0.23</td>\n",
       "      <td>0.28</td>\n",
       "      <td>0.53</td>\n",
       "      <td>-</td>\n",
       "      <td>0.023822</td>\n",
       "      <td>0.363842</td>\n",
       "    </tr>\n",
       "    <tr>\n",
       "      <th>5</th>\n",
       "      <td>Gradient Boost</td>\n",
       "      <td>79.70</td>\n",
       "      <td>0.78</td>\n",
       "      <td>0.69</td>\n",
       "      <td>0.70</td>\n",
       "      <td>0.69</td>\n",
       "      <td>0.23</td>\n",
       "      <td>0.28</td>\n",
       "      <td>0.53</td>\n",
       "      <td>-</td>\n",
       "      <td>0.026431</td>\n",
       "      <td>0.361585</td>\n",
       "    </tr>\n",
       "  </tbody>\n",
       "</table>\n",
       "</div>"
      ],
      "text/plain": [
       "                 Model  Accuracy    CV  Precision  Recall  F1 Score   MAE  \\\n",
       "0        Decision Tree     75.20  0.72       0.64    0.66      0.65  0.28   \n",
       "1  Logistic Regression     65.27  0.74       0.60    0.67      0.58  0.42   \n",
       "2                  KNN     75.45  0.72       0.64    0.67      0.65  0.28   \n",
       "3          Bagged Tree     78.44  0.76       0.68    0.69      0.68  0.24   \n",
       "4        Random Forest     79.24  0.77       0.69    0.69      0.69  0.23   \n",
       "5       Gradient Boost     79.70  0.78       0.69    0.70      0.69  0.23   \n",
       "\n",
       "    MSE  RMSE   AUC      Bias  Variance  \n",
       "0  0.34  0.58     -  0.030051  0.389863  \n",
       "1  0.55  0.74  0.82  0.237710  0.553767  \n",
       "2  0.35  0.59     -  0.045202  0.404094  \n",
       "3  0.29  0.54     -  0.011616  0.372581  \n",
       "4  0.28  0.53     -  0.023822  0.363842  \n",
       "5  0.28  0.53     -  0.026431  0.361585  "
      ]
     },
     "execution_count": 256,
     "metadata": {},
     "output_type": "execute_result"
    }
   ],
   "source": [
    "#summary table\n",
    "summary_table.loc[5] = ['Gradient Boost',\n",
    "                        round(gradient_boost_test_accuracy, 2), round(gradient_boost_test_cv_score, 2), \n",
    "                        round(precision_score(y_test, y_hat_test, average = 'macro'), 2), round(recall_score(y_test, y_hat_test, average = 'macro'), 2), round(f1_score(y_test, y_hat_test, average = 'macro'), 2),\n",
    "                        round(mean_absolute_error(y_test, y_hat_test), 2), round(mean_squared_error(y_test, y_hat_test), 2), round(mean_squared_error(y_test, y_hat_test, squared = False), 2),\n",
    "                        '-', round(bias(y_test, y_hat_test), 2), round(variance(y_hat_test), 2)]\n",
    "summary_table.head(10)"
   ]
  },
  {
   "cell_type": "markdown",
   "metadata": {},
   "source": [
    "This Gradient Boost is an OK model:\n",
    "\n",
    "* improved accuracy, precision, and recall\n",
    "* lower errors\n",
    "* still overfit"
   ]
  },
  {
   "cell_type": "markdown",
   "metadata": {},
   "source": [
    "# AdaBoost"
   ]
  },
  {
   "cell_type": "code",
   "execution_count": 257,
   "metadata": {},
   "outputs": [
    {
     "name": "stdout",
     "output_type": "stream",
     "text": [
      "Train accuracy: 65.47660535656664 \n",
      "Test accuracy: 63.880471380471384 \n"
     ]
    }
   ],
   "source": [
    "#instantiate baseline model\n",
    "adaboost_clf = AdaBoostClassifier(random_state = 21)\n",
    "\n",
    "#fit\n",
    "adaboost_clf.fit(X_train, y_train)\n",
    "\n",
    "#predict\n",
    "y_hat_train = adaboost_clf.predict(X_train)\n",
    "y_hat_test = adaboost_clf.predict(X_test)\n",
    "\n",
    "#train accuracy\n",
    "adaboost_train_accuracy = accuracy_score(y_train, y_hat_train) * 100\n",
    "print('Train accuracy: {0} '.format(adaboost_train_accuracy))\n",
    "\n",
    "#test accuracy\n",
    "adaboost_test_accuracy = accuracy_score(y_test, y_hat_test) * 100\n",
    "print('Test accuracy: {0} '.format(adaboost_test_accuracy))\n",
    "\n",
    "#Train accuracy: 65.12939657954179 \n",
    "#Test accuracy: 63.86363636363637"
   ]
  },
  {
   "cell_type": "code",
   "execution_count": 258,
   "metadata": {},
   "outputs": [],
   "source": [
    "#param\n",
    "#adaboost_param_grid = {'learning_rate': [0.01, 0.05],\n",
    "#                       'n_estimators' : [50, 100]}\n",
    "\n",
    "#gridsearch\n",
    "#adaboost_gridsearch = GridSearchCV(estimator = adaboost_clf,\n",
    "#                                   param_grid = adaboost_param_grid,\n",
    "#                                   scoring = 'accuracy',\n",
    "#                                   n_jobs = -1,\n",
    "#                                   cv = 5)\n",
    "\n",
    "#fit\n",
    "#adaboost_gridsearch.fit(X_train, y_train)\n",
    "\n",
    "#best param\n",
    "#adaboost_gridsearch.best_params_\n",
    "\n",
    "#'learning_rate': 0.05, \n",
    "#'n_estimators': 100"
   ]
  },
  {
   "cell_type": "code",
   "execution_count": 259,
   "metadata": {},
   "outputs": [],
   "source": [
    "#get cross-validation result\n",
    "#adaboost_cross_val_results = pd.DataFrame(adaboost_gridsearch.cv_results_)\n",
    "#print('Number of Various Combinations of Parameters Tried : %d'%len(adaboost_cross_val_results))\n",
    "\n",
    "#save\n",
    "#adaboost_cross_val_results.to_csv('./Data/adaboost_cross_val_results')\n",
    "\n",
    "#adaboost_cross_val_results.head()"
   ]
  },
  {
   "cell_type": "code",
   "execution_count": 260,
   "metadata": {},
   "outputs": [],
   "source": [
    "#train a classifier with optimal values identified above\n",
    "#adaboost_clf = AdaBoostClassifier(random_state = 21,\n",
    "#                                  learning_rate = 0.05,\n",
    "#                                  n_estimators = 100)\n",
    "\n",
    "#fit\n",
    "#adaboost_clf.fit(X_train, y_train)\n",
    "\n",
    "#predict\n",
    "#y_hat_train = adaboost_clf.predict(X_train)\n",
    "#y_hat_test = adaboost_clf.predict(X_test)\n",
    "\n",
    "#train accuracy\n",
    "#adaboost_train_accuracy = accuracy_score(y_train, y_hat_train) * 100\n",
    "#print('Train accuracy:', adaboost_train_accuracy)\n",
    "\n",
    "#test accuracy\n",
    "#adaboost_test_accuracy = accuracy_score(y_test, y_hat_test) * 100\n",
    "#print('Test accuracy:', adaboost_test_accuracy)\n",
    "\n",
    "#Train accuracy: 54.92223297838012\n",
    "#Test accuracy: 57.398989898989896"
   ]
  },
  {
   "cell_type": "markdown",
   "metadata": {},
   "source": [
    "Baseline model is doing much better than the optimized one, we'll select for it."
   ]
  },
  {
   "cell_type": "code",
   "execution_count": 261,
   "metadata": {},
   "outputs": [
    {
     "name": "stdout",
     "output_type": "stream",
     "text": [
      "Train cross validation: 0.6430332365279122\n",
      "Test cross validation: 0.718013468013468\n"
     ]
    }
   ],
   "source": [
    "#train cross validation\n",
    "adaboost_train_cv_score = cross_val_score(adaboost_clf, X_train, y_train, cv = 5, n_jobs = -1).mean()\n",
    "print('Train cross validation:', adaboost_train_cv_score)\n",
    "\n",
    "#test cross validation\n",
    "adaboost_test_cv_score = cross_val_score(adaboost_clf, X_test, y_test, cv = 5, n_jobs = -1).mean()\n",
    "print('Test cross validation:', adaboost_test_cv_score)"
   ]
  },
  {
   "cell_type": "code",
   "execution_count": 262,
   "metadata": {},
   "outputs": [
    {
     "name": "stdout",
     "output_type": "stream",
     "text": [
      "Mean Absolute Error: 0.4303872053872054\n",
      "Mean Squared Error: 0.5687710437710438\n",
      "Root Mean Squared Error: 0.7541691082052113\n"
     ]
    }
   ],
   "source": [
    "#evaluate with MAE, MSE, RMSE\n",
    "print('Mean Absolute Error:', mean_absolute_error(y_test, y_hat_test))  \n",
    "print('Mean Squared Error:', mean_squared_error(y_test, y_hat_test))  \n",
    "print('Root Mean Squared Error:', mean_squared_error(y_test, y_hat_test, squared = False))"
   ]
  },
  {
   "cell_type": "code",
   "execution_count": 263,
   "metadata": {},
   "outputs": [
    {
     "name": "stdout",
     "output_type": "stream",
     "text": [
      "Model: adaBoost \n",
      "               precision    recall  f1-score   support\n",
      "\n",
      "           0       0.75      0.61      0.67      4614\n",
      "           1       0.76      0.67      0.71      6434\n",
      "           2       0.19      0.56      0.28       832\n",
      "\n",
      "    accuracy                           0.64     11880\n",
      "   macro avg       0.57      0.61      0.56     11880\n",
      "weighted avg       0.72      0.64      0.67     11880\n",
      "\n"
     ]
    }
   ],
   "source": [
    "#classification report\n",
    "adaboost_classification_report = classification_report(y_test, y_hat_test)\n",
    "print('Model: adaBoost', '\\n', adaboost_classification_report)"
   ]
  },
  {
   "cell_type": "code",
   "execution_count": 264,
   "metadata": {
    "scrolled": true
   },
   "outputs": [
    {
     "data": {
      "text/plain": [
       "<sklearn.metrics._plot.confusion_matrix.ConfusionMatrixDisplay at 0x7ffa702e4400>"
      ]
     },
     "execution_count": 264,
     "metadata": {},
     "output_type": "execute_result"
    },
    {
     "data": {
      "image/png": "[encoded data removed]",
      "text/plain": [
       "<Figure size 432x288 with 2 Axes>"
      ]
     },
     "metadata": {
      "needs_background": "light"
     },
     "output_type": "display_data"
    }
   ],
   "source": [
    "#plot confusion matrix\n",
    "plot_confusion_matrix(adaboost_clf, X_test, y_test, cmap = plt.cm.Blues)"
   ]
  },
  {
   "cell_type": "code",
   "execution_count": 265,
   "metadata": {},
   "outputs": [
    {
     "name": "stdout",
     "output_type": "stream",
     "text": [
      "0.20883838383838385\n",
      "0.510481916527792\n"
     ]
    }
   ],
   "source": [
    "#get test bias and variance\n",
    "print(bias(y_test, y_hat_test))\n",
    "print(variance(y_hat_test))"
   ]
  },
  {
   "cell_type": "code",
   "execution_count": 266,
   "metadata": {
    "scrolled": true
   },
   "outputs": [
    {
     "data": {
      "text/html": [
       "<div>\n",
       "<style scoped>\n",
       "    .dataframe tbody tr th:only-of-type {\n",
       "        vertical-align: middle;\n",
       "    }\n",
       "\n",
       "    .dataframe tbody tr th {\n",
       "        vertical-align: top;\n",
       "    }\n",
       "\n",
       "    .dataframe thead th {\n",
       "        text-align: right;\n",
       "    }\n",
       "</style>\n",
       "<table border=\"1\" class=\"dataframe\">\n",
       "  <thead>\n",
       "    <tr style=\"text-align: right;\">\n",
       "      <th></th>\n",
       "      <th>Model</th>\n",
       "      <th>Accuracy</th>\n",
       "      <th>CV</th>\n",
       "      <th>Precision</th>\n",
       "      <th>Recall</th>\n",
       "      <th>F1 Score</th>\n",
       "      <th>MAE</th>\n",
       "      <th>MSE</th>\n",
       "      <th>RMSE</th>\n",
       "      <th>AUC</th>\n",
       "      <th>Bias</th>\n",
       "      <th>Variance</th>\n",
       "    </tr>\n",
       "  </thead>\n",
       "  <tbody>\n",
       "    <tr>\n",
       "      <th>0</th>\n",
       "      <td>Decision Tree</td>\n",
       "      <td>75.20</td>\n",
       "      <td>0.72</td>\n",
       "      <td>0.64</td>\n",
       "      <td>0.66</td>\n",
       "      <td>0.65</td>\n",
       "      <td>0.28</td>\n",
       "      <td>0.34</td>\n",
       "      <td>0.58</td>\n",
       "      <td>-</td>\n",
       "      <td>0.030051</td>\n",
       "      <td>0.389863</td>\n",
       "    </tr>\n",
       "    <tr>\n",
       "      <th>1</th>\n",
       "      <td>Logistic Regression</td>\n",
       "      <td>65.27</td>\n",
       "      <td>0.74</td>\n",
       "      <td>0.60</td>\n",
       "      <td>0.67</td>\n",
       "      <td>0.58</td>\n",
       "      <td>0.42</td>\n",
       "      <td>0.55</td>\n",
       "      <td>0.74</td>\n",
       "      <td>0.82</td>\n",
       "      <td>0.237710</td>\n",
       "      <td>0.553767</td>\n",
       "    </tr>\n",
       "    <tr>\n",
       "      <th>2</th>\n",
       "      <td>KNN</td>\n",
       "      <td>75.45</td>\n",
       "      <td>0.72</td>\n",
       "      <td>0.64</td>\n",
       "      <td>0.67</td>\n",
       "      <td>0.65</td>\n",
       "      <td>0.28</td>\n",
       "      <td>0.35</td>\n",
       "      <td>0.59</td>\n",
       "      <td>-</td>\n",
       "      <td>0.045202</td>\n",
       "      <td>0.404094</td>\n",
       "    </tr>\n",
       "    <tr>\n",
       "      <th>3</th>\n",
       "      <td>Bagged Tree</td>\n",
       "      <td>78.44</td>\n",
       "      <td>0.76</td>\n",
       "      <td>0.68</td>\n",
       "      <td>0.69</td>\n",
       "      <td>0.68</td>\n",
       "      <td>0.24</td>\n",
       "      <td>0.29</td>\n",
       "      <td>0.54</td>\n",
       "      <td>-</td>\n",
       "      <td>0.011616</td>\n",
       "      <td>0.372581</td>\n",
       "    </tr>\n",
       "    <tr>\n",
       "      <th>4</th>\n",
       "      <td>Random Forest</td>\n",
       "      <td>79.24</td>\n",
       "      <td>0.77</td>\n",
       "      <td>0.69</td>\n",
       "      <td>0.69</td>\n",
       "      <td>0.69</td>\n",
       "      <td>0.23</td>\n",
       "      <td>0.28</td>\n",
       "      <td>0.53</td>\n",
       "      <td>-</td>\n",
       "      <td>0.023822</td>\n",
       "      <td>0.363842</td>\n",
       "    </tr>\n",
       "    <tr>\n",
       "      <th>5</th>\n",
       "      <td>Gradient Boost</td>\n",
       "      <td>79.70</td>\n",
       "      <td>0.78</td>\n",
       "      <td>0.69</td>\n",
       "      <td>0.70</td>\n",
       "      <td>0.69</td>\n",
       "      <td>0.23</td>\n",
       "      <td>0.28</td>\n",
       "      <td>0.53</td>\n",
       "      <td>-</td>\n",
       "      <td>0.026431</td>\n",
       "      <td>0.361585</td>\n",
       "    </tr>\n",
       "    <tr>\n",
       "      <th>6</th>\n",
       "      <td>ADABoost</td>\n",
       "      <td>63.88</td>\n",
       "      <td>0.72</td>\n",
       "      <td>0.57</td>\n",
       "      <td>0.61</td>\n",
       "      <td>0.56</td>\n",
       "      <td>0.43</td>\n",
       "      <td>0.57</td>\n",
       "      <td>0.75</td>\n",
       "      <td>-</td>\n",
       "      <td>0.208838</td>\n",
       "      <td>0.510482</td>\n",
       "    </tr>\n",
       "  </tbody>\n",
       "</table>\n",
       "</div>"
      ],
      "text/plain": [
       "                 Model  Accuracy    CV  Precision  Recall  F1 Score   MAE  \\\n",
       "0        Decision Tree     75.20  0.72       0.64    0.66      0.65  0.28   \n",
       "1  Logistic Regression     65.27  0.74       0.60    0.67      0.58  0.42   \n",
       "2                  KNN     75.45  0.72       0.64    0.67      0.65  0.28   \n",
       "3          Bagged Tree     78.44  0.76       0.68    0.69      0.68  0.24   \n",
       "4        Random Forest     79.24  0.77       0.69    0.69      0.69  0.23   \n",
       "5       Gradient Boost     79.70  0.78       0.69    0.70      0.69  0.23   \n",
       "6             ADABoost     63.88  0.72       0.57    0.61      0.56  0.43   \n",
       "\n",
       "    MSE  RMSE   AUC      Bias  Variance  \n",
       "0  0.34  0.58     -  0.030051  0.389863  \n",
       "1  0.55  0.74  0.82  0.237710  0.553767  \n",
       "2  0.35  0.59     -  0.045202  0.404094  \n",
       "3  0.29  0.54     -  0.011616  0.372581  \n",
       "4  0.28  0.53     -  0.023822  0.363842  \n",
       "5  0.28  0.53     -  0.026431  0.361585  \n",
       "6  0.57  0.75     -  0.208838  0.510482  "
      ]
     },
     "execution_count": 266,
     "metadata": {},
     "output_type": "execute_result"
    }
   ],
   "source": [
    "#summary table\n",
    "summary_table.loc[6] = ['ADABoost',\n",
    "                        round(adaboost_test_accuracy, 2), round(adaboost_test_cv_score, 2), \n",
    "                        round(precision_score(y_test, y_hat_test, average = 'macro'), 2), round(recall_score(y_test, y_hat_test, average = 'macro'), 2), round(f1_score(y_test, y_hat_test, average = 'macro'), 2),\n",
    "                        round(mean_absolute_error(y_test, y_hat_test), 2), round(mean_squared_error(y_test, y_hat_test), 2), round(mean_squared_error(y_test, y_hat_test, squared = False), 2),\n",
    "                        '-', round(bias(y_test, y_hat_test), 2), round(variance(y_hat_test), 2)]\n",
    "summary_table.head(10)"
   ]
  },
  {
   "cell_type": "markdown",
   "metadata": {},
   "source": [
    "This ADABoost is not a good model:\n",
    "\n",
    "* low accuracy, precision, and recall\n",
    "* high errors\n",
    "* overfit but better than those of higher accuracy"
   ]
  },
  {
   "cell_type": "markdown",
   "metadata": {},
   "source": [
    "# XGBoost"
   ]
  },
  {
   "cell_type": "code",
   "execution_count": 267,
   "metadata": {
    "scrolled": true
   },
   "outputs": [
    {
     "name": "stdout",
     "output_type": "stream",
     "text": [
      "Train accuracy: 85.85995482413682\n",
      "Test accuracy: 77.3063973063973\n"
     ]
    }
   ],
   "source": [
    "#instantiate baseline model\n",
    "xgb_clf = xgb.XGBClassifier(random_state = 21)\n",
    "\n",
    "#train a classifier with optimal values identified above\n",
    "xgb_clf = xgb.XGBClassifier(random_state = 21)\n",
    "\n",
    "#fit\n",
    "xgb_clf.fit(X_train, y_train)\n",
    "\n",
    "#predict\n",
    "y_hat_train = xgb_clf.predict(X_train)\n",
    "y_hat_test = xgb_clf.predict(X_test)\n",
    "\n",
    "#train accuracy\n",
    "xgb_train_accuracy = accuracy_score(y_train, y_hat_train) * 100\n",
    "print('Train accuracy:', xgb_train_accuracy)\n",
    "\n",
    "#test accuracy\n",
    "xgb_test_accuracy = accuracy_score(y_test, y_hat_test) * 100\n",
    "print('Test accuracy:', xgb_test_accuracy)\n",
    "\n",
    "#Train accuracy: 85.96708615682478\n",
    "#Test accuracy: 77.28114478114479"
   ]
  },
  {
   "cell_type": "code",
   "execution_count": 268,
   "metadata": {},
   "outputs": [],
   "source": [
    "#set param grid\n",
    "#xgb_param_grid = {'booster' : ['gbtree', 'gblinear'],\n",
    "#                  'min_child_weight' : [1, 3]}\n",
    "\n",
    "#gridsearch\n",
    "#xgb_gridsearch = GridSearchCV(estimator = xgb_clf, \n",
    "#                                        param_grid = xgb_param_grid,\n",
    "#                                        scoring = 'accuracy', cv = 5,\n",
    "#                                        n_jobs = -1)\n",
    "\n",
    "#fit\n",
    "#xgb_gridsearch.fit(X_train, y_train)\n",
    "\n",
    "#best param\n",
    "#xgb_gridsearch.best_params_\n",
    "\n",
    "#'booster': 'gbtree', \n",
    "#'min_child_weight': 1"
   ]
  },
  {
   "cell_type": "code",
   "execution_count": 269,
   "metadata": {},
   "outputs": [],
   "source": [
    "#get cross-validation result\n",
    "#xgb_cross_val_results = pd.DataFrame(xgb_gridsearch.cv_results_)\n",
    "#print('Number of Various Combinations of Parameters Tried : %d'%len(xgb_cross_val_results))\n",
    "\n",
    "#save\n",
    "#xgb_cross_val_results.to_csv('./Data/xgb_cross_val_results')\n",
    "\n",
    "#xgb_cross_val_results.head()"
   ]
  },
  {
   "cell_type": "code",
   "execution_count": 270,
   "metadata": {
    "scrolled": false
   },
   "outputs": [
    {
     "name": "stdout",
     "output_type": "stream",
     "text": [
      "Train accuracy: 85.85995482413682\n",
      "Test accuracy: 77.3063973063973\n"
     ]
    }
   ],
   "source": [
    "#train a classifier with optimal values identified above\n",
    "xgb_clf = xgb.XGBClassifier(random_state = 21,\n",
    "                            booster = 'gbtree',\n",
    "                            min_child_weight = 1)\n",
    "\n",
    "#fit\n",
    "xgb_clf.fit(X_train, y_train)\n",
    "\n",
    "#predict\n",
    "y_hat_train = xgb_clf.predict(X_train)\n",
    "y_hat_test = xgb_clf.predict(X_test)\n",
    "\n",
    "#train accuracy\n",
    "xgb_train_accuracy = accuracy_score(y_train, y_hat_train) * 100\n",
    "print('Train accuracy:', xgb_train_accuracy)\n",
    "\n",
    "#test accuracy\n",
    "xgb_test_accuracy = accuracy_score(y_test, y_hat_test) * 100\n",
    "print('Test accuracy:', xgb_test_accuracy)\n",
    "\n",
    "#Train accuracy: 85.85995482413682\n",
    "#Test accuracy: 77.3063973063973"
   ]
  },
  {
   "cell_type": "markdown",
   "metadata": {},
   "source": [
    "We'll select for the optimized model's higher accuracy."
   ]
  },
  {
   "cell_type": "code",
   "execution_count": 271,
   "metadata": {},
   "outputs": [
    {
     "name": "stdout",
     "output_type": "stream",
     "text": [
      "Train cross validation: 0.8233365601807033\n",
      "Test cross validation: 0.7751683501683502\n"
     ]
    }
   ],
   "source": [
    "#train cross validation\n",
    "xgb_train_cv_score = cross_val_score(xgb_clf, X_train, y_train, cv = 5, n_jobs = -1).mean()\n",
    "print('Train cross validation:', xgb_train_cv_score)\n",
    "\n",
    "#test cross validation\n",
    "xgb_test_cv_score = cross_val_score(xgb_clf, X_test, y_test, cv = 5, n_jobs = -1).mean()\n",
    "print('Test cross validation:', xgb_test_cv_score)"
   ]
  },
  {
   "cell_type": "code",
   "execution_count": 272,
   "metadata": {},
   "outputs": [
    {
     "name": "stdout",
     "output_type": "stream",
     "text": [
      "Mean Absolute Error: 0.25521885521885523\n",
      "Mean Squared Error: 0.3117845117845118\n",
      "Root Mean Squared Error: 0.5583766755376802\n"
     ]
    }
   ],
   "source": [
    "#evaluate with MAE, MSE, RMSE\n",
    "print('Mean Absolute Error:', mean_absolute_error(y_test, y_hat_test))  \n",
    "print('Mean Squared Error:', mean_squared_error(y_test, y_hat_test))  \n",
    "print('Root Mean Squared Error:', mean_squared_error(y_test, y_hat_test, squared = False))"
   ]
  },
  {
   "cell_type": "code",
   "execution_count": 273,
   "metadata": {},
   "outputs": [
    {
     "name": "stdout",
     "output_type": "stream",
     "text": [
      "Model: adaBoost \n",
      "               precision    recall  f1-score   support\n",
      "\n",
      "           0       0.84      0.76      0.80      4614\n",
      "           1       0.82      0.81      0.82      6434\n",
      "           2       0.35      0.56      0.43       832\n",
      "\n",
      "    accuracy                           0.77     11880\n",
      "   macro avg       0.67      0.71      0.68     11880\n",
      "weighted avg       0.79      0.77      0.78     11880\n",
      "\n"
     ]
    }
   ],
   "source": [
    "#classification report\n",
    "xgb_classification_report = classification_report(y_test, y_hat_test)\n",
    "print('Model: adaBoost', '\\n', xgb_classification_report)"
   ]
  },
  {
   "cell_type": "code",
   "execution_count": 274,
   "metadata": {
    "scrolled": true
   },
   "outputs": [
    {
     "data": {
      "text/plain": [
       "<sklearn.metrics._plot.confusion_matrix.ConfusionMatrixDisplay at 0x7ffa81299310>"
      ]
     },
     "execution_count": 274,
     "metadata": {},
     "output_type": "execute_result"
    },
    {
     "data": {
      "image/png": "[encoded data removed]",
      "text/plain": [
       "<Figure size 432x288 with 2 Axes>"
      ]
     },
     "metadata": {
      "needs_background": "light"
     },
     "output_type": "display_data"
    }
   ],
   "source": [
    "#plot confusion matrix\n",
    "plot_confusion_matrix(xgb_clf, X_test, y_test, cmap = plt.cm.Blues)"
   ]
  },
  {
   "cell_type": "code",
   "execution_count": 275,
   "metadata": {},
   "outputs": [
    {
     "name": "stdout",
     "output_type": "stream",
     "text": [
      "0.08265993265993266\n",
      "0.40707637542654385\n"
     ]
    }
   ],
   "source": [
    "#get test bias and variance\n",
    "print(bias(y_test, y_hat_test))\n",
    "print(variance(y_hat_test))"
   ]
  },
  {
   "cell_type": "code",
   "execution_count": 276,
   "metadata": {
    "scrolled": true
   },
   "outputs": [
    {
     "data": {
      "text/html": [
       "<div>\n",
       "<style scoped>\n",
       "    .dataframe tbody tr th:only-of-type {\n",
       "        vertical-align: middle;\n",
       "    }\n",
       "\n",
       "    .dataframe tbody tr th {\n",
       "        vertical-align: top;\n",
       "    }\n",
       "\n",
       "    .dataframe thead th {\n",
       "        text-align: right;\n",
       "    }\n",
       "</style>\n",
       "<table border=\"1\" class=\"dataframe\">\n",
       "  <thead>\n",
       "    <tr style=\"text-align: right;\">\n",
       "      <th></th>\n",
       "      <th>Model</th>\n",
       "      <th>Accuracy</th>\n",
       "      <th>CV</th>\n",
       "      <th>Precision</th>\n",
       "      <th>Recall</th>\n",
       "      <th>F1 Score</th>\n",
       "      <th>MAE</th>\n",
       "      <th>MSE</th>\n",
       "      <th>RMSE</th>\n",
       "      <th>AUC</th>\n",
       "      <th>Bias</th>\n",
       "      <th>Variance</th>\n",
       "    </tr>\n",
       "  </thead>\n",
       "  <tbody>\n",
       "    <tr>\n",
       "      <th>0</th>\n",
       "      <td>Decision Tree</td>\n",
       "      <td>75.20</td>\n",
       "      <td>0.72</td>\n",
       "      <td>0.64</td>\n",
       "      <td>0.66</td>\n",
       "      <td>0.65</td>\n",
       "      <td>0.28</td>\n",
       "      <td>0.34</td>\n",
       "      <td>0.58</td>\n",
       "      <td>-</td>\n",
       "      <td>0.030051</td>\n",
       "      <td>0.389863</td>\n",
       "    </tr>\n",
       "    <tr>\n",
       "      <th>1</th>\n",
       "      <td>Logistic Regression</td>\n",
       "      <td>65.27</td>\n",
       "      <td>0.74</td>\n",
       "      <td>0.60</td>\n",
       "      <td>0.67</td>\n",
       "      <td>0.58</td>\n",
       "      <td>0.42</td>\n",
       "      <td>0.55</td>\n",
       "      <td>0.74</td>\n",
       "      <td>0.82</td>\n",
       "      <td>0.237710</td>\n",
       "      <td>0.553767</td>\n",
       "    </tr>\n",
       "    <tr>\n",
       "      <th>2</th>\n",
       "      <td>KNN</td>\n",
       "      <td>75.45</td>\n",
       "      <td>0.72</td>\n",
       "      <td>0.64</td>\n",
       "      <td>0.67</td>\n",
       "      <td>0.65</td>\n",
       "      <td>0.28</td>\n",
       "      <td>0.35</td>\n",
       "      <td>0.59</td>\n",
       "      <td>-</td>\n",
       "      <td>0.045202</td>\n",
       "      <td>0.404094</td>\n",
       "    </tr>\n",
       "    <tr>\n",
       "      <th>3</th>\n",
       "      <td>Bagged Tree</td>\n",
       "      <td>78.44</td>\n",
       "      <td>0.76</td>\n",
       "      <td>0.68</td>\n",
       "      <td>0.69</td>\n",
       "      <td>0.68</td>\n",
       "      <td>0.24</td>\n",
       "      <td>0.29</td>\n",
       "      <td>0.54</td>\n",
       "      <td>-</td>\n",
       "      <td>0.011616</td>\n",
       "      <td>0.372581</td>\n",
       "    </tr>\n",
       "    <tr>\n",
       "      <th>4</th>\n",
       "      <td>Random Forest</td>\n",
       "      <td>79.24</td>\n",
       "      <td>0.77</td>\n",
       "      <td>0.69</td>\n",
       "      <td>0.69</td>\n",
       "      <td>0.69</td>\n",
       "      <td>0.23</td>\n",
       "      <td>0.28</td>\n",
       "      <td>0.53</td>\n",
       "      <td>-</td>\n",
       "      <td>0.023822</td>\n",
       "      <td>0.363842</td>\n",
       "    </tr>\n",
       "    <tr>\n",
       "      <th>5</th>\n",
       "      <td>Gradient Boost</td>\n",
       "      <td>79.70</td>\n",
       "      <td>0.78</td>\n",
       "      <td>0.69</td>\n",
       "      <td>0.70</td>\n",
       "      <td>0.69</td>\n",
       "      <td>0.23</td>\n",
       "      <td>0.28</td>\n",
       "      <td>0.53</td>\n",
       "      <td>-</td>\n",
       "      <td>0.026431</td>\n",
       "      <td>0.361585</td>\n",
       "    </tr>\n",
       "    <tr>\n",
       "      <th>6</th>\n",
       "      <td>ADABoost</td>\n",
       "      <td>63.88</td>\n",
       "      <td>0.72</td>\n",
       "      <td>0.57</td>\n",
       "      <td>0.61</td>\n",
       "      <td>0.56</td>\n",
       "      <td>0.43</td>\n",
       "      <td>0.57</td>\n",
       "      <td>0.75</td>\n",
       "      <td>-</td>\n",
       "      <td>0.208838</td>\n",
       "      <td>0.510482</td>\n",
       "    </tr>\n",
       "    <tr>\n",
       "      <th>7</th>\n",
       "      <td>XGBoost</td>\n",
       "      <td>77.31</td>\n",
       "      <td>0.78</td>\n",
       "      <td>0.67</td>\n",
       "      <td>0.71</td>\n",
       "      <td>0.68</td>\n",
       "      <td>0.26</td>\n",
       "      <td>0.31</td>\n",
       "      <td>0.56</td>\n",
       "      <td>-</td>\n",
       "      <td>0.082660</td>\n",
       "      <td>0.407076</td>\n",
       "    </tr>\n",
       "  </tbody>\n",
       "</table>\n",
       "</div>"
      ],
      "text/plain": [
       "                 Model  Accuracy    CV  Precision  Recall  F1 Score   MAE  \\\n",
       "0        Decision Tree     75.20  0.72       0.64    0.66      0.65  0.28   \n",
       "1  Logistic Regression     65.27  0.74       0.60    0.67      0.58  0.42   \n",
       "2                  KNN     75.45  0.72       0.64    0.67      0.65  0.28   \n",
       "3          Bagged Tree     78.44  0.76       0.68    0.69      0.68  0.24   \n",
       "4        Random Forest     79.24  0.77       0.69    0.69      0.69  0.23   \n",
       "5       Gradient Boost     79.70  0.78       0.69    0.70      0.69  0.23   \n",
       "6             ADABoost     63.88  0.72       0.57    0.61      0.56  0.43   \n",
       "7              XGBoost     77.31  0.78       0.67    0.71      0.68  0.26   \n",
       "\n",
       "    MSE  RMSE   AUC      Bias  Variance  \n",
       "0  0.34  0.58     -  0.030051  0.389863  \n",
       "1  0.55  0.74  0.82  0.237710  0.553767  \n",
       "2  0.35  0.59     -  0.045202  0.404094  \n",
       "3  0.29  0.54     -  0.011616  0.372581  \n",
       "4  0.28  0.53     -  0.023822  0.363842  \n",
       "5  0.28  0.53     -  0.026431  0.361585  \n",
       "6  0.57  0.75     -  0.208838  0.510482  \n",
       "7  0.31  0.56     -  0.082660  0.407076  "
      ]
     },
     "execution_count": 276,
     "metadata": {},
     "output_type": "execute_result"
    }
   ],
   "source": [
    "#summary table\n",
    "summary_table.loc[7] = ['XGBoost',\n",
    "                        round(xgb_test_accuracy, 2), round(xgb_test_cv_score, 2), \n",
    "                        round(precision_score(y_test, y_hat_test, average = 'macro'), 2), round(recall_score(y_test, y_hat_test, average = 'macro'), 2), round(f1_score(y_test, y_hat_test, average = 'macro'), 2),\n",
    "                        round(mean_absolute_error(y_test, y_hat_test), 2), round(mean_squared_error(y_test, y_hat_test), 2), round(mean_squared_error(y_test, y_hat_test, squared = False), 2),\n",
    "                        '-', round(bias(y_test, y_hat_test), 2), round(variance(y_hat_test), 2)]\n",
    "summary_table.head(10)"
   ]
  },
  {
   "cell_type": "markdown",
   "metadata": {},
   "source": [
    "This XGBoost is not a good model:\n",
    "\n",
    "* low accuracy, precision, and recall\n",
    "* high errors\n",
    "* overfit"
   ]
  },
  {
   "cell_type": "markdown",
   "metadata": {},
   "source": [
    "# Support Vector Machine"
   ]
  },
  {
   "cell_type": "code",
   "execution_count": 277,
   "metadata": {},
   "outputs": [
    {
     "name": "stdout",
     "output_type": "stream",
     "text": [
      "Train accuracy: 80.07615359793482\n",
      "Test accuracy: 72.96296296296296\n"
     ]
    }
   ],
   "source": [
    "#instantiate baseline model\n",
    "svm_clf = SVC(random_state = 21)\n",
    "\n",
    "#fit\n",
    "svm_clf.fit(X_train, y_train)\n",
    "\n",
    "#predict\n",
    "y_hat_train = svm_clf.predict(X_train)\n",
    "y_hat_test = svm_clf.predict(X_test)\n",
    "\n",
    "#train accuracy\n",
    "svm_train_accuracy = accuracy_score(y_train, y_hat_train) * 100\n",
    "print('Train accuracy:', svm_train_accuracy)\n",
    "\n",
    "#test accuracy\n",
    "svm_test_accuracy = accuracy_score(y_test, y_hat_test) * 100\n",
    "print('Test accuracy:', svm_test_accuracy)\n",
    "\n",
    "#Train accuracy: 80.3162310422717\n",
    "#Test accuracy: 73.0050505050505"
   ]
  },
  {
   "cell_type": "code",
   "execution_count": 278,
   "metadata": {},
   "outputs": [],
   "source": [
    "#set param grid\n",
    "#svm_param_grid = {'decision_function_shape': ['ovo', 'ovr']}\n",
    "\n",
    "#gridsearch\n",
    "#svm_gridsearch = GridSearchCV(estimator = svm_clf,\n",
    "#                              param_grid = svm_param_grid,\n",
    "#                              scoring = 'accuracy', cv = 5,\n",
    "#                              n_jobs = -1)\n",
    "\n",
    "#fit\n",
    "#svm_gridsearch.fit(X_train, y_train)\n",
    "\n",
    "#best param\n",
    "#svm_gridsearch.best_params_\n",
    "\n",
    "#'decision_function_shape': 'ovo'"
   ]
  },
  {
   "cell_type": "code",
   "execution_count": 279,
   "metadata": {},
   "outputs": [],
   "source": [
    "#train a classifier with optimal values identified above\n",
    "#svm_clf = SVC(random_state = 21, decision_function_shape = 'ovo')\n",
    "\n",
    "#fit\n",
    "#svm_clf.fit(X_train, y_train)\n",
    "\n",
    "#predict\n",
    "#y_hat_train = svm_clf.predict(X_train)\n",
    "#y_hat_test = svm_clf.predict(X_test)\n",
    "\n",
    "#train accuracy\n",
    "#svm_train_accuracy = accuracy_score(y_train, y_hat_train) * 100\n",
    "#print('Train accuracy:', svm_train_accuracy)\n",
    "\n",
    "#test accuracy\n",
    "#svm_test_accuracy = accuracy_score(y_test, y_hat_test) * 100\n",
    "#print('Test accuracy:', svm_test_accuracy)\n",
    "\n",
    "#Train accuracy: 80.3162310422717\n",
    "#Test accuracy: 73.0050505050505"
   ]
  },
  {
   "cell_type": "markdown",
   "metadata": {},
   "source": [
    "Both baseline model and optimized model perform the same."
   ]
  },
  {
   "cell_type": "code",
   "execution_count": 280,
   "metadata": {},
   "outputs": [
    {
     "name": "stdout",
     "output_type": "stream",
     "text": [
      "Train cross validation: 0.7793610842207164\n",
      "Test cross validation: 0.7632154882154882\n"
     ]
    }
   ],
   "source": [
    "#train cross validation\n",
    "svm_train_cv_score = cross_val_score(svm_clf, X_train, y_train, cv = 5, n_jobs = -1).mean()\n",
    "print('Train cross validation:', svm_train_cv_score)\n",
    "\n",
    "#test cross validation\n",
    "svm_test_cv_score = cross_val_score(svm_clf, X_test, y_test, cv = 5, n_jobs = -1).mean()\n",
    "print('Test cross validation:', svm_test_cv_score)"
   ]
  },
  {
   "cell_type": "code",
   "execution_count": 281,
   "metadata": {},
   "outputs": [
    {
     "name": "stdout",
     "output_type": "stream",
     "text": [
      "Mean Absolute Error: 0.31767676767676767\n",
      "Mean Squared Error: 0.4122895622895623\n",
      "Root Mean Squared Error: 0.6420977824985555\n"
     ]
    }
   ],
   "source": [
    "#evaluate with MAE, MSE, RMSE\n",
    "print('Mean Absolute Error:', mean_absolute_error(y_test, y_hat_test))  \n",
    "print('Mean Squared Error:', mean_squared_error(y_test, y_hat_test))  \n",
    "print('Root Mean Squared Error:', mean_squared_error(y_test, y_hat_test, squared = False))"
   ]
  },
  {
   "cell_type": "code",
   "execution_count": 282,
   "metadata": {},
   "outputs": [
    {
     "name": "stdout",
     "output_type": "stream",
     "text": [
      "Model: adaBoost \n",
      "               precision    recall  f1-score   support\n",
      "\n",
      "           0       0.83      0.71      0.77      4614\n",
      "           1       0.82      0.75      0.78      6434\n",
      "           2       0.27      0.67      0.38       832\n",
      "\n",
      "    accuracy                           0.73     11880\n",
      "   macro avg       0.64      0.71      0.65     11880\n",
      "weighted avg       0.79      0.73      0.75     11880\n",
      "\n"
     ]
    }
   ],
   "source": [
    "#classification report\n",
    "svm_classification_report = classification_report(y_test, y_hat_test)\n",
    "print('Model: adaBoost', '\\n', svm_classification_report)"
   ]
  },
  {
   "cell_type": "code",
   "execution_count": 283,
   "metadata": {},
   "outputs": [
    {
     "data": {
      "text/plain": [
       "<sklearn.metrics._plot.confusion_matrix.ConfusionMatrixDisplay at 0x7ffa7497d820>"
      ]
     },
     "execution_count": 283,
     "metadata": {},
     "output_type": "execute_result"
    },
    {
     "data": {
      "image/png": "[encoded data removed]",
      "text/plain": [
       "<Figure size 432x288 with 2 Axes>"
      ]
     },
     "metadata": {
      "needs_background": "light"
     },
     "output_type": "display_data"
    }
   ],
   "source": [
    "#plot confusion matrix\n",
    "plot_confusion_matrix(svm_clf, X_test, y_test, cmap = plt.cm.Blues)"
   ]
  },
  {
   "cell_type": "code",
   "execution_count": 284,
   "metadata": {},
   "outputs": [
    {
     "name": "stdout",
     "output_type": "stream",
     "text": [
      "0.16111111111111112\n",
      "0.4836933872960809\n"
     ]
    }
   ],
   "source": [
    "#get test bias and variance\n",
    "print(bias(y_test, y_hat_test))\n",
    "print(variance(y_hat_test))"
   ]
  },
  {
   "cell_type": "code",
   "execution_count": 285,
   "metadata": {},
   "outputs": [
    {
     "data": {
      "text/html": [
       "<div>\n",
       "<style scoped>\n",
       "    .dataframe tbody tr th:only-of-type {\n",
       "        vertical-align: middle;\n",
       "    }\n",
       "\n",
       "    .dataframe tbody tr th {\n",
       "        vertical-align: top;\n",
       "    }\n",
       "\n",
       "    .dataframe thead th {\n",
       "        text-align: right;\n",
       "    }\n",
       "</style>\n",
       "<table border=\"1\" class=\"dataframe\">\n",
       "  <thead>\n",
       "    <tr style=\"text-align: right;\">\n",
       "      <th></th>\n",
       "      <th>Model</th>\n",
       "      <th>Accuracy</th>\n",
       "      <th>CV</th>\n",
       "      <th>Precision</th>\n",
       "      <th>Recall</th>\n",
       "      <th>F1 Score</th>\n",
       "      <th>MAE</th>\n",
       "      <th>MSE</th>\n",
       "      <th>RMSE</th>\n",
       "      <th>AUC</th>\n",
       "      <th>Bias</th>\n",
       "      <th>Variance</th>\n",
       "    </tr>\n",
       "  </thead>\n",
       "  <tbody>\n",
       "    <tr>\n",
       "      <th>0</th>\n",
       "      <td>Decision Tree</td>\n",
       "      <td>75.20</td>\n",
       "      <td>0.72</td>\n",
       "      <td>0.64</td>\n",
       "      <td>0.66</td>\n",
       "      <td>0.65</td>\n",
       "      <td>0.28</td>\n",
       "      <td>0.34</td>\n",
       "      <td>0.58</td>\n",
       "      <td>-</td>\n",
       "      <td>0.030051</td>\n",
       "      <td>0.389863</td>\n",
       "    </tr>\n",
       "    <tr>\n",
       "      <th>1</th>\n",
       "      <td>Logistic Regression</td>\n",
       "      <td>65.27</td>\n",
       "      <td>0.74</td>\n",
       "      <td>0.60</td>\n",
       "      <td>0.67</td>\n",
       "      <td>0.58</td>\n",
       "      <td>0.42</td>\n",
       "      <td>0.55</td>\n",
       "      <td>0.74</td>\n",
       "      <td>0.82</td>\n",
       "      <td>0.237710</td>\n",
       "      <td>0.553767</td>\n",
       "    </tr>\n",
       "    <tr>\n",
       "      <th>2</th>\n",
       "      <td>KNN</td>\n",
       "      <td>75.45</td>\n",
       "      <td>0.72</td>\n",
       "      <td>0.64</td>\n",
       "      <td>0.67</td>\n",
       "      <td>0.65</td>\n",
       "      <td>0.28</td>\n",
       "      <td>0.35</td>\n",
       "      <td>0.59</td>\n",
       "      <td>-</td>\n",
       "      <td>0.045202</td>\n",
       "      <td>0.404094</td>\n",
       "    </tr>\n",
       "    <tr>\n",
       "      <th>3</th>\n",
       "      <td>Bagged Tree</td>\n",
       "      <td>78.44</td>\n",
       "      <td>0.76</td>\n",
       "      <td>0.68</td>\n",
       "      <td>0.69</td>\n",
       "      <td>0.68</td>\n",
       "      <td>0.24</td>\n",
       "      <td>0.29</td>\n",
       "      <td>0.54</td>\n",
       "      <td>-</td>\n",
       "      <td>0.011616</td>\n",
       "      <td>0.372581</td>\n",
       "    </tr>\n",
       "    <tr>\n",
       "      <th>4</th>\n",
       "      <td>Random Forest</td>\n",
       "      <td>79.24</td>\n",
       "      <td>0.77</td>\n",
       "      <td>0.69</td>\n",
       "      <td>0.69</td>\n",
       "      <td>0.69</td>\n",
       "      <td>0.23</td>\n",
       "      <td>0.28</td>\n",
       "      <td>0.53</td>\n",
       "      <td>-</td>\n",
       "      <td>0.023822</td>\n",
       "      <td>0.363842</td>\n",
       "    </tr>\n",
       "    <tr>\n",
       "      <th>5</th>\n",
       "      <td>Gradient Boost</td>\n",
       "      <td>79.70</td>\n",
       "      <td>0.78</td>\n",
       "      <td>0.69</td>\n",
       "      <td>0.70</td>\n",
       "      <td>0.69</td>\n",
       "      <td>0.23</td>\n",
       "      <td>0.28</td>\n",
       "      <td>0.53</td>\n",
       "      <td>-</td>\n",
       "      <td>0.026431</td>\n",
       "      <td>0.361585</td>\n",
       "    </tr>\n",
       "    <tr>\n",
       "      <th>6</th>\n",
       "      <td>ADABoost</td>\n",
       "      <td>63.88</td>\n",
       "      <td>0.72</td>\n",
       "      <td>0.57</td>\n",
       "      <td>0.61</td>\n",
       "      <td>0.56</td>\n",
       "      <td>0.43</td>\n",
       "      <td>0.57</td>\n",
       "      <td>0.75</td>\n",
       "      <td>-</td>\n",
       "      <td>0.208838</td>\n",
       "      <td>0.510482</td>\n",
       "    </tr>\n",
       "    <tr>\n",
       "      <th>7</th>\n",
       "      <td>XGBoost</td>\n",
       "      <td>77.31</td>\n",
       "      <td>0.78</td>\n",
       "      <td>0.67</td>\n",
       "      <td>0.71</td>\n",
       "      <td>0.68</td>\n",
       "      <td>0.26</td>\n",
       "      <td>0.31</td>\n",
       "      <td>0.56</td>\n",
       "      <td>-</td>\n",
       "      <td>0.082660</td>\n",
       "      <td>0.407076</td>\n",
       "    </tr>\n",
       "    <tr>\n",
       "      <th>8</th>\n",
       "      <td>SVM</td>\n",
       "      <td>72.96</td>\n",
       "      <td>0.76</td>\n",
       "      <td>0.64</td>\n",
       "      <td>0.71</td>\n",
       "      <td>0.65</td>\n",
       "      <td>0.32</td>\n",
       "      <td>0.41</td>\n",
       "      <td>0.64</td>\n",
       "      <td>-</td>\n",
       "      <td>0.161111</td>\n",
       "      <td>0.483693</td>\n",
       "    </tr>\n",
       "  </tbody>\n",
       "</table>\n",
       "</div>"
      ],
      "text/plain": [
       "                 Model  Accuracy    CV  Precision  Recall  F1 Score   MAE  \\\n",
       "0        Decision Tree     75.20  0.72       0.64    0.66      0.65  0.28   \n",
       "1  Logistic Regression     65.27  0.74       0.60    0.67      0.58  0.42   \n",
       "2                  KNN     75.45  0.72       0.64    0.67      0.65  0.28   \n",
       "3          Bagged Tree     78.44  0.76       0.68    0.69      0.68  0.24   \n",
       "4        Random Forest     79.24  0.77       0.69    0.69      0.69  0.23   \n",
       "5       Gradient Boost     79.70  0.78       0.69    0.70      0.69  0.23   \n",
       "6             ADABoost     63.88  0.72       0.57    0.61      0.56  0.43   \n",
       "7              XGBoost     77.31  0.78       0.67    0.71      0.68  0.26   \n",
       "8                  SVM     72.96  0.76       0.64    0.71      0.65  0.32   \n",
       "\n",
       "    MSE  RMSE   AUC      Bias  Variance  \n",
       "0  0.34  0.58     -  0.030051  0.389863  \n",
       "1  0.55  0.74  0.82  0.237710  0.553767  \n",
       "2  0.35  0.59     -  0.045202  0.404094  \n",
       "3  0.29  0.54     -  0.011616  0.372581  \n",
       "4  0.28  0.53     -  0.023822  0.363842  \n",
       "5  0.28  0.53     -  0.026431  0.361585  \n",
       "6  0.57  0.75     -  0.208838  0.510482  \n",
       "7  0.31  0.56     -  0.082660  0.407076  \n",
       "8  0.41  0.64     -  0.161111  0.483693  "
      ]
     },
     "execution_count": 285,
     "metadata": {},
     "output_type": "execute_result"
    }
   ],
   "source": [
    "#summary table\n",
    "summary_table.loc[8] = ['SVM',\n",
    "                        round(svm_test_accuracy, 2), round(svm_test_cv_score, 2), \n",
    "                        round(precision_score(y_test, y_hat_test, average = 'macro'), 2), round(recall_score(y_test, y_hat_test, average = 'macro'), 2), round(f1_score(y_test, y_hat_test, average = 'macro'), 2),\n",
    "                        round(mean_absolute_error(y_test, y_hat_test), 2), round(mean_squared_error(y_test, y_hat_test), 2), round(mean_squared_error(y_test, y_hat_test, squared = False), 2),\n",
    "                        '-', round(bias(y_test, y_hat_test), 2), round(variance(y_hat_test), 2)]\n",
    "summary_table.head(10)"
   ]
  },
  {
   "cell_type": "code",
   "execution_count": 286,
   "metadata": {},
   "outputs": [],
   "source": [
    "#save\n",
    "summary_table.to_csv('./Data/summary_table')"
   ]
  },
  {
   "cell_type": "code",
   "execution_count": null,
   "metadata": {},
   "outputs": [],
   "source": []
  }
 ],
 "metadata": {
  "kernelspec": {
   "display_name": "Python 3",
   "language": "python",
   "name": "python3"
  },
  "language_info": {
   "codemirror_mode": {
    "name": "ipython",
    "version": 3
   },
   "file_extension": ".py",
   "mimetype": "text/x-python",
   "name": "python",
   "nbconvert_exporter": "python",
   "pygments_lexer": "ipython3",
   "version": "3.8.5"
  }
 },
 "nbformat": 4,
 "nbformat_minor": 4
}
